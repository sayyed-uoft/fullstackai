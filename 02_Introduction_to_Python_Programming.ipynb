{
  "nbformat": 4,
  "nbformat_minor": 0,
  "metadata": {
    "celltoolbar": "Slideshow",
    "kernelspec": {
      "display_name": "Python 3 (ipykernel)",
      "language": "python",
      "name": "python3"
    },
    "language_info": {
      "codemirror_mode": {
        "name": "ipython",
        "version": 3
      },
      "file_extension": ".py",
      "mimetype": "text/x-python",
      "name": "python",
      "nbconvert_exporter": "python",
      "pygments_lexer": "ipython3",
      "version": "3.7.0"
    },
    "colab": {
      "name": "02 - Introduction to Python Programming.ipynb",
      "provenance": [],
      "include_colab_link": true
    }
  },
  "cells": [
    {
      "cell_type": "markdown",
      "metadata": {
        "id": "view-in-github",
        "colab_type": "text"
      },
      "source": [
        "<a href=\"https://colab.research.google.com/github/sayyed-uoft/fullstackai/blob/main/02_Introduction_to_Python_Programming.ipynb\" target=\"_parent\"><img src=\"https://colab.research.google.com/assets/colab-badge.svg\" alt=\"Open In Colab\"/></a>"
      ]
    },
    {
      "cell_type": "markdown",
      "metadata": {
        "id": "8TCLh9v9Im4N"
      },
      "source": [
        "# Strata.ai - Artificial Intelligence Certificate \n",
        "\n",
        "# Module 1: Data Science for AI\n",
        "\n",
        "# Introduction to Python Programming"
      ]
    },
    {
      "cell_type": "markdown",
      "metadata": {
        "id": "MIj_1UT0Im4O"
      },
      "source": [
        "## Learning Outcome\n",
        "\n",
        "\n",
        "- Understand the need to learn Python for Data Science\n",
        "- Review the history and features of Python \n",
        "- Review Python development environments \n",
        "- Introduction to Python synthax and data structures\n",
        "- Develop simple programs to handle data  "
      ]
    },
    {
      "cell_type": "markdown",
      "metadata": {
        "id": "-OAqHp9fIm4P"
      },
      "source": [
        "## Topics\n",
        "- [Why Python for Data Science](#why_python)\n",
        "- [Python History](#python_history)\n",
        "- [Python Features](#python_features)\n",
        "- [Development Environments](#dev_env)\n",
        "- [Values and Types](#vals)\n",
        "- [Variables](#vars)\n",
        "- [Operators and Operands](#opers)\n",
        "- [Expressions and Statements](#expers)\n",
        "- [Functions](#funcs)\n",
        "- [Conditional Execution](#conditional)\n",
        "- [Iteration](#iteration)\n",
        "- [Working with Strings](#string)\n",
        "- [Sequences](#sequence)\n",
        "- [Collections](#collection)\n",
        "- [Files](#file)\n",
        "- [Exception Handling](#exception)\n",
        "- [Classes and Objects](#class)\n",
        "- [Writting Modules](#module)"
      ]
    },
    {
      "cell_type": "markdown",
      "metadata": {
        "id": "f5Dt_jFlIm4Q"
      },
      "source": [
        "<a id=\"why_python\"></a>\n",
        "## Why Python for Data Science\n",
        "\n",
        "- **Ease of Learning and Use:** Designed to be easy to learn, write, and understand. Very intuitive and relatively easy for scientists to pick up even without computer science background.\n",
        "\n",
        "- **Popularity and Ecosystem:** Most popular programming language among data scientists. Excellent libraries (e.g. NumPy, Pandas, Scikit-learn, NLTK, Tensorflow/Keras, PyTorch) that make the data science job much easier. \n",
        "\n",
        "- **Versatility:** Can be used for variety of applications (science, financial, Web, shell programming, and more). No need to learn lots of languages for different applications.\n",
        "\n"
      ]
    },
    {
      "cell_type": "markdown",
      "metadata": {
        "id": "zL8wZIbDIm4Q"
      },
      "source": [
        "- **Interactivity and Scripting:** Works well in an interactive shell and via interactive tools like Jupyter Notebook. Also, suitable for writing scripts or something quick and dirty. \n",
        "\n",
        "- **Community Support and Documentation:** Huge and active community. especially data scientists, that has been creating additional tools, tutorial, and platforms on top of the existing resource. \n"
      ]
    },
    {
      "cell_type": "markdown",
      "metadata": {
        "id": "NiVAf-fNIm4R"
      },
      "source": [
        "### Preferred Programming Languages (2019 Kaggle ML & DS Survey) \n",
        "<center><img src=\"https://github.com/sayyed-uoft/images/raw/main/pref_lang.png\" width=\"70%\"></center>"
      ]
    },
    {
      "cell_type": "markdown",
      "metadata": {
        "id": "lCoWJ45qIm4R"
      },
      "source": [
        "### Python vs. R\n",
        "\n",
        "| Feature | R | Python |\n",
        "| --- | --- | --- |\n",
        "| Usage | Mainly for statistical modeling | Can be used for variety of applications: web development, data analysis, scientific computing, deep learning, etc. |\n",
        "| Used By | Statisticians, Data Analysts, Data Scientists | Developers, Data Engineers, Data Scientists, AI Reserachers and practitioners |\n",
        "| Suitable For | People with no prior programming experience | Newbies to experienced IT professionals |"
      ]
    },
    {
      "cell_type": "markdown",
      "metadata": {
        "id": "s3hIKnNzIm4S"
      },
      "source": [
        "### Java? :)\n",
        "\n",
        "<center><img src=\"https://github.com/sayyed-uoft/images/raw/main/java_ds.png\" width=\"50%\"></center>"
      ]
    },
    {
      "cell_type": "markdown",
      "metadata": {
        "id": "PjxKxfEKIm4T"
      },
      "source": [
        "<a id=\"python_history\"></a>\n",
        "## Python History\n",
        "\n",
        "<center>\n",
        "    <img src=\"https://github.com/sayyed-uoft/images/raw/main/py_hist.png\" width=\"100%\">\n",
        "    <br/>Source: https://topictrick.com/ \n",
        "</center>\n"
      ]
    },
    {
      "cell_type": "markdown",
      "metadata": {
        "id": "IAnz-nMFIm4T"
      },
      "source": [
        "<a id=\"python_features\"></a>\n",
        "## Python Features\n",
        "\n",
        "- Free and Open Source\n",
        "- Extensible\n",
        "- Expressive Language\n",
        "- Interpreted Language\n",
        "- Object Oriented Language\n",
        "- Dynamically Typed"
      ]
    },
    {
      "cell_type": "markdown",
      "metadata": {
        "id": "Sz0701aaIm4U"
      },
      "source": [
        "### Interpreted vs. Compiled\n",
        "\n",
        "<center>\n",
        "    <img src=\"https://github.com/sayyed-uoft/images/raw/main/comp_inter.png\" width=\"100%\">\n",
        "    <br/>Source: Think Python Book \n",
        "</center>"
      ]
    },
    {
      "cell_type": "markdown",
      "metadata": {
        "id": "VhRtwV-IIm4U"
      },
      "source": [
        "### Interpreted Language, Error Types\n",
        "\n",
        "- **Syntax Errors:** Syntax refers to the structure of a program and the rules about that structure. For example, parentheses have to come in matching pairs, so **(1 + 2)** is legal, but **8)** is a syntax error.\n",
        "\n",
        "- **Runtime Errors:** The error does not appear until after the program has started running. These errors are also called exceptions because they usually indicate that something exceptional (and bad) has happened.\n",
        "\n",
        "- **Semantic Errors:** The computer will not generate any error messages, but it will not do the right thing. It will do something else. "
      ]
    },
    {
      "cell_type": "code",
      "metadata": {
        "id": "yy-ASoMnIm4U"
      },
      "source": [
        "print(1+2)\n",
        "#print(8))\n",
        "print(8/0)"
      ],
      "execution_count": null,
      "outputs": []
    },
    {
      "cell_type": "markdown",
      "metadata": {
        "id": "Rq1kVCUjIm4V"
      },
      "source": [
        "<a id=\"dev_env\"></a>\n",
        "## Development Environments\n",
        "\n",
        "- **Jupyter Notebook:** An open-source web application that allows you to create and share documents that contain live code, equations, visualizations and narrative text. **Jupyter** stands for **Ju**lia + **Py**thon + **R**\n",
        "- **PyCharm IDE:** It is one of the best integrated development environments out there. \n",
        "- **Anaoconda Spyder:** It is a free integrated development environment (IDE) that is included with Anaconda. \n",
        "- **...**"
      ]
    },
    {
      "cell_type": "markdown",
      "metadata": {
        "id": "tatZXu9YIm4V"
      },
      "source": [
        "<a id=\"vals\"></a>\n",
        "## Values and Types\n",
        "\n",
        "A **value** is one of the basic things a program works with, like a letter or a number. \n",
        "\n",
        "### Common Types:\n",
        "\n",
        "- Integer\n",
        "- Float\n",
        "- String (a sequence of characters)\n",
        "- Boolean"
      ]
    },
    {
      "cell_type": "code",
      "metadata": {
        "id": "4aa5wkcbIm4W"
      },
      "source": [
        "# Checking type using \"type()\"\n",
        "print(type('Strata.ai'))\n",
        "print(type(\"string in double quotes\"))\n",
        "print(type(15))\n",
        "print(type(2.4))\n",
        "print(type(1_000_000)) # \"_\" can be used as a visual separator\n",
        "print(type(1==2))\n",
        "type(False)"
      ],
      "execution_count": null,
      "outputs": []
    },
    {
      "cell_type": "markdown",
      "metadata": {
        "id": "PtpjKUNiIm4W"
      },
      "source": [
        "<a id=\"vars\"></a>\n",
        "## Variables\n",
        "\n",
        "A **variable** is a name that refers to a value. Variables are **Dynamically Typed** in Python.\n",
        "\n",
        "### Variable Names:\n",
        "- Can be arbitrarily long\n",
        "- Can contain both letters and numbers, have to begin with a letter or \"_\"\n",
        "- Are case sensetive. Typically **snake case**: e.g. first_name\n",
        "- Can't be the same as reserved keywords"
      ]
    },
    {
      "cell_type": "code",
      "metadata": {
        "id": "ZYHwqhfmIm4W"
      },
      "source": [
        "#Python version\n",
        "!python --version\n",
        "\n",
        "# List of keywords\n",
        "help('keywords')\n",
        "# other ways to get help \"?keywords\", Shift-Tab "
      ],
      "execution_count": null,
      "outputs": []
    },
    {
      "cell_type": "code",
      "metadata": {
        "id": "sTiu07ShIm4W"
      },
      "source": [
        "# Variable assignment\n",
        "web_url = 'http://strata.ai'\n",
        "n = 15\n",
        "is_useful = True\n",
        "_ = 100 # \"_\" can be used when you don't care about the variable \n",
        "a = b = 1 # multiple assignment\n",
        "x = None # The None keyword is used to define a null value, or no value at all\n",
        "print(type(x), x, x is None)\n",
        "\n",
        "# Checking type\n",
        "print(type(web_url))\n",
        "\n",
        "# Check if a variable is of a certain type\n",
        "print(isinstance(n, int), isinstance(n, bool))"
      ],
      "execution_count": null,
      "outputs": []
    },
    {
      "cell_type": "markdown",
      "metadata": {
        "id": "hTr-PcoMIm4X"
      },
      "source": [
        "<a id=\"opers\"></a>\n",
        "## Operators and Operands\n",
        "\n",
        "**Operators** are special symbols that represent computations like addition and multiplica-\n",
        "tion. The values the operator is applied to are called **operands**.\n",
        "\n",
        "\n",
        "### Arithmetic Operators\n",
        "\n",
        "The arithmetic operators are addition (**+**), subtraction (**-**), multiplication (*****), division (**/**), exponent (******), floor division (**//**) and modulus (**%**).\n"
      ]
    },
    {
      "cell_type": "code",
      "metadata": {
        "id": "VLmK64XCIm4X"
      },
      "source": [
        "# Addition\n",
        "print(7 + 3)\n",
        "\n",
        "# Subtraction\n",
        "print(2.5 - 2)\n",
        "\n",
        "# Multiplication\n",
        "print(6 * 3)\n",
        "\n",
        "# Division\n",
        "print(7 / 2)\n",
        "\n",
        "# Floor Division\n",
        "print(7 // 2)"
      ],
      "execution_count": null,
      "outputs": []
    },
    {
      "cell_type": "code",
      "metadata": {
        "id": "vvnvBFc5Im4X"
      },
      "source": [
        "# Exponent\n",
        "print(6 ** 2)\n",
        "\n",
        "# Modulus\n",
        "print(7 % 2)\n",
        "\n",
        "# Arithmetic operations on strings\n",
        "# Addition\n",
        "name = \"Sara\"\n",
        "print(\"My name is: \" + name)\n",
        "\n",
        "# Multiplication\n",
        "print(\"-\" * 20 + \">\")\n",
        "\n",
        "# Illegal opreations\n",
        "# '2'-'1', 'eggs'/'easy', 'four'*'two'"
      ],
      "execution_count": null,
      "outputs": []
    },
    {
      "cell_type": "markdown",
      "metadata": {
        "id": "x-We7tRmIm4X"
      },
      "source": [
        "### Assignment Operators\n",
        "\n",
        "The assignment operators assign a certain value to a variable or change the value of a variable. "
      ]
    },
    {
      "cell_type": "code",
      "metadata": {
        "id": "GhETSSEkIm4Y"
      },
      "source": [
        "# Assignment\n",
        "v1 = 1\n",
        "v2, v3, v4, v5 = 2, 3, 4, 5\n",
        "v6, v7, v8 = 6, 7, 8\n",
        "\n",
        "# Change (arithmetic + assignment)\n",
        "v2 += 2  # v2 = v2 + 2\n",
        "v3 -= 1  # v3 = v3 - 1\n",
        "v4 *= 2  # v4 = v4 * 2\n",
        "v5 /= 2  # v5 = v5 / 2\n",
        "v6 //= 2 # v6 = v6 // 2\n",
        "v7 %= 3  # v7 = v7 % 3\n",
        "v8 **= 2 # v7 = v7 ** 2\n",
        "\n",
        "print(v1, v2, v3, v4, v5, v6, v7, v8)\n"
      ],
      "execution_count": null,
      "outputs": []
    },
    {
      "cell_type": "markdown",
      "metadata": {
        "id": "1y6X19quIm4Y"
      },
      "source": [
        "### Comparison Operators\n",
        "\n",
        "These operators compare the values of variables and return a boolean value, which is either True or False. They are equal (**==**), not equal (**!=**), greater than (**>**), less than (**<**), greater than or equal (**>=**), and less than or equal (**<=**)."
      ]
    },
    {
      "cell_type": "code",
      "metadata": {
        "id": "ClMgvMoUIm4Y"
      },
      "source": [
        "v1, v2 = 4, 7\n",
        "\n",
        "print(v1 == v2) # Equal\n",
        "print(v1 != v2) # Not equal\n",
        "print(v1 > v2)  # Greater than\n",
        "print(v1 < v2)  # Less than\n",
        "print(v1 >= 6)  # Greater than or equal to\n",
        "print(2 <= 4)   # Less than or equal to\n",
        "print(\"Hello\" != \"Goodbye\") # String comaprison\n",
        "print(\"hello\" == \"Hello\")   # String comaprison\n",
        "print(True == (1 > 3))      # Boolean comparison"
      ],
      "execution_count": null,
      "outputs": []
    },
    {
      "cell_type": "code",
      "metadata": {
        "id": "elN_Lw2wIm4Y"
      },
      "source": [
        ""
      ],
      "execution_count": null,
      "outputs": []
    },
    {
      "cell_type": "markdown",
      "metadata": {
        "id": "tpR9r7eaIm4Y"
      },
      "source": [
        "### Logical Operators\n",
        "\n",
        "These operators are logical connectives that coonect two boolean variables or values and return a boolean value. There are three logical operators:\n",
        "\n",
        "- Negation (**not** or **~**): will return the opposite of its operand\n",
        "- Conjunction (**and** or **&**): will only return **True** if both operands are **True**\n",
        "- Disjuction (**or** or **|**): will only return **False** if both operands are **False**"
      ]
    },
    {
      "cell_type": "code",
      "metadata": {
        "id": "khq9F1oyIm4Y"
      },
      "source": [
        "b = True\n",
        "\n",
        "print('1.', not True)\n",
        "print('2.', True and False)\n",
        "print('3.', True & True)\n",
        "print('4.', True or False)\n",
        "print('5.', (\"Hello\" > \"hello\") or False)\n",
        "print('6.', (1 < 2) | b)"
      ],
      "execution_count": null,
      "outputs": []
    },
    {
      "cell_type": "markdown",
      "metadata": {
        "id": "qP1oF7LiIm4Z"
      },
      "source": [
        "### Operator Precedence\n",
        "\n",
        "When we are combining more than one operators, the order that Python executes them makes a difference in the result. Python gives precendence in the following order. If operators have the same precedence level, they will be executed from left to right.\n",
        "\n",
        "| Precedence | Operator | Precedence | Operator |\n",
        "| :-: | :- | :-: | :- |\n",
        "| 1 | ( ) | 5 | >, <, >=, <= |\n",
        "| 2 | ** | 6 | ==, != |\n",
        "| 3 | *, /, %, // | 7 | = %= /= //= -= += *= **= |\n",
        "| 4 | +, - | 8 | and, or, not |\n",
        "\n",
        "\t"
      ]
    },
    {
      "cell_type": "code",
      "metadata": {
        "id": "ZpL8yrEfIm4Z"
      },
      "source": [
        "x, y, z = 2, 3, 9\n",
        "\n",
        "\n",
        "print(\"1.\", x ** y > 5 and z - x // y >= 9 or y ** 2 == z)\n",
        "print(\"2.\", x - 4 * z)\n",
        "print(\"3.\", (x - 4) * z)"
      ],
      "execution_count": null,
      "outputs": []
    },
    {
      "cell_type": "markdown",
      "metadata": {
        "id": "K5-0x9BzIm4Z"
      },
      "source": [
        "<a id=\"expers\"></a>\n",
        "## Expressions and Statements\n",
        "\n",
        "- An **expression** is a combination of values, variables, and operators. Examples: \"15\", \"x\", \"x + 15\", \"x <= 15\", ...\n",
        "- A **statement** is a unit of code that the Python interpreter can execute. Examples: \"print(x)\", \"x = 10\"\n",
        "- An expression has a value but a statement doesn’t.\n",
        "- A **boolean expression** is an expression that is either true or false. Example: \"a == 1\"\n",
        "\n"
      ]
    },
    {
      "cell_type": "code",
      "metadata": {
        "id": "H8gZ0NxjIm4Z"
      },
      "source": [
        "# Pasrsing an expression from a string: eval() function\n",
        "a = 1\n",
        "print(eval('a * 2'))\n",
        "\n",
        "# Practical Example: calculator\n",
        "expression = input(\"Enter your expression:\")\n",
        "print('Answer =',eval(expression))"
      ],
      "execution_count": null,
      "outputs": []
    },
    {
      "cell_type": "markdown",
      "metadata": {
        "id": "wUPT379DIm4Z"
      },
      "source": [
        "<a id=\"funcs\"></a>\n",
        "## Functions\n",
        "\n",
        "A **function** is a named sequence of statements that performs a computation and that you want to use repeatedly. There rae three typs of functions:\n",
        "\n",
        "- **Built-in Functions**, such as **print()** \n",
        "- **User-Defined Functions (UDFs)**, that are the functions that users create\n",
        "\n",
        "**Example:** \"print(10)\". \"print\" is the **function name** and \"10\" is its **argument** (can have more than one argument). A function can return a **return value**.   "
      ]
    },
    {
      "cell_type": "markdown",
      "metadata": {
        "id": "pFGZzqm3Im4a"
      },
      "source": [
        "### Built-in Functions\n",
        "\n",
        "There are two type of built-in functions:\n",
        "\n",
        "- **Core functions**, such as \"print()\" or type conversion functions \"int(), str(), float()\"\n",
        "- **Imported functions from python module**, sunch as \"Math functions\". A **module** is a file that contains a collection of related functions.\n"
      ]
    },
    {
      "cell_type": "code",
      "metadata": {
        "id": "2ik2UmZFIm4a"
      },
      "source": [
        "# Type conversion functions\n",
        "i = int('47'); print(i, type(i))\n",
        "s = str(47); print(s, type(s))\n",
        "print(float('47'))\n",
        "print(int(4.7))\n",
        "print(int(-4.7))\n",
        "x = '3.14'\n",
        "print(x)\n",
        "\n",
        "# Illegal\n",
        "# int('Hello')"
      ],
      "execution_count": null,
      "outputs": []
    },
    {
      "cell_type": "code",
      "metadata": {
        "id": "whguszAYIm4a"
      },
      "source": [
        "# Math functions\n",
        "import math # import the entire module\n",
        "from math import cos, sin # import one or more functions from a module\n",
        "\n",
        "print(math)  \n",
        "print(math.log10)\n",
        "print(10 * math.log10(0.2))\n",
        "print(cos(0.7), sin(0.7))\n",
        "print(math.exp(sin(0.2 * math.pi))) # composition of experesioons and functions"
      ],
      "execution_count": null,
      "outputs": []
    },
    {
      "cell_type": "code",
      "metadata": {
        "id": "NagAUcgmIm4a"
      },
      "source": [
        "help(math)"
      ],
      "execution_count": null,
      "outputs": []
    },
    {
      "cell_type": "markdown",
      "metadata": {
        "id": "X98paiziIm4a"
      },
      "source": [
        "### User-defined Functions (UDFs)\n",
        "\n",
        "- A UDF definition is made of two parts of **header** and **body**. \n",
        "- The header specifies the **function name** and the **parameters**. \n",
        "- The body is the **sequence of statements** that execute when the function is called. \n",
        "- A function can return a value using **return** statement. Once a return line is executed or the function ends, the function will terminate and returns to where it was called from\n"
      ]
    },
    {
      "cell_type": "code",
      "metadata": {
        "id": "HAX2xAtoIm4b"
      },
      "source": [
        "# Example 1:  no parameter and no returned value\n",
        "def print_header():\n",
        "    print(\"-\" * 20)\n",
        "    print(\"|\", \"This is a header\", \"|\")\n",
        "    print(\"-\" * 20)\n",
        "    \n",
        "print_header() # the function do not get executed until the function is called\n",
        "\n",
        "# Example 2:  with parameters and returned value\n",
        "def my_func(x, y): # x, y are parameters\n",
        "    x = x + 1\n",
        "    return(x**y)\n",
        "    \n",
        "    \n",
        "print(my_func(1,3)) # 1, 3 are arguments"
      ],
      "execution_count": null,
      "outputs": []
    },
    {
      "cell_type": "markdown",
      "metadata": {
        "id": "jpNVOywgIm4b"
      },
      "source": [
        "### Indentation\n",
        "\n",
        "- Python uses indentation to indicate a block of code (e.g. body of a gunction). \n",
        "- The number of spaces is up to the programmer, but it has to be at least one.\n",
        "- The same number of spaces should be used in the same block of code, otherwise Python will give an error.\n",
        "- Most IDEs convert \"tab\" to 3 or 4 spaces to be consistent"
      ]
    },
    {
      "cell_type": "code",
      "metadata": {
        "id": "1GETZ6LKIm4b"
      },
      "source": [
        "# Error case 1: no indentation\n",
        "def f1():\n",
        "print('test')\n",
        "\n",
        "# Error case 2: bad indentation\n",
        "def f2():\n",
        "    print('first line')\n",
        "        print('second line')"
      ],
      "execution_count": null,
      "outputs": []
    },
    {
      "cell_type": "markdown",
      "metadata": {
        "id": "WwUYkY_GIm4b"
      },
      "source": [
        "### Local Variables\n",
        "\n",
        "- When you create a variable inside a function, it is **local**, which means that it only exists inside the function. \n",
        "\n",
        "- Function parameters are also local."
      ]
    },
    {
      "cell_type": "code",
      "metadata": {
        "id": "wNZzL-X7Im4b"
      },
      "source": [
        "count = 1 # global variable\n",
        "step = 2  # global variable\n",
        "gvar = 10 # global variable\n",
        "\n",
        "def print_count(step): # local parameter\n",
        "    count = 2 # local variable\n",
        "    print(count + step, gvar)\n",
        "    \n",
        "print_count(5)\n",
        "print(count, step)"
      ],
      "execution_count": null,
      "outputs": []
    },
    {
      "cell_type": "markdown",
      "metadata": {
        "id": "7GIh_KoLIm4b"
      },
      "source": [
        "### Docstrings\n",
        "\n",
        "- Docstrings explains what the function does (computations), inupute parameters, and return values.\n",
        "\n",
        "- They increase readability of the function so that anyone who reads them understands what your function does, without having to trace through all the code in the function definition."
      ]
    },
    {
      "cell_type": "code",
      "metadata": {
        "id": "pBxJESvnIm4b"
      },
      "source": [
        "def subtract(a, b):\n",
        "    \"\"\"Subtracts two numbers.\n",
        "    \n",
        "    Parameters\n",
        "    ----------\n",
        "    a : main number\n",
        "    b : the number to subtract from the main number \n",
        "    \n",
        "    Returns\n",
        "    -------\n",
        "    The result of the subtraction\n",
        "    \"\"\"\n",
        "    \n",
        "    return(a-b)\n"
      ],
      "execution_count": null,
      "outputs": []
    },
    {
      "cell_type": "markdown",
      "metadata": {
        "id": "n5aztGhvIm4c"
      },
      "source": [
        "### Function Arguments\n",
        "\n",
        "- **Default Arguments:** take a default value if no argument value is passed during the function call.\n",
        "- **Required Arguments:** as the name suggests, these arguments are required to be passed during the function call.\n",
        "- **Keyword Arguments:** we can identify the arguments by their parameter names. This allows calling the arguments in different order.    \n"
      ]
    },
    {
      "cell_type": "code",
      "metadata": {
        "id": "jhT3Iu-xIm4c"
      },
      "source": [
        "def quadratic(x, a = 1, b = 1, c = 0): # \"x\" is a required parameters \n",
        "    return(a*x*x + b*x + c)             # \"a\", \"b\", c\" are  default parameters\n",
        "    \n",
        "print(quadratic(2)) # 1*2*2 + 1*2 + 0\n",
        "print(quadratic(2, 2)) # 2*2*2 + 1*2 + 0\n",
        "print(quadratic(2, 2, 3)) # 2*2*2 + 3*2 + 0\n",
        "print(quadratic(2, 2, 3, 4)) # 2*2*2 + 3*2 + 4\n",
        "print(quadratic(a = 3, b = 5, x = 3)) # 3*3*3 + 5*3 + 0 - keyword arguments (change of order)"
      ],
      "execution_count": null,
      "outputs": []
    },
    {
      "cell_type": "markdown",
      "metadata": {
        "id": "1QK6joxJIm4c"
      },
      "source": [
        "### Anonymous (Lambda) Functions\n",
        "\n",
        "- Anonymous functions are declared using **lambda** keyword isntead of using **def**. \n",
        "- They are used when we need a nameless function and for a short period of time. \n",
        "- Normally, they are used to pass a function as an argument of another function. "
      ]
    },
    {
      "cell_type": "code",
      "metadata": {
        "id": "9Ilj7s5bIm4c"
      },
      "source": [
        "sum_f = lambda a, b: a + b; # Lambda function\n",
        "\n",
        "def apply_function(x, y, z, fun): # function as a parameter\n",
        "    return(fun(x, fun(y, z)))\n",
        "\n",
        "print(sum_f(5, 1))\n",
        "print(apply_function(2, 3, 4, sum_f)) #Lambda function as an argument\n",
        "print(apply_function(2, 3, 4, lambda a, b: a - b))"
      ],
      "execution_count": null,
      "outputs": []
    },
    {
      "cell_type": "markdown",
      "metadata": {
        "id": "9yqypTjcIm4c"
      },
      "source": [
        "### Why Use Functions\n",
        "\n",
        "- Creating a new function gives you an opportunity to name a group of statements, which makes your program easier to read and debug.\n",
        "- Functions can make a program smaller by eliminating repetitive code. Later, if you make a change, you only have to make it in one place.\n",
        "- Dividing a long program into functions allows you to debug the parts one at a time and then assemble them into a working whole.\n",
        "- Well-designed functions are often useful for many programs. Once you write and debug one, you can reuse it."
      ]
    },
    {
      "cell_type": "markdown",
      "metadata": {
        "id": "JvqVmwchIm4c"
      },
      "source": [
        "<a id=\"conditional\"></a>\n",
        "## Conditional Execution\n",
        "\n",
        "- Conditional statements give the ability to change the behavior of the programs based on a **condition** \n",
        "- Most common conditional statements are **if** and **if, else**\n",
        "- **if** statement will execute associated code if its condition is true at the time of evaluation otherwise the **else** code will be executed (if exists)\n",
        "- Similar to functions, **if** statements have a header followed by an **indented body** "
      ]
    },
    {
      "cell_type": "code",
      "metadata": {
        "id": "iFUtaYwwIm4c"
      },
      "source": [
        "# \"if\"-only statement\n",
        "x = 1\n",
        "if x > 0:\n",
        "    print('x is a positive number')\n",
        "    x = x - 2\n",
        "\n",
        "# \"pass\" statement\n",
        "if x > 0:\n",
        "    pass # this statement doesn't do anything\n",
        "    \n",
        "# \"if\"-\"else\" statement\n",
        "y = 2\n",
        "if x > 0 and y < 3: # a condition is made of comparasion and logical operators \n",
        "    print('x is a positive number')\n",
        "else: \n",
        "    print('x is a negative number')"
      ],
      "execution_count": null,
      "outputs": []
    },
    {
      "cell_type": "markdown",
      "metadata": {
        "id": "20gXX_J3Im4c"
      },
      "source": [
        "### Chained conditionals\n",
        "\n",
        "- **elif** (else if) statements cab be used to create additional conditions which will be evaluated in order\n",
        "- There is no limit to the number of **elif** statements\n",
        "\n",
        "### Nested conditionals\n",
        "\n",
        "- Within a block of code associated with an **if...else** statement can be additional **if...else** statements"
      ]
    },
    {
      "cell_type": "code",
      "metadata": {
        "id": "qnR3vCtsIm4d"
      },
      "source": [
        "# Chained conditionals\n",
        "x, y = 1, 2\n",
        "if x < y:\n",
        "    print('x is less than y')\n",
        "elif x == y:\n",
        "    print('x is equal to y')\n",
        "else:\n",
        "    print('x is greater than y')\n",
        "\n",
        "# Nested conditionals\n",
        "if x <= y:\n",
        "    if x == y:\n",
        "        print('x is equal to y')\n",
        "    else:\n",
        "        print('x is less than y')\n",
        "else:\n",
        "    print('x is greater than y')"
      ],
      "execution_count": null,
      "outputs": []
    },
    {
      "cell_type": "markdown",
      "metadata": {
        "id": "PKR5o2s9Im4d"
      },
      "source": [
        "<a id=\"iteration\"></a>\n",
        "## Iteration\n",
        "\n",
        "Many times, in programming, we would like to create a loop to repeat identical or similar tasks. There are two types of loops in Python:\n",
        "\n",
        "- **while loop**: repeats executing a block of code while a given condition still holds true. It will exit either when the condition is false or reaches to a \"break\" statement. \n",
        "\n",
        "- **for loop**: repeats executing a block of code for each element of a sequence. We will dicuss different sequences later. **break** statement works inside a \"for\" loop too. \n"
      ]
    },
    {
      "cell_type": "code",
      "metadata": {
        "id": "5kP-9s8bIm4d"
      },
      "source": [
        "# simple \"while\" loop\n",
        "n = 1\n",
        "while n < 5:\n",
        "    print(n)\n",
        "    n += 1"
      ],
      "execution_count": null,
      "outputs": []
    },
    {
      "cell_type": "code",
      "metadata": {
        "id": "k1NVe_ybIm4d"
      },
      "source": [
        "# \"break\" statement\n",
        "n = 1\n",
        "while True: # infinit loop\n",
        "    print(n)\n",
        "    n += 1\n",
        "    if n >= 5:\n",
        "        break"
      ],
      "execution_count": null,
      "outputs": []
    },
    {
      "cell_type": "code",
      "metadata": {
        "id": "pXxa72FGIm4d"
      },
      "source": [
        "# while ... else\"\n",
        "n = 1\n",
        "while n < 5:\n",
        "    print(n)\n",
        "    n += 1\n",
        "else: # runs a block of code once when the condition no longer is true\n",
        "    print('Loop finished')"
      ],
      "execution_count": null,
      "outputs": []
    },
    {
      "cell_type": "code",
      "metadata": {
        "id": "rRK3_aTSIm4d"
      },
      "source": [
        "# for loop over a sequence of numbers\n",
        "for n in range(5): \n",
        "    print(n)\n",
        "    \n",
        "# other alternatives \"range(start, end)\", \"range(start, end, step)\"\n",
        "# the \"range\" diesn't include \"end\": satrt, start+1, ..., end-1"
      ],
      "execution_count": null,
      "outputs": []
    },
    {
      "cell_type": "markdown",
      "metadata": {
        "id": "hEAgjjIqIm4d"
      },
      "source": [
        "<a id=\"string\"></a>\n",
        "## Working with Strings\n",
        "\n",
        "- A string is a sequence of characters\n",
        "- We can use a **for** loop to iter over all characters of a string\n",
        "- We can access individual characters or a slice of a string through indexing\n",
        "- String variables ae immutable\n",
        "- Some operators work on strings"
      ]
    },
    {
      "cell_type": "code",
      "metadata": {
        "id": "vUbwQQXeIm4e"
      },
      "source": [
        "# A string is a sequence of characters\n",
        "print('Strata.ai'[0], 'Strata.ai'[1]) # zero-based indexing\n",
        "print('Strata.ai'[-1], 'Strata.ai'[-2]) # reversed indexing\n",
        "\n",
        "# getting the length of a string\n",
        "print(len('Strata.ai'))\n",
        "\n",
        "# string slices\n",
        "print('Strata.ai'[0:5], 'Strata.ai'[-3:-1], 'Strata.ai'[3:])"
      ],
      "execution_count": null,
      "outputs": []
    },
    {
      "cell_type": "code",
      "metadata": {
        "id": "BR9wxtXAIm4e"
      },
      "source": [
        "name = \"Strata.ai\"\n",
        "# using \"len\" function to get th elength of a string \n",
        "print(len(name))\n",
        "\n",
        "# String variable indexing\n",
        "print(name[len(name) - 1], name[-1])\n",
        "\n",
        "# Slicing\n",
        "print(name[1:3])\n",
        "\n",
        "# String variable is immutable\n",
        "#name[1] = 's'"
      ],
      "execution_count": null,
      "outputs": []
    },
    {
      "cell_type": "code",
      "metadata": {
        "id": "z70nwN2zIm4e"
      },
      "source": [
        "# for loop on a string\n",
        "for char in name:\n",
        "    print(char)"
      ],
      "execution_count": null,
      "outputs": []
    },
    {
      "cell_type": "code",
      "metadata": {
        "id": "Roh0vb_rIm4e"
      },
      "source": [
        "# using \"enumerate\" to get the indexes too\n",
        "for idx, char in enumerate(name):\n",
        "    print('The charchar at index ' + str(idx) + ' is ' + char)"
      ],
      "execution_count": null,
      "outputs": []
    },
    {
      "cell_type": "code",
      "metadata": {
        "id": "5pjCIrTBIm4e"
      },
      "source": [
        "# String format\n",
        "print(\"My name is {fname}, I'am {age}, and my grade is {grade}\".format(fname = \"Sam\", age = 25, grade = 3.6))\n",
        "print(\"My name is {}, I'am {}, and my grade is {}\".format(\"Sam\", 25, 3.6))\n",
        "print(\"My name is {1}, I'am {2}, and my grade is {0}\".format(3.6, \"Sam\", 25))\n",
        "\n",
        "# alternative way but old - don't use\n",
        "print(\"My name is %s, I'am %d, and my grade is %f\" % (\"Sam\", 25, 3.6)) "
      ],
      "execution_count": null,
      "outputs": []
    },
    {
      "cell_type": "code",
      "metadata": {
        "id": "Wge2UJF8Im4e"
      },
      "source": [
        "# Padding and aligning strings \n",
        "print('My name is {:10}.'.format('Joe'))\n",
        "print('My name is {:>10}.'.format('Joe'))\n",
        "print('My name is {:^10}.'.format('Joe'))\n",
        "print('My name is {:_<10}.'.format('Joe'))\n",
        "print('My name is {:*^10}.'.format('Joe'))\n",
        "\n",
        "# Truncating long strings\n",
        "print('The company is {:.6}.'.format('Strata.ai'))"
      ],
      "execution_count": null,
      "outputs": []
    },
    {
      "cell_type": "code",
      "metadata": {
        "id": "5ZoZ943zIm4e"
      },
      "source": [
        "# Padding numbers \n",
        "print('{:10d}'.format(56))\n",
        "print('{:<10d}'.format(56))\n",
        "print('{:010d}'.format(56))\n",
        "\n",
        "# Signed numbers\n",
        "print('{:+d}'.format(56))\n",
        "print('{: d}'.format(56))\n",
        "print('{: d}'.format(-56))\n",
        "print('{:=+10d}'.format(56))\n",
        "print('{:=10d}'.format(-56))"
      ],
      "execution_count": null,
      "outputs": []
    },
    {
      "cell_type": "code",
      "metadata": {
        "id": "mxzf94iJIm4f"
      },
      "source": [
        "# Floating numbers\n",
        "print('{:6.2f}'.format(1.23456789))\n",
        "print('{:06.2f}'.format(1.23456789))\n",
        "print('{:,.2f}'.format(123456.789))\n",
        "\n",
        "# Date and time formatting\n",
        "from datetime import datetime\n",
        "dt = datetime(2020, 11, 16, 6, 15)\n",
        "print('{}'.format(dt))\n",
        "print('{:%Y/%m/%d %H:%M}'.format(dt))\n",
        "print('{:%d-%b-%y}'.format(dt))\n",
        "\n",
        "# for more visit: https://docs.python.org/3/library/string.html#format-specification-mini-language"
      ],
      "execution_count": null,
      "outputs": []
    },
    {
      "cell_type": "code",
      "metadata": {
        "id": "QTbfiy3hIm4f"
      },
      "source": [
        "# Some useful string methods\n",
        "name = 'john Doe'\n",
        "print(name.upper(), name.lower())\n",
        "print(name.capitalize(), name.title()) \n",
        "print(name.islower(), name.isupper(), name.istitle())\n",
        "print(name.find('o'), name.find('a'), name.find('Doe')) # find returns an index\n",
        "print(name.find('o', 3), name.find('o', 3, 5)) # find(str, strat, end)\n",
        "print(name.split(' ')) # split returns a list"
      ],
      "execution_count": null,
      "outputs": []
    },
    {
      "cell_type": "code",
      "metadata": {
        "id": "-OPK3ERfIm4f"
      },
      "source": [
        "# Concatenating and multiplying strings\n",
        "print(name + '->' + name.upper())\n",
        "print((name + ' ') * 3)\n",
        "\n",
        "# Comparing strings\n",
        "print(name.lower() == 'john doe')\n",
        "print(name  > 'john doe')\n",
        "print(name <= 'john doe')"
      ],
      "execution_count": null,
      "outputs": []
    },
    {
      "cell_type": "markdown",
      "metadata": {
        "id": "iTm8MwPRIm4f"
      },
      "source": [
        "<a id=\"sequence\"></a>\n",
        "## Sequences\n",
        "\n",
        "Sequences are data structures that hold an ordered set of values. Python supports six different types of sequences:\n",
        "\n",
        "- **String:** an immutable sequence of characters (already discussed)\n",
        "- **List:** a mutable sequence of values of any type (**elements** or **items**) \n",
        "- **Tuple:** very similar to lists but they are immutable. \n",
        "- **Byte Sequences:** an immutable sequence of bytes (refer to [Bytes object](https://docs.python.org/3.7/library/stdtypes.html)\n",
        "- **Byte Array:** a mutable sequence of bytes (refer to [Bytesarray object](https://docs.python.org/3.7/library/stdtypes.html)\n",
        "- **Range:** a sequence of integers"
      ]
    },
    {
      "cell_type": "markdown",
      "metadata": {
        "id": "bkutNhetIm4f"
      },
      "source": [
        "### Lists\n",
        "\n",
        "- The simplest way to create a list is to enclose elements in brackets (**[** and **]**); e.g. [1, 2, 3, 4], ['joe', 'hamid', 'jack']\n",
        "- The elements of a list don’t have to be the same type: e.g. [1 2.3, 'text', True]\n",
        "- A list can contain another list (**nested**): e.g. [1, 2, [3, 4]]\n",
        "- Similar to strings, list's element can be accessed y index or slicing and can use **for** to traverse a list. \n",
        "- Lists are muatable (the elements can be changed)\n",
        "- We can concatenate or multiply a list (similar to strings) "
      ]
    },
    {
      "cell_type": "code",
      "metadata": {
        "id": "Lb09NSPQIm4f"
      },
      "source": [
        "data = [1, 2.3, 'text', True, [3, 4]] # a list of different value types\n",
        "\n",
        "print(data)\n",
        "print(len(data))\n",
        "print(data[0], type(data[0])) # indexing\n",
        "print(type(data[4]), data[4], data[4][0]) # indexing\n",
        "print(data[1:4], data[-1]) # slicing\n",
        "print(data + ['new', False]) # concatenation\n",
        "print([1, 2] * 3) # multiplication\n",
        "# Changing list elements\n",
        "data[0] = 'new'; print(data)\n",
        "data[1:3] = [10, 20]; print(data)"
      ],
      "execution_count": null,
      "outputs": []
    },
    {
      "cell_type": "code",
      "metadata": {
        "id": "sl8qSTVJIm4f"
      },
      "source": [
        "# Adding list elements\n",
        "lst = [] # an empty list\n",
        "lst.append('first'); print(lst) # appending to the end\n",
        "lst.insert(0, 'second'); print(lst) # inserting at an index\n",
        "lst.extend([3, 4, 5, 6]); print(lst) # extending a list\n",
        "\n",
        "# Removing list elements\n",
        "print(lst.pop(1), lst) # deleting an element at an index (returns the value)\n",
        "lst.remove('second'); print(lst) # deleting an element by value\n",
        "lst.clear(); print(lst) # clear all values\n",
        "\n",
        "# Sorting a list\n",
        "lst = [100, 201, 300, 35]\n",
        "lst.sort(); print(lst) \n",
        "print(sorted(lst)) # doesn't change the initial list"
      ],
      "execution_count": null,
      "outputs": []
    },
    {
      "cell_type": "code",
      "metadata": {
        "id": "w6RTB3oFIm4g"
      },
      "source": [
        "# Traversing a list\n",
        "names = ['Joe', 'Jack', 'Lili']\n",
        "\n",
        "for name in names: # looping through the elements\n",
        "    print(name)\n",
        "    \n",
        "for i, name in enumerate(names): # including indexes\n",
        "    print(i, name)"
      ],
      "execution_count": null,
      "outputs": []
    },
    {
      "cell_type": "code",
      "metadata": {
        "id": "vNJo3PYSIm4g"
      },
      "source": [
        "# Converting s string to a list\n",
        "print(\"Hello my friend!\".split()) # splitting by space\n",
        "print(\"2020-11-26\".split('-')) # splitting by a delimiter\n",
        "print(list(\"John Doe\")) # converting a string to a list of characters\n",
        "\n",
        "# convering a list to a string\n",
        "words = [\"My\", \"name\", \"is\", \"Joe\", \".\"]\n",
        "delimeter = ' '\n",
        "print(delimeter.join(words))\n",
        "delimeter = '-'\n",
        "print(delimeter.join(words))"
      ],
      "execution_count": null,
      "outputs": []
    },
    {
      "cell_type": "code",
      "metadata": {
        "id": "2bPY8Z1OIm4g"
      },
      "source": [
        "# Variable references (mutable vs. immutable)\n",
        "\n",
        "a = 'charles'\n",
        "b = 'charles'\n",
        "print(a is b) # comparing if they both refer to the same object\n",
        "\n",
        "a = [1, 2]\n",
        "b = [1, 2]\n",
        "print(a is b) # for mutable variables two objects are created\n",
        "\n",
        "b = a; print(a is b)\n",
        "b[0] = 3 # any change in one affets the other one \n",
        "print(a, b)\n",
        "b = a.copy(); print(a is b)\n",
        "b[0] = 4; print(a, b)"
      ],
      "execution_count": null,
      "outputs": []
    },
    {
      "cell_type": "code",
      "metadata": {
        "id": "U6-GHAwYIm4g"
      },
      "source": [
        "# Assignment vs. Creating a new list\n",
        "t1 = [1, 2]\n",
        "t2 = t1 # assign the reference\n",
        "t3 = t1 + [4] # create a new list\n",
        "t2.append(3)\n",
        "print(t3, t2, t1, t2 is t1, t3 is t1)\n",
        "\n",
        "# List arguments\n",
        "def del_tail(lst):\n",
        "    del lst[-1]\n",
        "    \n",
        "num_list = [1, 2]\n",
        "del_tail(num_list) # unction gets a reference to the list\n",
        "print(num_list)"
      ],
      "execution_count": null,
      "outputs": []
    },
    {
      "cell_type": "markdown",
      "metadata": {
        "id": "ZLlv-tBvIm4g"
      },
      "source": [
        "### List Comprehension\n",
        "\n",
        "- **List comprehension** is an elegant way to define and create lists based on existing lists or other iterable objects.\n",
        "- They can replace regular **for** and **if...else** statments and make the code shorter. \n",
        "- The simplest for is **[expression for item in list]**"
      ]
    },
    {
      "cell_type": "code",
      "metadata": {
        "id": "I5GcUAb_Im4g"
      },
      "source": [
        "# simple form of list comprehension\n",
        "cities = ['London', 'Toronto', 'Miami', 'New York', 'Boston', 'Madrid']\n",
        "print([city.upper() for city in cities]) # craeting anew list of city names in capital letters\n",
        "\n",
        "# list comprehension with \"if\"\n",
        "print([city for city in cities if city.startswith('M')]) # filter the list \n",
        "\n",
        "# math operations \n",
        "print([i**3 for i in range(1,11)]) # create a list of cubic numbers\n",
        "print([i**3 for i in range(1,11) if i % 7 == 1]) # filtering\n",
        "\n",
        "# with if ... else\n",
        "print([i**3 if i%2 == 0 else i**2 for i in range(1,11)])\n",
        "\n",
        "# Nested list comprehension\n",
        "matrix = [[1, 2, 3], [4, 5, 6], [7, 8, 9]]\n",
        "print([[row[i] for row in matrix] for i in range(3)]) # transpose of the matrix"
      ],
      "execution_count": null,
      "outputs": []
    },
    {
      "cell_type": "markdown",
      "metadata": {
        "id": "Kfn-XrkmIm4g"
      },
      "source": [
        "### Tuples\n",
        "\n",
        "- Tuples are very similar to lists except that they are immutable\n",
        "- Syntactically, a tuple is a comma-separated list of values \n",
        "- All list operations applies to tuples except mutation functions"
      ]
    },
    {
      "cell_type": "code",
      "metadata": {
        "id": "rsLPuGxgIm4g"
      },
      "source": [
        "tpl = 'S', 't', 'r', 'a', 't', 'a'\n",
        "print(type(tpl), tpl)\n",
        "tpl = ('S', 't', 'r', 'a', 't', 'a') # it is common to enclose tuples in parentheses\n",
        "print(len(tpl)) # typle length\n",
        "print(tpl[0], tpl[1:3], tpl[-1]) # indexing andslicing\n",
        "\n",
        "t1 = 'S', # creating a tuple with a single value\n",
        "t2 = ('S') # this is not a tuple\n",
        "print(type(t1), type(t2))\n",
        "\n",
        "t1 = tuple() # an empty tuple\n",
        "t2 = tuple('Strata') # converting a string to a tuple\n",
        "t3 = tuple(['a', 'b']) # converting a list to a tuple\n",
        "print(t1, t2, t3)"
      ],
      "execution_count": null,
      "outputs": []
    },
    {
      "cell_type": "code",
      "metadata": {
        "id": "kPLIdmetIm4h"
      },
      "source": [
        "# Tuple assigment\n",
        "a, b, c = 1, 2, 3\n",
        "print(a, b, c)\n",
        "\n",
        "a, b = b, a # swapping values\n",
        "print(a, b)\n",
        "\n",
        "email = 'info@strata.ai'\n",
        "user, domain = email.split('@')\n",
        "print(user, domain)\n",
        "\n",
        "res = divmod(7, 2) # some functions return a tuple\n",
        "print(type(res), res)\n",
        "\n",
        "def min_max(num_list): # tuple as a return value\n",
        "    return min(num_list), max(num_list)\n",
        "\n",
        "print(min_max([1, 5, 4, 3]))"
      ],
      "execution_count": null,
      "outputs": []
    },
    {
      "cell_type": "code",
      "metadata": {
        "id": "Wle9Id7mIm4h"
      },
      "source": [
        "# Variable-length argument tuples\n",
        "def print_args(*args):\n",
        "    print(type(args), args)\n",
        "    \n",
        "print_args(1, 'str', True)\n",
        "\n",
        "def min_max(*nums):\n",
        "    return(min(nums), max(nums))\n",
        "\n",
        "min_max(1, 5, 4, 3)"
      ],
      "execution_count": null,
      "outputs": []
    },
    {
      "cell_type": "code",
      "metadata": {
        "id": "m0FqMY79Im4h"
      },
      "source": [
        "# Lists and tuples\n",
        "tpl = (1, 5, 6)\n",
        "lst = ['a', 'b', 'c']\n",
        "print(list(tpl)) # converting a tuple to a list \n",
        "print(tuple(lst)) # converting a list to a tuple\n",
        "\n",
        "names = ['Jack', 'Leila', 'Sam']\n",
        "scores = [85, 90, 74]\n",
        "print(list(zip(names, scores))) # zipping two sequences together\n",
        "\n",
        "for name, score in zip(names, scores):\n",
        "    print(name, score)"
      ],
      "execution_count": null,
      "outputs": []
    },
    {
      "cell_type": "markdown",
      "metadata": {
        "id": "0nduw4DmIm4h"
      },
      "source": [
        "### Ranges\n",
        "\n",
        "A **range** is a sequence of numbers like a list but since it only stores the start, stop, and step values, it consumes less amount of memory irrespective of the range it represents when compared to a list or tuple.\n",
        "\n",
        "We can generate a **range** by a **range()** function:\n",
        "\n",
        "- **range(stop):** a sequence of numbers from \"0\" to \"stop - 1\"\n",
        "- **range(start, stop):** a sequence of numbers from \"start\" to \"stop - 1\"\n",
        "- **range(start, stop, step):** a sequence of numbers from \"start\" to \"stop - 1\" inrementing by \"step\""
      ]
    },
    {
      "cell_type": "code",
      "metadata": {
        "id": "xExwa0eKIm4h"
      },
      "source": [
        "# Range type\n",
        "print(range(5))\n",
        "print(list(range(5)))\n",
        "print(type(range(5)))\n",
        "\n",
        "# Range arguments\n",
        "print(list(range(2, 10)))\n",
        "print(list(range(2, 10, 3)))\n",
        "print(list(range(5, 0, -1)))\n",
        "\n",
        "# Chaining two or more ranges\n",
        "from itertools import chain\n",
        "print(list(chain(range(5), range(5, 10))))"
      ],
      "execution_count": null,
      "outputs": []
    },
    {
      "cell_type": "code",
      "metadata": {
        "id": "cJMFkLxGIm4h"
      },
      "source": [
        "# Using \"for\" to iterate on a range\n",
        "\n",
        "for i in range(5): # most common usage\n",
        "    print(i)\n",
        "    \n",
        "print('-' * 10)\n",
        "\n",
        "for i in range(2, 10, 2):\n",
        "    print(i)"
      ],
      "execution_count": null,
      "outputs": []
    },
    {
      "cell_type": "markdown",
      "metadata": {
        "id": "DLqUYz0iIm4h"
      },
      "source": [
        "<a id=\"collection\"></a>\n",
        "## Collections\n",
        "\n",
        "Unlike sequences, collections are unordered and unindexed data structures. Python supports two different types of sequences:\n",
        "\n",
        "- **Dictionary:** an unordered collection of key-value objects\n",
        "- **Set:** a set is a collection of distinct elements and represents the mathematical sets concept \n",
        "\n",
        "Both **Dictionary** and **Set** are mutable"
      ]
    },
    {
      "cell_type": "markdown",
      "metadata": {
        "id": "C3lsLnKAIm4h"
      },
      "source": [
        "### Dictionaries\n",
        "\n",
        "- A dictionary is a mapping between a set of indices (which are called **keys**) and a set of **values**. They are mutable.\n",
        "- The simplest way to create a dictionary is to enclose key-value pairs in squiggly-brackets (**{** and **}**);  \n",
        "<blockquote>{'name':'John Doe', 'age':32, 'gender':'male', 'is_married':True}</blockquote>\n",
        "- The keys of a disctionary are strings but the values can be of any types, including another data structure (e.g. dictionary, list) "
      ]
    },
    {
      "cell_type": "code",
      "metadata": {
        "id": "xc_TJDQ0Im4h"
      },
      "source": [
        "# Creating a dictionary\n",
        "d1 = {} # an empty dictionary\n",
        "d2 = dict() # an empty dictionary\n",
        "print(d1, d2)\n",
        "d_rec = {'name':'John Doe', 'age':32, 'gender':'male', 'is_married':True}\n",
        "print(type(d_rec), d_rec, len(d_rec))\n",
        "\n",
        "# Accessing the values \n",
        "print(d_rec['name'])\n",
        "# print(rec['job']) # keyerror\n",
        "print(d_rec.get('job', 'Unemployed')) # using get with default value \n",
        "print('age' in d_rec) # check if key exists\n",
        "\n",
        "# get keys and values\n",
        "print(d_rec.keys(), 'job' in d_rec.keys())\n",
        "print(d_rec.values(), 'male' in d_rec.values())"
      ],
      "execution_count": null,
      "outputs": []
    },
    {
      "cell_type": "code",
      "metadata": {
        "id": "TSVG323tIm4i"
      },
      "source": [
        "# Looping through a dictionary\n",
        "for key in d_rec:\n",
        "    print(key, ':', d_rec[key])\n",
        "    \n",
        "for key, value in d_rec.items():\n",
        "    print('->', key, ':', value)\n",
        "    \n",
        "# Converting lists to keys and vice versa\n",
        "print(list(d_rec))\n",
        "print(dict([('one', 1), ('two', 2), ('three', 3)]))\n",
        "\n",
        "# Merging two dictionaries\n",
        "d1 = {'a': 1, 'b': 2}\n",
        "d2 = {'b': 4, 'c': 3}\n",
        "d1.update(d2); print(d1)"
      ],
      "execution_count": null,
      "outputs": []
    },
    {
      "cell_type": "code",
      "metadata": {
        "id": "DvspT1VfIm4i"
      },
      "source": [
        "# Dictionary operations\n",
        "d_rec = {'name':'John Doe', 'age':32, 'gender':'male', 'is_married':True}\n",
        "del d_rec['name']\n",
        "print(d_rec)\n",
        "print(d_rec.pop('age'), d_rec)\n",
        "\n",
        "d_rec['name'] = {'fname':'John', 'lname': 'Doe'} # adding a new key-value\n",
        "print(d_rec)"
      ],
      "execution_count": null,
      "outputs": []
    },
    {
      "cell_type": "markdown",
      "metadata": {
        "id": "mU3Bqu7OIm4i"
      },
      "source": [
        "### Sets\n",
        "\n",
        "- A **Set** is a distinct set of elements. \n",
        "- The simplest way to create a set is to enclose values in squiggly-brackets (**{** and **}**);  \n",
        "<blockquote>{1, 2, 'a', 'b', False}</blockquote>\n",
        "- A set is a mutable data structure\n",
        "- Frozensets are immutable"
      ]
    },
    {
      "cell_type": "code",
      "metadata": {
        "id": "kBYKKdFVIm4i"
      },
      "source": [
        "# Creating a set \n",
        "s1 = {'a', 'a', 'b', 'c', 'd'}\n",
        "s2 = {2, 'a', 'b', 'c', True, False}\n",
        "s3 = set() # an empty set\n",
        "s4 = set([1, 2, 3, 4, 1, 2, 3])\n",
        "print(s1, s2, s3, s4)\n",
        "print(list(s2)) # converting toa list\n",
        "print(bool(s3), bool(s1)) # an empy set is False\n",
        "print(len(s1)) # length of a set"
      ],
      "execution_count": null,
      "outputs": []
    },
    {
      "cell_type": "code",
      "metadata": {
        "id": "El0kMuc_Im4i"
      },
      "source": [
        "# Set operations\n",
        "s1 = {'a', 'b', 'c', 'd'}\n",
        "s2 = {'b', 'c', 'e', 'f'}\n",
        "print(s1 | s2, s1.union(s2)) # union of sets\n",
        "print(s1 & s2, s1.intersection(s2)) # intersection of sets\n",
        "print(s1 - s2, s1.difference(s2)) # difference of two sets\n",
        "print(s1 ^ s2, s1.symmetric_difference(s2)) # symetric difference of two sets\n",
        "\n",
        "# Check functions\n",
        "s3, s4 = {'a', 'b'}, {'c', 'd'}\n",
        "print(s3.isdisjoint(s4), s3.issubset(s1), s2.issuperset(s4))\n",
        "print(s3 < s1, s2 > s4)"
      ],
      "execution_count": null,
      "outputs": []
    },
    {
      "cell_type": "code",
      "metadata": {
        "id": "puxNqHxpIm4i"
      },
      "source": [
        "# Updating sets\n",
        "s = {'a', 'b'}\n",
        "s.update(['e', 'h']), print(s)\n",
        "s.add('c'); print(s)\n",
        "s.remove('a'); print(s)\n",
        "# s.remove('f') # raises error\n",
        "s.discard('f'); print(s)\n",
        "print(s.pop(), s) # removes a random element\n",
        "s.clear(); print(s)\n",
        "\n",
        "# Frozenset\n",
        "fs = frozenset([1, 2, 3])\n",
        "print(fs)"
      ],
      "execution_count": null,
      "outputs": []
    },
    {
      "cell_type": "markdown",
      "metadata": {
        "id": "oBRnasCSIm4i"
      },
      "source": [
        "<a id=\"iterable\"></a>\n",
        "## Iterables\n",
        "\n",
        "- **Iterable** is an object that can be “iterated over”, such as in a for-loop.\n",
        "- All **sequences** and **collections** are iterables\n",
        "- The functions that act on iterables: **sum**, **min**, **max**, **sorted**, **all**, **any**, **zip**, **enumerate**, **filter**, and **map**\n",
        "- List comprehension is more pretty than map, filter\n",
        "- **itertools** module provides many other functions\n"
      ]
    },
    {
      "cell_type": "code",
      "metadata": {
        "id": "-lWMFmg-Im4i"
      },
      "source": [
        "# More on enumerate\n",
        "my_list = [1, None, 2, 'name', True]\n",
        "\n",
        "for entry in enumerate(my_list): # entries in enumerate include the index and the value \n",
        "    print(entry)\n",
        "    \n",
        "for index, value in enumerate(my_list): # alternative: unpacked version\n",
        "    if not value is None: # excluding None type\n",
        "        print(index, value)\n",
        "        \n",
        "for entry in enumerate(\"Starta\"): # enumerating a string\n",
        "    print(entry)"
      ],
      "execution_count": null,
      "outputs": []
    },
    {
      "cell_type": "code",
      "metadata": {
        "id": "naWL52FKIm4j"
      },
      "source": [
        "# filter(function, iterable): creates a list of elements for which a function returns true\n",
        "num_list = range(-10, 10)\n",
        "res = filter(lambda x: (x > 0) & (x % 2 == 0), num_list) # get all positive and even numbers \n",
        "print(type(res), list(res)) # the result is a 'filter' calss that is iterable\n",
        "\n",
        "# map(function, iterable): applies a function to all the items in an input iterable\n",
        "num_tpl = (1, 2, 3, 4, 5)\n",
        "res = map(lambda x: x * x, num_tpl)\n",
        "print(type(res), list(res))"
      ],
      "execution_count": null,
      "outputs": []
    },
    {
      "cell_type": "markdown",
      "metadata": {
        "id": "gGv8YHU5Im4j"
      },
      "source": [
        "<a id=\"file\"></a>\n",
        "## Files\n",
        "\n",
        "- Files are used to **persist** data on a storage device (e.g. HDD).    \n",
        "- A data scientist handles lots of data that could come from different sources including databases or simpel files.\n",
        "- The most common type of file is a **text file** that can include structures or unstructured data in different formats (e.g. CSV, TSV, TXT files)"
      ]
    },
    {
      "cell_type": "code",
      "metadata": {
        "id": "JwfQnAmcIm4j"
      },
      "source": [
        "# Writting to a text file\n",
        "file = open('test.txt', 'w') # create a file object for writting ('w')\n",
        "print(file)\n",
        "file.write('Thsi is a sample line.\\n') # writting a line to the file. \"\\n\" is newline character\n",
        "file.write('Thsi is the second line.\\n')\n",
        "file.close() # closing the file \n",
        "\n",
        "!cat test.txt\n",
        "\n",
        "# Another way using \"with\"\n",
        "with open('hello.txt', 'w') as file:\n",
        "    file.write(\"Hello World!!\") # no need to close \n",
        "    \n",
        "!cat hello.txt"
      ],
      "execution_count": null,
      "outputs": []
    },
    {
      "cell_type": "code",
      "metadata": {
        "id": "7nndn30QIm4j"
      },
      "source": [
        "# Reading a text file\n",
        "with open('test.txt', 'r') as file:\n",
        "    for line in file: # interating in file lines \n",
        "        print(line.strip('\\n'))\n",
        "        \n",
        "# Appending to a file\n",
        "with open('test.txt', 'a') as file:\n",
        "    file.write(\"This is the third line.\") # no need to close \n",
        "print(\"\\n\")\n",
        "!cat test.txt"
      ],
      "execution_count": null,
      "outputs": []
    },
    {
      "cell_type": "code",
      "metadata": {
        "id": "xCNm1vp-Im4j"
      },
      "source": [
        "# Creating a structured file (CSV)\n",
        "employees = [\n",
        "    {'name': 'Jon Doe', 'age': 32, 'position': 'Manager'},\n",
        "    {'name': 'Jill Brown', 'age': 28, 'position': 'Employee'},\n",
        "    {'name': 'Sam Doe', 'age': 40, 'position': 'Employee'}    \n",
        "]\n",
        "\n",
        "with open('employees.csv', 'w') as file:\n",
        "    file.write('name,age,position\\n')\n",
        "    for rec in employees:\n",
        "        file.write('{:s},{:d},{:s}\\n'.format(rec['name'], rec['age'], rec['position']))\n",
        "        \n",
        "!cat employees.csv"
      ],
      "execution_count": null,
      "outputs": []
    },
    {
      "cell_type": "code",
      "metadata": {
        "id": "ZBrny6nFIm4j"
      },
      "source": [
        "# Unpacking a stratuctured file \n",
        "with open('employees.csv', 'r') as file:\n",
        "    first_line = True\n",
        "    employees = []\n",
        "    for line in file:\n",
        "        if first_line:\n",
        "            field_names = line.strip('\\n').split(',')\n",
        "            first_line = False\n",
        "        else:\n",
        "            field_values = line.strip('\\n').split(',')\n",
        "            rec = {}\n",
        "            for index, val in enumerate(field_values):\n",
        "                rec[field_names[index]] = val\n",
        "            employees.append(rec)\n",
        "print(employees)"
      ],
      "execution_count": null,
      "outputs": []
    },
    {
      "cell_type": "code",
      "metadata": {
        "id": "eLjPDVCsIm4j"
      },
      "source": [
        "# Saving an object into a file using \"pickle\" module\n",
        "import pickle\n",
        "\n",
        "employees = [\n",
        "    {'name': 'Jon Doe', 'age': 32, 'position': 'Manager'},\n",
        "    {'name': 'Jill Brown', 'age': 28, 'position': 'Employee'},\n",
        "    {'name': 'Sam Doe', 'age': 40, 'position': 'Employee'}    \n",
        "]\n",
        "\n",
        "print(pickle.dumps(employees)) # serializing an object in a string\n",
        "pickle.dump(employees, open(\"emp.pkl\", \"wb\")) # save an object in a binary file\n",
        "obj = pickle.load(open(\"emp.pkl\", \"rb\")) # loading teh object from a pickle file\n",
        "obj"
      ],
      "execution_count": null,
      "outputs": []
    },
    {
      "cell_type": "code",
      "metadata": {
        "id": "3DidlFynIm4j"
      },
      "source": [
        "# working woith filenames and paths\n",
        "import os\n",
        "\n",
        "cwd = os.getcwd(); print(cwd) # Get the current working directory\n",
        "print(os.path.abspath('./test.txt')) # get the absolute path of a relative path\n",
        "print(os.path.join(cwd, 'test.txt')) # construct a path, adds \"/\". Can get more than two arguments\n",
        "print(os.path.exists('test2.txt'), os.path.exists(cwd)) # check is a file or a directory exists\n",
        "print(os.path.isfile('test.txt'), os.path.isfile(cwd)) # check is a path is a file\n",
        "print(os.path.isdir('test.txt'), os.path.isdir(cwd)) # check is a path is a directory\n",
        "print(os.path.basename('./test.txt')) # get the file's base name\n",
        "print(os.path.dirname('./test.txt')) # get the file's directory\n",
        "print(os.path.split('../test_dir/test.txt')) # split a path\n",
        "print(os.listdir('.')) # list a directory"
      ],
      "execution_count": null,
      "outputs": []
    },
    {
      "cell_type": "code",
      "metadata": {
        "id": "19MV5RTUIm4k"
      },
      "source": [
        "# Using \"glob\" module\n",
        "import glob\n",
        "\n",
        "print(glob.glob('./*')) # list files with a wildcard. The result includes the apsolute path\n",
        "print(glob.glob('./*.txt'))\n",
        "print(glob.glob('./*.txt', recursive=True)) # searchj teh files recursively"
      ],
      "execution_count": null,
      "outputs": []
    },
    {
      "cell_type": "markdown",
      "metadata": {
        "id": "aPNRBGa7Im4k"
      },
      "source": [
        "<a id=\"exception\"></a>\n",
        "## Exception Handling\n",
        "\n",
        "- An **Exception** is an error that happens at the run time and can be handled by the program (e.g. TypeError, ZeroDivisionError, FileNotFound)  \n",
        "- We can catch the exceptions by putting the code in a **try ... except** statement"
      ]
    },
    {
      "cell_type": "code",
      "metadata": {
        "id": "wdVBbDkVIm4k"
      },
      "source": [
        "x, y = 1, 0\n",
        "#print('The number is ' + x) # Type Error\n",
        "#print(x/y) # Zero Division Error \n",
        "with open('no_file.txt', 'r') as file: # File Not Found Error\n",
        "    print(file.readline()) # read a line from the file"
      ],
      "execution_count": null,
      "outputs": []
    },
    {
      "cell_type": "code",
      "metadata": {
        "id": "XdSghR64Im4k"
      },
      "source": [
        "# Catching an exception\n",
        "try: \n",
        "    with open('no_file.txt', 'r') as file: # File Not Found Error\n",
        "        print(file.read(5)) # read 5 characters\n",
        "except: \n",
        "    print(\"There was an error\")\n",
        "    \n",
        "# Catching a specific exception\n",
        "try: \n",
        "    with open('no_file.txt', 'r') as file: # File Not Found Error\n",
        "        print(file.read(5)) # read 5 characters\n",
        "except TypeError: \n",
        "    print(\"There was a type error\")\n",
        "except FileNotFoundError:\n",
        "    print(\"File not found\")\n",
        "except:\n",
        "    print(\"There was an error\")\n",
        "else:\n",
        "    print(\"No exception is occured\")"
      ],
      "execution_count": null,
      "outputs": []
    },
    {
      "cell_type": "markdown",
      "metadata": {
        "id": "hpy9M7WKIm4k"
      },
      "source": [
        "<a id=\"class\"></a>\n",
        "## Classes and Objects\n",
        "\n",
        "- **Classes** allow us to define new types (**User-defined Types**)\n",
        "- They can encapsulate related **attributes**, **methods**, and **Operators**\n",
        "- A class can **inherite** from another class\n",
        "- An instance of a class is called an **object**\n",
        "- Objects are mutable. "
      ]
    },
    {
      "cell_type": "code",
      "metadata": {
        "id": "esljBEt5Im4k"
      },
      "source": [
        "# Let's craete a class names Vector to represent a vector\n",
        "class Vector(object): \n",
        "    def __init__(self, *args): # init method\n",
        "        assert len(args) > 0, \"Please provide values\" # will raise error is no argument is provided\n",
        "        self.elements = list(args) # elements of the vector is hold in a list\n",
        "        \n",
        "    def __len__(self): # Overriding the default \"len\" method \n",
        "        return len(self.elements)\n",
        "    \n",
        "    def __repr__(self): # Overriding the default print method\n",
        "        return str(self.elements)\n",
        "    \n",
        "# v = Vector()\n",
        "v = Vector(1, 0, 2, 4) \n",
        "print(type(v)) # object \"v\" is an instance of class \"Vector\"\n",
        "print(len(v)) # using __len__ method\n",
        "print(v) # uinf __repr__ method"
      ],
      "execution_count": null,
      "outputs": []
    },
    {
      "cell_type": "code",
      "metadata": {
        "id": "08gn0HW_Im4k"
      },
      "source": [
        "# Let's add a method and an operator\n",
        "import math\n",
        "class Vector(object): \n",
        "    def __init__(self, *args): # init method\n",
        "        assert len(args) > 0, \"Please provide values\" # will raise error is no argument is provided\n",
        "        self.elements = args # elements of the vector is hold in a tuple\n",
        "        \n",
        "    def __len__(self): # Overriding the default \"len\" method \n",
        "        return len(self.elements)\n",
        "    \n",
        "    def __repr__(self): # Overriding the default print method\n",
        "        return str(self.elements)\n",
        "\n",
        "    def norm(self): # calculate the norm of the vector\n",
        "        return math.sqrt(sum(e**2 for e in self.elements))\n",
        "    \n",
        "    def __add__(self, v): # add two vectors\n",
        "        assert type(v) == type(v), \"both operands should be of the same type\"\n",
        "        res = []\n",
        "        for i, e in enumerate(self.elements):\n",
        "            res.append(e + v.elements[i])\n",
        "        return Vector(*res)\n",
        "            \n",
        "v = Vector(1, 0, 2, 4)\n",
        "v2 = Vector(3, 5, 1, 6)\n",
        "print(v.norm())\n",
        "print(v + v2)"
      ],
      "execution_count": null,
      "outputs": []
    },
    {
      "cell_type": "markdown",
      "metadata": {
        "id": "PMd6z63rIm4l"
      },
      "source": [
        "<a id=\"module\"></a>\n",
        "## Writting Modules\n",
        "\n",
        "- Any file that contains Python code can be imported as a **module** "
      ]
    },
    {
      "cell_type": "code",
      "metadata": {
        "id": "tD1tEz1OIm4l"
      },
      "source": [
        "%%writefile vector.py\n",
        "\n",
        "import math\n",
        "\n",
        "class Vector(object): \n",
        "    def __init__(self, *args): # init method\n",
        "        assert len(args) > 0, \"Please provide values\" # will raise error is no argument is provided\n",
        "        self.elements = args # elements of the vector is hold in a tuple\n",
        "        \n",
        "    def __len__(self): # Overriding the default \"len\" method \n",
        "        return len(self.elements)\n",
        "    \n",
        "    def __repr__(self): # Overriding the default print method\n",
        "        return str(self.elements)\n",
        "\n",
        "    def norm(self): # calculate the norm of the vector\n",
        "        return math.sqrt(sum(e**2 for e in self.elements))\n",
        "    \n",
        "    def __add__(self, v): # add two vectors\n",
        "        assert type(v) == type(v), \"both operands should be of the same type\"\n",
        "        res = []\n",
        "        for i, e in enumerate(self.elements):\n",
        "            res.append(e + v.elements[i])\n",
        "        return Vector(*res)\n",
        "\n",
        "def merge_vectors(v1, v2):\n",
        "    args = v1.elements + v2.elements\n",
        "    return Vector(*args)\n",
        "\n",
        "if __name__ == '__main__':  # if the program is running as a script, __name__ has the value __main__\n",
        "    print(Vector(1, 2, 3, 4))"
      ],
      "execution_count": null,
      "outputs": []
    },
    {
      "cell_type": "code",
      "metadata": {
        "id": "B7iOAVcDIm4l"
      },
      "source": [
        "from vector import Vector, merge_vectors\n",
        "\n",
        "v1 = Vector(1, 2)\n",
        "v2 = Vector(3, 4, 5)\n",
        "print(merge_vectors(v1, v2))\n",
        "\n",
        "!python vector.py"
      ],
      "execution_count": null,
      "outputs": []
    }
  ]
}