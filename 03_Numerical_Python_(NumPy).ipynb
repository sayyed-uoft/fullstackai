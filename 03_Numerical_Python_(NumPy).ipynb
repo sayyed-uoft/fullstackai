{
  "nbformat": 4,
  "nbformat_minor": 0,
  "metadata": {
    "celltoolbar": "Slideshow",
    "kernelspec": {
      "display_name": "Python 3 (ipykernel)",
      "language": "python",
      "name": "python3"
    },
    "language_info": {
      "codemirror_mode": {
        "name": "ipython",
        "version": 3
      },
      "file_extension": ".py",
      "mimetype": "text/x-python",
      "name": "python",
      "nbconvert_exporter": "python",
      "pygments_lexer": "ipython3",
      "version": "3.7.0"
    },
    "colab": {
      "name": "03 - Numerical Python (NumPy).ipynb",
      "provenance": [],
      "include_colab_link": true
    }
  },
  "cells": [
    {
      "cell_type": "markdown",
      "metadata": {
        "id": "view-in-github",
        "colab_type": "text"
      },
      "source": [
        "<a href=\"https://colab.research.google.com/github/sayyed-uoft/fullstackai/blob/main/03_Numerical_Python_(NumPy).ipynb\" target=\"_parent\"><img src=\"https://colab.research.google.com/assets/colab-badge.svg\" alt=\"Open In Colab\"/></a>"
      ]
    },
    {
      "cell_type": "markdown",
      "metadata": {
        "id": "RwndaG_MThtS"
      },
      "source": [
        "# Strata.ai - Artificial Intelligence Certificate \n",
        "\n",
        "# Module 1: Data Science for AI\n",
        "\n",
        "# Numerical Python (NumPy)"
      ]
    },
    {
      "cell_type": "markdown",
      "metadata": {
        "id": "Y81tHPG1ThtU"
      },
      "source": [
        "## Learning Outcome\n",
        "\n",
        "- Learn the fundamental numerical package in Python (NumpPy)\n",
        "- Work with multi-dimensional arrays (ndarrays)\n",
        "- Write efficient algorithms through vectorization"
      ]
    },
    {
      "cell_type": "markdown",
      "metadata": {
        "id": "epY3J66CThtU"
      },
      "source": [
        "## Topics\n",
        "- [Numerical Python (NumPy) - Features](#numpy)\n",
        "- [ndarray: A Multidimensional Array Object](#ndarray)\n",
        "- [Data Types](#dtype)\n",
        "- [Creation Functions](#creation)\n",
        "- [Element-wise Operations](#operations)\n",
        "- [Broadcasting](#broadcasting)\n",
        "- [Element-wise (Universal) Functions](#functions)\n",
        "- [Aggregate and Statistical Functions](#stat_funcs)\n",
        "- [Set Operations](#set_ops)\n",
        "- [Indexing and Slicing](#indexing)\n",
        "- [Sorting & Searching](#sort_search)\n",
        "- [Manipulating Arrays](#manipulating)\n",
        "- [Linear Algebra](#linear_algebra)\n",
        "- [Random Generation](#random)\n",
        "- [Vectorization](#vectorization)\n",
        "- [Storing and Retrieving Arrays](#storing) "
      ]
    },
    {
      "cell_type": "markdown",
      "metadata": {
        "id": "tzifWS6MThtV"
      },
      "source": [
        "<a id=\"numpy\"></a>\n",
        "## Numerical Python (NumPy) - Features\n",
        "\n",
        "- The most important foundational packages for numerical computing in Python.\n",
        "- An efficient multidimensional array providing fast array-oriented arithmetic operations.\n",
        "- Mathematical functions for fast operations on entire arrays of data without having to write loops.\n",
        "- Tools for reading/writing array data to disk and working with memory-mapped files.\n",
        "- Linear algebra and random number generation capabilities.\n",
        "\n",
        "\n"
      ]
    },
    {
      "cell_type": "markdown",
      "metadata": {
        "id": "zp33Wo1sThtW"
      },
      "source": [
        "<a id=\"ndarray\"></a>\n",
        "## ndarray: A Multidimensional Array Object\n",
        "\n",
        "- A central data structure of the **numpy** library.\n",
        "- A fast and flexible container for large datasets in Python.\n",
        "- Can represent multidimentional arrays (matrices) of the same type. \n",
        "- All the elements are the same data type (**dtype**), typically numbers.\n",
        "- Supports views, indexing, and slicing. "
      ]
    },
    {
      "cell_type": "code",
      "metadata": {
        "id": "HjEGiodZThtW"
      },
      "source": [
        "# Import python package - common to use \"np\" as an aliase\n",
        "import numpy as np \n",
        "print(np.__version__) # get the version\n",
        "\n",
        "# Create a 2x3 array (matrix) from a nested list\n",
        "m = np.array([\n",
        "        [1, 2, 3], \n",
        "        [4, 5, 6]\n",
        "    ]) \n",
        "\n",
        "print(type(m))\n",
        "print(m)\n",
        "print(m.shape, m.ndim) # get the shape & the number of dimensions\n",
        "print(m.dtype) # get the data type of the elements\n",
        "print(m.size) # get the number of elements \n",
        "print(m.data) #"
      ],
      "execution_count": null,
      "outputs": []
    },
    {
      "cell_type": "markdown",
      "metadata": {
        "id": "rcATQF-iThtX"
      },
      "source": [
        "<center>\n",
        "    <img src=\"https://github.com/sayyed-uoft/images/raw/main/nd_vector.png\" width=\"100%\">\n",
        "</center>"
      ]
    },
    {
      "cell_type": "markdown",
      "metadata": {
        "id": "-VTnl1gKThtY"
      },
      "source": [
        "<a id=\"dtype\"></a>\n",
        "## Data Types\n",
        "\n",
        "| Type | Description | \n",
        "| :-- | :-- | \n",
        "| (u)int\\[8, 16, 32, 64\\] | Signed (unsigned) integers 8, 16, 32, 64-bit |\n",
        "| float\\[16, 32, 64, 128\\] | Floating point numbers half, single, double, and extended precision |\n",
        "| complex\\[64, 128, 256\\] | Complex numbers represented by 2x32, 2x64, or 2x128 floats |\n",
        "| bool | Boolean values (True and False) | \n",
        "| object | Any Python object type |\n",
        "| string_ | ASCII string type (1 byte per character) |\n",
        "| unicode_ | Unicode string type (number of bytes platform specific) |"
      ]
    },
    {
      "cell_type": "code",
      "metadata": {
        "id": "cL9ZxhUUThtZ"
      },
      "source": [
        "# Data types\n",
        "data = np.array([\n",
        "        [1.5, 2.5], \n",
        "        [3.5, 4.5],\n",
        "        [5.0, 6.5]\n",
        "    ]) \n",
        "\n",
        "print(data.dtype, data.shape)\n",
        "\n",
        "data = np.array([0, 1], dtype=np.int32) # an integer vector \n",
        "print(data.dtype, data.shape)\n",
        "\n",
        "# Converting data types\n",
        "d2 = data.astype(np.float64)\n",
        "print(d2.dtype, d2)"
      ],
      "execution_count": null,
      "outputs": []
    },
    {
      "cell_type": "markdown",
      "metadata": {
        "id": "-1AXwiNfThtZ"
      },
      "source": [
        "<a id=\"creation\"></a>\n",
        "## Creation Functions\n",
        "\n",
        "| Function | Description | \n",
        "| :-- | :-- | \n",
        "| array | Creates an array from any any object exposing the array interface (e.g. list, tuple, array). \"dtype\" can be set explicitly or inferred automatically  |\n",
        "| asarray | Same as \"array\" but returns the same object if the input is already a \"narray\" |\n",
        "| arange, linespace | Returns evenly spaced values within a given interval as an ndarray. \"arange\" inputs the step size but \"linespace\" inputs teh number of samples |\n",
        "| ones, ones_like | Returns a new array of given shape and type, filled with ones. \"_likes\" takes another array as input and uses the same shape and dtype |\n",
        "| zeros, zeros_like | Returns a new array of given shape and type, filled with zeros | \n",
        "| empty, empty_like | Returns a new array of given shape and type, without initializing entries |\n",
        "| full, full_like | Returns a new array of given shape and type, filled with \"fill_value\" |\n",
        "| eye, identity | Return a 2-D array with ones on the diagonal and zeros elsewhere |\n",
        "| indices | Returns an array representing the indices of a grid | \n",
        "| random.random, random.randn | Returns random (uniform/normal)floats in the half-open interval \\[0.0, 1.0) |"
      ]
    },
    {
      "cell_type": "code",
      "metadata": {
        "id": "A2pt06zgThta"
      },
      "source": [
        "# Creating special arrays\n",
        "\n",
        "a1 = np.ones((2,2)) # an array of ones - default type is float \n",
        "print(a1.dtype, a1) \n",
        "\n",
        "a2 = np.zeros((2,2,3), dtype='int') # an array of zeros (integer)\n",
        "print(a2.dtype, a2)\n",
        "\n",
        "a3 = np.empty((1,5)) # an empty array - without initialization\n",
        "print(a3.dtype, a3)\n",
        "\n",
        "a4 = np.full((2,2), 10) # a full array with the specified value\n",
        "print(a4.dtype, a4)"
      ],
      "execution_count": null,
      "outputs": []
    },
    {
      "cell_type": "code",
      "metadata": {
        "id": "tG4SawAUThtb"
      },
      "source": [
        "# Other ways to create an array\n",
        "\n",
        "a1 = np.random.random((2,2)) # an array with random values (0-1, uniform distribution)\n",
        "print(a1.dtype, a1)\n",
        "\n",
        "a2 = np.random.randn(1,2) # an array with random values (0-1, normal distribution)\n",
        "print(a2.dtype, a2)\n",
        "\n",
        "a3 = np.arange(10, 25, 5) # a vector created from a range\n",
        "print(a3.dtype, a3.shape, a3)\n",
        "\n",
        "a4 = np.linspace(0, 2, 9) # a vector of evenly-spaced values\n",
        "print(a4.dtype, a4.shape, a4)\n",
        "\n",
        "a5 = np.indices((2, 2) ) # a matrix of indices\n",
        "print(a5.dtype, a5)"
      ],
      "execution_count": null,
      "outputs": []
    },
    {
      "cell_type": "markdown",
      "metadata": {
        "id": "x9dP1yXaThtb"
      },
      "source": [
        "<a id=\"operations\"></a>\n",
        "## Element-wise Operations\n",
        "\n",
        "- Any arithmetic operations between equal-size arrays or an array and a single value applies the operation element-wise\n",
        "- These operation sre adone in **batch** without ths need for inefficient **for** loop. This is called **vectorization**\n",
        "- Comparative/logical operators can be used between elements of two arrays of the same shape too"
      ]
    },
    {
      "cell_type": "code",
      "metadata": {
        "id": "uDqtHSu_Thtb"
      },
      "source": [
        "# Arthmetic operations (with a single value)\n",
        "d1 = np.array([[1, 2], [3, 4]], dtype=np.float32)\n",
        "\n",
        "print(d1 + 1) # add one value to all elements\n",
        "print(d1 * 2) # multiply all elements by a single value\n",
        "print(d1 / 2) # divide all elements by a single value\n",
        "print(d1 % 2) # reminder of all elements by a single value\n",
        "print(1 / d1) # divive a sigle value by all elements"
      ],
      "execution_count": null,
      "outputs": []
    },
    {
      "cell_type": "code",
      "metadata": {
        "id": "ts8ICJAtThtc"
      },
      "source": [
        "# Artyhmetic operations (between two array with the same shape)\n",
        "d1 = np.array([[1, 2], [3, 4]], dtype=np.float32)\n",
        "d2 = np.array([[5, 6], [7, 8]], dtype=np.float32)\n",
        "\n",
        "print(d1 + d2) # adding two arrays\n",
        "print(d2 - d1) # subtracting one array from another one\n",
        "print(d1 * d2) # multiplying two arrays\n",
        "print(d1 / d2) # dividing two arrays\n",
        "print(d1 % d2) # remainders \n",
        "print(d1 ** d2) # power"
      ],
      "execution_count": null,
      "outputs": []
    },
    {
      "cell_type": "code",
      "metadata": {
        "id": "-iswIGZdThtc"
      },
      "source": [
        "# Comparing arrays (elements-wise)\n",
        "print(d1 == d2)\n",
        "print(d1 < d2)\n",
        "print((d1 < d2) & (d1 == d2)) # using logical operators &, |, ^\n",
        "\n",
        "# Comparing the speed of operations in Numpy with \"for\" loop\n",
        "a_list = range(1000000)\n",
        "a_arr = np.array(a_list)\n",
        "\n",
        "%time res = [x ** 2 for x in a_list]  # using time directive. For all directives visis \n",
        "                                      # https://ipython.readthedocs.io/en/stable/interactive/magics.html\n",
        "%time res = a_arr ** 2\n",
        "\n",
        "del a_list, a_arr # release memeory "
      ],
      "execution_count": null,
      "outputs": []
    },
    {
      "cell_type": "markdown",
      "metadata": {
        "id": "EI0lOcQOThtc"
      },
      "source": [
        "<a id=\"broadcasting\"></a>\n",
        "## Broadcasting\n",
        "\n",
        "- **Broadcasting** describes how arithmetic works between arrays of different shapes. \n",
        "- Arithmetic, including broadcasting, can only be performed when the shape of each dimension in the arrays are equal or one has the dimension size of 1. The dimensions are considered in reverse order, starting with the trailing dimension; for example, looking at columns before rows in a two-dimensional case."
      ]
    },
    {
      "cell_type": "code",
      "metadata": {
        "id": "5b5sypfkThtd"
      },
      "source": [
        "# 2-D & 1-D Example\n",
        "a = np.array([[1, 2], [3, 4], [5, 6]])\n",
        "b = np.array([3, 2])\n",
        "c = np.array([3, 5, 4]).reshape((3, 1))\n",
        "print(a.shape)\n",
        "print(a)\n",
        "print(b.shape, b)\n",
        "print(c.shape, c)\n",
        "print(a - b)\n",
        "print(a - c)"
      ],
      "execution_count": null,
      "outputs": []
    },
    {
      "cell_type": "markdown",
      "metadata": {
        "id": "KtU3MH3BThtd"
      },
      "source": [
        "<center>\n",
        "    <img src=\"https://github.com/sayyed-uoft/images/raw/main/broadcast.png\" width=\"100%\">\n",
        "</center>"
      ]
    },
    {
      "cell_type": "code",
      "metadata": {
        "id": "dZA9l814Thtd"
      },
      "source": [
        "# 3-D vs 2-D\n",
        "a = np.arange(12).reshape((2, 3, 2))\n",
        "b = np.arange(6).reshape((3, 2))\n",
        "\n",
        "print(a)\n",
        "print(b)\n",
        "print(a - b)"
      ],
      "execution_count": null,
      "outputs": []
    },
    {
      "cell_type": "markdown",
      "metadata": {
        "id": "weXZk8unThtd"
      },
      "source": [
        "<center>\n",
        "    <img src=\"https://github.com/sayyed-uoft/images/raw/main/broadcast2.png\" width=\"70%\">\n",
        "</center>"
      ]
    },
    {
      "cell_type": "markdown",
      "metadata": {
        "id": "kQ8xaPeXThtd"
      },
      "source": [
        "<a id=\"functions\"></a>\n",
        "## Element-wise (Universal) Functions\n",
        "\n",
        "- MumPy provides a ritch set of elemen-wise array functions \n",
        "- There are two type of functions: **unary** (works on a single array), **binary** (takes two arrays)\n",
        "- See the complete list [here](#https://numpy.org/doc/stable/reference/routines.math.html))"
      ]
    },
    {
      "cell_type": "code",
      "metadata": {
        "id": "ab2NnEQyThte"
      },
      "source": [
        "# Sample of unary functions\n",
        "a = np.arange(0, 5).astype(np.float32)\n",
        "\n",
        "print(np.sin(a)) # Sinus function\n",
        "print(np.exp(a)) # Exponetial function\n",
        "b = np.zeros_like(a)\n",
        "np.sqrt(a , b) # optional \"output\" array. It will copy the result in that variable\n",
        "print(b) \n",
        "np.sqrt(a - 3, a) # invalid values become 'nan' (not a number)\n",
        "print(a, np.isnan(a)) # isnan is to check if the elements are \"nan\"\n",
        "a = 1 / np.array([1 , 0]); print(a , np.isinf(a)) # Numpy supports \"inf\" (infinity)\n",
        "\n",
        "import warnings\n",
        "warnings.filterwarnings('ignore') # controls whether warnings are ignored, displayed, \n",
        "                                  # or turned into errors (raising an exception)\n",
        "print(np.sqrt(-1))\n",
        "warnings.filterwarnings('default') # for more options: https://docs.python.org/3/library/warnings.html"
      ],
      "execution_count": null,
      "outputs": []
    },
    {
      "cell_type": "code",
      "metadata": {
        "id": "KsWgNzp3Thte"
      },
      "source": [
        "# Sample of binary functions\n",
        "b = np.arange(0, 5)\n",
        "a = b * 2\n",
        "\n",
        "print(a, b)\n",
        "print(np.subtract(a, b), np.add(a, b), np.multiply(a, b))\n",
        "print(np.maximum(a, b), np.minimum(a, b))\n",
        "print(np.less_equal(a, b), np.greater(a, b)) # element-wise comparison \n",
        "print(np.logical_xor(np.less(a, b), np.equal(a, b))) # logical operations"
      ],
      "execution_count": null,
      "outputs": []
    },
    {
      "cell_type": "markdown",
      "metadata": {
        "id": "h7R08bi_Thte"
      },
      "source": [
        "### ufunc Methods\n",
        "\n",
        "All universal function will support the following methods:\n",
        "\n",
        "| Method | Description | \n",
        "| :-- | :-- | \n",
        "| reduce() | Reduces array’s dimension by one, by applying ufunc along one axis | \n",
        "| accumulate() | Accumulates the result of applying the operator to all elements | \n",
        "| reduceat() | Performs a (local) reduce with specified slices over a single axis. | \n",
        "| outer() | Applies the ufunc op to all pairs (a, b) with a in A and b in B | \n",
        "| at() | Performs unbuffered in place operation on operand ‘a’ for elements specified by ‘indices’ | "
      ]
    },
    {
      "cell_type": "code",
      "metadata": {
        "id": "lexzjqVWThtk"
      },
      "source": [
        "# reduce\n",
        "a = np.array([[[1, 2], [3, 4]], [[5, 6], [7, 8]]])\n",
        "print(np.add.reduce(a, axis=0))\n",
        "\n",
        "# accumulate\n",
        "a = np.array([10, 2, 3, 1, 5, 4])\n",
        "print(np.minimum.accumulate(a))\n",
        "print(np.multiply.accumulate(a))\n",
        "\n",
        "# outer\n",
        "print(np.multiply.outer([1, 2, 3], [4, 5, 6]))\n",
        "\n",
        "# at\n",
        "a = np.array([1, 2, 3, 4])\n",
        "np.negative.at(a, [0, 1])\n",
        "print(a)"
      ],
      "execution_count": null,
      "outputs": []
    },
    {
      "cell_type": "markdown",
      "metadata": {
        "id": "3dyeORAJThtl"
      },
      "source": [
        "<a id=\"stat_funcs\"></a>\n",
        "## Aggregate and Statistical Functions\n",
        "NumPy provides a set of functions that compute statistics about an entire array or about the data along an axis. These functions are also accessible as methods of the array class. \n",
        "\n",
        "| Function/Method | Description | Function/Method | Description |\n",
        "| :-- | :-- | :-- | :-- | \n",
        "| mean() | Computes the arithmetic mean along the specified axis | min() | Returns the minimum of an array or minimum along an axis |\n",
        "| std() | Computes the standard deviation along the specified axis | max() | Returns the maximum of an array or minimum along an axis |\n",
        "| var() | Computes the variance along the specified axis | argmin(), argmax() | Returns the indices of the minimum / maximum values along an axis |\n",
        "| sum() | Computes the sum of array elements over a given axis | all() | Tests whether all array elements along a given axis evaluate to True |\n",
        "| prod() | Returns the product of array elements over a given axis | any() | Tests whether any array element along a given axis evaluates to True |\n",
        "| cumsum() | Returns the cumulative sum of the elements along a given axis | apply_along_axis() | Applies a function to 1-D slices along the given axis |\n",
        "| cumprod() | Returns the cumulative product of elements along a given axis | apply_over_axes() | Applies a function repeatedly over multiple axe |"
      ]
    },
    {
      "cell_type": "code",
      "metadata": {
        "id": "J8wX1Vm9Thtl"
      },
      "source": [
        "# Statistical functions & methods\n",
        "a = np.array([[1, 2, 3], [4, 5, 6]])\n",
        "\n",
        "print(np.mean(a), a.mean()) # average of the entire array (both function and method)\n",
        "print(a.mean(axis = 0), a.mean(axis = 1)) # average along a specified an axis \n",
        "print(a.std(), a.var(), a.sum(), a.prod())\n",
        "print(np.sum(a, axis=0), np.prod(a, axis=1))\n",
        "print(np.cumsum(a , axis=0)) \n",
        "print(a.cumprod(axis=1)) \n",
        "print(a.min(), a.max(), a.argmin(), a.argmax()) "
      ],
      "execution_count": null,
      "outputs": []
    },
    {
      "cell_type": "code",
      "metadata": {
        "id": "YFityWDLThtl"
      },
      "source": [
        "# Stat functions/methods on boolean arrays\n",
        "a = np.array([[1, 2, 3], [4, 5, 6]])\n",
        "b = np.array([True, False, True])\n",
        "c = np.array([0, 1, 2, 3])\n",
        "\n",
        "print(np.any(a % 9 == 7), np.all(a < 10))\n",
        "print(b.any(), b.all())\n",
        "print((a == 4).any(), (a > 0).all())\n",
        "print((a == 4).any(axis=0), (a > 3).all(axis=1))\n",
        "print(np.any(c), c.all()) # 0 = False, anything else = True\n",
        "print(np.any([np.nan, 0, 0])) # np.nan is considered True"
      ],
      "execution_count": null,
      "outputs": []
    },
    {
      "cell_type": "code",
      "metadata": {
        "id": "pTkkF1C5Thtl"
      },
      "source": [
        "# Apply along an axis\n",
        "a = np.array([[1,2,3], [4,5,6], [7,8,9]])\n",
        "def weighted_mean(arr):\n",
        "    return(arr[0]*.25+arr[1]*.25+arr[2]*.5)\n",
        "\n",
        "print(np.apply_along_axis(np.sum, 0, a)) # apply sum along axis = 0\n",
        "print(np.apply_along_axis(weighted_mean, 1, a)) # apply weighted mean along axis = 1\n",
        "\n",
        "# Apply over mutiple axes\n",
        "a = np.arange(12).reshape((2, 2, 3))\n",
        "print(a)\n",
        "print(np.apply_over_axes(np.sum, a, [0, 2]))"
      ],
      "execution_count": null,
      "outputs": []
    },
    {
      "cell_type": "markdown",
      "metadata": {
        "id": "w8EHEqzsThtm"
      },
      "source": [
        "<a id=\"set_ops\"></a>\n",
        "## Set Operations\n",
        "NumPy provides some basic set operations for ndarrays, some only for one-dimensional arrays:\n",
        "\n",
        "| Function/Attribute | Description | \n",
        "| :-- | :-- | \n",
        "| unique() | Returns the sorted unique elements of an array |\n",
        "| intersect1d() | Returns the sorted, unique values that are in both of the input arrays |\n",
        "| union1d() | Returns the unique, sorted array of values that are in either of the two input arrays |\n",
        "| in1d() | Tests whether each element of a 1-D array is also present in a second array |\n",
        "| setdiff1d() | Finds the set difference of two arrays | \n",
        "| setxor1d() | Finds the set exclusive-or of two arrays |"
      ]
    },
    {
      "cell_type": "code",
      "metadata": {
        "id": "ecGhVHhYThtm"
      },
      "source": [
        "# Set operations\n",
        "a = np.array([1, 3, 5, 7, 7])\n",
        "b = np.array([2, 3, 4, 4, 5])\n",
        "c = np.array([[1, 2], [1, 2], [3, 4]])\n",
        "\n",
        "print(np.unique(a))\n",
        "print(np.unique(c, axis=0))\n",
        "print(np.intersect1d(a, b), np.union1d(a, b))\n",
        "print(np.setdiff1d(a, b), np.setxor1d(a, b))\n",
        "print(np.in1d(2, b), np.in1d([2, 3], b), np.in1d(a, b))"
      ],
      "execution_count": null,
      "outputs": []
    },
    {
      "cell_type": "markdown",
      "metadata": {
        "id": "7xK_VyXbThtm"
      },
      "source": [
        "<a id=\"indexing\"></a>\n",
        "## Indexing and Slicing\n",
        "\n",
        "- NumPy indexing is very powerful and provides many ways of selecting a subset of data.\n",
        "- NumPy slicing can create a **view** to a subset of an array (instead of copying data). That makes it very memory efficient.\n",
        "- Any modifications to the view will be reflected in the source array.\n",
        "- A scalar value can be assigned to all the emements of a slice (**broadcasting**)"
      ]
    },
    {
      "cell_type": "code",
      "metadata": {
        "id": "pvLNaMa2Thtm"
      },
      "source": [
        "# Basic indexing\n",
        "a_1d = np.arange(8) # a one dimentional array\n",
        "a_2d = np.array([[1, 2], [3, 4]])\n",
        "\n",
        "print(a_1d)\n",
        "print(a_1d[3]) # the forth element in the array\n",
        "print(a_2d)\n",
        "print(a_2d[0]) # the first row of the array \n",
        "print(a_2d[1][1]) # the element in the index (1, 1)\n",
        "print(a_2d[1, 1]) # the alternative way\n",
        "\n",
        "a_2d[0, 0] = 100\n",
        "print(a_2d)"
      ],
      "execution_count": null,
      "outputs": []
    },
    {
      "cell_type": "code",
      "metadata": {
        "id": "QhKTGhh5Thtm"
      },
      "source": [
        "# Basic slicing\n",
        "a_1d = np.arange(8) # a one dimentional array\n",
        "a_2d = np.array([[1, 2], [3, 4]])\n",
        "print(a_1d[2:6]) # 3rd to 6th elements\n",
        "print(a_1d[:]) # all the elements\n",
        "print(a_2d[:,:]) # all the elements\n",
        "print(a_2d[0,:], a_2d[0]) # the first row\n",
        "print(a_2d[:,1], a_2d[:,1].shape) # the second column\n",
        "\n",
        "# slices are views\n",
        "a_slice = a_1d[2:6]; print(a_slice)\n",
        "a_slice_copy = a_1d[2:6].copy() # get a copy not a view\n",
        "a_slice[0] = 100\n",
        "print(a_slice, a_1d) # both arrays are changed\n",
        "a_1d[3:5] = 50; print(a_1d) # broadcasting a value to a slice\n",
        "a_slice[:] = 44; print(a_1d, a_slice_copy) "
      ],
      "execution_count": null,
      "outputs": []
    },
    {
      "cell_type": "markdown",
      "metadata": {
        "id": "udNBnG9KThtm"
      },
      "source": [
        "<center>\n",
        "    <img src=\"https://github.com/sayyed-uoft/images/raw/main/indexing.png\" width=\"80%\">\n",
        "</center>"
      ]
    },
    {
      "cell_type": "code",
      "metadata": {
        "id": "j_76l7EBThtn"
      },
      "source": [
        "# More on slicing \n",
        "a_2d = np.array([[1, 2, 3], [4, 5, 6], [7, 8, 9]])\n",
        "\n",
        "print(a_2d[0], a_2d[0,:]) # the first row\n",
        "print(a_2d[:,0]) # the first column\n",
        "print(a_2d[:,1:3]) # the last two columns\n",
        "print(a_2d[:,1:]) # the last two columns\n",
        "print(a_2d[1:,1:]) # a slice\n",
        "print(a_2d[-1,:]) # the last row"
      ],
      "execution_count": null,
      "outputs": []
    },
    {
      "cell_type": "markdown",
      "metadata": {
        "id": "x2hAPW83Thtn"
      },
      "source": [
        "<center>\n",
        "    <img src=\"https://github.com/sayyed-uoft/images/raw/main/indexing2.png\" width=\"100%\">\n",
        "</center>"
      ]
    },
    {
      "cell_type": "code",
      "metadata": {
        "id": "dfvrsZhmThtn"
      },
      "source": [
        "# Boolean indexing - slicing arrays by boolean indexes\n",
        "people = np.array([\"Jack\", 'Joe', 'Sara', 'Susan'])\n",
        "data = np.random.randn(4, 4) # random data. 4x4 matrix\n",
        "np.set_printoptions(precision=3) # make the prints look nicer - 3 decimal numbers\n",
        "\n",
        "print(data)\n",
        "print(people == 'Joe', (people == 'Sara') | (people == 'Susan'))\n",
        "print(data[people == 'Joe']) # selecting the row assuming every row belongs to a person\n",
        "print(data[:, people == 'Joe']) # selecting the column assuming every column belongs to a person\n",
        "print(data[np.char.startswith(people, 'S')]) # Selecting all rows assigned to people that their name strats with 'S'\n",
        "print(data[~np.char.startswith(people, 'S')]) # Selecting the reverse"
      ],
      "execution_count": null,
      "outputs": []
    },
    {
      "cell_type": "code",
      "metadata": {
        "id": "xIF7XrEKThtn"
      },
      "source": [
        "# Assigning to slices by boolean indexing\n",
        "people = np.array([\"Jack\", 'Joe', 'Sara', 'Susan'])\n",
        "data = np.random.randn(4, 4) # random data. 4x4 matrix\n",
        "\n",
        "print(data)\n",
        "data[data < 0] = 0; print(data) # making all negative number zero\n",
        "data[~(people == 'Joe')] = 1.0 # making all numnbers to 1 except for Joe\n",
        "print(data)"
      ],
      "execution_count": null,
      "outputs": []
    },
    {
      "cell_type": "code",
      "metadata": {
        "id": "jA4AOTBuThtn"
      },
      "source": [
        "# Fancy indexing - indexing using integer array of indices \n",
        "a = np.array([[(i)*10+j for j in range(5)] for i in range(5)]) # creating a special matrix \n",
        "print(a)\n",
        "print(a[[0, 2, 4]]) # selecting only even rows\n",
        "print(a[:, range(1, 5, 2)]) # selecting odd columns\n",
        "print(a[[-1, -3]]) # negative indices"
      ],
      "execution_count": null,
      "outputs": []
    },
    {
      "cell_type": "markdown",
      "metadata": {
        "id": "rTgAmAFNThtn"
      },
      "source": [
        "<a id=\"sort_search\"></a>\n",
        "## Sorting & Searching\n",
        "\n",
        "| Function/Attribute | Description | \n",
        "| :-- | :-- | \n",
        "| sort() | Returns a sorted copy of an array |\n",
        "| &lt;array&gt;.sort() | Sorts an array in-place |\n",
        "| argsort() | Returns the indices that would sort an array |\n",
        "| searchsorted() | Finds indices where elements should be inserted to maintain order |\n",
        "| where() | Returns elements chosen from array1 or array2 depending on condition |\n",
        "| choose() | Constructs an array from an index array and a set of arrays to choose from | \n",
        "| extract() | Returns the elements of an array that satisfy some condition |\n"
      ]
    },
    {
      "cell_type": "code",
      "metadata": {
        "id": "d1ybz7MJThtn"
      },
      "source": [
        "# Sort function\n",
        "a = np.array([[3, 2, 5, 0], [2, 5, 0, 4]])\n",
        "\n",
        "print(np.sort(a)) # sort along last axis (-1)\n",
        "print(np.sort(a, axis=0, kind='mergesort')) # kind: {‘quicksort’, ‘mergesort’, ‘heapsort’, ‘stable’}\n",
        "print(np.argsort(a , axis=1)) # sorted indices\n",
        "print(np.partition(a, 1))\n",
        "\n",
        "# In-place sorting\n",
        "a.sort(axis=0)\n",
        "print(a)"
      ],
      "execution_count": null,
      "outputs": []
    },
    {
      "cell_type": "code",
      "metadata": {
        "id": "0P2mH80xThto"
      },
      "source": [
        "a = np.array([[3, 2, 5, 0], [2, 5, 0, 4]])\n",
        "b = np.array([[5, 2, 1, 2], [0, 6, 2, 1]])\n",
        "\n",
        "# Searching functions\n",
        "print(np.nonzero(a)) # returns non-zero indices\n",
        "print(np.where(a < 4)) # returns indices where the condition is satisfied\n",
        "print(np.where(a < b, a, b)) # comparing two arrays \n",
        "print(np.choose([0, 1, 1, 0], a)) # choosing elements from different rows \n",
        "print(np.extract(np.mod(a, 2) == 0, a)) # returns the elements satisfying any condition\n",
        "\n",
        "# Search sorted\n",
        "print(np.searchsorted([1, 2, 4, 5], 3))\n",
        "print(np.searchsorted([1, 2, 4, 5], [3, 6]))"
      ],
      "execution_count": null,
      "outputs": []
    },
    {
      "cell_type": "markdown",
      "metadata": {
        "id": "OxSq0BorThto"
      },
      "source": [
        "<a id=\"manipulating\"></a>\n",
        "## Manipulating Arrays\n",
        "\n",
        "Numpy provides a rich set of function to manipulate arrays:\n",
        "\n",
        "- Reshaping arrays\n",
        "- Transposing and swapping axes\n",
        "- Changing the number of dimensions\n",
        "- Joining arrays\n",
        "- Splitting arrays\n",
        "- Repeating arrays\n",
        "- Adding and removing elements\n",
        "- Rearranging elements"
      ]
    },
    {
      "cell_type": "markdown",
      "metadata": {
        "id": "ijMKZklaThto"
      },
      "source": [
        "### Reshaping Arrays\n",
        "\n",
        "- You can reshape any NumPy array to another shape (without changing its data) as long as the size is the same. \n",
        "- By default the elements are put into the reshaped array using C-like index order, with the last axis index changing fastest, back to the first axis index changing slowest. The reverse order option is available too.  \n",
        "\n",
        "<center>\n",
        "    <img src=\"https://github.com/sayyed-uoft/images/raw/main/reshaping.png\" width=\"80%\">\n",
        "</center>"
      ]
    },
    {
      "cell_type": "markdown",
      "metadata": {
        "id": "Ew5vcLc5Thto"
      },
      "source": [
        "| Function/Attribute | Description | \n",
        "| :-- | :-- | \n",
        "| reshape(array, newshape, order='C')) | Gives a new shape to an array without changing its data |\n",
        "| &lt;ndarray&gt;.reshape(shape, order='C')) | Returns an array containing the same data with a new shape |\n",
        "| ravel(array, order='C') | Returns a contiguous flattened array |\n",
        "| &lt;ndarray&gt;.flat | A 1-D iterator over the array |\n",
        "| &lt;ndarray&gt;.flatten(order='C') | Return a copy of the array collapsed into one dimension | "
      ]
    },
    {
      "cell_type": "code",
      "metadata": {
        "id": "8Vga72uBThto"
      },
      "source": [
        "# Reshaping\n",
        "a = np.arange(8)\n",
        "print(a)\n",
        "print(a.reshape(2, 4))\n",
        "print(a.reshape(2, -1)) # -1: automatically calculates teh diemnsion based on the size\n",
        "print(a.reshape(2, 4, order='F')) # Fortran-like order \n",
        "print(a.reshape(2, 2, 2))"
      ],
      "execution_count": null,
      "outputs": []
    },
    {
      "cell_type": "code",
      "metadata": {
        "id": "PbhJtvKdThto"
      },
      "source": [
        "# Flattening\n",
        "a = np.arange(8).reshape(4, 2) * 2\n",
        "\n",
        "print(a)\n",
        "print(a.flatten()) # returns a copy\n",
        "print(np.ravel(a)) # returns a view\n",
        "\n",
        "for index, element in enumerate(a.flat):\n",
        "    print(index, element)"
      ],
      "execution_count": null,
      "outputs": []
    },
    {
      "cell_type": "markdown",
      "metadata": {
        "id": "RhZGRNZBThtp"
      },
      "source": [
        "### Transposing and Swapping Axes\n",
        "\n",
        "| Function/Attribute | Description | \n",
        "| :-- | :-- | \n",
        "| moveaxis(array, source, destination) | Moves axes of an array to new positions |\n",
        "| rollaxis(array, axis, start=0) | Rolls the specified axis backwards, until it lies in a given position |\n",
        "| swapaxes(array, axis1, axis2) | Interchanges two axes of an array |\n",
        "| &lt;ndarray&gt;.T | The transposed array (teh array is returned if ndim < 2) | \n",
        "| transpose(array, axes=None) | Returns a full array with the same shape and type as a given array |"
      ]
    },
    {
      "cell_type": "code",
      "metadata": {
        "id": "DC8Htc7YThtp"
      },
      "source": [
        "# Transposing and swapping\n",
        "a = np.arange(8).reshape(2, 4)\n",
        "print(a) \n",
        "print(a.T) # trasposing a 2D matrix - returns a reference not a copy \n",
        "print(a.swapaxes(0, 1)) # swapping two columns (alternative to transpose)\n",
        "a_3d = a.reshape(2, 2, 2)\n",
        "print(a_3d.T)\n",
        "print(a_3d.transpose(2, 0, 1)) # the order of axes to transpose"
      ],
      "execution_count": null,
      "outputs": []
    },
    {
      "cell_type": "markdown",
      "metadata": {
        "id": "4JEkqQsJThtp"
      },
      "source": [
        "### Changing Number of Dimensions\n",
        "\n",
        "| Function/Attribute | Description | \n",
        "| :-- | :-- | \n",
        "| atleast_1d(\\*arrays) | Converts inputs to arrays with at least one dimension |\n",
        "| atleast_2d(\\*arrays) | Views inputs as arrays with at least two dimensions |\n",
        "| atleast_3d(\\*arrays) | Views inputs as arrays with at least three dimensions |\n",
        "| expand_dims(array, axis) | Expands the shape of an array |\n",
        "| squeeze(array, axis=None) | Removes single-dimensional entries from the shape of an array |"
      ]
    },
    {
      "cell_type": "code",
      "metadata": {
        "id": "S5QrPx3UThtp"
      },
      "source": [
        "# Changing the number of dimensions\n",
        "a = np.arange(2)\n",
        "\n",
        "def print_with_shape(arr):\n",
        "    print(arr.shape, arr)\n",
        "    \n",
        "print_with_shape(np.atleast_1d(a))\n",
        "print_with_shape(np.atleast_2d(a))\n",
        "print_with_shape(np.atleast_3d(a))\n",
        "print_with_shape(np.expand_dims(a, axis=0)) # expand dimension at axis 0\n",
        "b = np.expand_dims(a, axis=1)\n",
        "print_with_shape(b) # expand dimension at axis 1\n",
        "print_with_shape(np.squeeze(b, axis=1))"
      ],
      "execution_count": null,
      "outputs": []
    },
    {
      "cell_type": "markdown",
      "metadata": {
        "id": "ykTTYiLdThtp"
      },
      "source": [
        "### Joining Arrays\n",
        "\n",
        "| Function/Attribute | Description | \n",
        "| :-- | :-- | \n",
        "| concatenate(arrays, axis=0, out=None) | Joins a sequence of arrays along an existing axis |\n",
        "| stack(arrays, axis=0, out=None) | Joins a sequence of arrays along a new axis |\n",
        "| dstack(arrays) | Stacks arrays in sequence depth wise (along third axis) |\n",
        "| hstack(arrays) | Stacks arrays in sequence horizontally (column wise) |\n",
        "| vstack(arrays) | Stacks arrays in sequence vertically (row wise) |\n",
        "| block(arrays) | Assembles an nd-array from nested lists of blocks |"
      ]
    },
    {
      "cell_type": "code",
      "metadata": {
        "id": "jMdTaOY9Thtp"
      },
      "source": [
        "# Joining arrays\n",
        "a = np.array([[1, 2]])\n",
        "b = np.array([[3, 4]])\n",
        "\n",
        "def print_with_shape(arr):\n",
        "    print(arr.shape, arr)\n",
        "\n",
        "print_with_shape(a)\n",
        "print_with_shape(b)\n",
        "print_with_shape(np.concatenate((a, b)))\n",
        "print_with_shape(np.concatenate((a, b), axis=1))\n",
        "print_with_shape(np.stack((a, b)))\n",
        "print_with_shape(np.hstack((a, b)))\n",
        "print_with_shape(np.vstack((a, b)))"
      ],
      "execution_count": null,
      "outputs": []
    },
    {
      "cell_type": "code",
      "metadata": {
        "id": "CsGyWkn9Thtp"
      },
      "source": [
        "# Building a block\n",
        "a = np.eye(2)\n",
        "b = np.eye(3) * 2\n",
        "c = np.zeros((2, 3))\n",
        "d = np.ones((3, 2))\n",
        "\n",
        "print(np.block([[a , c], [d, b]]))"
      ],
      "execution_count": null,
      "outputs": []
    },
    {
      "cell_type": "markdown",
      "metadata": {
        "id": "mNarM3dGThtq"
      },
      "source": [
        "### Splitting Arrays\n",
        "\n",
        "| Function/Attribute | Description | \n",
        "| :-- | :-- | \n",
        "| split(array, indices_or_sections, axis=0) | Splits an array into multiple sub-arrays |\n",
        "| array_split(array, indices_or_sections, axis=0) | Splits an array into multiple sub-arrays |\n",
        "| dsplit(array, indices_or_sections) | Splits array into multiple sub-arrays along the 3rd axis (depth) |\n",
        "| hsplit(array, indices_or_sections) | Splits an array into multiple sub-arrays horizontally (column-wise) |\n",
        "| vsplit(array, indices_or_sections) | Splits an array into multiple sub-arrays vertically (row-wise) |"
      ]
    },
    {
      "cell_type": "code",
      "metadata": {
        "id": "4KPPkje5Thtq"
      },
      "source": [
        "# Splitting arrays\n",
        "a = np.arange(6)\n",
        "a_2d = a.reshape((2, 3))\n",
        "\n",
        "print(np.split(a, 3)) # doesn't allow an integer that does not equally divide the axis (e.g. 4)\n",
        "print(np.split(a_2d, 3, axis=-1))\n",
        "print(np.array_split(a, 4))\n",
        "print(np.hsplit(a_2d, 3))\n",
        "print(np.vsplit(a_2d, 2))"
      ],
      "execution_count": null,
      "outputs": []
    },
    {
      "cell_type": "markdown",
      "metadata": {
        "id": "G0SnrQchThtq"
      },
      "source": [
        "### Repeating Arrays\n",
        "\n",
        "\n",
        "| Function/Attribute | Description | \n",
        "| :-- | :-- | \n",
        "| tile(array, repeats) | Constructs an array by repeating A the number of times given by reps |\n",
        "| repeat(array, repeats, axis=0) | Repeats elements of an array|"
      ]
    },
    {
      "cell_type": "code",
      "metadata": {
        "id": "3dRfyTpHThtq"
      },
      "source": [
        "# Repeating arrays\n",
        "a = np.array([1, 2])\n",
        "b = np.array([[1, 2], [3, 4]])\n",
        "\n",
        "print(np.tile(a, 3))\n",
        "print(np.tile(a, (2, 2)))\n",
        "print(np.tile(b, 2))\n",
        "print(np.repeat(a, 3))\n",
        "print(np.repeat(b, 2, axis=0))\n",
        "print(np.repeat(b, 2, axis=1))"
      ],
      "execution_count": null,
      "outputs": []
    },
    {
      "cell_type": "markdown",
      "metadata": {
        "id": "zQfGCCLdThtq"
      },
      "source": [
        "### Adding and Removing Elements\n",
        "\n",
        "| Function/Attribute | Description | \n",
        "| :-- | :-- | \n",
        "| delete(array, indices, axis=None) | Returns a new array with sub-arrays along an axis deleted |\n",
        "| insert(array, indices, values, axis=None) | Inserts values along the given axis before the given indices |\n",
        "| append(array, values, axis=None) | Appends values to the end of an array |\n",
        "| resize(array, new_shape) | Returns a new array with the specified shape |\n",
        "| &lt;array&gt;resize(new_shape) | Resizes an array in-place |\n",
        "| trim_zeros(array, trim='fb' | Trims the leading and/or trailing zeros from a 1-D array or sequence |\n",
        "| unique(array, return_index=False, return_inverse=False, return_counts=False, axis=None) | Finds the unique elements of an array |"
      ]
    },
    {
      "cell_type": "code",
      "metadata": {
        "id": "QmCC4ATPThtq"
      },
      "source": [
        "# Deleting & inserting elements\n",
        "a = np.eye(3)\n",
        "\n",
        "print(np.delete(a, 1)) # axis=None applies to flatten array\n",
        "print(np.delete(a, 1, axis=0)) # deleting the second row\n",
        "print(np.delete(a, [0, 2], axis=1)) # deleting the first and third columns\n",
        "print(np.insert(a, -1, 5, axis=1)) # inserting a column before last columns with values as 5\n",
        "print(np.insert(a, 3, [1, 2, 3], axis=1)) # values as a list"
      ],
      "execution_count": null,
      "outputs": []
    },
    {
      "cell_type": "code",
      "metadata": {
        "id": "LEoqzdkWThtq"
      },
      "source": [
        "# appending elements\n",
        "a = np.eye(3)\n",
        "\n",
        "print(np.append(a, [[1, 2, 3]], axis=0)) # values should have same number of dimensions as array \n",
        "print(np.append(a, [[1], [2], [3]], axis=1)) # values should have same number of dimensions as array \n",
        "\n",
        "# Resizing\n",
        "a = np.ones((3, 3))\n",
        "print(np.resize(a, (2, 6))) # If size is larger than the original, the new array is filled with repeated copies of a\n",
        "a.resize((2, 6)); print(a) # fills the extra elements by zero"
      ],
      "execution_count": null,
      "outputs": []
    },
    {
      "cell_type": "code",
      "metadata": {
        "id": "yPz7jQMSThtq"
      },
      "source": [
        "# Trimming zeros\n",
        "a = np.array([0, 0, 1, 2, 3, 0])\n",
        "b = np.array([[1, 2], [1, 2], [3, 4]])\n",
        "\n",
        "print(np.trim_zeros(a)) # trimming from both fromt and back\n",
        "print(np.trim_zeros(a, trim='f')) # trimming from fromt\n",
        "print(np.trim_zeros(a, trim='b')) # trimming from back\n",
        "\n",
        "print(np.unique(a))\n",
        "print(np.unique(b, axis=0))"
      ],
      "execution_count": null,
      "outputs": []
    },
    {
      "cell_type": "markdown",
      "metadata": {
        "id": "CRkOj7t4Thtr"
      },
      "source": [
        "### Rearranging Elements\n",
        "\n",
        "| Function/Attribute | Description | \n",
        "| :-- | :-- | \n",
        "| flip(array, axis=None) | Reverses the order of elements in an array along the given axis |\n",
        "| fliplr(array) | Flips array in the left/right direction |\n",
        "| flipud(array) | Flips array in the up/down direction |\n",
        "| roll(array, shift, axis=None) | Rolls array elements along a given axis |\n",
        "| rot90(array, k=1, axes=(0, 1)) | Rotates an array by 90 degrees in the plane specified by axes |"
      ]
    },
    {
      "cell_type": "code",
      "metadata": {
        "id": "1Sf0j0NyThtr"
      },
      "source": [
        "# Rearranging elements\n",
        "a = np.array([[1, 2], [3, 4]])\n",
        "b = np.arange(8)\n",
        "\n",
        "print(np.flip(a, axis=0)) # flip around the first axis\n",
        "print(np.fliplr(a)) # flip left right\n",
        "print(np.flipud(a)) # flip up down\n",
        "\n",
        "print(np.roll(b, 2)) # shift by 2 to right\n",
        "print(np.roll(b, -2)) # shift by 2 to left\n",
        "print(np.rot90(a)) # rotate 90 degrees counter clockwise"
      ],
      "execution_count": null,
      "outputs": []
    },
    {
      "cell_type": "raw",
      "metadata": {
        "id": "N7te1aneThtr"
      },
      "source": [
        ""
      ]
    },
    {
      "cell_type": "markdown",
      "metadata": {
        "id": "MQwkwVxWThtr"
      },
      "source": [
        "<a id=\"linear_algebra\"></a>\n",
        "## Linear Algebra\n",
        "\n",
        "Similar to other Array processing libaraies, NumPy provides most common linear algebra operations. Most of the functions (except **dot**) are in **numpy.linalg** package. \n",
        "\n",
        "\n",
        "| Function/Method | Description | Function/Attribute | Description |\n",
        "| :-- | :-- | :-- | :-- | \n",
        "| dot() | Dot product of two arrays (matrix multiplication) | linalg.inv() | Computes the (multiplicative) inverse of a matrix |\n",
        "| matmal() | Matrix product of two arrays | linalg.pinv() | Computes the (Moore-Penrose) pseudo-inverse of a matrix |\n",
        "| diag() | Extracts a diagonal or construct a diagonal array | linalg.qr() | Computes the QR factorization of a matrix\n",
        "| trace() | Returns the sum along diagonals of the array | linalg.svd() |  | Computes the Singular Value Decomposition |\n",
        "| linalg.det() | Computes the determinant of an array | linalg.solve() | Solves a linear matrix equation, or system of linear scalar equations |\n",
        "| linalg.eig() | Computes the eigenvalues and right eigenvectors of a square array | linalg.lstsq() | Returns the least-squares solution to a linear matrix equation |"
      ]
    },
    {
      "cell_type": "code",
      "metadata": {
        "id": "zNHG68SnThtr"
      },
      "source": [
        "# Basic linear algebra operations\n",
        "v1 = np.array([1, 2, 3])\n",
        "v2 = np.array([4, 5, 6])\n",
        "m1 = np.array([[1, 2], [3, 4]])\n",
        "m2 = np.array([[5, 6], [7, 8]])\n",
        "\n",
        "print(np.dot(v1, v2), v1.dot(v2)) # inner product \n",
        "print(np.dot(m1, m2)) # Matrix multiplication\n",
        "print(m2.dot(m1))\n",
        "print(np.matmul(m1, m2)) # Matrix multiplication (preferred)\n",
        "print(m1 @ m2) # Matrix multiplication (preferred)\n",
        "print(np.diag(m1)) # Diagonal array\n",
        "print(np.trace(m2)) # Trace of the matrix"
      ],
      "execution_count": null,
      "outputs": []
    },
    {
      "cell_type": "code",
      "metadata": {
        "id": "_DIXz0mVThtr"
      },
      "source": [
        "# numpy.linalg package \n",
        "from numpy.linalg import *\n",
        "m = np.array([[1, 2, 3],[3, 2, 1],[1, 0, -1]])\n",
        "\n",
        "\n",
        "print(m)\n",
        "print(det(m))\n",
        "print(inv(m.dot(m.T))) \n",
        "print(m.dot(pinv(m)))\n",
        "e_vals, e_vects = eig(m)\n",
        "print(e_vals) # eigenvalues\n",
        "print(e_vects) # eigenvectors\n",
        "print(np.dot(m, e_vects[:, 1]), e_vals[1] * e_vects[:, 1]) # checking matrix * eignvector = eignvalue * identity"
      ],
      "execution_count": null,
      "outputs": []
    },
    {
      "cell_type": "markdown",
      "metadata": {
        "id": "De-pEGH4Thtr"
      },
      "source": [
        "<a id=\"random\"></a>\n",
        "## Random Generation\n",
        "\n",
        "- The **numpy.random** module provides functions to efficiently generate array of pseudorandom numbers drawn from different prrobability distributions (e.g. uniform, normal)\n",
        "- **Pseudorandom** numbers are generated by a deterministic algorithm based on a **seed** (global state)\n",
        "- You can also use a local state using **RandomState**"
      ]
    },
    {
      "cell_type": "markdown",
      "metadata": {
        "id": "m-biphxlThtr"
      },
      "source": [
        "| Function/Class | Description | Function/Attribute | Description |\n",
        "| :-- | :-- | :-- | :-- | \n",
        "| seed() | Seeds the pseudorandom generator | randn() | Returns samples from the “standard normal” distribution |\n",
        "| RandomState | Container for the Mersenne Twister pseudo-random number generator | binomial() | Draws samples from a binomial distribution |\n",
        "| permutation() | Randomly permutes a sequence, or return a permuted range | normal() | Draws samples from a normal distribution |\n",
        "| shuffle() | Modifies a sequence in-place by shuffling its contents | beta() | Draws samples from a beta distribution |\n",
        "| choice() | Generates a random sample from a given 1-D array | chisquare() | Draws samples from a chai square distribution |\n",
        "| rand() | Returns samples from the “uniform” distribution | gamma() | Draws samples from a gamma distribution |\n",
        "| randint() | Returns random integers from low (inclusive) to high (exclusive) | uniform() | Draws samples from a uniform distribution |"
      ]
    },
    {
      "cell_type": "markdown",
      "metadata": {
        "id": "Sxntg6d-Thts"
      },
      "source": [
        "#### Uniform Distribution vs. Normal Distribution:\n",
        "\n",
        "\n",
        "<center>\n",
        "    <img src=\"https://github.com/sayyed-uoft/images/raw/main/uni_norm_dist.png\" width=\"80%\">\n",
        "</center>"
      ]
    },
    {
      "cell_type": "code",
      "metadata": {
        "id": "mw87UudcThts"
      },
      "source": [
        "# Random generation\n",
        "print(np.random.rand(2, 10)) # from uniform distribution \n",
        "print(np.random.randn(2, 10)) # from standard normal distribution\n",
        "print(np.random.randint(2, size=10)) # integer numbers < 2\n",
        "print(np.random.randint(2, 5, size=(2, 5))) # integer in [2, 5)\n",
        "print(np.random.normal(5, 2, size=(2,10))) # mean = 2, std = 2\n",
        "print(np.random.uniform(-2, 2, size=(2,10))) # from -2 to 2\n",
        "print(np.random.choice([1, 10,15], size=10)) # randomly choose 10 numbers from (1, 10, 15)"
      ],
      "execution_count": null,
      "outputs": []
    },
    {
      "cell_type": "code",
      "metadata": {
        "id": "Tb_K9xQSThts"
      },
      "source": [
        "# Seeding and random state\n",
        "np.random.seed(2020)\n",
        "print(np.random.rand(2, 10))\n",
        "\n",
        "np.random.seed(2020)  # repeat\n",
        "print(np.random.rand(2, 10))\n",
        "\n",
        "rg = np.random.RandomState(2021) # using Random State\n",
        "print(rg.rand(2, 10))"
      ],
      "execution_count": null,
      "outputs": []
    },
    {
      "cell_type": "code",
      "metadata": {
        "id": "k4gqs_S0Thts"
      },
      "source": [
        "# Permutation and shuffle\n",
        "print(np.random.permutation(10)) # permuted list of 0 to 9 \n",
        "print(np.random.permutation([1, 3, 5, 7, 9])) # permutation of an input sequence or array\n",
        "a = np.arange(9).reshape((3, 3))\n",
        "print(np.random.permutation(a))\n",
        "\n",
        "print(a)\n",
        "np.random.shuffle(a)\n",
        "print(a)"
      ],
      "execution_count": null,
      "outputs": []
    },
    {
      "cell_type": "markdown",
      "metadata": {
        "id": "mB6fxbAkThts"
      },
      "source": [
        "<a id=\"vectorization\"></a>\n",
        "## Vectorization\n",
        "\n",
        "- NumPy arrays can make many data processing tasks faster and easier that otherwise require writing loops. This is called **vectorization**\n",
        "- Vectorized array operations will often be one or two (or more) times faster than their pure Python equivalents and the code is shorter"
      ]
    },
    {
      "cell_type": "code",
      "metadata": {
        "id": "trd3kYBvThts"
      },
      "source": [
        "# Vectorization example\n",
        "ra = np.random.randn(1000, 1000) # 1 million (1000x1000) random numbers from standard normal distribution\n",
        "\n",
        "# Counting positive elements using loops\n",
        "def count_positive(a2d):\n",
        "    lx, ly = a2d.shape\n",
        "    count = 0\n",
        "    for i in range(lx):\n",
        "        for j in range(ly):\n",
        "            if ra[i, j] > 0:\n",
        "                count += 1\n",
        "    return(count)\n",
        "\n",
        "%time print(count_positive(ra))\n",
        "\n",
        "# counting using vectorization\n",
        "%time print(np.count_nonzero(ra > 0))\n",
        "\n",
        "# alternative function (NumPy)\n",
        "%time print(np.sum(ra > 0))\n",
        "\n"
      ],
      "execution_count": null,
      "outputs": []
    },
    {
      "cell_type": "markdown",
      "metadata": {
        "id": "Ake-lwcPThts"
      },
      "source": [
        "### Another Example: Buy Low Sell High \n",
        "\n",
        "- **Goal:** find best time to buy and sell to maximize profit\n",
        "- **Asumption:** only one buy and one sell is allowed\n",
        "- **Data:** stock’s price history as a sequence\n",
        "- **Algorithm:** finding the difference between each price and a running minimum"
      ]
    },
    {
      "cell_type": "code",
      "metadata": {
        "id": "KiIZUYg7Thts"
      },
      "source": [
        "# Let's generate some sample data\n",
        "rg = np.random.RandomState(2020)\n",
        "x = np.arange(1, 10, 0.1)\n",
        "stock_prices = 10 + 4 * np.sin(1.5 * x) + 3 * rg.randn(x.shape[0]) # x+5+4sin(1.5x)+noise\n",
        "\n",
        "# plotting the data (we will learn this in later sessions)\n",
        "%matplotlib inline\n",
        "import matplotlib.pyplot as plt\n",
        "plt.plot(x, stock_prices)\n",
        "plt.show()"
      ],
      "execution_count": null,
      "outputs": []
    },
    {
      "cell_type": "code",
      "metadata": {
        "id": "i4dU3pEgThtt"
      },
      "source": [
        "def vectorized_method(prices):\n",
        "    running_min = np.minimum.accumulate(prices)\n",
        "    sell_idx = np.argmax(prices - running_min)\n",
        "    buy_idx = np.where(prices == running_min[max_idx])[0][0]\n",
        "    print(buy_idx, sell_idx)\n",
        "\n",
        "def regular_method(prices):\n",
        "    running_min_tpl = (0, -1) # (min_val, min_idx)\n",
        "    max_tpl = (0, -1) # (max_val, max_idx)\n",
        "    for idx, price in enumerate(prices):\n",
        "        if idx == 0:\n",
        "            running_min_tpl = (price, idx)\n",
        "        else:\n",
        "            if running_min_tpl[0] > price:\n",
        "                running_min_tpl = (price, idx)\n",
        "            diff = price - running_min_tpl[0]\n",
        "            if max_tpl[0] < diff:\n",
        "                max_tpl = (diff, idx)\n",
        "    print(running_min_tpl[1], max_tpl[1])"
      ],
      "execution_count": null,
      "outputs": []
    },
    {
      "cell_type": "code",
      "metadata": {
        "id": "zXl7QiILThtt"
      },
      "source": [
        "%time vectorized_method(stock_prices)\n",
        "\n",
        "%time regular_method(list(stock_prices))"
      ],
      "execution_count": null,
      "outputs": []
    },
    {
      "cell_type": "markdown",
      "metadata": {
        "id": "poHTW_aRThtt"
      },
      "source": [
        "### Another Example: Monty Hall Problem \n",
        "\n",
        "- **Problem:** Suppose you're on a game show, and you're given the choice of three doors: Behind one door is a car; behind the others, goats. You pick a door, say No. 1, and the host, who knows what's behind the doors, opens another door, say No. 3, which has a goat. He then says to you, \"Do you want to pick door No. 2?\" Is it to your advantage to switch your choice?\n",
        "- **Emprical Method:** Let's play the game for a large number of times (randomly door assignment and picking) and calculate both the probablity of winning if you switch and if you don't switch.  "
      ]
    },
    {
      "cell_type": "markdown",
      "metadata": {
        "id": "rvftXXDUThtt"
      },
      "source": [
        "\n",
        "<center>\n",
        "    <img src=\"https://github.com/sayyed-uoft/images/raw/main/monty_hall.png\" width=\"50%\"><br\\>\n",
        "    Source: https://en.wikipedia.org/wiki/Monty_Hall_problem\n",
        "</center>"
      ]
    },
    {
      "cell_type": "code",
      "metadata": {
        "id": "obEx-kZ7Thtt"
      },
      "source": [
        "%%time\n",
        "# Monty Hall Solution\n",
        "num_trial = 100000\n",
        "doors = np.array([True, False, False]) # True = Car, False = Goat\n",
        "win_count = 0 # numnber of wins without switching \n",
        "for _ in range(num_trial):\n",
        "    np.random.shuffle(doors) # shuffling door assignments\n",
        "    win_count += doors[np.random.randint(3)] # choose a door randomly and increase the count if the right door\n",
        "print('Prob win without switching:', win_count / num_trial)\n",
        "print('Prob win with switching:', (num_trial-win_count) / num_trial)"
      ],
      "execution_count": null,
      "outputs": []
    },
    {
      "cell_type": "code",
      "metadata": {
        "id": "bBAF8TOZThtt"
      },
      "source": [
        "%%time\n",
        "# Monty Hall Solution (Vectorized)\n",
        "num_trial = 100000\n",
        "rg = np.random.randint\n",
        "p = np.mean(rg(3, size=num_trial) == rg(3, size=num_trial)) # car door numbers vs selected door numbers\n",
        "print('Prob win without switching:', p)\n",
        "print('Prob win with switching:', 1-p)"
      ],
      "execution_count": null,
      "outputs": []
    },
    {
      "cell_type": "markdown",
      "metadata": {
        "id": "3JfMO4FkThtt"
      },
      "source": [
        "<a id=\"vectorization\"></a>\n",
        "## Storing and Retrieving Arrays\n",
        "\n",
        "Functions to save and load data to and from disk either in text or binary format:\n",
        "\n",
        "| Function/Method | Description | \n",
        "| :-- | :-- | \n",
        "| save() | Saves an array to a binary file in NumPy .npy format |\n",
        "| savez() | Saves several arrays into a single file in uncompressed .npz format |\n",
        "| savez_compressed() | Saves several arrays into a single file in compressed .npz format |\n",
        "| savetxt() | Saves an array to a text file |\n",
        "| &lt;ndaary&gt;.tofile() | Writes array to a file as text or binary (default) |\n",
        "| load() | Loads arrays or pickled objects from .npy, .npz or pickled files |\n",
        "| loadtxt() | Loads data from a text file |\n",
        "| genfromtxt() | Loads data from a text file, with missing values handled as specified |\n",
        "| fromregex() | Constructs an array from a text file, using regular expression parsing |"
      ]
    },
    {
      "cell_type": "code",
      "metadata": {
        "id": "HGx5V65OThtt"
      },
      "source": [
        "# Saving one object in a file \n",
        "a = np.random.randn(3, 20)\n",
        "print(a)\n",
        "np.save('temp', a) # save\n",
        "\n",
        "!ls *.npy # list the file in teh current directory\n",
        "\n",
        "print(np.load('temp.npy')) # load "
      ],
      "execution_count": null,
      "outputs": []
    },
    {
      "cell_type": "code",
      "metadata": {
        "id": "qpPZHhfjThtu"
      },
      "source": [
        "# Saving more than one objects in a file\n",
        "a = np.random.randn(2, 10)\n",
        "b = np.random.randn(1, 10)\n",
        "\n",
        "with open('temp2.npy', 'wb') as file: # saving\n",
        "    np.save(file, a)\n",
        "    np.save(file, b)\n",
        "    \n",
        "!ls *.npy\n",
        "\n",
        "with open('temp2.npy', 'rb') as file: # loading with the same sequence\n",
        "    a2 = np.load(file)\n",
        "    b2 = np.load(file)\n",
        "\n",
        "print(a)\n",
        "print(a2)\n",
        "print(b)\n",
        "print(b2)"
      ],
      "execution_count": null,
      "outputs": []
    },
    {
      "cell_type": "code",
      "metadata": {
        "id": "9dbYiDfMThtu"
      },
      "source": [
        "# save several file in NPZ format\n",
        "a = np.random.randn(2, 10)\n",
        "b = np.random.randn(1, 10)\n",
        "\n",
        "np.savez('arrays', a , b) # save files\n",
        "\n",
        "!ls *.npz\n",
        "\n",
        "npz = np.load('arrays.npz') # load files\n",
        "print(npz.files)\n",
        "print(npz['arr_1'])"
      ],
      "execution_count": null,
      "outputs": []
    },
    {
      "cell_type": "code",
      "metadata": {
        "id": "t6uqZbDLThtu"
      },
      "source": [
        "# Save into and load from a text file\n",
        "a = np.random.randn(5, 10)\n",
        "\n",
        "np.savetxt('array2.txt', a, fmt='%0.3f')  # default delimiter is space\n",
        "\n",
        "!cat array2.txt\n",
        "\n",
        "b = np.loadtxt('array2.txt')\n",
        "print(b.shape)\n",
        "print(b)"
      ],
      "execution_count": null,
      "outputs": []
    },
    {
      "cell_type": "markdown",
      "metadata": {
        "id": "3-qWunflThtu"
      },
      "source": [
        "### Example: Nearest Neighbors (NN)\n",
        "\n",
        "- **Goal:** Finding similar images using nearest neighbors method\n",
        "- **Data:** MNIST, a large database of handwritten digits that is commonly used for training various image processing systems. Every row is a vector of size 784 that is the flatten version of a 28x28 grayscale image. \n",
        "- **Similarity Algorithm**: Euclidean distance between the image vectors"
      ]
    },
    {
      "cell_type": "markdown",
      "metadata": {
        "id": "30cZbA7hThtu"
      },
      "source": [
        "\n",
        "<center>\n",
        "    <img src=\"https://github.com/sayyed-uoft/images/raw/main/5nn.png\" width=\"45%\"><br>\n",
        "    5-NN for 2-D Vectors\n",
        "</center>\n",
        "\n"
      ]
    },
    {
      "cell_type": "markdown",
      "metadata": {
        "id": "0cwYtxBAThtu"
      },
      "source": [
        "<center>\n",
        "    <img src=\"https://github.com/sayyed-uoft/images/raw/main/mnist.png\" width=\"70%\"><br>\n",
        "    MNIST Sample Images\n",
        "</center>"
      ]
    },
    {
      "cell_type": "code",
      "metadata": {
        "id": "SatgAj-tThtu"
      },
      "source": [
        "data = np.loadtxt('mnist.csv', delimiter=',') # loading moinist images\n",
        "digits = data[:, 1:] # the first column is the label\n",
        "print(digits.shape)\n",
        "print(digits[0])"
      ],
      "execution_count": null,
      "outputs": []
    },
    {
      "cell_type": "code",
      "metadata": {
        "scrolled": false,
        "id": "fPfp5xT4Thtu"
      },
      "source": [
        "%matplotlib inline\n",
        "import matplotlib.pyplot as plt\n",
        "\n",
        "samples = [0, 200, 300, 400, 1000] # picking some sample digits\n",
        "fig, axes = plt.subplots(5, 5, figsize=(7.5,10)) # creating a plot grid\n",
        "for i in range(5):\n",
        "    sample_digit = digits[samples[i]] # get the corresponding vector for the sample digit\n",
        "    sq_distances = np.sum((digits-sample_digit)**2, axis=1) # calculate the Eucleadian distance, used broadcasting\n",
        "    top_5 = np.argsort(sq_distances)[:5] # sort and get the top 5 nearest (lowest distance)\n",
        "    for j in range(5):\n",
        "        ax = axes[i, j]\n",
        "        ax.imshow(digits[top_5[j]].reshape((28,28)), cmap='gray') # show the image\n",
        "plt.tight_layout()\n",
        "plt.show()"
      ],
      "execution_count": null,
      "outputs": []
    },
    {
      "cell_type": "code",
      "metadata": {
        "id": "hCQ_OlvJThtu"
      },
      "source": [
        ""
      ],
      "execution_count": null,
      "outputs": []
    }
  ]
}