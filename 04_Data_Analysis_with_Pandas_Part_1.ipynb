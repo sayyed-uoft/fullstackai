{
  "cells": [
    {
      "cell_type": "markdown",
      "metadata": {
        "id": "view-in-github",
        "colab_type": "text"
      },
      "source": [
        "<a href=\"https://colab.research.google.com/github/sayyed-uoft/fullstackai/blob/main/04_Data_Analysis_with_Pandas_Part_1.ipynb\" target=\"_parent\"><img src=\"https://colab.research.google.com/assets/colab-badge.svg\" alt=\"Open In Colab\"/></a>"
      ]
    },
    {
      "cell_type": "markdown",
      "metadata": {
        "id": "5L6NLbBV8ykl"
      },
      "source": [
        "# Strata.ai - Artificial Intelligence Certificate \n",
        "\n",
        "# Module 1: Data Science for AI\n",
        "\n",
        "# Data Analysis with Pandas - Part 1"
      ]
    },
    {
      "cell_type": "markdown",
      "metadata": {
        "id": "ZaYSgYV18yko"
      },
      "source": [
        "## Learning Outcome\n",
        "\n",
        "- Introduction to Dara Analysis process\n",
        "- Introduction to the most common Data Analysis package in Python (pandas)\n",
        "- Learn how to work with two powerful data structures in pandas (Series & DataFrame)"
      ]
    },
    {
      "cell_type": "markdown",
      "metadata": {
        "id": "9kodLaR88ykp"
      },
      "source": [
        "## Topics\n",
        "- [Data Analysis Process](#process)\n",
        "- [Panda's Data Structures](#data-structures)\n",
        "- [Series](#series)\n",
        "- [DataFrame](#dataframe)\n",
        "\n"
      ]
    },
    {
      "cell_type": "markdown",
      "metadata": {
        "id": "3OJ-q7ds8ykp"
      },
      "source": [
        "<a id=\"process\"></a>\n",
        "## Data Analysis Process\n",
        "\n",
        "<center><img src=\"attachment:image.png\" width=\"70%\"></center>"
      ]
    },
    {
      "cell_type": "markdown",
      "metadata": {
        "id": "dg-1FY_68ykq"
      },
      "source": [
        "<a id=\"pandas\"></a>\n",
        "## Introduction to Pandas\n",
        "\n",
        "- The most common Data Analysis open-source package in Python.\n",
        "- Contains data structures and data manipulation tools designed to make **data cleaning and analysis** fast and easy.\n",
        "- designed for working with tabular or heterogeneous data (NumPy, by contrast, is best suited for working with homogeneous numerical array data.\n",
        "- Usually used in tandem with other common packages: NumPy, statsmodels, scikit-learn, and matplotlib"
      ]
    },
    {
      "cell_type": "markdown",
      "metadata": {
        "id": "xaqRWA0B8ykq"
      },
      "source": [
        "<a id=\"data-structures\"></a>\n",
        "## Pandas' Data Structures\n",
        "\n",
        "Pandas provides two powerful data structures: \n",
        "\n",
        "- **Series:** a one-dimensional array-like object containing a sequence of values (of similar types to NumPy types) and an associated array of data labels, called its index.\n",
        "- **DataFrame:** represents a rectangular table of data and contains an ordered collection of columns, each of which can be a different value type (numeric, string, boolean, etc.)."
      ]
    },
    {
      "cell_type": "markdown",
      "metadata": {
        "id": "pL79yrBd8ykq"
      },
      "source": [
        "<a id=\"series\"></a>\n",
        "## Series\n",
        "\n",
        "- It contains a **sequence of values** of the **same type**\n",
        "- Also, contains an **index** (data labels associated to values)\n",
        "\n",
        "<center><img src=\"attachment:image.png\" width=\"60%\"></center>"
      ]
    },
    {
      "cell_type": "code",
      "execution_count": null,
      "metadata": {
        "id": "0KLijOgR8ykr",
        "outputId": "33e059cd-3308-48a8-ea72-6c91f00d6004"
      },
      "outputs": [
        {
          "data": {
            "text/plain": [
              "0    0\n",
              "1    2\n",
              "2   -3\n",
              "3    5\n",
              "4    7\n",
              "dtype: int64"
            ]
          },
          "execution_count": 1,
          "metadata": {},
          "output_type": "execute_result"
        }
      ],
      "source": [
        "import pandas as pd # import pandas package (conventionally used \"pd\" as an alias)\n",
        "\n",
        "my_series = pd.Series([0, 2, -3, 5, 7]) # simplest way of creating a Series \n",
        "my_series"
      ]
    },
    {
      "cell_type": "code",
      "execution_count": null,
      "metadata": {
        "id": "t76VvUf-8yks",
        "outputId": "0dc4a3db-2e68-4b20-e5e8-3b4314838039"
      },
      "outputs": [
        {
          "data": {
            "text/plain": [
              "array([ 0,  2, -3,  5,  7])"
            ]
          },
          "metadata": {},
          "output_type": "display_data"
        },
        {
          "data": {
            "text/plain": [
              "RangeIndex(start=0, stop=5, step=1)"
            ]
          },
          "metadata": {},
          "output_type": "display_data"
        },
        {
          "data": {
            "text/plain": [
              "dtype('int64')"
            ]
          },
          "metadata": {},
          "output_type": "display_data"
        },
        {
          "name": "stdout",
          "output_type": "stream",
          "text": [
            "[0, 1, 2, 3, 4]\n"
          ]
        }
      ],
      "source": [
        "# lts's use \"display\" for multiple output to get more info\n",
        "from IPython.display import display \n",
        "\n",
        "display(my_series.values) # the \"values\" of the Series\n",
        "display(my_series.index) # \"index\" is created automatically and it's like \"range(5)\" \n",
        "display(my_series.dtype) # The Series' data type\n",
        "\n",
        "print(list(my_series.index)) # convert to a list and print it "
      ]
    },
    {
      "cell_type": "code",
      "execution_count": null,
      "metadata": {
        "id": "0ehjlPoR8ykt",
        "outputId": "ace1adf6-df37-46d2-af8f-271f095933e8"
      },
      "outputs": [
        {
          "data": {
            "text/plain": [
              "array(['a', 'b', 'c', 'd'], dtype=object)"
            ]
          },
          "metadata": {},
          "output_type": "display_data"
        },
        {
          "data": {
            "text/plain": [
              "Index(['first', 'second', 'third', 'forth'], dtype='object')"
            ]
          },
          "metadata": {},
          "output_type": "display_data"
        },
        {
          "data": {
            "text/plain": [
              "Index(['first', 'second', 'third', 'forth'], dtype='object')"
            ]
          },
          "metadata": {},
          "output_type": "display_data"
        },
        {
          "data": {
            "text/plain": [
              "array(['a', 'b', 'c', 'd'], dtype=object)"
            ]
          },
          "metadata": {},
          "output_type": "display_data"
        },
        {
          "data": {
            "text/plain": [
              "Index(['first', 'second', 'third', 'forth'], dtype='object')"
            ]
          },
          "metadata": {},
          "output_type": "display_data"
        }
      ],
      "source": [
        "# Assigning \"index\" externally  \n",
        "my_series = pd.Series(['a', 'b', 'c', 'd'], \n",
        "                      index=['first', 'second', 'third', 'forth']) \n",
        "display(my_series.values, my_series.index) \n",
        "\n",
        "# Alternative way\n",
        "my_series = pd.Series(['a', 'b', 'c', 'd'])\n",
        "my_series.index = ['first', 'second', 'third', 'forth']\n",
        "display(my_series.index)\n",
        "\n",
        "# Yet another way (from a dictionary)\n",
        "my_series = pd.Series({'first': 'a', 'second': 'b', 'third': 'c', 'forth': 'd'})\n",
        "display(my_series.values, my_series.index)"
      ]
    },
    {
      "cell_type": "code",
      "execution_count": null,
      "metadata": {
        "id": "cFeyTYYB8ykt",
        "outputId": "348a15f1-0dc1-4a84-ea73-7159dfd9eaae"
      },
      "outputs": [
        {
          "data": {
            "text/plain": [
              "Jack      True\n",
              "Sara     False\n",
              "Paula     True\n",
              "dtype: bool"
            ]
          },
          "metadata": {},
          "output_type": "display_data"
        },
        {
          "data": {
            "text/plain": [
              "True"
            ]
          },
          "metadata": {},
          "output_type": "display_data"
        },
        {
          "data": {
            "text/plain": [
              "Paula    True\n",
              "Jack     True\n",
              "dtype: bool"
            ]
          },
          "metadata": {},
          "output_type": "display_data"
        }
      ],
      "source": [
        "# Accessing by index\n",
        "is_employed = pd.Series([True, False, True], index=['Jack', 'Sara', 'Paula'])\n",
        "\n",
        "display(is_employed)\n",
        "display(is_employed['Paula']) # selecting a value\n",
        "display(is_employed[['Paula', 'Jack']]) # selecting a set of values"
      ]
    },
    {
      "cell_type": "markdown",
      "metadata": {
        "id": "jAg0B7RE8yku"
      },
      "source": [
        "You can assign a **Name** to a Series and to the index of a Series (will be useful later):"
      ]
    },
    {
      "cell_type": "code",
      "execution_count": null,
      "metadata": {
        "id": "UKeDjPBB8yku",
        "outputId": "58ce9159-b969-47bd-a9e2-e9545a1e1ebc"
      },
      "outputs": [
        {
          "data": {
            "text/plain": [
              "Person\n",
              "Jack      True\n",
              "Sara     False\n",
              "Paula     True\n",
              "Name: Is Employed, dtype: bool"
            ]
          },
          "metadata": {},
          "output_type": "display_data"
        }
      ],
      "source": [
        "is_employed = pd.Series([True, False, True], index=['Jack', 'Sara', 'Paula'])\n",
        "is_employed.name = \"Is Employed\"\n",
        "is_employed.index.name = \"Person\"\n",
        "\n",
        "display(is_employed)"
      ]
    },
    {
      "cell_type": "markdown",
      "metadata": {
        "id": "NZ1x3xdw8yku"
      },
      "source": [
        "Panda's **Series** behaves very similar to NumPy Arrays. You can use NumPy functions or NumPy-like operations."
      ]
    },
    {
      "cell_type": "code",
      "execution_count": null,
      "metadata": {
        "id": "CRUERtvo8ykv",
        "outputId": "57188720-65cd-4270-bd7c-b5a67d1f86f2"
      },
      "outputs": [
        {
          "data": {
            "text/plain": [
              "Jack      0\n",
              "Sara     10\n",
              "Paula   -15\n",
              "dtype: int64"
            ]
          },
          "metadata": {},
          "output_type": "display_data"
        },
        {
          "data": {
            "text/plain": [
              "Jack     1.000000\n",
              "Sara     7.389056\n",
              "Paula    0.049787\n",
              "dtype: float64"
            ]
          },
          "metadata": {},
          "output_type": "display_data"
        },
        {
          "data": {
            "text/plain": [
              "'Sum: -1'"
            ]
          },
          "metadata": {},
          "output_type": "display_data"
        },
        {
          "data": {
            "text/plain": [
              "Paula   -3\n",
              "dtype: int64"
            ]
          },
          "metadata": {},
          "output_type": "display_data"
        }
      ],
      "source": [
        "import numpy as np\n",
        "my_series = pd.Series([0, 2, -3], index=['Jack', 'Sara', 'Paula'])\n",
        "\n",
        "display(my_series * 5) # element-wise arithmetic operation\n",
        "display(np.exp(my_series)) # element-wise function\n",
        "display('Sum: {}'.format(np.sum(my_series))) # aggregate function\n",
        "display(my_series[my_series < 0]) # comparision and slicing"
      ]
    },
    {
      "cell_type": "markdown",
      "metadata": {
        "id": "lGDflRnm8ykv"
      },
      "source": [
        "Pandas matches elements of two Series by their indexes: "
      ]
    },
    {
      "cell_type": "code",
      "execution_count": null,
      "metadata": {
        "id": "x3c5mUEk8ykv",
        "outputId": "3421e5c1-696a-4044-a4c9-6cca7c1e7333"
      },
      "outputs": [
        {
          "data": {
            "text/plain": [
              "Jack     75000\n",
              "Paula    96000\n",
              "Sara         0\n",
              "dtype: int64"
            ]
          },
          "metadata": {},
          "output_type": "display_data"
        }
      ],
      "source": [
        "# Two series by different index orders\n",
        "salaries = pd.Series([65_000, 0, 78_000], index=['Jack', 'Sara', 'Paula'])\n",
        "bonuses =  pd.Series([10_000, 18_000, 0], index=['Jack', 'Paula', 'Sara'])\n",
        "\n",
        "display(salaries + bonuses)"
      ]
    },
    {
      "cell_type": "code",
      "execution_count": null,
      "metadata": {
        "id": "0YBOcXFb8ykv",
        "outputId": "49de9e2c-3c6b-4c32-96b2-04ac54bf5f92"
      },
      "outputs": [
        {
          "data": {
            "text/plain": [
              "True"
            ]
          },
          "metadata": {},
          "output_type": "display_data"
        },
        {
          "name": "stdout",
          "output_type": "stream",
          "text": [
            "0\n",
            "2\n",
            "-3\n",
            "a = 0\n",
            "b = 2\n",
            "c = -3\n"
          ]
        }
      ],
      "source": [
        "# Check if an index exists\n",
        "my_series = pd.Series([0, 2, -3], index=['a', 'b', 'c'])\n",
        "display('c' in my_series) # simialr to a dictionary\n",
        "\n",
        "# Iteration\n",
        "for value in my_series: # iterating values\n",
        "    print(value)\n",
        "    \n",
        "    \n",
        "for idx in my_series.index: # iterating index\n",
        "    print(\"{} = {}\".format(idx, my_series[idx]))"
      ]
    },
    {
      "cell_type": "markdown",
      "metadata": {
        "id": "tKMo476K8ykw"
      },
      "source": [
        "### Handling missing values:"
      ]
    },
    {
      "cell_type": "code",
      "execution_count": null,
      "metadata": {
        "id": "k7cV4uh98ykw",
        "outputId": "4dc9ed89-bf39-4d45-c363-d675f5a4ab5d"
      },
      "outputs": [
        {
          "data": {
            "text/plain": [
              "Alex         NaN\n",
              "Jack     75000.0\n",
              "Paula    96000.0\n",
              "Sara         NaN\n",
              "dtype: float64"
            ]
          },
          "metadata": {},
          "output_type": "display_data"
        }
      ],
      "source": [
        "# Example with missing values\n",
        "salaries = pd.Series([65_000, 0, 78_000], \n",
        "                     index=['Jack', 'Sara', 'Paula']) # Alex is missing here\n",
        "bonuses =  pd.Series([15_000, 10_000, 18_000], \n",
        "                     index=['Alex', 'Jack', 'Paula']) # Sara is missing here\n",
        "totals = salaries + bonuses\n",
        "display(totals)\n",
        "\n",
        "# Nan = Not a Number = missing/NA value"
      ]
    },
    {
      "cell_type": "code",
      "execution_count": null,
      "metadata": {
        "id": "5dAbtVte8ykw",
        "outputId": "bb1ce457-e03e-48e7-c27e-f4235a2e0a2e"
      },
      "outputs": [
        {
          "data": {
            "text/plain": [
              "Alex      True\n",
              "Jack     False\n",
              "Paula    False\n",
              "Sara      True\n",
              "dtype: bool"
            ]
          },
          "metadata": {},
          "output_type": "display_data"
        },
        {
          "data": {
            "text/plain": [
              "Alex     False\n",
              "Jack      True\n",
              "Paula     True\n",
              "Sara     False\n",
              "dtype: bool"
            ]
          },
          "metadata": {},
          "output_type": "display_data"
        },
        {
          "data": {
            "text/plain": [
              "Alex      True\n",
              "Jack     False\n",
              "Paula    False\n",
              "Sara      True\n",
              "dtype: bool"
            ]
          },
          "metadata": {},
          "output_type": "display_data"
        }
      ],
      "source": [
        "# Checking missing values\n",
        "display(pd.isnull(totals)) # check if any element is missing\n",
        "display(pd.notnull(totals)) # check if any element is not missing\n",
        "display(totals.isnull()) # using a method as an alternative"
      ]
    },
    {
      "cell_type": "markdown",
      "metadata": {
        "id": "vMPtW5Ah8ykw"
      },
      "source": [
        "### Sorting a Series:"
      ]
    },
    {
      "cell_type": "code",
      "execution_count": null,
      "metadata": {
        "id": "BDnp4sdQ8ykx",
        "outputId": "21c9a274-181d-4539-e512-9db7c6cd04d3"
      },
      "outputs": [
        {
          "data": {
            "text/plain": [
              "Jack     75000.0\n",
              "Paula    96000.0\n",
              "Alex         NaN\n",
              "Sara         NaN\n",
              "dtype: float64"
            ]
          },
          "metadata": {},
          "output_type": "display_data"
        },
        {
          "data": {
            "text/plain": [
              "Alex         NaN\n",
              "Sara         NaN\n",
              "Paula    96000.0\n",
              "Jack     75000.0\n",
              "dtype: float64"
            ]
          },
          "metadata": {},
          "output_type": "display_data"
        },
        {
          "data": {
            "text/plain": [
              "Alex         NaN\n",
              "Jack     75000.0\n",
              "Paula    96000.0\n",
              "Sara         NaN\n",
              "dtype: float64"
            ]
          },
          "metadata": {},
          "output_type": "display_data"
        }
      ],
      "source": [
        "display(totals.sort_values(ascending=True)) # sort values in an ascending order\n",
        "display(totals.sort_values(ascending=False, na_position='first')) # desc. order and NA values first \n",
        "display(totals.sort_index(ascending=True))"
      ]
    },
    {
      "cell_type": "markdown",
      "metadata": {
        "id": "V4yeJCNP8ykx"
      },
      "source": [
        "<a id=\"dataframe\"></a>\n",
        "## DataFrame\n",
        "\n",
        "- **DataFrame** represents tabular data (an ordered collection of columns)\n",
        "- Each **column** is a **Series** that can be a different value type (numeric, string, boolean, etc.)\n",
        "- It has both a **row** and **column index**. All columns share the same index."
      ]
    },
    {
      "cell_type": "markdown",
      "metadata": {
        "id": "v2lXfbyt8ykx"
      },
      "source": [
        "<center><img src=\"attachment:image.png\" width=\"70%\"></center>"
      ]
    },
    {
      "cell_type": "code",
      "execution_count": null,
      "metadata": {
        "id": "Nu7TRhPo8ykx",
        "outputId": "e58ba947-cc47-4ea5-adb9-48f68cf3aa28"
      },
      "outputs": [
        {
          "name": "stdout",
          "output_type": "stream",
          "text": [
            "  Person  Is Employed   Salary  Bonus\n",
            "0   Jack         True  65000.0  10000\n",
            "1   Sara        False      0.0      0\n",
            "2  Paula         True  78000.0  18000\n",
            "3   Alex         True      NaN  15000\n"
          ]
        },
        {
          "data": {
            "text/html": [
              "<div>\n",
              "<style scoped>\n",
              "    .dataframe tbody tr th:only-of-type {\n",
              "        vertical-align: middle;\n",
              "    }\n",
              "\n",
              "    .dataframe tbody tr th {\n",
              "        vertical-align: top;\n",
              "    }\n",
              "\n",
              "    .dataframe thead th {\n",
              "        text-align: right;\n",
              "    }\n",
              "</style>\n",
              "<table border=\"1\" class=\"dataframe\">\n",
              "  <thead>\n",
              "    <tr style=\"text-align: right;\">\n",
              "      <th></th>\n",
              "      <th>Person</th>\n",
              "      <th>Is Employed</th>\n",
              "      <th>Salary</th>\n",
              "      <th>Bonus</th>\n",
              "    </tr>\n",
              "  </thead>\n",
              "  <tbody>\n",
              "    <tr>\n",
              "      <th>0</th>\n",
              "      <td>Jack</td>\n",
              "      <td>True</td>\n",
              "      <td>65000.0</td>\n",
              "      <td>10000</td>\n",
              "    </tr>\n",
              "    <tr>\n",
              "      <th>1</th>\n",
              "      <td>Sara</td>\n",
              "      <td>False</td>\n",
              "      <td>0.0</td>\n",
              "      <td>0</td>\n",
              "    </tr>\n",
              "    <tr>\n",
              "      <th>2</th>\n",
              "      <td>Paula</td>\n",
              "      <td>True</td>\n",
              "      <td>78000.0</td>\n",
              "      <td>18000</td>\n",
              "    </tr>\n",
              "    <tr>\n",
              "      <th>3</th>\n",
              "      <td>Alex</td>\n",
              "      <td>True</td>\n",
              "      <td>NaN</td>\n",
              "      <td>15000</td>\n",
              "    </tr>\n",
              "  </tbody>\n",
              "</table>\n",
              "</div>"
            ],
            "text/plain": [
              "  Person  Is Employed   Salary  Bonus\n",
              "0   Jack         True  65000.0  10000\n",
              "1   Sara        False      0.0      0\n",
              "2  Paula         True  78000.0  18000\n",
              "3   Alex         True      NaN  15000"
            ]
          },
          "execution_count": 12,
          "metadata": {},
          "output_type": "execute_result"
        }
      ],
      "source": [
        "# Creating a DataFrame \n",
        "data = {\n",
        "    'Person': ['Jack', 'Sara', 'Paula', 'Alex'],\n",
        "    'Is Employed': [True, False, True, True],\n",
        "    'Salary': [65_000, 0, 78_000, None],\n",
        "    'Bonus': [10_000, 0, 18_000, 15_000]\n",
        "}\n",
        "df = pd.DataFrame(data)\n",
        "print(df)\n",
        "df # iPython/Juptyr prints more pretty (browser friendly)"
      ]
    },
    {
      "cell_type": "code",
      "execution_count": null,
      "metadata": {
        "id": "2g4r8-jm8ykx",
        "outputId": "2749196d-505e-4305-92de-cdccb53317b4"
      },
      "outputs": [
        {
          "data": {
            "text/html": [
              "<div>\n",
              "<style scoped>\n",
              "    .dataframe tbody tr th:only-of-type {\n",
              "        vertical-align: middle;\n",
              "    }\n",
              "\n",
              "    .dataframe tbody tr th {\n",
              "        vertical-align: top;\n",
              "    }\n",
              "\n",
              "    .dataframe thead th {\n",
              "        text-align: right;\n",
              "    }\n",
              "</style>\n",
              "<table border=\"1\" class=\"dataframe\">\n",
              "  <thead>\n",
              "    <tr style=\"text-align: right;\">\n",
              "      <th></th>\n",
              "      <th>Person</th>\n",
              "      <th>Salary</th>\n",
              "      <th>Is Employed</th>\n",
              "      <th>Bonus</th>\n",
              "    </tr>\n",
              "  </thead>\n",
              "  <tbody>\n",
              "    <tr>\n",
              "      <th>0</th>\n",
              "      <td>Jack</td>\n",
              "      <td>65000.0</td>\n",
              "      <td>True</td>\n",
              "      <td>10000</td>\n",
              "    </tr>\n",
              "    <tr>\n",
              "      <th>1</th>\n",
              "      <td>Sara</td>\n",
              "      <td>0.0</td>\n",
              "      <td>False</td>\n",
              "      <td>0</td>\n",
              "    </tr>\n",
              "    <tr>\n",
              "      <th>2</th>\n",
              "      <td>Paula</td>\n",
              "      <td>78000.0</td>\n",
              "      <td>True</td>\n",
              "      <td>18000</td>\n",
              "    </tr>\n",
              "    <tr>\n",
              "      <th>3</th>\n",
              "      <td>Alex</td>\n",
              "      <td>NaN</td>\n",
              "      <td>True</td>\n",
              "      <td>15000</td>\n",
              "    </tr>\n",
              "  </tbody>\n",
              "</table>\n",
              "</div>"
            ],
            "text/plain": [
              "  Person   Salary  Is Employed  Bonus\n",
              "0   Jack  65000.0         True  10000\n",
              "1   Sara      0.0        False      0\n",
              "2  Paula  78000.0         True  18000\n",
              "3   Alex      NaN         True  15000"
            ]
          },
          "metadata": {},
          "output_type": "display_data"
        },
        {
          "data": {
            "text/plain": [
              "RangeIndex(start=0, stop=4, step=1)"
            ]
          },
          "metadata": {},
          "output_type": "display_data"
        }
      ],
      "source": [
        "# Change the order of the columns\n",
        "df = pd.DataFrame(data, columns=['Person', 'Salary', 'Is Employed', 'Bonus'])\n",
        "display(df)\n",
        "\n",
        "# Index (Row index) is assigned automatically (sequential numbers)\n",
        "display(df.index)"
      ]
    },
    {
      "cell_type": "code",
      "execution_count": null,
      "metadata": {
        "id": "-xhTqw6T8ykx",
        "outputId": "5204c4ad-b1ff-48e9-aa43-71df5dc51adf"
      },
      "outputs": [
        {
          "data": {
            "text/html": [
              "<div>\n",
              "<style scoped>\n",
              "    .dataframe tbody tr th:only-of-type {\n",
              "        vertical-align: middle;\n",
              "    }\n",
              "\n",
              "    .dataframe tbody tr th {\n",
              "        vertical-align: top;\n",
              "    }\n",
              "\n",
              "    .dataframe thead th {\n",
              "        text-align: right;\n",
              "    }\n",
              "</style>\n",
              "<table border=\"1\" class=\"dataframe\">\n",
              "  <thead>\n",
              "    <tr style=\"text-align: right;\">\n",
              "      <th></th>\n",
              "      <th>Salary</th>\n",
              "      <th>Is Employed</th>\n",
              "      <th>Bonus</th>\n",
              "      <th>Age</th>\n",
              "    </tr>\n",
              "  </thead>\n",
              "  <tbody>\n",
              "    <tr>\n",
              "      <th>Jack</th>\n",
              "      <td>65000.0</td>\n",
              "      <td>True</td>\n",
              "      <td>10000</td>\n",
              "      <td>NaN</td>\n",
              "    </tr>\n",
              "    <tr>\n",
              "      <th>Sara</th>\n",
              "      <td>0.0</td>\n",
              "      <td>False</td>\n",
              "      <td>0</td>\n",
              "      <td>NaN</td>\n",
              "    </tr>\n",
              "    <tr>\n",
              "      <th>Paula</th>\n",
              "      <td>78000.0</td>\n",
              "      <td>True</td>\n",
              "      <td>18000</td>\n",
              "      <td>NaN</td>\n",
              "    </tr>\n",
              "    <tr>\n",
              "      <th>Alex</th>\n",
              "      <td>NaN</td>\n",
              "      <td>True</td>\n",
              "      <td>15000</td>\n",
              "      <td>NaN</td>\n",
              "    </tr>\n",
              "  </tbody>\n",
              "</table>\n",
              "</div>"
            ],
            "text/plain": [
              "        Salary  Is Employed  Bonus  Age\n",
              "Jack   65000.0         True  10000  NaN\n",
              "Sara       0.0        False      0  NaN\n",
              "Paula  78000.0         True  18000  NaN\n",
              "Alex       NaN         True  15000  NaN"
            ]
          },
          "metadata": {},
          "output_type": "display_data"
        }
      ],
      "source": [
        "# Setting the index at creation \n",
        "df = pd.DataFrame(data, \n",
        "                  columns=['Salary', 'Is Employed', 'Bonus', 'Age'],\n",
        "                  index=data['Person']\n",
        "                 )\n",
        "display(df) # The column \"Age\" doesn't exist in \"data\", it is created with NaN values"
      ]
    },
    {
      "cell_type": "code",
      "execution_count": null,
      "metadata": {
        "id": "qE5-N2mb8yky",
        "outputId": "3cb89782-9f6b-4ac8-8201-c79f1a193acf"
      },
      "outputs": [
        {
          "data": {
            "text/html": [
              "<div>\n",
              "<style scoped>\n",
              "    .dataframe tbody tr th:only-of-type {\n",
              "        vertical-align: middle;\n",
              "    }\n",
              "\n",
              "    .dataframe tbody tr th {\n",
              "        vertical-align: top;\n",
              "    }\n",
              "\n",
              "    .dataframe thead th {\n",
              "        text-align: right;\n",
              "    }\n",
              "</style>\n",
              "<table border=\"1\" class=\"dataframe\">\n",
              "  <thead>\n",
              "    <tr style=\"text-align: right;\">\n",
              "      <th></th>\n",
              "      <th>Salary</th>\n",
              "      <th>Is Employed</th>\n",
              "      <th>Bonus</th>\n",
              "    </tr>\n",
              "  </thead>\n",
              "  <tbody>\n",
              "    <tr>\n",
              "      <th>Jack</th>\n",
              "      <td>65000.0</td>\n",
              "      <td>True</td>\n",
              "      <td>10000</td>\n",
              "    </tr>\n",
              "    <tr>\n",
              "      <th>Sara</th>\n",
              "      <td>0.0</td>\n",
              "      <td>False</td>\n",
              "      <td>0</td>\n",
              "    </tr>\n",
              "    <tr>\n",
              "      <th>Paula</th>\n",
              "      <td>78000.0</td>\n",
              "      <td>True</td>\n",
              "      <td>18000</td>\n",
              "    </tr>\n",
              "    <tr>\n",
              "      <th>Alex</th>\n",
              "      <td>NaN</td>\n",
              "      <td>True</td>\n",
              "      <td>15000</td>\n",
              "    </tr>\n",
              "  </tbody>\n",
              "</table>\n",
              "</div>"
            ],
            "text/plain": [
              "        Salary  Is Employed  Bonus\n",
              "Jack   65000.0         True  10000\n",
              "Sara       0.0        False      0\n",
              "Paula  78000.0         True  18000\n",
              "Alex       NaN         True  15000"
            ]
          },
          "metadata": {},
          "output_type": "display_data"
        }
      ],
      "source": [
        "#  Alternative method (list of lists)\n",
        "df = pd.DataFrame([\n",
        "    [65_000, True, 10_000],\n",
        "    [0, False, 0],\n",
        "    [78_000, True, 18_000],\n",
        "    [None, True, 15_000]\n",
        "], \n",
        "    columns=['Salary', 'Is Employed', 'Bonus'],\n",
        "    index=['Jack', 'Sara', 'Paula', 'Alex']    \n",
        ")\n",
        "\n",
        "display(df)"
      ]
    },
    {
      "cell_type": "code",
      "execution_count": null,
      "metadata": {
        "id": "XH8tSOSr8yky",
        "outputId": "5cb38b9a-a779-4f09-82ef-0dd306a8926a"
      },
      "outputs": [
        {
          "data": {
            "text/html": [
              "<div>\n",
              "<style scoped>\n",
              "    .dataframe tbody tr th:only-of-type {\n",
              "        vertical-align: middle;\n",
              "    }\n",
              "\n",
              "    .dataframe tbody tr th {\n",
              "        vertical-align: top;\n",
              "    }\n",
              "\n",
              "    .dataframe thead th {\n",
              "        text-align: right;\n",
              "    }\n",
              "</style>\n",
              "<table border=\"1\" class=\"dataframe\">\n",
              "  <thead>\n",
              "    <tr style=\"text-align: right;\">\n",
              "      <th>HR Details</th>\n",
              "      <th>Salary</th>\n",
              "      <th>Is Employed</th>\n",
              "      <th>Bonus</th>\n",
              "      <th>Age</th>\n",
              "    </tr>\n",
              "    <tr>\n",
              "      <th>Person</th>\n",
              "      <th></th>\n",
              "      <th></th>\n",
              "      <th></th>\n",
              "      <th></th>\n",
              "    </tr>\n",
              "  </thead>\n",
              "  <tbody>\n",
              "    <tr>\n",
              "      <th>Jack</th>\n",
              "      <td>65000.0</td>\n",
              "      <td>True</td>\n",
              "      <td>10000</td>\n",
              "      <td>25.0</td>\n",
              "    </tr>\n",
              "    <tr>\n",
              "      <th>Sara</th>\n",
              "      <td>0.0</td>\n",
              "      <td>False</td>\n",
              "      <td>0</td>\n",
              "      <td>NaN</td>\n",
              "    </tr>\n",
              "    <tr>\n",
              "      <th>Paula</th>\n",
              "      <td>78000.0</td>\n",
              "      <td>True</td>\n",
              "      <td>18000</td>\n",
              "      <td>NaN</td>\n",
              "    </tr>\n",
              "    <tr>\n",
              "      <th>Alex</th>\n",
              "      <td>NaN</td>\n",
              "      <td>True</td>\n",
              "      <td>15000</td>\n",
              "      <td>NaN</td>\n",
              "    </tr>\n",
              "  </tbody>\n",
              "</table>\n",
              "</div>"
            ],
            "text/plain": [
              "HR Details   Salary  Is Employed  Bonus   Age\n",
              "Person                                       \n",
              "Jack        65000.0         True  10000  25.0\n",
              "Sara            0.0        False      0   NaN\n",
              "Paula       78000.0         True  18000   NaN\n",
              "Alex            NaN         True  15000   NaN"
            ]
          },
          "metadata": {},
          "output_type": "display_data"
        }
      ],
      "source": [
        "# Yet another method (neted dictionary)\n",
        "df = pd.DataFrame({\n",
        "    'Salary': {'Jack': 65_000, 'Sara': 0, 'Paula': 78_000},\n",
        "    'Is Employed': {'Jack': True, 'Sara': False, 'Paula': True, 'Alex': True},\n",
        "    'Bonus': {'Jack': 10_000, 'Sara': 0, 'Paula': 18_000, 'Alex': 15_000},\n",
        "    'Age': {'Jack': 25},\n",
        "})\n",
        "\n",
        "df.index.name = 'Person' # setting row index name \n",
        "df.columns.name = 'HR Details' # setting column index \n",
        "\n",
        "display(df)"
      ]
    },
    {
      "cell_type": "code",
      "execution_count": null,
      "metadata": {
        "id": "JmFNubiB8yky",
        "outputId": "a52f824f-8d24-48e6-de88-ff6d56524346"
      },
      "outputs": [
        {
          "data": {
            "text/plain": [
              "array([[65000.0, True, 10000, 25.0],\n",
              "       [0.0, False, 0, nan],\n",
              "       [78000.0, True, 18000, nan],\n",
              "       [nan, True, 15000, nan]], dtype=object)"
            ]
          },
          "metadata": {},
          "output_type": "display_data"
        }
      ],
      "source": [
        "# Getting DataFrame values\n",
        "display(df.values)"
      ]
    },
    {
      "cell_type": "code",
      "execution_count": null,
      "metadata": {
        "id": "H7Tpkrwi8yky",
        "outputId": "731f1504-8c41-427f-82db-25c4c470ac7a"
      },
      "outputs": [
        {
          "data": {
            "text/plain": [
              "Index(['Salary', 'Is Employed', 'Bonus', 'Age'], dtype='object', name='HR Details')"
            ]
          },
          "metadata": {},
          "output_type": "display_data"
        },
        {
          "data": {
            "text/plain": [
              "Person\n",
              "Jack     65000.0\n",
              "Sara         0.0\n",
              "Paula    78000.0\n",
              "Alex         NaN\n",
              "Name: Salary, dtype: float64"
            ]
          },
          "metadata": {},
          "output_type": "display_data"
        },
        {
          "data": {
            "text/plain": [
              "Person\n",
              "Jack      True\n",
              "Sara     False\n",
              "Paula     True\n",
              "Alex      True\n",
              "Name: Is Employed, dtype: bool"
            ]
          },
          "metadata": {},
          "output_type": "display_data"
        },
        {
          "data": {
            "text/plain": [
              "HR Details\n",
              "Salary         65000\n",
              "Is Employed     True\n",
              "Bonus          10000\n",
              "Age               25\n",
              "Name: Jack, dtype: object"
            ]
          },
          "metadata": {},
          "output_type": "display_data"
        }
      ],
      "source": [
        "# Get the data DataFrame columns\n",
        "display(df.columns)\n",
        "\n",
        "# Accessing a column\n",
        "display(df.Salary)\n",
        "display(df['Is Employed'])\n",
        "\n",
        "# Accessing a row\n",
        "display(df.loc['Jack'])"
      ]
    },
    {
      "cell_type": "code",
      "execution_count": null,
      "metadata": {
        "id": "XmJY_bGP8yky",
        "outputId": "fdd3b716-ff19-41f8-9b02-a3e8f571f033"
      },
      "outputs": [
        {
          "data": {
            "text/html": [
              "<div>\n",
              "<style scoped>\n",
              "    .dataframe tbody tr th:only-of-type {\n",
              "        vertical-align: middle;\n",
              "    }\n",
              "\n",
              "    .dataframe tbody tr th {\n",
              "        vertical-align: top;\n",
              "    }\n",
              "\n",
              "    .dataframe thead th {\n",
              "        text-align: right;\n",
              "    }\n",
              "</style>\n",
              "<table border=\"1\" class=\"dataframe\">\n",
              "  <thead>\n",
              "    <tr style=\"text-align: right;\">\n",
              "      <th>HR Details</th>\n",
              "      <th>Salary</th>\n",
              "      <th>Is Employed</th>\n",
              "      <th>Bonus</th>\n",
              "      <th>Age</th>\n",
              "      <th>Gender</th>\n",
              "      <th>Total Wage</th>\n",
              "      <th>Low Income</th>\n",
              "    </tr>\n",
              "    <tr>\n",
              "      <th>Person</th>\n",
              "      <th></th>\n",
              "      <th></th>\n",
              "      <th></th>\n",
              "      <th></th>\n",
              "      <th></th>\n",
              "      <th></th>\n",
              "      <th></th>\n",
              "    </tr>\n",
              "  </thead>\n",
              "  <tbody>\n",
              "    <tr>\n",
              "      <th>Jack</th>\n",
              "      <td>65000.0</td>\n",
              "      <td>True</td>\n",
              "      <td>10000</td>\n",
              "      <td>0</td>\n",
              "      <td>Unknown</td>\n",
              "      <td>75000.0</td>\n",
              "      <td>False</td>\n",
              "    </tr>\n",
              "    <tr>\n",
              "      <th>Sara</th>\n",
              "      <td>0.0</td>\n",
              "      <td>False</td>\n",
              "      <td>0</td>\n",
              "      <td>0</td>\n",
              "      <td>Unknown</td>\n",
              "      <td>0.0</td>\n",
              "      <td>False</td>\n",
              "    </tr>\n",
              "    <tr>\n",
              "      <th>Paula</th>\n",
              "      <td>78000.0</td>\n",
              "      <td>True</td>\n",
              "      <td>18000</td>\n",
              "      <td>0</td>\n",
              "      <td>Unknown</td>\n",
              "      <td>96000.0</td>\n",
              "      <td>True</td>\n",
              "    </tr>\n",
              "    <tr>\n",
              "      <th>Alex</th>\n",
              "      <td>NaN</td>\n",
              "      <td>True</td>\n",
              "      <td>15000</td>\n",
              "      <td>0</td>\n",
              "      <td>Unknown</td>\n",
              "      <td>NaN</td>\n",
              "      <td>False</td>\n",
              "    </tr>\n",
              "  </tbody>\n",
              "</table>\n",
              "</div>"
            ],
            "text/plain": [
              "HR Details   Salary  Is Employed  Bonus  Age   Gender  Total Wage  Low Income\n",
              "Person                                                                       \n",
              "Jack        65000.0         True  10000    0  Unknown     75000.0       False\n",
              "Sara            0.0        False      0    0  Unknown         0.0       False\n",
              "Paula       78000.0         True  18000    0  Unknown     96000.0        True\n",
              "Alex            NaN         True  15000    0  Unknown         NaN       False"
            ]
          },
          "metadata": {},
          "output_type": "display_data"
        }
      ],
      "source": [
        "# Broadcasting a value to a column\n",
        "df['Age'] = 0\n",
        "\n",
        "# Creating a new column by assignment\n",
        "df['Gender'] = 'Unknown'\n",
        "\n",
        "# Craeting calculated column\n",
        "df['Total Wage'] = df.Salary + df.Bonus\n",
        "df['Low Income'] = df['Total Wage'] > 80000\n",
        "\n",
        "display(df)"
      ]
    },
    {
      "cell_type": "code",
      "execution_count": null,
      "metadata": {
        "id": "hOcT1Ei58yky",
        "outputId": "8c3f8f05-861e-4e37-87bb-a57c7c96098d"
      },
      "outputs": [
        {
          "data": {
            "text/html": [
              "<div>\n",
              "<style scoped>\n",
              "    .dataframe tbody tr th:only-of-type {\n",
              "        vertical-align: middle;\n",
              "    }\n",
              "\n",
              "    .dataframe tbody tr th {\n",
              "        vertical-align: top;\n",
              "    }\n",
              "\n",
              "    .dataframe thead th {\n",
              "        text-align: right;\n",
              "    }\n",
              "</style>\n",
              "<table border=\"1\" class=\"dataframe\">\n",
              "  <thead>\n",
              "    <tr style=\"text-align: right;\">\n",
              "      <th>HR Details</th>\n",
              "      <th>Salary</th>\n",
              "      <th>Is Employed</th>\n",
              "      <th>Bonus</th>\n",
              "      <th>Age</th>\n",
              "      <th>Gender</th>\n",
              "      <th>Total Wage</th>\n",
              "      <th>Low Income</th>\n",
              "    </tr>\n",
              "    <tr>\n",
              "      <th>Person</th>\n",
              "      <th></th>\n",
              "      <th></th>\n",
              "      <th></th>\n",
              "      <th></th>\n",
              "      <th></th>\n",
              "      <th></th>\n",
              "      <th></th>\n",
              "    </tr>\n",
              "  </thead>\n",
              "  <tbody>\n",
              "    <tr>\n",
              "      <th>Jack</th>\n",
              "      <td>65000.0</td>\n",
              "      <td>True</td>\n",
              "      <td>10000</td>\n",
              "      <td>25</td>\n",
              "      <td>Male</td>\n",
              "      <td>75000.0</td>\n",
              "      <td>False</td>\n",
              "    </tr>\n",
              "    <tr>\n",
              "      <th>Sara</th>\n",
              "      <td>0.0</td>\n",
              "      <td>False</td>\n",
              "      <td>0</td>\n",
              "      <td>30</td>\n",
              "      <td>NaN</td>\n",
              "      <td>0.0</td>\n",
              "      <td>False</td>\n",
              "    </tr>\n",
              "    <tr>\n",
              "      <th>Paula</th>\n",
              "      <td>78000.0</td>\n",
              "      <td>True</td>\n",
              "      <td>18000</td>\n",
              "      <td>35</td>\n",
              "      <td>Female</td>\n",
              "      <td>96000.0</td>\n",
              "      <td>True</td>\n",
              "    </tr>\n",
              "    <tr>\n",
              "      <th>Alex</th>\n",
              "      <td>NaN</td>\n",
              "      <td>True</td>\n",
              "      <td>15000</td>\n",
              "      <td>19</td>\n",
              "      <td>NaN</td>\n",
              "      <td>NaN</td>\n",
              "      <td>False</td>\n",
              "    </tr>\n",
              "  </tbody>\n",
              "</table>\n",
              "</div>"
            ],
            "text/plain": [
              "HR Details   Salary  Is Employed  Bonus  Age  Gender  Total Wage  Low Income\n",
              "Person                                                                      \n",
              "Jack        65000.0         True  10000   25    Male     75000.0       False\n",
              "Sara            0.0        False      0   30     NaN         0.0       False\n",
              "Paula       78000.0         True  18000   35  Female     96000.0        True\n",
              "Alex            NaN         True  15000   19     NaN         NaN       False"
            ]
          },
          "metadata": {},
          "output_type": "display_data"
        }
      ],
      "source": [
        "# Assigning values to a column\n",
        "df['Age'] = [25, 30, 35, 19]\n",
        "\n",
        "# Assigning some values to a column\n",
        "df['Gender'] = pd.Series(['Male', 'Female'], index=['Jack', 'Paula'])\n",
        "\n",
        "display(df)"
      ]
    },
    {
      "cell_type": "code",
      "execution_count": null,
      "metadata": {
        "id": "ppNnyCnu8ykz",
        "outputId": "c6926480-a450-42b3-96e3-de6385f069ac"
      },
      "outputs": [
        {
          "data": {
            "text/html": [
              "<div>\n",
              "<style scoped>\n",
              "    .dataframe tbody tr th:only-of-type {\n",
              "        vertical-align: middle;\n",
              "    }\n",
              "\n",
              "    .dataframe tbody tr th {\n",
              "        vertical-align: top;\n",
              "    }\n",
              "\n",
              "    .dataframe thead th {\n",
              "        text-align: right;\n",
              "    }\n",
              "</style>\n",
              "<table border=\"1\" class=\"dataframe\">\n",
              "  <thead>\n",
              "    <tr style=\"text-align: right;\">\n",
              "      <th>HR Details</th>\n",
              "      <th>Salary</th>\n",
              "      <th>Is Employed</th>\n",
              "      <th>Bonus</th>\n",
              "      <th>Age</th>\n",
              "      <th>Gender</th>\n",
              "      <th>Low Income</th>\n",
              "    </tr>\n",
              "    <tr>\n",
              "      <th>Person</th>\n",
              "      <th></th>\n",
              "      <th></th>\n",
              "      <th></th>\n",
              "      <th></th>\n",
              "      <th></th>\n",
              "      <th></th>\n",
              "    </tr>\n",
              "  </thead>\n",
              "  <tbody>\n",
              "    <tr>\n",
              "      <th>Jack</th>\n",
              "      <td>65000.0</td>\n",
              "      <td>True</td>\n",
              "      <td>10000</td>\n",
              "      <td>25</td>\n",
              "      <td>Male</td>\n",
              "      <td>False</td>\n",
              "    </tr>\n",
              "    <tr>\n",
              "      <th>Sara</th>\n",
              "      <td>0.0</td>\n",
              "      <td>False</td>\n",
              "      <td>0</td>\n",
              "      <td>30</td>\n",
              "      <td>NaN</td>\n",
              "      <td>False</td>\n",
              "    </tr>\n",
              "    <tr>\n",
              "      <th>Paula</th>\n",
              "      <td>78000.0</td>\n",
              "      <td>True</td>\n",
              "      <td>18000</td>\n",
              "      <td>35</td>\n",
              "      <td>Female</td>\n",
              "      <td>True</td>\n",
              "    </tr>\n",
              "    <tr>\n",
              "      <th>Alex</th>\n",
              "      <td>NaN</td>\n",
              "      <td>True</td>\n",
              "      <td>15000</td>\n",
              "      <td>19</td>\n",
              "      <td>NaN</td>\n",
              "      <td>False</td>\n",
              "    </tr>\n",
              "  </tbody>\n",
              "</table>\n",
              "</div>"
            ],
            "text/plain": [
              "HR Details   Salary  Is Employed  Bonus  Age  Gender  Low Income\n",
              "Person                                                          \n",
              "Jack        65000.0         True  10000   25    Male       False\n",
              "Sara            0.0        False      0   30     NaN       False\n",
              "Paula       78000.0         True  18000   35  Female        True\n",
              "Alex            NaN         True  15000   19     NaN       False"
            ]
          },
          "metadata": {},
          "output_type": "display_data"
        }
      ],
      "source": [
        "# Deleting a column\n",
        "del df['Total Wage']\n",
        "display(df)"
      ]
    },
    {
      "cell_type": "code",
      "execution_count": null,
      "metadata": {
        "id": "pMlUbfWd8ykz",
        "outputId": "c7e4f07d-23ba-4eff-c12f-4fb0e878aa99"
      },
      "outputs": [
        {
          "data": {
            "text/html": [
              "<div>\n",
              "<style scoped>\n",
              "    .dataframe tbody tr th:only-of-type {\n",
              "        vertical-align: middle;\n",
              "    }\n",
              "\n",
              "    .dataframe tbody tr th {\n",
              "        vertical-align: top;\n",
              "    }\n",
              "\n",
              "    .dataframe thead th {\n",
              "        text-align: right;\n",
              "    }\n",
              "</style>\n",
              "<table border=\"1\" class=\"dataframe\">\n",
              "  <thead>\n",
              "    <tr style=\"text-align: right;\">\n",
              "      <th>Person</th>\n",
              "      <th>Jack</th>\n",
              "      <th>Sara</th>\n",
              "      <th>Paula</th>\n",
              "      <th>Alex</th>\n",
              "    </tr>\n",
              "    <tr>\n",
              "      <th>HR Details</th>\n",
              "      <th></th>\n",
              "      <th></th>\n",
              "      <th></th>\n",
              "      <th></th>\n",
              "    </tr>\n",
              "  </thead>\n",
              "  <tbody>\n",
              "    <tr>\n",
              "      <th>Salary</th>\n",
              "      <td>65000</td>\n",
              "      <td>0</td>\n",
              "      <td>78000</td>\n",
              "      <td>NaN</td>\n",
              "    </tr>\n",
              "    <tr>\n",
              "      <th>Is Employed</th>\n",
              "      <td>True</td>\n",
              "      <td>False</td>\n",
              "      <td>True</td>\n",
              "      <td>True</td>\n",
              "    </tr>\n",
              "    <tr>\n",
              "      <th>Bonus</th>\n",
              "      <td>10000</td>\n",
              "      <td>0</td>\n",
              "      <td>18000</td>\n",
              "      <td>15000</td>\n",
              "    </tr>\n",
              "    <tr>\n",
              "      <th>Age</th>\n",
              "      <td>25</td>\n",
              "      <td>30</td>\n",
              "      <td>35</td>\n",
              "      <td>19</td>\n",
              "    </tr>\n",
              "    <tr>\n",
              "      <th>Gender</th>\n",
              "      <td>Male</td>\n",
              "      <td>NaN</td>\n",
              "      <td>Female</td>\n",
              "      <td>NaN</td>\n",
              "    </tr>\n",
              "    <tr>\n",
              "      <th>Low Income</th>\n",
              "      <td>False</td>\n",
              "      <td>False</td>\n",
              "      <td>True</td>\n",
              "      <td>False</td>\n",
              "    </tr>\n",
              "  </tbody>\n",
              "</table>\n",
              "</div>"
            ],
            "text/plain": [
              "Person        Jack   Sara   Paula   Alex\n",
              "HR Details                              \n",
              "Salary       65000      0   78000    NaN\n",
              "Is Employed   True  False    True   True\n",
              "Bonus        10000      0   18000  15000\n",
              "Age             25     30      35     19\n",
              "Gender        Male    NaN  Female    NaN\n",
              "Low Income   False  False    True  False"
            ]
          },
          "metadata": {},
          "output_type": "display_data"
        }
      ],
      "source": [
        "# Transposing a DataFrame\n",
        "display(df.T)"
      ]
    },
    {
      "cell_type": "markdown",
      "metadata": {
        "id": "aGo4JVqB8ykz"
      },
      "source": [
        "### Index Object"
      ]
    },
    {
      "cell_type": "code",
      "execution_count": null,
      "metadata": {
        "id": "9GBSugeS8ykz",
        "outputId": "8b9fbf87-f576-490e-d07d-576711c020ca"
      },
      "outputs": [
        {
          "data": {
            "text/plain": [
              "RangeIndex(start=0, stop=4, step=1)"
            ]
          },
          "metadata": {},
          "output_type": "display_data"
        }
      ],
      "source": [
        "data = {\n",
        "    'Person': ['Jack', 'Sara', 'Paula', 'Alex'],\n",
        "    'Is Employed': [True, False, True, True],\n",
        "    'Salary': [65_000, 0, 78_000, None],\n",
        "    'Bonus': [10_000, 0, 18_000, 15_000]\n",
        "}\n",
        "df = pd.DataFrame(data)  # Autogenerated index as RangeIndex\n",
        "display(df.index)"
      ]
    },
    {
      "cell_type": "code",
      "execution_count": null,
      "metadata": {
        "id": "890oOVTb8ykz",
        "outputId": "64e25b11-2d93-4432-bf65-7a70645175f8"
      },
      "outputs": [
        {
          "data": {
            "text/html": [
              "<div>\n",
              "<style scoped>\n",
              "    .dataframe tbody tr th:only-of-type {\n",
              "        vertical-align: middle;\n",
              "    }\n",
              "\n",
              "    .dataframe tbody tr th {\n",
              "        vertical-align: top;\n",
              "    }\n",
              "\n",
              "    .dataframe thead th {\n",
              "        text-align: right;\n",
              "    }\n",
              "</style>\n",
              "<table border=\"1\" class=\"dataframe\">\n",
              "  <thead>\n",
              "    <tr style=\"text-align: right;\">\n",
              "      <th></th>\n",
              "      <th>Is Employed</th>\n",
              "      <th>Salary</th>\n",
              "      <th>Bonus</th>\n",
              "    </tr>\n",
              "    <tr>\n",
              "      <th>Person</th>\n",
              "      <th></th>\n",
              "      <th></th>\n",
              "      <th></th>\n",
              "    </tr>\n",
              "  </thead>\n",
              "  <tbody>\n",
              "    <tr>\n",
              "      <th>Jack</th>\n",
              "      <td>True</td>\n",
              "      <td>65000.0</td>\n",
              "      <td>10000</td>\n",
              "    </tr>\n",
              "    <tr>\n",
              "      <th>Sara</th>\n",
              "      <td>False</td>\n",
              "      <td>0.0</td>\n",
              "      <td>0</td>\n",
              "    </tr>\n",
              "    <tr>\n",
              "      <th>Paula</th>\n",
              "      <td>True</td>\n",
              "      <td>78000.0</td>\n",
              "      <td>18000</td>\n",
              "    </tr>\n",
              "    <tr>\n",
              "      <th>Alex</th>\n",
              "      <td>True</td>\n",
              "      <td>NaN</td>\n",
              "      <td>15000</td>\n",
              "    </tr>\n",
              "  </tbody>\n",
              "</table>\n",
              "</div>"
            ],
            "text/plain": [
              "        Is Employed   Salary  Bonus\n",
              "Person                             \n",
              "Jack           True  65000.0  10000\n",
              "Sara          False      0.0      0\n",
              "Paula          True  78000.0  18000\n",
              "Alex           True      NaN  15000"
            ]
          },
          "metadata": {},
          "output_type": "display_data"
        },
        {
          "data": {
            "text/plain": [
              "Index(['Jack', 'Sara', 'Paula', 'Alex'], dtype='object', name='Person')"
            ]
          },
          "metadata": {},
          "output_type": "display_data"
        },
        {
          "data": {
            "text/plain": [
              "RangeIndex(start=0, stop=4, step=1)"
            ]
          },
          "metadata": {},
          "output_type": "display_data"
        }
      ],
      "source": [
        "# Set a column as the index\n",
        "df = df.set_index('Person') # returns the changed DataFrame\n",
        "display(df)\n",
        "display(df.index)\n",
        "\n",
        "# Reset the index\n",
        "df = df.reset_index() # returns the changed DataFrame\n",
        "display(df.index)"
      ]
    },
    {
      "cell_type": "code",
      "execution_count": null,
      "metadata": {
        "id": "RALzMKZP8ykz",
        "outputId": "95329853-7030-401e-b32a-9f147f6793c6"
      },
      "outputs": [
        {
          "data": {
            "text/plain": [
              "True"
            ]
          },
          "metadata": {},
          "output_type": "display_data"
        },
        {
          "data": {
            "text/plain": [
              "['Jack', 'Sara', 'Paula', 'Alex']"
            ]
          },
          "metadata": {},
          "output_type": "display_data"
        },
        {
          "data": {
            "text/plain": [
              "Index(['Jack', 'Sara', 'Paula', 'Alex', 'Joe', 'Janet'], dtype='object')"
            ]
          },
          "metadata": {},
          "output_type": "display_data"
        },
        {
          "name": "stdout",
          "output_type": "stream",
          "text": [
            "Index does not support mutable operations\n"
          ]
        }
      ],
      "source": [
        "# Index object has array-like behavior \n",
        "df = df.set_index('Person')\n",
        "display('Paula' in df.index) # check an element\n",
        "\n",
        "display([idx for idx in df.index]) # iteration\n",
        "\n",
        "display(df.index.append(pd.Index(['Joe', 'Janet']))) # append creates a new Index object\n",
        "\n",
        "# But it is immutable\n",
        "try:\n",
        "    df.index[0] = 'Joe'\n",
        "except Exception as e:\n",
        "    print(e)\n",
        "    "
      ]
    },
    {
      "cell_type": "markdown",
      "metadata": {
        "id": "67k1Oejh8yk0"
      },
      "source": [
        "### Re-arranging (re-indexing) data in Series and DataFrame:"
      ]
    },
    {
      "cell_type": "code",
      "execution_count": null,
      "metadata": {
        "id": "_-96ljq98yk0",
        "outputId": "6ff232c9-55b0-4f8a-8746-57ed55ce6c95"
      },
      "outputs": [
        {
          "data": {
            "text/plain": [
              "0     Jack\n",
              "1     Sara\n",
              "2    Paula\n",
              "3     Alex\n",
              "dtype: object"
            ]
          },
          "metadata": {},
          "output_type": "display_data"
        },
        {
          "data": {
            "text/plain": [
              "1     Sara\n",
              "2    Paula\n",
              "0     Jack\n",
              "3     Alex\n",
              "dtype: object"
            ]
          },
          "metadata": {},
          "output_type": "display_data"
        }
      ],
      "source": [
        "# Re-indexing a Series\n",
        "s = pd.Series(['Jack', 'Sara', 'Paula', 'Alex'])\n",
        "display(s)\n",
        "\n",
        "display(s.reindex([1, 2, 0, 3]))"
      ]
    },
    {
      "cell_type": "code",
      "execution_count": null,
      "metadata": {
        "id": "Mx0tY6fn8yk0",
        "outputId": "a5ad73c1-93c9-4f78-8bad-d4abf831173f"
      },
      "outputs": [
        {
          "data": {
            "text/plain": [
              "0    Jack\n",
              "3    Sara\n",
              "dtype: object"
            ]
          },
          "metadata": {},
          "output_type": "display_data"
        },
        {
          "data": {
            "text/plain": [
              "0    Jack\n",
              "1    Sara\n",
              "2    Sara\n",
              "3    Sara\n",
              "4     NaN\n",
              "dtype: object"
            ]
          },
          "metadata": {},
          "output_type": "display_data"
        },
        {
          "data": {
            "text/plain": [
              "0    Jack\n",
              "1    Jack\n",
              "2    Jack\n",
              "3    Sara\n",
              "4    Sara\n",
              "dtype: object"
            ]
          },
          "metadata": {},
          "output_type": "display_data"
        },
        {
          "data": {
            "text/plain": [
              "0    Jack\n",
              "1    Jack\n",
              "2    Sara\n",
              "3    Sara\n",
              "4    Sara\n",
              "dtype: object"
            ]
          },
          "metadata": {},
          "output_type": "display_data"
        }
      ],
      "source": [
        "# Interpolation\n",
        "s = pd.Series(['Jack', 'Sara'], index=[0, 3])\n",
        "display(s)\n",
        "\n",
        "display(s.reindex([0, 1, 2, 3, 4], method='backfill')) # Use next valid observation to fill gap\n",
        "display(s.reindex([0, 1, 2, 3, 4], method='pad')) # Propagate last valid observation forward to next valid\n",
        "display(s.reindex([0, 1, 2, 3, 4], method='nearest')) # Use nearest valid observations to fill gap"
      ]
    },
    {
      "cell_type": "code",
      "execution_count": null,
      "metadata": {
        "id": "Cjcvw6A78yk0",
        "outputId": "06e75fb3-aa73-441b-a743-9d1ef27eca8f"
      },
      "outputs": [
        {
          "data": {
            "text/html": [
              "<div>\n",
              "<style scoped>\n",
              "    .dataframe tbody tr th:only-of-type {\n",
              "        vertical-align: middle;\n",
              "    }\n",
              "\n",
              "    .dataframe tbody tr th {\n",
              "        vertical-align: top;\n",
              "    }\n",
              "\n",
              "    .dataframe thead th {\n",
              "        text-align: right;\n",
              "    }\n",
              "</style>\n",
              "<table border=\"1\" class=\"dataframe\">\n",
              "  <thead>\n",
              "    <tr style=\"text-align: right;\">\n",
              "      <th></th>\n",
              "      <th>Salary</th>\n",
              "      <th>Is Employed</th>\n",
              "      <th>Bonus</th>\n",
              "    </tr>\n",
              "  </thead>\n",
              "  <tbody>\n",
              "    <tr>\n",
              "      <th>Jack</th>\n",
              "      <td>65000.0</td>\n",
              "      <td>True</td>\n",
              "      <td>10000</td>\n",
              "    </tr>\n",
              "    <tr>\n",
              "      <th>Sara</th>\n",
              "      <td>0.0</td>\n",
              "      <td>False</td>\n",
              "      <td>0</td>\n",
              "    </tr>\n",
              "    <tr>\n",
              "      <th>Paula</th>\n",
              "      <td>78000.0</td>\n",
              "      <td>True</td>\n",
              "      <td>18000</td>\n",
              "    </tr>\n",
              "    <tr>\n",
              "      <th>Alex</th>\n",
              "      <td>NaN</td>\n",
              "      <td>True</td>\n",
              "      <td>15000</td>\n",
              "    </tr>\n",
              "  </tbody>\n",
              "</table>\n",
              "</div>"
            ],
            "text/plain": [
              "        Salary  Is Employed  Bonus\n",
              "Jack   65000.0         True  10000\n",
              "Sara       0.0        False      0\n",
              "Paula  78000.0         True  18000\n",
              "Alex       NaN         True  15000"
            ]
          },
          "metadata": {},
          "output_type": "display_data"
        },
        {
          "data": {
            "text/html": [
              "<div>\n",
              "<style scoped>\n",
              "    .dataframe tbody tr th:only-of-type {\n",
              "        vertical-align: middle;\n",
              "    }\n",
              "\n",
              "    .dataframe tbody tr th {\n",
              "        vertical-align: top;\n",
              "    }\n",
              "\n",
              "    .dataframe thead th {\n",
              "        text-align: right;\n",
              "    }\n",
              "</style>\n",
              "<table border=\"1\" class=\"dataframe\">\n",
              "  <thead>\n",
              "    <tr style=\"text-align: right;\">\n",
              "      <th></th>\n",
              "      <th>Salary</th>\n",
              "      <th>Is Employed</th>\n",
              "      <th>Bonus</th>\n",
              "    </tr>\n",
              "  </thead>\n",
              "  <tbody>\n",
              "    <tr>\n",
              "      <th>Sara</th>\n",
              "      <td>0.0</td>\n",
              "      <td>False</td>\n",
              "      <td>0.0</td>\n",
              "    </tr>\n",
              "    <tr>\n",
              "      <th>Alex</th>\n",
              "      <td>NaN</td>\n",
              "      <td>True</td>\n",
              "      <td>15000.0</td>\n",
              "    </tr>\n",
              "    <tr>\n",
              "      <th>Paula</th>\n",
              "      <td>78000.0</td>\n",
              "      <td>True</td>\n",
              "      <td>18000.0</td>\n",
              "    </tr>\n",
              "    <tr>\n",
              "      <th>Jack</th>\n",
              "      <td>65000.0</td>\n",
              "      <td>True</td>\n",
              "      <td>10000.0</td>\n",
              "    </tr>\n",
              "    <tr>\n",
              "      <th>Julio</th>\n",
              "      <td>NaN</td>\n",
              "      <td>NaN</td>\n",
              "      <td>NaN</td>\n",
              "    </tr>\n",
              "  </tbody>\n",
              "</table>\n",
              "</div>"
            ],
            "text/plain": [
              "        Salary Is Employed    Bonus\n",
              "Sara       0.0       False      0.0\n",
              "Alex       NaN        True  15000.0\n",
              "Paula  78000.0        True  18000.0\n",
              "Jack   65000.0        True  10000.0\n",
              "Julio      NaN         NaN      NaN"
            ]
          },
          "metadata": {},
          "output_type": "display_data"
        }
      ],
      "source": [
        "# Re-indexing DataFrame Rows\n",
        "df = pd.DataFrame(data, \n",
        "                  columns=['Salary', 'Is Employed', 'Bonus'],\n",
        "                  index=data['Person'])\n",
        "display(df)\n",
        "display(df.reindex(['Sara', 'Alex', 'Paula', 'Jack', 'Julio'])) # the row for 'Julio' will be all 'NaN'"
      ]
    },
    {
      "cell_type": "code",
      "execution_count": null,
      "metadata": {
        "id": "_1wxHwvE8yk0",
        "outputId": "699856bb-e71d-407a-d233-4583b7110a21"
      },
      "outputs": [
        {
          "data": {
            "text/html": [
              "<div>\n",
              "<style scoped>\n",
              "    .dataframe tbody tr th:only-of-type {\n",
              "        vertical-align: middle;\n",
              "    }\n",
              "\n",
              "    .dataframe tbody tr th {\n",
              "        vertical-align: top;\n",
              "    }\n",
              "\n",
              "    .dataframe thead th {\n",
              "        text-align: right;\n",
              "    }\n",
              "</style>\n",
              "<table border=\"1\" class=\"dataframe\">\n",
              "  <thead>\n",
              "    <tr style=\"text-align: right;\">\n",
              "      <th></th>\n",
              "      <th>Bonus</th>\n",
              "      <th>Salary</th>\n",
              "      <th>Age</th>\n",
              "      <th>Is Employed</th>\n",
              "    </tr>\n",
              "  </thead>\n",
              "  <tbody>\n",
              "    <tr>\n",
              "      <th>Jack</th>\n",
              "      <td>10000</td>\n",
              "      <td>65000.0</td>\n",
              "      <td>NaN</td>\n",
              "      <td>True</td>\n",
              "    </tr>\n",
              "    <tr>\n",
              "      <th>Sara</th>\n",
              "      <td>0</td>\n",
              "      <td>0.0</td>\n",
              "      <td>NaN</td>\n",
              "      <td>False</td>\n",
              "    </tr>\n",
              "    <tr>\n",
              "      <th>Paula</th>\n",
              "      <td>18000</td>\n",
              "      <td>78000.0</td>\n",
              "      <td>NaN</td>\n",
              "      <td>True</td>\n",
              "    </tr>\n",
              "    <tr>\n",
              "      <th>Alex</th>\n",
              "      <td>15000</td>\n",
              "      <td>NaN</td>\n",
              "      <td>NaN</td>\n",
              "      <td>True</td>\n",
              "    </tr>\n",
              "  </tbody>\n",
              "</table>\n",
              "</div>"
            ],
            "text/plain": [
              "       Bonus   Salary  Age  Is Employed\n",
              "Jack   10000  65000.0  NaN         True\n",
              "Sara       0      0.0  NaN        False\n",
              "Paula  18000  78000.0  NaN         True\n",
              "Alex   15000      NaN  NaN         True"
            ]
          },
          "execution_count": 29,
          "metadata": {},
          "output_type": "execute_result"
        }
      ],
      "source": [
        "# Re-indexing columns\n",
        "df.reindex(columns=['Bonus', 'Salary', 'Age', 'Is Employed']) # the 'Age' column will be all 'NaN'"
      ]
    },
    {
      "cell_type": "markdown",
      "metadata": {
        "id": "VbtCDXxE8yk0"
      },
      "source": [
        "### Dropping rows or columns"
      ]
    },
    {
      "cell_type": "code",
      "execution_count": null,
      "metadata": {
        "id": "-7jkrWuu8yk0",
        "outputId": "49da8e70-4b55-4e49-9757-4ca5b0670b9b"
      },
      "outputs": [
        {
          "data": {
            "text/plain": [
              "a     Jack\n",
              "b     Sara\n",
              "c    Paula\n",
              "dtype: object"
            ]
          },
          "metadata": {},
          "output_type": "display_data"
        },
        {
          "data": {
            "text/plain": [
              "b    Sara\n",
              "d    Alex\n",
              "dtype: object"
            ]
          },
          "metadata": {},
          "output_type": "display_data"
        }
      ],
      "source": [
        "# Dropping elements from a Series\n",
        "s = pd.Series(['Jack', 'Sara', 'Paula', 'Alex'], index=['a', 'b', 'c', 'd'])\n",
        "display(s.drop('d'))\n",
        "display(s.drop(['a', 'c']))"
      ]
    },
    {
      "cell_type": "code",
      "execution_count": null,
      "metadata": {
        "id": "rQdBsOWO8yk0",
        "outputId": "f878fa5f-628e-4450-a1b0-9ffb31f5457f"
      },
      "outputs": [
        {
          "data": {
            "text/html": [
              "<div>\n",
              "<style scoped>\n",
              "    .dataframe tbody tr th:only-of-type {\n",
              "        vertical-align: middle;\n",
              "    }\n",
              "\n",
              "    .dataframe tbody tr th {\n",
              "        vertical-align: top;\n",
              "    }\n",
              "\n",
              "    .dataframe thead th {\n",
              "        text-align: right;\n",
              "    }\n",
              "</style>\n",
              "<table border=\"1\" class=\"dataframe\">\n",
              "  <thead>\n",
              "    <tr style=\"text-align: right;\">\n",
              "      <th></th>\n",
              "      <th>Salary</th>\n",
              "      <th>Is Employed</th>\n",
              "      <th>Bonus</th>\n",
              "    </tr>\n",
              "  </thead>\n",
              "  <tbody>\n",
              "    <tr>\n",
              "      <th>Jack</th>\n",
              "      <td>65000.0</td>\n",
              "      <td>True</td>\n",
              "      <td>10000</td>\n",
              "    </tr>\n",
              "    <tr>\n",
              "      <th>Sara</th>\n",
              "      <td>0.0</td>\n",
              "      <td>False</td>\n",
              "      <td>0</td>\n",
              "    </tr>\n",
              "    <tr>\n",
              "      <th>Paula</th>\n",
              "      <td>78000.0</td>\n",
              "      <td>True</td>\n",
              "      <td>18000</td>\n",
              "    </tr>\n",
              "    <tr>\n",
              "      <th>Alex</th>\n",
              "      <td>NaN</td>\n",
              "      <td>True</td>\n",
              "      <td>15000</td>\n",
              "    </tr>\n",
              "  </tbody>\n",
              "</table>\n",
              "</div>"
            ],
            "text/plain": [
              "        Salary  Is Employed  Bonus\n",
              "Jack   65000.0         True  10000\n",
              "Sara       0.0        False      0\n",
              "Paula  78000.0         True  18000\n",
              "Alex       NaN         True  15000"
            ]
          },
          "metadata": {},
          "output_type": "display_data"
        },
        {
          "data": {
            "text/html": [
              "<div>\n",
              "<style scoped>\n",
              "    .dataframe tbody tr th:only-of-type {\n",
              "        vertical-align: middle;\n",
              "    }\n",
              "\n",
              "    .dataframe tbody tr th {\n",
              "        vertical-align: top;\n",
              "    }\n",
              "\n",
              "    .dataframe thead th {\n",
              "        text-align: right;\n",
              "    }\n",
              "</style>\n",
              "<table border=\"1\" class=\"dataframe\">\n",
              "  <thead>\n",
              "    <tr style=\"text-align: right;\">\n",
              "      <th></th>\n",
              "      <th>Salary</th>\n",
              "      <th>Is Employed</th>\n",
              "      <th>Bonus</th>\n",
              "    </tr>\n",
              "  </thead>\n",
              "  <tbody>\n",
              "    <tr>\n",
              "      <th>Sara</th>\n",
              "      <td>0.0</td>\n",
              "      <td>False</td>\n",
              "      <td>0</td>\n",
              "    </tr>\n",
              "    <tr>\n",
              "      <th>Paula</th>\n",
              "      <td>78000.0</td>\n",
              "      <td>True</td>\n",
              "      <td>18000</td>\n",
              "    </tr>\n",
              "  </tbody>\n",
              "</table>\n",
              "</div>"
            ],
            "text/plain": [
              "        Salary  Is Employed  Bonus\n",
              "Sara       0.0        False      0\n",
              "Paula  78000.0         True  18000"
            ]
          },
          "metadata": {},
          "output_type": "display_data"
        },
        {
          "data": {
            "text/html": [
              "<div>\n",
              "<style scoped>\n",
              "    .dataframe tbody tr th:only-of-type {\n",
              "        vertical-align: middle;\n",
              "    }\n",
              "\n",
              "    .dataframe tbody tr th {\n",
              "        vertical-align: top;\n",
              "    }\n",
              "\n",
              "    .dataframe thead th {\n",
              "        text-align: right;\n",
              "    }\n",
              "</style>\n",
              "<table border=\"1\" class=\"dataframe\">\n",
              "  <thead>\n",
              "    <tr style=\"text-align: right;\">\n",
              "      <th></th>\n",
              "      <th>Salary</th>\n",
              "      <th>Is Employed</th>\n",
              "      <th>Bonus</th>\n",
              "    </tr>\n",
              "  </thead>\n",
              "  <tbody>\n",
              "    <tr>\n",
              "      <th>Jack</th>\n",
              "      <td>65000.0</td>\n",
              "      <td>True</td>\n",
              "      <td>10000</td>\n",
              "    </tr>\n",
              "    <tr>\n",
              "      <th>Paula</th>\n",
              "      <td>78000.0</td>\n",
              "      <td>True</td>\n",
              "      <td>18000</td>\n",
              "    </tr>\n",
              "    <tr>\n",
              "      <th>Alex</th>\n",
              "      <td>NaN</td>\n",
              "      <td>True</td>\n",
              "      <td>15000</td>\n",
              "    </tr>\n",
              "  </tbody>\n",
              "</table>\n",
              "</div>"
            ],
            "text/plain": [
              "        Salary  Is Employed  Bonus\n",
              "Jack   65000.0         True  10000\n",
              "Paula  78000.0         True  18000\n",
              "Alex       NaN         True  15000"
            ]
          },
          "metadata": {},
          "output_type": "display_data"
        }
      ],
      "source": [
        "# Dropping rows from a DataFrame\n",
        "display(df)\n",
        "display(df.drop(['Jack', 'Alex']))\n",
        "df.drop('Sara', inplace=True) # in place dropping\n",
        "display(df)"
      ]
    },
    {
      "cell_type": "code",
      "execution_count": null,
      "metadata": {
        "id": "M76pab7p8yk1",
        "outputId": "24038b9b-e676-4754-8d24-5e858312d40e"
      },
      "outputs": [
        {
          "data": {
            "text/html": [
              "<div>\n",
              "<style scoped>\n",
              "    .dataframe tbody tr th:only-of-type {\n",
              "        vertical-align: middle;\n",
              "    }\n",
              "\n",
              "    .dataframe tbody tr th {\n",
              "        vertical-align: top;\n",
              "    }\n",
              "\n",
              "    .dataframe thead th {\n",
              "        text-align: right;\n",
              "    }\n",
              "</style>\n",
              "<table border=\"1\" class=\"dataframe\">\n",
              "  <thead>\n",
              "    <tr style=\"text-align: right;\">\n",
              "      <th></th>\n",
              "      <th>Salary</th>\n",
              "      <th>Is Employed</th>\n",
              "    </tr>\n",
              "  </thead>\n",
              "  <tbody>\n",
              "    <tr>\n",
              "      <th>Jack</th>\n",
              "      <td>65000.0</td>\n",
              "      <td>True</td>\n",
              "    </tr>\n",
              "    <tr>\n",
              "      <th>Paula</th>\n",
              "      <td>78000.0</td>\n",
              "      <td>True</td>\n",
              "    </tr>\n",
              "    <tr>\n",
              "      <th>Alex</th>\n",
              "      <td>NaN</td>\n",
              "      <td>True</td>\n",
              "    </tr>\n",
              "  </tbody>\n",
              "</table>\n",
              "</div>"
            ],
            "text/plain": [
              "        Salary  Is Employed\n",
              "Jack   65000.0         True\n",
              "Paula  78000.0         True\n",
              "Alex       NaN         True"
            ]
          },
          "metadata": {},
          "output_type": "display_data"
        },
        {
          "data": {
            "text/html": [
              "<div>\n",
              "<style scoped>\n",
              "    .dataframe tbody tr th:only-of-type {\n",
              "        vertical-align: middle;\n",
              "    }\n",
              "\n",
              "    .dataframe tbody tr th {\n",
              "        vertical-align: top;\n",
              "    }\n",
              "\n",
              "    .dataframe thead th {\n",
              "        text-align: right;\n",
              "    }\n",
              "</style>\n",
              "<table border=\"1\" class=\"dataframe\">\n",
              "  <thead>\n",
              "    <tr style=\"text-align: right;\">\n",
              "      <th></th>\n",
              "      <th>Bonus</th>\n",
              "    </tr>\n",
              "  </thead>\n",
              "  <tbody>\n",
              "    <tr>\n",
              "      <th>Jack</th>\n",
              "      <td>10000</td>\n",
              "    </tr>\n",
              "    <tr>\n",
              "      <th>Paula</th>\n",
              "      <td>18000</td>\n",
              "    </tr>\n",
              "    <tr>\n",
              "      <th>Alex</th>\n",
              "      <td>15000</td>\n",
              "    </tr>\n",
              "  </tbody>\n",
              "</table>\n",
              "</div>"
            ],
            "text/plain": [
              "       Bonus\n",
              "Jack   10000\n",
              "Paula  18000\n",
              "Alex   15000"
            ]
          },
          "metadata": {},
          "output_type": "display_data"
        }
      ],
      "source": [
        "# Dropping columns\n",
        "display(df.drop('Bonus', axis=1)) # axis = 1 or axis = 'columns'\n",
        "display(df.drop(['Salary', 'Is Employed'], axis='columns'))"
      ]
    },
    {
      "cell_type": "markdown",
      "metadata": {
        "id": "NuVE6AXW8yk1"
      },
      "source": [
        "### Selecting and Filtering"
      ]
    },
    {
      "cell_type": "code",
      "execution_count": null,
      "metadata": {
        "id": "9m07sBMX8yk1",
        "outputId": "ed1a5a7f-a967-4a34-a3e4-5d4703abee92"
      },
      "outputs": [
        {
          "data": {
            "text/html": [
              "<div>\n",
              "<style scoped>\n",
              "    .dataframe tbody tr th:only-of-type {\n",
              "        vertical-align: middle;\n",
              "    }\n",
              "\n",
              "    .dataframe tbody tr th {\n",
              "        vertical-align: top;\n",
              "    }\n",
              "\n",
              "    .dataframe thead th {\n",
              "        text-align: right;\n",
              "    }\n",
              "</style>\n",
              "<table border=\"1\" class=\"dataframe\">\n",
              "  <thead>\n",
              "    <tr style=\"text-align: right;\">\n",
              "      <th></th>\n",
              "      <th>Salary</th>\n",
              "      <th>Is Employed</th>\n",
              "      <th>Bonus</th>\n",
              "    </tr>\n",
              "  </thead>\n",
              "  <tbody>\n",
              "    <tr>\n",
              "      <th>Jack</th>\n",
              "      <td>65000.0</td>\n",
              "      <td>True</td>\n",
              "      <td>10000</td>\n",
              "    </tr>\n",
              "    <tr>\n",
              "      <th>Paula</th>\n",
              "      <td>78000.0</td>\n",
              "      <td>True</td>\n",
              "      <td>18000</td>\n",
              "    </tr>\n",
              "    <tr>\n",
              "      <th>Alex</th>\n",
              "      <td>NaN</td>\n",
              "      <td>True</td>\n",
              "      <td>15000</td>\n",
              "    </tr>\n",
              "  </tbody>\n",
              "</table>\n",
              "</div>"
            ],
            "text/plain": [
              "        Salary  Is Employed  Bonus\n",
              "Jack   65000.0         True  10000\n",
              "Paula  78000.0         True  18000\n",
              "Alex       NaN         True  15000"
            ]
          },
          "metadata": {},
          "output_type": "display_data"
        },
        {
          "data": {
            "text/plain": [
              "Jack     65000.0\n",
              "Paula    78000.0\n",
              "Alex         NaN\n",
              "Name: Salary, dtype: float64"
            ]
          },
          "metadata": {},
          "output_type": "display_data"
        },
        {
          "data": {
            "text/html": [
              "<div>\n",
              "<style scoped>\n",
              "    .dataframe tbody tr th:only-of-type {\n",
              "        vertical-align: middle;\n",
              "    }\n",
              "\n",
              "    .dataframe tbody tr th {\n",
              "        vertical-align: top;\n",
              "    }\n",
              "\n",
              "    .dataframe thead th {\n",
              "        text-align: right;\n",
              "    }\n",
              "</style>\n",
              "<table border=\"1\" class=\"dataframe\">\n",
              "  <thead>\n",
              "    <tr style=\"text-align: right;\">\n",
              "      <th></th>\n",
              "      <th>Salary</th>\n",
              "      <th>Bonus</th>\n",
              "    </tr>\n",
              "  </thead>\n",
              "  <tbody>\n",
              "    <tr>\n",
              "      <th>Jack</th>\n",
              "      <td>65000.0</td>\n",
              "      <td>10000</td>\n",
              "    </tr>\n",
              "    <tr>\n",
              "      <th>Paula</th>\n",
              "      <td>78000.0</td>\n",
              "      <td>18000</td>\n",
              "    </tr>\n",
              "    <tr>\n",
              "      <th>Alex</th>\n",
              "      <td>NaN</td>\n",
              "      <td>15000</td>\n",
              "    </tr>\n",
              "  </tbody>\n",
              "</table>\n",
              "</div>"
            ],
            "text/plain": [
              "        Salary  Bonus\n",
              "Jack   65000.0  10000\n",
              "Paula  78000.0  18000\n",
              "Alex       NaN  15000"
            ]
          },
          "metadata": {},
          "output_type": "display_data"
        }
      ],
      "source": [
        "# Select one or more columns\n",
        "display(df)\n",
        "display(df.Salary) # select one column\n",
        "display(df[['Salary', 'Bonus']]) # select more than one column"
      ]
    },
    {
      "cell_type": "code",
      "execution_count": null,
      "metadata": {
        "id": "lwk2r2_U8yk1",
        "outputId": "10adad96-c863-4e0a-ca5d-b4e586f5f1eb"
      },
      "outputs": [
        {
          "data": {
            "text/plain": [
              "Salary         65000\n",
              "Is Employed     True\n",
              "Bonus          10000\n",
              "Name: Jack, dtype: object"
            ]
          },
          "metadata": {},
          "output_type": "display_data"
        },
        {
          "data": {
            "text/html": [
              "<div>\n",
              "<style scoped>\n",
              "    .dataframe tbody tr th:only-of-type {\n",
              "        vertical-align: middle;\n",
              "    }\n",
              "\n",
              "    .dataframe tbody tr th {\n",
              "        vertical-align: top;\n",
              "    }\n",
              "\n",
              "    .dataframe thead th {\n",
              "        text-align: right;\n",
              "    }\n",
              "</style>\n",
              "<table border=\"1\" class=\"dataframe\">\n",
              "  <thead>\n",
              "    <tr style=\"text-align: right;\">\n",
              "      <th></th>\n",
              "      <th>Salary</th>\n",
              "      <th>Is Employed</th>\n",
              "      <th>Bonus</th>\n",
              "    </tr>\n",
              "  </thead>\n",
              "  <tbody>\n",
              "    <tr>\n",
              "      <th>Jack</th>\n",
              "      <td>65000.0</td>\n",
              "      <td>True</td>\n",
              "      <td>10000</td>\n",
              "    </tr>\n",
              "    <tr>\n",
              "      <th>Alex</th>\n",
              "      <td>NaN</td>\n",
              "      <td>True</td>\n",
              "      <td>15000</td>\n",
              "    </tr>\n",
              "  </tbody>\n",
              "</table>\n",
              "</div>"
            ],
            "text/plain": [
              "       Salary  Is Employed  Bonus\n",
              "Jack  65000.0         True  10000\n",
              "Alex      NaN         True  15000"
            ]
          },
          "metadata": {},
          "output_type": "display_data"
        }
      ],
      "source": [
        "# Select uisng row indexes \n",
        "display(df.loc['Jack']) # select one row by index\n",
        "display(df.loc[['Jack', 'Alex']]) # select more than one row by index"
      ]
    },
    {
      "cell_type": "code",
      "execution_count": null,
      "metadata": {
        "id": "iifxaslU8yk1",
        "outputId": "5e4e9748-6802-412a-a4f9-4b43cef7c4a2"
      },
      "outputs": [
        {
          "data": {
            "text/plain": [
              "Salary         65000\n",
              "Is Employed     True\n",
              "Bonus          10000\n",
              "Name: Jack, dtype: object"
            ]
          },
          "metadata": {},
          "output_type": "display_data"
        },
        {
          "data": {
            "text/html": [
              "<div>\n",
              "<style scoped>\n",
              "    .dataframe tbody tr th:only-of-type {\n",
              "        vertical-align: middle;\n",
              "    }\n",
              "\n",
              "    .dataframe tbody tr th {\n",
              "        vertical-align: top;\n",
              "    }\n",
              "\n",
              "    .dataframe thead th {\n",
              "        text-align: right;\n",
              "    }\n",
              "</style>\n",
              "<table border=\"1\" class=\"dataframe\">\n",
              "  <thead>\n",
              "    <tr style=\"text-align: right;\">\n",
              "      <th></th>\n",
              "      <th>Salary</th>\n",
              "      <th>Is Employed</th>\n",
              "      <th>Bonus</th>\n",
              "    </tr>\n",
              "  </thead>\n",
              "  <tbody>\n",
              "    <tr>\n",
              "      <th>Jack</th>\n",
              "      <td>65000.0</td>\n",
              "      <td>True</td>\n",
              "      <td>10000</td>\n",
              "    </tr>\n",
              "    <tr>\n",
              "      <th>Alex</th>\n",
              "      <td>NaN</td>\n",
              "      <td>True</td>\n",
              "      <td>15000</td>\n",
              "    </tr>\n",
              "  </tbody>\n",
              "</table>\n",
              "</div>"
            ],
            "text/plain": [
              "       Salary  Is Employed  Bonus\n",
              "Jack  65000.0         True  10000\n",
              "Alex      NaN         True  15000"
            ]
          },
          "metadata": {},
          "output_type": "display_data"
        },
        {
          "data": {
            "text/html": [
              "<div>\n",
              "<style scoped>\n",
              "    .dataframe tbody tr th:only-of-type {\n",
              "        vertical-align: middle;\n",
              "    }\n",
              "\n",
              "    .dataframe tbody tr th {\n",
              "        vertical-align: top;\n",
              "    }\n",
              "\n",
              "    .dataframe thead th {\n",
              "        text-align: right;\n",
              "    }\n",
              "</style>\n",
              "<table border=\"1\" class=\"dataframe\">\n",
              "  <thead>\n",
              "    <tr style=\"text-align: right;\">\n",
              "      <th></th>\n",
              "      <th>Salary</th>\n",
              "      <th>Is Employed</th>\n",
              "      <th>Bonus</th>\n",
              "    </tr>\n",
              "  </thead>\n",
              "  <tbody>\n",
              "    <tr>\n",
              "      <th>Jack</th>\n",
              "      <td>65000.0</td>\n",
              "      <td>True</td>\n",
              "      <td>10000</td>\n",
              "    </tr>\n",
              "    <tr>\n",
              "      <th>Paula</th>\n",
              "      <td>78000.0</td>\n",
              "      <td>True</td>\n",
              "      <td>18000</td>\n",
              "    </tr>\n",
              "  </tbody>\n",
              "</table>\n",
              "</div>"
            ],
            "text/plain": [
              "        Salary  Is Employed  Bonus\n",
              "Jack   65000.0         True  10000\n",
              "Paula  78000.0         True  18000"
            ]
          },
          "metadata": {},
          "output_type": "display_data"
        },
        {
          "data": {
            "text/html": [
              "<div>\n",
              "<style scoped>\n",
              "    .dataframe tbody tr th:only-of-type {\n",
              "        vertical-align: middle;\n",
              "    }\n",
              "\n",
              "    .dataframe tbody tr th {\n",
              "        vertical-align: top;\n",
              "    }\n",
              "\n",
              "    .dataframe thead th {\n",
              "        text-align: right;\n",
              "    }\n",
              "</style>\n",
              "<table border=\"1\" class=\"dataframe\">\n",
              "  <thead>\n",
              "    <tr style=\"text-align: right;\">\n",
              "      <th></th>\n",
              "      <th>Salary</th>\n",
              "      <th>Is Employed</th>\n",
              "      <th>Bonus</th>\n",
              "    </tr>\n",
              "  </thead>\n",
              "  <tbody>\n",
              "    <tr>\n",
              "      <th>Jack</th>\n",
              "      <td>65000.0</td>\n",
              "      <td>True</td>\n",
              "      <td>10000</td>\n",
              "    </tr>\n",
              "    <tr>\n",
              "      <th>Paula</th>\n",
              "      <td>78000.0</td>\n",
              "      <td>True</td>\n",
              "      <td>18000</td>\n",
              "    </tr>\n",
              "  </tbody>\n",
              "</table>\n",
              "</div>"
            ],
            "text/plain": [
              "        Salary  Is Employed  Bonus\n",
              "Jack   65000.0         True  10000\n",
              "Paula  78000.0         True  18000"
            ]
          },
          "metadata": {},
          "output_type": "display_data"
        }
      ],
      "source": [
        "# Select using row numbers\n",
        "display(df.iloc[0]) # selecting one row by row number\n",
        "display(df.iloc[[0, 2]]) # select more than one row by list of row numbers\n",
        "display(df.iloc[0:2]) # select more than one row by a range\n",
        "display(df[0:2]) # alternative method"
      ]
    },
    {
      "cell_type": "code",
      "execution_count": null,
      "metadata": {
        "id": "MCsIUgky8yk1",
        "outputId": "3b0fdd50-7803-4e8b-fa2d-952ceaf045c6"
      },
      "outputs": [
        {
          "data": {
            "text/plain": [
              "65000.0"
            ]
          },
          "metadata": {},
          "output_type": "display_data"
        },
        {
          "data": {
            "text/html": [
              "<div>\n",
              "<style scoped>\n",
              "    .dataframe tbody tr th:only-of-type {\n",
              "        vertical-align: middle;\n",
              "    }\n",
              "\n",
              "    .dataframe tbody tr th {\n",
              "        vertical-align: top;\n",
              "    }\n",
              "\n",
              "    .dataframe thead th {\n",
              "        text-align: right;\n",
              "    }\n",
              "</style>\n",
              "<table border=\"1\" class=\"dataframe\">\n",
              "  <thead>\n",
              "    <tr style=\"text-align: right;\">\n",
              "      <th></th>\n",
              "      <th>Salary</th>\n",
              "      <th>Bonus</th>\n",
              "    </tr>\n",
              "  </thead>\n",
              "  <tbody>\n",
              "    <tr>\n",
              "      <th>Jack</th>\n",
              "      <td>65000.0</td>\n",
              "      <td>10000</td>\n",
              "    </tr>\n",
              "    <tr>\n",
              "      <th>Paula</th>\n",
              "      <td>78000.0</td>\n",
              "      <td>18000</td>\n",
              "    </tr>\n",
              "  </tbody>\n",
              "</table>\n",
              "</div>"
            ],
            "text/plain": [
              "        Salary  Bonus\n",
              "Jack   65000.0  10000\n",
              "Paula  78000.0  18000"
            ]
          },
          "metadata": {},
          "output_type": "display_data"
        },
        {
          "data": {
            "text/plain": [
              "Salary         65000\n",
              "Is Employed     True\n",
              "Name: Jack, dtype: object"
            ]
          },
          "metadata": {},
          "output_type": "display_data"
        },
        {
          "data": {
            "text/plain": [
              "65000.0"
            ]
          },
          "metadata": {},
          "output_type": "display_data"
        },
        {
          "data": {
            "text/html": [
              "<div>\n",
              "<style scoped>\n",
              "    .dataframe tbody tr th:only-of-type {\n",
              "        vertical-align: middle;\n",
              "    }\n",
              "\n",
              "    .dataframe tbody tr th {\n",
              "        vertical-align: top;\n",
              "    }\n",
              "\n",
              "    .dataframe thead th {\n",
              "        text-align: right;\n",
              "    }\n",
              "</style>\n",
              "<table border=\"1\" class=\"dataframe\">\n",
              "  <thead>\n",
              "    <tr style=\"text-align: right;\">\n",
              "      <th></th>\n",
              "      <th>Salary</th>\n",
              "      <th>Bonus</th>\n",
              "    </tr>\n",
              "  </thead>\n",
              "  <tbody>\n",
              "    <tr>\n",
              "      <th>Jack</th>\n",
              "      <td>65000.0</td>\n",
              "      <td>10000</td>\n",
              "    </tr>\n",
              "    <tr>\n",
              "      <th>Paula</th>\n",
              "      <td>78000.0</td>\n",
              "      <td>18000</td>\n",
              "    </tr>\n",
              "  </tbody>\n",
              "</table>\n",
              "</div>"
            ],
            "text/plain": [
              "        Salary  Bonus\n",
              "Jack   65000.0  10000\n",
              "Paula  78000.0  18000"
            ]
          },
          "metadata": {},
          "output_type": "display_data"
        }
      ],
      "source": [
        "# Select based on row and column indexes\n",
        "display(df.loc['Jack', 'Salary']) # one row and one column (one cell)\n",
        "display(df.loc[['Jack', 'Paula'], ['Salary', 'Bonus']]) # multiple rows and/or columns\n",
        "display(df.loc['Jack', :'Is Employed']) # using ranges\n",
        "display(df.iloc[0, 0]) # one cell by row and column numbers\n",
        "display(df.iloc[0:2, [0, 2] ]) # multiple rows and/or columns (list or range)"
      ]
    },
    {
      "cell_type": "code",
      "execution_count": null,
      "metadata": {
        "id": "4vn_8W6J8yk1",
        "outputId": "7e2c6ad6-6bf7-4bd4-a4f3-d81cb69c8563"
      },
      "outputs": [
        {
          "data": {
            "text/html": [
              "<div>\n",
              "<style scoped>\n",
              "    .dataframe tbody tr th:only-of-type {\n",
              "        vertical-align: middle;\n",
              "    }\n",
              "\n",
              "    .dataframe tbody tr th {\n",
              "        vertical-align: top;\n",
              "    }\n",
              "\n",
              "    .dataframe thead th {\n",
              "        text-align: right;\n",
              "    }\n",
              "</style>\n",
              "<table border=\"1\" class=\"dataframe\">\n",
              "  <thead>\n",
              "    <tr style=\"text-align: right;\">\n",
              "      <th></th>\n",
              "      <th>Salary</th>\n",
              "      <th>Is Employed</th>\n",
              "      <th>Bonus</th>\n",
              "    </tr>\n",
              "  </thead>\n",
              "  <tbody>\n",
              "    <tr>\n",
              "      <th>Paula</th>\n",
              "      <td>78000.0</td>\n",
              "      <td>True</td>\n",
              "      <td>18000</td>\n",
              "    </tr>\n",
              "  </tbody>\n",
              "</table>\n",
              "</div>"
            ],
            "text/plain": [
              "        Salary  Is Employed  Bonus\n",
              "Paula  78000.0         True  18000"
            ]
          },
          "metadata": {},
          "output_type": "display_data"
        },
        {
          "data": {
            "text/plain": [
              "Paula    18000\n",
              "Name: Bonus, dtype: int64"
            ]
          },
          "metadata": {},
          "output_type": "display_data"
        },
        {
          "data": {
            "text/html": [
              "<div>\n",
              "<style scoped>\n",
              "    .dataframe tbody tr th:only-of-type {\n",
              "        vertical-align: middle;\n",
              "    }\n",
              "\n",
              "    .dataframe tbody tr th {\n",
              "        vertical-align: top;\n",
              "    }\n",
              "\n",
              "    .dataframe thead th {\n",
              "        text-align: right;\n",
              "    }\n",
              "</style>\n",
              "<table border=\"1\" class=\"dataframe\">\n",
              "  <thead>\n",
              "    <tr style=\"text-align: right;\">\n",
              "      <th></th>\n",
              "      <th>Salary</th>\n",
              "      <th>Is Employed</th>\n",
              "      <th>Bonus</th>\n",
              "    </tr>\n",
              "  </thead>\n",
              "  <tbody>\n",
              "  </tbody>\n",
              "</table>\n",
              "</div>"
            ],
            "text/plain": [
              "Empty DataFrame\n",
              "Columns: [Salary, Is Employed, Bonus]\n",
              "Index: []"
            ]
          },
          "metadata": {},
          "output_type": "display_data"
        }
      ],
      "source": [
        "# Filter based on the values of a column\n",
        "display(df[df.Salary > 70_000]) # Filter high paid \n",
        "display(df.loc[:, 'Bonus'][df.Salary > 70_000]) # Filter high paid (show only one column) \n",
        "display(df[~df['Is Employed']]) # Filter unemploed "
      ]
    },
    {
      "cell_type": "code",
      "execution_count": null,
      "metadata": {
        "id": "xNwWWJUA8yk2",
        "outputId": "4f31ea64-fe67-411e-c964-df9258a7b5fa"
      },
      "outputs": [
        {
          "data": {
            "text/html": [
              "<div>\n",
              "<style scoped>\n",
              "    .dataframe tbody tr th:only-of-type {\n",
              "        vertical-align: middle;\n",
              "    }\n",
              "\n",
              "    .dataframe tbody tr th {\n",
              "        vertical-align: top;\n",
              "    }\n",
              "\n",
              "    .dataframe thead th {\n",
              "        text-align: right;\n",
              "    }\n",
              "</style>\n",
              "<table border=\"1\" class=\"dataframe\">\n",
              "  <thead>\n",
              "    <tr style=\"text-align: right;\">\n",
              "      <th></th>\n",
              "      <th>a</th>\n",
              "      <th>b</th>\n",
              "      <th>c</th>\n",
              "      <th>d</th>\n",
              "    </tr>\n",
              "  </thead>\n",
              "  <tbody>\n",
              "    <tr>\n",
              "      <th>0</th>\n",
              "      <td>True</td>\n",
              "      <td>False</td>\n",
              "      <td>True</td>\n",
              "      <td>False</td>\n",
              "    </tr>\n",
              "    <tr>\n",
              "      <th>1</th>\n",
              "      <td>True</td>\n",
              "      <td>False</td>\n",
              "      <td>True</td>\n",
              "      <td>False</td>\n",
              "    </tr>\n",
              "    <tr>\n",
              "      <th>2</th>\n",
              "      <td>True</td>\n",
              "      <td>False</td>\n",
              "      <td>True</td>\n",
              "      <td>False</td>\n",
              "    </tr>\n",
              "  </tbody>\n",
              "</table>\n",
              "</div>"
            ],
            "text/plain": [
              "      a      b     c      d\n",
              "0  True  False  True  False\n",
              "1  True  False  True  False\n",
              "2  True  False  True  False"
            ]
          },
          "metadata": {},
          "output_type": "display_data"
        },
        {
          "data": {
            "text/html": [
              "<div>\n",
              "<style scoped>\n",
              "    .dataframe tbody tr th:only-of-type {\n",
              "        vertical-align: middle;\n",
              "    }\n",
              "\n",
              "    .dataframe tbody tr th {\n",
              "        vertical-align: top;\n",
              "    }\n",
              "\n",
              "    .dataframe thead th {\n",
              "        text-align: right;\n",
              "    }\n",
              "</style>\n",
              "<table border=\"1\" class=\"dataframe\">\n",
              "  <thead>\n",
              "    <tr style=\"text-align: right;\">\n",
              "      <th></th>\n",
              "      <th>a</th>\n",
              "      <th>b</th>\n",
              "      <th>c</th>\n",
              "      <th>d</th>\n",
              "    </tr>\n",
              "  </thead>\n",
              "  <tbody>\n",
              "    <tr>\n",
              "      <th>0</th>\n",
              "      <td>0</td>\n",
              "      <td>NaN</td>\n",
              "      <td>2</td>\n",
              "      <td>NaN</td>\n",
              "    </tr>\n",
              "    <tr>\n",
              "      <th>1</th>\n",
              "      <td>4</td>\n",
              "      <td>NaN</td>\n",
              "      <td>6</td>\n",
              "      <td>NaN</td>\n",
              "    </tr>\n",
              "    <tr>\n",
              "      <th>2</th>\n",
              "      <td>8</td>\n",
              "      <td>NaN</td>\n",
              "      <td>10</td>\n",
              "      <td>NaN</td>\n",
              "    </tr>\n",
              "  </tbody>\n",
              "</table>\n",
              "</div>"
            ],
            "text/plain": [
              "   a   b   c   d\n",
              "0  0 NaN   2 NaN\n",
              "1  4 NaN   6 NaN\n",
              "2  8 NaN  10 NaN"
            ]
          },
          "metadata": {},
          "output_type": "display_data"
        }
      ],
      "source": [
        "# Filter based on the values of the entire data frame\n",
        "df2 = pd.DataFrame(np.arange(12).reshape(3, 4), columns=list('abcd'))\n",
        "display(df2 % 2 == 0) # Boolean DataFrame\n",
        "display(df2[df2 % 2 == 0]) # Filtering by boolean DataFrame"
      ]
    },
    {
      "cell_type": "markdown",
      "metadata": {
        "id": "ozbixriV8yk2"
      },
      "source": [
        "### Data Alignment"
      ]
    },
    {
      "cell_type": "code",
      "execution_count": null,
      "metadata": {
        "id": "HB-_nKF88yk2",
        "outputId": "c4c62336-0684-4424-c23c-35abb4610f91"
      },
      "outputs": [
        {
          "data": {
            "text/plain": [
              "Alex         NaN\n",
              "Jack     80000.0\n",
              "Paula    96000.0\n",
              "dtype: float64"
            ]
          },
          "metadata": {},
          "output_type": "display_data"
        },
        {
          "data": {
            "text/html": [
              "<div>\n",
              "<style scoped>\n",
              "    .dataframe tbody tr th:only-of-type {\n",
              "        vertical-align: middle;\n",
              "    }\n",
              "\n",
              "    .dataframe tbody tr th {\n",
              "        vertical-align: top;\n",
              "    }\n",
              "\n",
              "    .dataframe thead th {\n",
              "        text-align: right;\n",
              "    }\n",
              "</style>\n",
              "<table border=\"1\" class=\"dataframe\">\n",
              "  <thead>\n",
              "    <tr style=\"text-align: right;\">\n",
              "      <th></th>\n",
              "      <th>a</th>\n",
              "      <th>b</th>\n",
              "      <th>c</th>\n",
              "      <th>d</th>\n",
              "    </tr>\n",
              "  </thead>\n",
              "  <tbody>\n",
              "    <tr>\n",
              "      <th>Alex</th>\n",
              "      <td>NaN</td>\n",
              "      <td>NaN</td>\n",
              "      <td>NaN</td>\n",
              "      <td>NaN</td>\n",
              "    </tr>\n",
              "    <tr>\n",
              "      <th>Jack</th>\n",
              "      <td>NaN</td>\n",
              "      <td>-5.0</td>\n",
              "      <td>-5.0</td>\n",
              "      <td>NaN</td>\n",
              "    </tr>\n",
              "    <tr>\n",
              "      <th>Paula</th>\n",
              "      <td>NaN</td>\n",
              "      <td>1.0</td>\n",
              "      <td>1.0</td>\n",
              "      <td>NaN</td>\n",
              "    </tr>\n",
              "  </tbody>\n",
              "</table>\n",
              "</div>"
            ],
            "text/plain": [
              "        a    b    c   d\n",
              "Alex  NaN  NaN  NaN NaN\n",
              "Jack  NaN -5.0 -5.0 NaN\n",
              "Paula NaN  1.0  1.0 NaN"
            ]
          },
          "metadata": {},
          "output_type": "display_data"
        }
      ],
      "source": [
        "# Aligning two Series during arithmetic operations\n",
        "salaries = pd.Series([65_000, 78_000], index=['Jack', 'Paula'])\n",
        "bonuses = pd.Series([10_000, 18_000, 15_000], index=['Alex', 'Paula', 'Jack'])\n",
        "\n",
        "display(salaries + bonuses) # alignment + addition\n",
        "\n",
        "# Aligning two DataFrames during arithmetic operations\n",
        "df1 = pd.DataFrame(np.arange(6).reshape(2, 3), columns=list('abc'), index=['Jack', 'Paula'])\n",
        "df2 = pd.DataFrame(np.arange(9).reshape(3, 3), columns=list('bcd'), index=['Alex', 'Paula', 'Jack'])\n",
        "\n",
        "display(df1 - df2) # alignment + suntraction"
      ]
    },
    {
      "cell_type": "code",
      "execution_count": null,
      "metadata": {
        "id": "SFq48dDv8yk2",
        "outputId": "0baa0c39-d62f-4a50-feb8-eca8e97e6cbd"
      },
      "outputs": [
        {
          "data": {
            "text/html": [
              "<div>\n",
              "<style scoped>\n",
              "    .dataframe tbody tr th:only-of-type {\n",
              "        vertical-align: middle;\n",
              "    }\n",
              "\n",
              "    .dataframe tbody tr th {\n",
              "        vertical-align: top;\n",
              "    }\n",
              "\n",
              "    .dataframe thead th {\n",
              "        text-align: right;\n",
              "    }\n",
              "</style>\n",
              "<table border=\"1\" class=\"dataframe\">\n",
              "  <thead>\n",
              "    <tr style=\"text-align: right;\">\n",
              "      <th></th>\n",
              "      <th>a</th>\n",
              "      <th>b</th>\n",
              "      <th>c</th>\n",
              "      <th>d</th>\n",
              "    </tr>\n",
              "  </thead>\n",
              "  <tbody>\n",
              "    <tr>\n",
              "      <th>Alex</th>\n",
              "      <td>NaN</td>\n",
              "      <td>0.0</td>\n",
              "      <td>1.0</td>\n",
              "      <td>2.0</td>\n",
              "    </tr>\n",
              "    <tr>\n",
              "      <th>Jack</th>\n",
              "      <td>0.0</td>\n",
              "      <td>7.0</td>\n",
              "      <td>9.0</td>\n",
              "      <td>8.0</td>\n",
              "    </tr>\n",
              "    <tr>\n",
              "      <th>Paula</th>\n",
              "      <td>3.0</td>\n",
              "      <td>7.0</td>\n",
              "      <td>9.0</td>\n",
              "      <td>5.0</td>\n",
              "    </tr>\n",
              "  </tbody>\n",
              "</table>\n",
              "</div>"
            ],
            "text/plain": [
              "         a    b    c    d\n",
              "Alex   NaN  0.0  1.0  2.0\n",
              "Jack   0.0  7.0  9.0  8.0\n",
              "Paula  3.0  7.0  9.0  5.0"
            ]
          },
          "metadata": {},
          "output_type": "display_data"
        },
        {
          "data": {
            "text/html": [
              "<div>\n",
              "<style scoped>\n",
              "    .dataframe tbody tr th:only-of-type {\n",
              "        vertical-align: middle;\n",
              "    }\n",
              "\n",
              "    .dataframe tbody tr th {\n",
              "        vertical-align: top;\n",
              "    }\n",
              "\n",
              "    .dataframe thead th {\n",
              "        text-align: right;\n",
              "    }\n",
              "</style>\n",
              "<table border=\"1\" class=\"dataframe\">\n",
              "  <thead>\n",
              "    <tr style=\"text-align: right;\">\n",
              "      <th></th>\n",
              "      <th>a</th>\n",
              "      <th>b</th>\n",
              "      <th>c</th>\n",
              "    </tr>\n",
              "  </thead>\n",
              "  <tbody>\n",
              "    <tr>\n",
              "      <th>Jack</th>\n",
              "      <td>inf</td>\n",
              "      <td>1.00</td>\n",
              "      <td>0.5</td>\n",
              "    </tr>\n",
              "    <tr>\n",
              "      <th>Paula</th>\n",
              "      <td>0.333333</td>\n",
              "      <td>0.25</td>\n",
              "      <td>0.2</td>\n",
              "    </tr>\n",
              "  </tbody>\n",
              "</table>\n",
              "</div>"
            ],
            "text/plain": [
              "              a     b    c\n",
              "Jack        inf  1.00  0.5\n",
              "Paula  0.333333  0.25  0.2"
            ]
          },
          "metadata": {},
          "output_type": "display_data"
        },
        {
          "data": {
            "text/html": [
              "<div>\n",
              "<style scoped>\n",
              "    .dataframe tbody tr th:only-of-type {\n",
              "        vertical-align: middle;\n",
              "    }\n",
              "\n",
              "    .dataframe tbody tr th {\n",
              "        vertical-align: top;\n",
              "    }\n",
              "\n",
              "    .dataframe thead th {\n",
              "        text-align: right;\n",
              "    }\n",
              "</style>\n",
              "<table border=\"1\" class=\"dataframe\">\n",
              "  <thead>\n",
              "    <tr style=\"text-align: right;\">\n",
              "      <th></th>\n",
              "      <th>a</th>\n",
              "      <th>b</th>\n",
              "      <th>c</th>\n",
              "    </tr>\n",
              "  </thead>\n",
              "  <tbody>\n",
              "    <tr>\n",
              "      <th>Jack</th>\n",
              "      <td>inf</td>\n",
              "      <td>1.00</td>\n",
              "      <td>0.5</td>\n",
              "    </tr>\n",
              "    <tr>\n",
              "      <th>Paula</th>\n",
              "      <td>0.333333</td>\n",
              "      <td>0.25</td>\n",
              "      <td>0.2</td>\n",
              "    </tr>\n",
              "  </tbody>\n",
              "</table>\n",
              "</div>"
            ],
            "text/plain": [
              "              a     b    c\n",
              "Jack        inf  1.00  0.5\n",
              "Paula  0.333333  0.25  0.2"
            ]
          },
          "metadata": {},
          "output_type": "display_data"
        },
        {
          "data": {
            "text/html": [
              "<div>\n",
              "<style scoped>\n",
              "    .dataframe tbody tr th:only-of-type {\n",
              "        vertical-align: middle;\n",
              "    }\n",
              "\n",
              "    .dataframe tbody tr th {\n",
              "        vertical-align: top;\n",
              "    }\n",
              "\n",
              "    .dataframe thead th {\n",
              "        text-align: right;\n",
              "    }\n",
              "</style>\n",
              "<table border=\"1\" class=\"dataframe\">\n",
              "  <thead>\n",
              "    <tr style=\"text-align: right;\">\n",
              "      <th></th>\n",
              "      <th>a</th>\n",
              "      <th>b</th>\n",
              "      <th>c</th>\n",
              "      <th>d</th>\n",
              "    </tr>\n",
              "  </thead>\n",
              "  <tbody>\n",
              "    <tr>\n",
              "      <th>Alex</th>\n",
              "      <td>inf</td>\n",
              "      <td>inf</td>\n",
              "      <td>inf</td>\n",
              "      <td>inf</td>\n",
              "    </tr>\n",
              "    <tr>\n",
              "      <th>Jack</th>\n",
              "      <td>inf</td>\n",
              "      <td>0.142857</td>\n",
              "      <td>0.111111</td>\n",
              "      <td>inf</td>\n",
              "    </tr>\n",
              "    <tr>\n",
              "      <th>Paula</th>\n",
              "      <td>inf</td>\n",
              "      <td>0.142857</td>\n",
              "      <td>0.111111</td>\n",
              "      <td>inf</td>\n",
              "    </tr>\n",
              "  </tbody>\n",
              "</table>\n",
              "</div>"
            ],
            "text/plain": [
              "         a         b         c    d\n",
              "Alex   inf       inf       inf  inf\n",
              "Jack   inf  0.142857  0.111111  inf\n",
              "Paula  inf  0.142857  0.111111  inf"
            ]
          },
          "metadata": {},
          "output_type": "display_data"
        }
      ],
      "source": [
        "# Fill the missing values befoer aligned operation\n",
        "display(df1.add(df2, fill_value=0)) # addition with fill value (fills with 0 before addition)\n",
        "\n",
        "# other functions: sub, div, mul, floordiv, pow\n",
        "# reverse functions: radd, rsub, rdiv, rmul, rfloordiv, rpow\n",
        "display(1/df1)\n",
        "display(df1.rdiv(1))\n",
        "display((df1 + df2).rdiv(1, fill_value=0))"
      ]
    },
    {
      "cell_type": "markdown",
      "metadata": {
        "id": "vUuyqDto8yk2"
      },
      "source": [
        "### Broadcasting"
      ]
    },
    {
      "cell_type": "code",
      "execution_count": null,
      "metadata": {
        "id": "GB2dSpfn8yk2",
        "outputId": "9b59459b-eaa8-49b9-f4e9-c3544222fea1"
      },
      "outputs": [
        {
          "data": {
            "text/html": [
              "<div>\n",
              "<style scoped>\n",
              "    .dataframe tbody tr th:only-of-type {\n",
              "        vertical-align: middle;\n",
              "    }\n",
              "\n",
              "    .dataframe tbody tr th {\n",
              "        vertical-align: top;\n",
              "    }\n",
              "\n",
              "    .dataframe thead th {\n",
              "        text-align: right;\n",
              "    }\n",
              "</style>\n",
              "<table border=\"1\" class=\"dataframe\">\n",
              "  <thead>\n",
              "    <tr style=\"text-align: right;\">\n",
              "      <th></th>\n",
              "      <th>col1</th>\n",
              "      <th>col2</th>\n",
              "      <th>col3</th>\n",
              "    </tr>\n",
              "  </thead>\n",
              "  <tbody>\n",
              "    <tr>\n",
              "      <th>0</th>\n",
              "      <td>0</td>\n",
              "      <td>1</td>\n",
              "      <td>2</td>\n",
              "    </tr>\n",
              "    <tr>\n",
              "      <th>1</th>\n",
              "      <td>3</td>\n",
              "      <td>4</td>\n",
              "      <td>5</td>\n",
              "    </tr>\n",
              "  </tbody>\n",
              "</table>\n",
              "</div>"
            ],
            "text/plain": [
              "   col1  col2  col3\n",
              "0     0     1     2\n",
              "1     3     4     5"
            ]
          },
          "metadata": {},
          "output_type": "display_data"
        },
        {
          "data": {
            "text/html": [
              "<div>\n",
              "<style scoped>\n",
              "    .dataframe tbody tr th:only-of-type {\n",
              "        vertical-align: middle;\n",
              "    }\n",
              "\n",
              "    .dataframe tbody tr th {\n",
              "        vertical-align: top;\n",
              "    }\n",
              "\n",
              "    .dataframe thead th {\n",
              "        text-align: right;\n",
              "    }\n",
              "</style>\n",
              "<table border=\"1\" class=\"dataframe\">\n",
              "  <thead>\n",
              "    <tr style=\"text-align: right;\">\n",
              "      <th></th>\n",
              "      <th>col1</th>\n",
              "      <th>col2</th>\n",
              "      <th>col3</th>\n",
              "    </tr>\n",
              "  </thead>\n",
              "  <tbody>\n",
              "    <tr>\n",
              "      <th>0</th>\n",
              "      <td>5</td>\n",
              "      <td>6</td>\n",
              "      <td>7</td>\n",
              "    </tr>\n",
              "    <tr>\n",
              "      <th>1</th>\n",
              "      <td>8</td>\n",
              "      <td>9</td>\n",
              "      <td>10</td>\n",
              "    </tr>\n",
              "  </tbody>\n",
              "</table>\n",
              "</div>"
            ],
            "text/plain": [
              "   col1  col2  col3\n",
              "0     5     6     7\n",
              "1     8     9    10"
            ]
          },
          "metadata": {},
          "output_type": "display_data"
        }
      ],
      "source": [
        "df = pd.DataFrame(np.arange(6).reshape(2, 3), columns=['col1', 'col2', 'col3'])\n",
        "display(df)\n",
        "display(df + 5) # adding 5 to all the data frame elements"
      ]
    },
    {
      "cell_type": "code",
      "execution_count": null,
      "metadata": {
        "id": "CYyZgNnJ8yk2",
        "outputId": "b29a922f-9dfa-46d4-a3fb-968116f5986e"
      },
      "outputs": [
        {
          "data": {
            "text/html": [
              "<div>\n",
              "<style scoped>\n",
              "    .dataframe tbody tr th:only-of-type {\n",
              "        vertical-align: middle;\n",
              "    }\n",
              "\n",
              "    .dataframe tbody tr th {\n",
              "        vertical-align: top;\n",
              "    }\n",
              "\n",
              "    .dataframe thead th {\n",
              "        text-align: right;\n",
              "    }\n",
              "</style>\n",
              "<table border=\"1\" class=\"dataframe\">\n",
              "  <thead>\n",
              "    <tr style=\"text-align: right;\">\n",
              "      <th></th>\n",
              "      <th>col1</th>\n",
              "      <th>col2</th>\n",
              "      <th>col3</th>\n",
              "    </tr>\n",
              "  </thead>\n",
              "  <tbody>\n",
              "    <tr>\n",
              "      <th>0</th>\n",
              "      <td>-3</td>\n",
              "      <td>-3</td>\n",
              "      <td>-3</td>\n",
              "    </tr>\n",
              "    <tr>\n",
              "      <th>1</th>\n",
              "      <td>0</td>\n",
              "      <td>0</td>\n",
              "      <td>0</td>\n",
              "    </tr>\n",
              "  </tbody>\n",
              "</table>\n",
              "</div>"
            ],
            "text/plain": [
              "   col1  col2  col3\n",
              "0    -3    -3    -3\n",
              "1     0     0     0"
            ]
          },
          "metadata": {},
          "output_type": "display_data"
        },
        {
          "data": {
            "text/html": [
              "<div>\n",
              "<style scoped>\n",
              "    .dataframe tbody tr th:only-of-type {\n",
              "        vertical-align: middle;\n",
              "    }\n",
              "\n",
              "    .dataframe tbody tr th {\n",
              "        vertical-align: top;\n",
              "    }\n",
              "\n",
              "    .dataframe thead th {\n",
              "        text-align: right;\n",
              "    }\n",
              "</style>\n",
              "<table border=\"1\" class=\"dataframe\">\n",
              "  <thead>\n",
              "    <tr style=\"text-align: right;\">\n",
              "      <th></th>\n",
              "      <th>col1</th>\n",
              "      <th>col2</th>\n",
              "      <th>col3</th>\n",
              "    </tr>\n",
              "  </thead>\n",
              "  <tbody>\n",
              "    <tr>\n",
              "      <th>0</th>\n",
              "      <td>-2</td>\n",
              "      <td>-1</td>\n",
              "      <td>0</td>\n",
              "    </tr>\n",
              "    <tr>\n",
              "      <th>1</th>\n",
              "      <td>-2</td>\n",
              "      <td>-1</td>\n",
              "      <td>0</td>\n",
              "    </tr>\n",
              "  </tbody>\n",
              "</table>\n",
              "</div>"
            ],
            "text/plain": [
              "   col1  col2  col3\n",
              "0    -2    -1     0\n",
              "1    -2    -1     0"
            ]
          },
          "metadata": {},
          "output_type": "display_data"
        },
        {
          "data": {
            "text/html": [
              "<div>\n",
              "<style scoped>\n",
              "    .dataframe tbody tr th:only-of-type {\n",
              "        vertical-align: middle;\n",
              "    }\n",
              "\n",
              "    .dataframe tbody tr th {\n",
              "        vertical-align: top;\n",
              "    }\n",
              "\n",
              "    .dataframe thead th {\n",
              "        text-align: right;\n",
              "    }\n",
              "</style>\n",
              "<table border=\"1\" class=\"dataframe\">\n",
              "  <thead>\n",
              "    <tr style=\"text-align: right;\">\n",
              "      <th></th>\n",
              "      <th>col1</th>\n",
              "      <th>col2</th>\n",
              "      <th>col3</th>\n",
              "      <th>col4</th>\n",
              "    </tr>\n",
              "  </thead>\n",
              "  <tbody>\n",
              "    <tr>\n",
              "      <th>0</th>\n",
              "      <td>-3.0</td>\n",
              "      <td>NaN</td>\n",
              "      <td>NaN</td>\n",
              "      <td>NaN</td>\n",
              "    </tr>\n",
              "    <tr>\n",
              "      <th>1</th>\n",
              "      <td>0.0</td>\n",
              "      <td>NaN</td>\n",
              "      <td>NaN</td>\n",
              "      <td>NaN</td>\n",
              "    </tr>\n",
              "  </tbody>\n",
              "</table>\n",
              "</div>"
            ],
            "text/plain": [
              "   col1  col2  col3  col4\n",
              "0  -3.0   NaN   NaN   NaN\n",
              "1   0.0   NaN   NaN   NaN"
            ]
          },
          "metadata": {},
          "output_type": "display_data"
        }
      ],
      "source": [
        "display(df - df.iloc[1]) # subtracting the second row from all rows\n",
        "display(df.sub(df['col3'], axis='index')) # subtracting thiord column from all columns\n",
        "display(df - pd.Series([3, 1], index=['col1', 'col4'])) # broadcasting and alignment "
      ]
    },
    {
      "cell_type": "markdown",
      "metadata": {
        "id": "G3Wf4hTF8yk3"
      },
      "source": [
        "### Element-wise Functions (ufuncs)"
      ]
    },
    {
      "cell_type": "code",
      "execution_count": null,
      "metadata": {
        "id": "BHnG8ntk8yk3",
        "outputId": "882969c5-5aaa-49da-f8ee-6e780bc8253f"
      },
      "outputs": [
        {
          "data": {
            "text/html": [
              "<div>\n",
              "<style scoped>\n",
              "    .dataframe tbody tr th:only-of-type {\n",
              "        vertical-align: middle;\n",
              "    }\n",
              "\n",
              "    .dataframe tbody tr th {\n",
              "        vertical-align: top;\n",
              "    }\n",
              "\n",
              "    .dataframe thead th {\n",
              "        text-align: right;\n",
              "    }\n",
              "</style>\n",
              "<table border=\"1\" class=\"dataframe\">\n",
              "  <thead>\n",
              "    <tr style=\"text-align: right;\">\n",
              "      <th></th>\n",
              "      <th>col1</th>\n",
              "      <th>col2</th>\n",
              "      <th>col3</th>\n",
              "    </tr>\n",
              "  </thead>\n",
              "  <tbody>\n",
              "    <tr>\n",
              "      <th>0</th>\n",
              "      <td>0.00000</td>\n",
              "      <td>0.841471</td>\n",
              "      <td>0.909297</td>\n",
              "    </tr>\n",
              "    <tr>\n",
              "      <th>1</th>\n",
              "      <td>0.14112</td>\n",
              "      <td>-0.756802</td>\n",
              "      <td>-0.958924</td>\n",
              "    </tr>\n",
              "  </tbody>\n",
              "</table>\n",
              "</div>"
            ],
            "text/plain": [
              "      col1      col2      col3\n",
              "0  0.00000  0.841471  0.909297\n",
              "1  0.14112 -0.756802 -0.958924"
            ]
          },
          "metadata": {},
          "output_type": "display_data"
        },
        {
          "data": {
            "text/html": [
              "<div>\n",
              "<style scoped>\n",
              "    .dataframe tbody tr th:only-of-type {\n",
              "        vertical-align: middle;\n",
              "    }\n",
              "\n",
              "    .dataframe tbody tr th {\n",
              "        vertical-align: top;\n",
              "    }\n",
              "\n",
              "    .dataframe thead th {\n",
              "        text-align: right;\n",
              "    }\n",
              "</style>\n",
              "<table border=\"1\" class=\"dataframe\">\n",
              "  <thead>\n",
              "    <tr style=\"text-align: right;\">\n",
              "      <th></th>\n",
              "      <th>col1</th>\n",
              "      <th>col2</th>\n",
              "      <th>col3</th>\n",
              "    </tr>\n",
              "  </thead>\n",
              "  <tbody>\n",
              "    <tr>\n",
              "      <th>0</th>\n",
              "      <td>10</td>\n",
              "      <td>9</td>\n",
              "      <td>8</td>\n",
              "    </tr>\n",
              "    <tr>\n",
              "      <th>1</th>\n",
              "      <td>7</td>\n",
              "      <td>6</td>\n",
              "      <td>5</td>\n",
              "    </tr>\n",
              "  </tbody>\n",
              "</table>\n",
              "</div>"
            ],
            "text/plain": [
              "   col1  col2  col3\n",
              "0    10     9     8\n",
              "1     7     6     5"
            ]
          },
          "metadata": {},
          "output_type": "display_data"
        }
      ],
      "source": [
        "# All NumPy ufuncs work on pandas objects too:\n",
        "display(np.sin(df))\n",
        "display(np.abs(df - 10))"
      ]
    },
    {
      "cell_type": "markdown",
      "metadata": {
        "id": "AVh_Rt-d8yk3"
      },
      "source": [
        "### Aggregation and Statistics Methods\n",
        "\n",
        "\n",
        "| Method | Description | Method | Description | \n",
        "| :-- | :-- | :-- | :-- | \n",
        "| info | Prints a concise summary of a DataFrame | prod | Returns the product of the values for the requested axis |\n",
        "| describe | Generates descriptive statistics for a Series or a DataFrame column | var | Returns unbiased variance over requested axis |\n",
        "| count | Counts non-NA cells for each column or row | std | Returns sample standard deviation over requested axis |\n",
        "| min, max | Returns the minimum/maximum of the values for the requested axis | skew | Returns unbiased skew over requested axis |\n",
        "| argmin, argmax | Returns int position of the smallest/largest value  | kurt | Returns unbiased kurtosis over requested axis |\n",
        "| idxmin, idxmax | Returns index of first occurrence of minimum/maximum over requested axis | cumsum | Returns cumulative sum over a DataFrame or Series axis |\n",
        "| quantile | Returns values at the given quantile over requested axis | cummin, cummax | Returns cumulative minimum/maximum over a DataFrame or Series axis |\n",
        "| sum | Returns the sum of the values for the requested axis | cumprod | Returns cumulative product over a DataFrame or Series axis |\n",
        "| mean | Returns the mean of the values for the requested axis | diff | First discrete difference of element |\n",
        "| median | Returns the mean of the values for the requested axis | pct_change | Percentage change between the current and a prior element |\n",
        "| mad | Returns the mean absolute deviation of the values for the requested axis | apply | Applies a function along an axis of the DataFrame |"
      ]
    },
    {
      "cell_type": "code",
      "execution_count": null,
      "metadata": {
        "id": "wffNeBCs8yk3",
        "outputId": "4917e11b-f370-4d84-994d-3d88664e5f36"
      },
      "outputs": [
        {
          "data": {
            "text/html": [
              "<div>\n",
              "<style scoped>\n",
              "    .dataframe tbody tr th:only-of-type {\n",
              "        vertical-align: middle;\n",
              "    }\n",
              "\n",
              "    .dataframe tbody tr th {\n",
              "        vertical-align: top;\n",
              "    }\n",
              "\n",
              "    .dataframe thead th {\n",
              "        text-align: right;\n",
              "    }\n",
              "</style>\n",
              "<table border=\"1\" class=\"dataframe\">\n",
              "  <thead>\n",
              "    <tr style=\"text-align: right;\">\n",
              "      <th></th>\n",
              "      <th>Salary</th>\n",
              "      <th>Is Employed</th>\n",
              "      <th>Bonus</th>\n",
              "      <th>Age</th>\n",
              "    </tr>\n",
              "  </thead>\n",
              "  <tbody>\n",
              "    <tr>\n",
              "      <th>Jack</th>\n",
              "      <td>65000.0</td>\n",
              "      <td>True</td>\n",
              "      <td>10000</td>\n",
              "      <td>25.0</td>\n",
              "    </tr>\n",
              "    <tr>\n",
              "      <th>Sara</th>\n",
              "      <td>0.0</td>\n",
              "      <td>False</td>\n",
              "      <td>0</td>\n",
              "      <td>NaN</td>\n",
              "    </tr>\n",
              "    <tr>\n",
              "      <th>Paula</th>\n",
              "      <td>78000.0</td>\n",
              "      <td>True</td>\n",
              "      <td>18000</td>\n",
              "      <td>NaN</td>\n",
              "    </tr>\n",
              "    <tr>\n",
              "      <th>Alex</th>\n",
              "      <td>NaN</td>\n",
              "      <td>True</td>\n",
              "      <td>15000</td>\n",
              "      <td>NaN</td>\n",
              "    </tr>\n",
              "  </tbody>\n",
              "</table>\n",
              "</div>"
            ],
            "text/plain": [
              "        Salary  Is Employed  Bonus   Age\n",
              "Jack   65000.0         True  10000  25.0\n",
              "Sara       0.0        False      0   NaN\n",
              "Paula  78000.0         True  18000   NaN\n",
              "Alex       NaN         True  15000   NaN"
            ]
          },
          "metadata": {},
          "output_type": "display_data"
        }
      ],
      "source": [
        "df = pd.DataFrame({\n",
        "    'Salary': {'Jack': 65_000, 'Sara': 0, 'Paula': 78_000},\n",
        "    'Is Employed': {'Jack': True, 'Sara': False, 'Paula': True, 'Alex': True},\n",
        "    'Bonus': {'Jack': 10_000, 'Sara': 0, 'Paula': 18_000, 'Alex': 15_000},\n",
        "    'Age': {'Jack': 25},\n",
        "})\n",
        "\n",
        "display(df)"
      ]
    },
    {
      "cell_type": "code",
      "execution_count": null,
      "metadata": {
        "id": "ZTdPsAwf8yk3",
        "outputId": "3a152044-33db-459a-b1e3-1d043bf42102"
      },
      "outputs": [
        {
          "name": "stdout",
          "output_type": "stream",
          "text": [
            "<class 'pandas.core.frame.DataFrame'>\n",
            "Index: 4 entries, Jack to Alex\n",
            "Data columns (total 4 columns):\n",
            " #   Column       Non-Null Count  Dtype  \n",
            "---  ------       --------------  -----  \n",
            " 0   Salary       3 non-null      float64\n",
            " 1   Is Employed  4 non-null      bool   \n",
            " 2   Bonus        4 non-null      int64  \n",
            " 3   Age          1 non-null      float64\n",
            "dtypes: bool(1), float64(2), int64(1)\n",
            "memory usage: 132.0+ bytes\n"
          ]
        }
      ],
      "source": [
        "# Information\n",
        "df.info()"
      ]
    },
    {
      "cell_type": "code",
      "execution_count": null,
      "metadata": {
        "id": "mdT0bCds8yk3",
        "outputId": "2e6d6c48-3852-4fe0-c9ff-fc49e423c7a3"
      },
      "outputs": [
        {
          "data": {
            "text/html": [
              "<div>\n",
              "<style scoped>\n",
              "    .dataframe tbody tr th:only-of-type {\n",
              "        vertical-align: middle;\n",
              "    }\n",
              "\n",
              "    .dataframe tbody tr th {\n",
              "        vertical-align: top;\n",
              "    }\n",
              "\n",
              "    .dataframe thead th {\n",
              "        text-align: right;\n",
              "    }\n",
              "</style>\n",
              "<table border=\"1\" class=\"dataframe\">\n",
              "  <thead>\n",
              "    <tr style=\"text-align: right;\">\n",
              "      <th></th>\n",
              "      <th>Salary</th>\n",
              "      <th>Bonus</th>\n",
              "      <th>Age</th>\n",
              "    </tr>\n",
              "  </thead>\n",
              "  <tbody>\n",
              "    <tr>\n",
              "      <th>count</th>\n",
              "      <td>3.000000</td>\n",
              "      <td>4.000000</td>\n",
              "      <td>1.0</td>\n",
              "    </tr>\n",
              "    <tr>\n",
              "      <th>mean</th>\n",
              "      <td>47666.666667</td>\n",
              "      <td>10750.000000</td>\n",
              "      <td>25.0</td>\n",
              "    </tr>\n",
              "    <tr>\n",
              "      <th>std</th>\n",
              "      <td>41789.153298</td>\n",
              "      <td>7889.866919</td>\n",
              "      <td>NaN</td>\n",
              "    </tr>\n",
              "    <tr>\n",
              "      <th>min</th>\n",
              "      <td>0.000000</td>\n",
              "      <td>0.000000</td>\n",
              "      <td>25.0</td>\n",
              "    </tr>\n",
              "    <tr>\n",
              "      <th>25%</th>\n",
              "      <td>32500.000000</td>\n",
              "      <td>7500.000000</td>\n",
              "      <td>25.0</td>\n",
              "    </tr>\n",
              "    <tr>\n",
              "      <th>50%</th>\n",
              "      <td>65000.000000</td>\n",
              "      <td>12500.000000</td>\n",
              "      <td>25.0</td>\n",
              "    </tr>\n",
              "    <tr>\n",
              "      <th>75%</th>\n",
              "      <td>71500.000000</td>\n",
              "      <td>15750.000000</td>\n",
              "      <td>25.0</td>\n",
              "    </tr>\n",
              "    <tr>\n",
              "      <th>max</th>\n",
              "      <td>78000.000000</td>\n",
              "      <td>18000.000000</td>\n",
              "      <td>25.0</td>\n",
              "    </tr>\n",
              "  </tbody>\n",
              "</table>\n",
              "</div>"
            ],
            "text/plain": [
              "             Salary         Bonus   Age\n",
              "count      3.000000      4.000000   1.0\n",
              "mean   47666.666667  10750.000000  25.0\n",
              "std    41789.153298   7889.866919   NaN\n",
              "min        0.000000      0.000000  25.0\n",
              "25%    32500.000000   7500.000000  25.0\n",
              "50%    65000.000000  12500.000000  25.0\n",
              "75%    71500.000000  15750.000000  25.0\n",
              "max    78000.000000  18000.000000  25.0"
            ]
          },
          "execution_count": 80,
          "metadata": {},
          "output_type": "execute_result"
        }
      ],
      "source": [
        "# Descriptive statistics\n",
        "df.describe()"
      ]
    },
    {
      "cell_type": "code",
      "execution_count": null,
      "metadata": {
        "id": "dBt8CHZ28yk3",
        "outputId": "babc9e10-934c-4c84-f523-e61c25189f89"
      },
      "outputs": [
        {
          "data": {
            "text/plain": [
              "Salary         143000.0\n",
              "Is Employed         3.0\n",
              "Bonus           43000.0\n",
              "Age                25.0\n",
              "dtype: float64"
            ]
          },
          "metadata": {},
          "output_type": "display_data"
        },
        {
          "data": {
            "text/plain": [
              "Jack     75026.0\n",
              "Sara         0.0\n",
              "Paula    96001.0\n",
              "Alex     15001.0\n",
              "dtype: float64"
            ]
          },
          "metadata": {},
          "output_type": "display_data"
        },
        {
          "data": {
            "text/plain": [
              "Salary    47666.666667\n",
              "Bonus     10750.000000\n",
              "Age          25.000000\n",
              "dtype: float64"
            ]
          },
          "metadata": {},
          "output_type": "display_data"
        },
        {
          "data": {
            "text/plain": [
              "Jack     18756.5\n",
              "Sara         NaN\n",
              "Paula        NaN\n",
              "Alex         NaN\n",
              "dtype: float64"
            ]
          },
          "metadata": {},
          "output_type": "display_data"
        }
      ],
      "source": [
        "display(df.sum()) # calculate sum of each column (True = 1, False = 0. NaN is skipped)\n",
        "display(df.sum(axis='columns')) # calculate sume of each row\n",
        "display(df.loc[:, df.columns != 'Is Employed'].mean()) # calculate sum of each column (excluding 'Is Employee')\n",
        "display(df.mean(axis='columns', skipna=False)) # NaN is not ignored , the result of every row with NaN is NaN"
      ]
    },
    {
      "cell_type": "code",
      "execution_count": null,
      "metadata": {
        "id": "D0MmgHN38yk3",
        "outputId": "4d3820fe-aaff-4646-baf3-e1ed6c11579c"
      },
      "outputs": [
        {
          "data": {
            "text/plain": [
              "Salary         78000.0\n",
              "Is Employed        1.0\n",
              "Bonus          18000.0\n",
              "Age                0.0\n",
              "dtype: float64"
            ]
          },
          "metadata": {},
          "output_type": "display_data"
        },
        {
          "name": "stderr",
          "output_type": "stream",
          "text": [
            "/opt/anaconda3/lib/python3.7/site-packages/ipykernel_launcher.py:3: RuntimeWarning: invalid value encountered in true_divide\n",
            "  This is separate from the ipykernel package so we can avoid doing imports until\n"
          ]
        },
        {
          "data": {
            "text/plain": [
              "Jack     65000.0\n",
              "Sara         NaN\n",
              "Paula    78000.0\n",
              "Alex     15000.0\n",
              "dtype: float64"
            ]
          },
          "metadata": {},
          "output_type": "display_data"
        }
      ],
      "source": [
        "# Apply a function\n",
        "display(df.apply(lambda col: col.max() - col.min())) # apply a lambda function\n",
        "display(df.apply(lambda col: np.divide(col.max(), col.min()), axis='columns')) # apply a lambda function"
      ]
    },
    {
      "cell_type": "markdown",
      "metadata": {
        "id": "bIiC_2Pn8yk4"
      },
      "source": [
        "### Some Other Useful Functions"
      ]
    },
    {
      "cell_type": "code",
      "execution_count": null,
      "metadata": {
        "id": "lSTxtCTc8yk4",
        "outputId": "48c91701-5a85-4429-8e70-dc4386a1cbcb"
      },
      "outputs": [
        {
          "data": {
            "text/plain": [
              "array([ True, False])"
            ]
          },
          "metadata": {},
          "output_type": "display_data"
        },
        {
          "data": {
            "text/plain": [
              "True     3\n",
              "False    1\n",
              "Name: Is Employed, dtype: int64"
            ]
          },
          "metadata": {},
          "output_type": "display_data"
        }
      ],
      "source": [
        "# Unique values for a Series\n",
        "display(df['Is Employed'].unique())\n",
        "\n",
        "# Count unique values\n",
        "display(df['Is Employed'].value_counts())"
      ]
    },
    {
      "cell_type": "code",
      "execution_count": null,
      "metadata": {
        "id": "oMRY3KQq8yk4",
        "outputId": "280b6d3d-4865-4e1f-801c-00a59f5dd9c7"
      },
      "outputs": [
        {
          "data": {
            "text/plain": [
              "0     True\n",
              "1    False\n",
              "2    False\n",
              "3    False\n",
              "dtype: bool"
            ]
          },
          "metadata": {},
          "output_type": "display_data"
        },
        {
          "data": {
            "text/html": [
              "<div>\n",
              "<style scoped>\n",
              "    .dataframe tbody tr th:only-of-type {\n",
              "        vertical-align: middle;\n",
              "    }\n",
              "\n",
              "    .dataframe tbody tr th {\n",
              "        vertical-align: top;\n",
              "    }\n",
              "\n",
              "    .dataframe thead th {\n",
              "        text-align: right;\n",
              "    }\n",
              "</style>\n",
              "<table border=\"1\" class=\"dataframe\">\n",
              "  <thead>\n",
              "    <tr style=\"text-align: right;\">\n",
              "      <th></th>\n",
              "      <th>Salary</th>\n",
              "      <th>Is Employed</th>\n",
              "      <th>Bonus</th>\n",
              "      <th>Age</th>\n",
              "    </tr>\n",
              "  </thead>\n",
              "  <tbody>\n",
              "    <tr>\n",
              "      <th>Jack</th>\n",
              "      <td>False</td>\n",
              "      <td>False</td>\n",
              "      <td>False</td>\n",
              "      <td>False</td>\n",
              "    </tr>\n",
              "    <tr>\n",
              "      <th>Sara</th>\n",
              "      <td>True</td>\n",
              "      <td>True</td>\n",
              "      <td>True</td>\n",
              "      <td>False</td>\n",
              "    </tr>\n",
              "    <tr>\n",
              "      <th>Paula</th>\n",
              "      <td>False</td>\n",
              "      <td>False</td>\n",
              "      <td>False</td>\n",
              "      <td>False</td>\n",
              "    </tr>\n",
              "    <tr>\n",
              "      <th>Alex</th>\n",
              "      <td>False</td>\n",
              "      <td>False</td>\n",
              "      <td>False</td>\n",
              "      <td>False</td>\n",
              "    </tr>\n",
              "  </tbody>\n",
              "</table>\n",
              "</div>"
            ],
            "text/plain": [
              "       Salary  Is Employed  Bonus    Age\n",
              "Jack    False        False  False  False\n",
              "Sara     True         True   True  False\n",
              "Paula   False        False  False  False\n",
              "Alex    False        False  False  False"
            ]
          },
          "metadata": {},
          "output_type": "display_data"
        }
      ],
      "source": [
        "s = pd.Series(['Jack', 'Paula', 'Alex', 'Sara'])\n",
        "display(s.isin(['Jack', 'Pamela'])) # check if elements of a Series are in a list\n",
        "display(df.isin([False, 0])) # check if elements of a DataFrame are in a list"
      ]
    },
    {
      "cell_type": "code",
      "execution_count": null,
      "metadata": {
        "id": "-s42Y8yY8yk4",
        "outputId": "e7f2754b-a56f-4ce6-d9d8-49e90f92fff2"
      },
      "outputs": [
        {
          "data": {
            "text/html": [
              "<div>\n",
              "<style scoped>\n",
              "    .dataframe tbody tr th:only-of-type {\n",
              "        vertical-align: middle;\n",
              "    }\n",
              "\n",
              "    .dataframe tbody tr th {\n",
              "        vertical-align: top;\n",
              "    }\n",
              "\n",
              "    .dataframe thead th {\n",
              "        text-align: right;\n",
              "    }\n",
              "</style>\n",
              "<table border=\"1\" class=\"dataframe\">\n",
              "  <thead>\n",
              "    <tr style=\"text-align: right;\">\n",
              "      <th></th>\n",
              "      <th>Salary</th>\n",
              "      <th>Is Employed</th>\n",
              "      <th>Bonus</th>\n",
              "      <th>Age</th>\n",
              "    </tr>\n",
              "  </thead>\n",
              "  <tbody>\n",
              "    <tr>\n",
              "      <th>Jack</th>\n",
              "      <td>65000.0</td>\n",
              "      <td>True</td>\n",
              "      <td>10000</td>\n",
              "      <td>25.0</td>\n",
              "    </tr>\n",
              "    <tr>\n",
              "      <th>Sara</th>\n",
              "      <td>0.0</td>\n",
              "      <td>False</td>\n",
              "      <td>0</td>\n",
              "      <td>NaN</td>\n",
              "    </tr>\n",
              "    <tr>\n",
              "      <th>Paula</th>\n",
              "      <td>78000.0</td>\n",
              "      <td>True</td>\n",
              "      <td>18000</td>\n",
              "      <td>NaN</td>\n",
              "    </tr>\n",
              "    <tr>\n",
              "      <th>Alex</th>\n",
              "      <td>NaN</td>\n",
              "      <td>True</td>\n",
              "      <td>15000</td>\n",
              "      <td>NaN</td>\n",
              "    </tr>\n",
              "  </tbody>\n",
              "</table>\n",
              "</div>"
            ],
            "text/plain": [
              "        Salary  Is Employed  Bonus   Age\n",
              "Jack   65000.0         True  10000  25.0\n",
              "Sara       0.0        False      0   NaN\n",
              "Paula  78000.0         True  18000   NaN\n",
              "Alex       NaN         True  15000   NaN"
            ]
          },
          "execution_count": 102,
          "metadata": {},
          "output_type": "execute_result"
        }
      ],
      "source": [
        "df.fillna(0) # fills missing values by a value (returns a new DataFrame)"
      ]
    },
    {
      "cell_type": "markdown",
      "metadata": {
        "id": "40699OiX8yk4"
      },
      "source": [
        "### Sorting"
      ]
    },
    {
      "cell_type": "code",
      "execution_count": null,
      "metadata": {
        "id": "VoXSMHGb8yk4",
        "outputId": "443bc967-7826-47c9-88a7-f30a191b6783"
      },
      "outputs": [
        {
          "data": {
            "text/html": [
              "<div>\n",
              "<style scoped>\n",
              "    .dataframe tbody tr th:only-of-type {\n",
              "        vertical-align: middle;\n",
              "    }\n",
              "\n",
              "    .dataframe tbody tr th {\n",
              "        vertical-align: top;\n",
              "    }\n",
              "\n",
              "    .dataframe thead th {\n",
              "        text-align: right;\n",
              "    }\n",
              "</style>\n",
              "<table border=\"1\" class=\"dataframe\">\n",
              "  <thead>\n",
              "    <tr style=\"text-align: right;\">\n",
              "      <th></th>\n",
              "      <th>Salary</th>\n",
              "      <th>Is Employed</th>\n",
              "      <th>Bonus</th>\n",
              "      <th>Age</th>\n",
              "    </tr>\n",
              "  </thead>\n",
              "  <tbody>\n",
              "    <tr>\n",
              "      <th>Sara</th>\n",
              "      <td>0.0</td>\n",
              "      <td>False</td>\n",
              "      <td>0</td>\n",
              "      <td>NaN</td>\n",
              "    </tr>\n",
              "    <tr>\n",
              "      <th>Paula</th>\n",
              "      <td>78000.0</td>\n",
              "      <td>True</td>\n",
              "      <td>18000</td>\n",
              "      <td>NaN</td>\n",
              "    </tr>\n",
              "    <tr>\n",
              "      <th>Jack</th>\n",
              "      <td>65000.0</td>\n",
              "      <td>True</td>\n",
              "      <td>10000</td>\n",
              "      <td>25.0</td>\n",
              "    </tr>\n",
              "    <tr>\n",
              "      <th>Alex</th>\n",
              "      <td>NaN</td>\n",
              "      <td>True</td>\n",
              "      <td>15000</td>\n",
              "      <td>NaN</td>\n",
              "    </tr>\n",
              "  </tbody>\n",
              "</table>\n",
              "</div>"
            ],
            "text/plain": [
              "        Salary  Is Employed  Bonus   Age\n",
              "Sara       0.0        False      0   NaN\n",
              "Paula  78000.0         True  18000   NaN\n",
              "Jack   65000.0         True  10000  25.0\n",
              "Alex       NaN         True  15000   NaN"
            ]
          },
          "metadata": {},
          "output_type": "display_data"
        },
        {
          "data": {
            "text/html": [
              "<div>\n",
              "<style scoped>\n",
              "    .dataframe tbody tr th:only-of-type {\n",
              "        vertical-align: middle;\n",
              "    }\n",
              "\n",
              "    .dataframe tbody tr th {\n",
              "        vertical-align: top;\n",
              "    }\n",
              "\n",
              "    .dataframe thead th {\n",
              "        text-align: right;\n",
              "    }\n",
              "</style>\n",
              "<table border=\"1\" class=\"dataframe\">\n",
              "  <thead>\n",
              "    <tr style=\"text-align: right;\">\n",
              "      <th></th>\n",
              "      <th>Age</th>\n",
              "      <th>Bonus</th>\n",
              "      <th>Is Employed</th>\n",
              "      <th>Salary</th>\n",
              "    </tr>\n",
              "  </thead>\n",
              "  <tbody>\n",
              "    <tr>\n",
              "      <th>Jack</th>\n",
              "      <td>25.0</td>\n",
              "      <td>10000</td>\n",
              "      <td>True</td>\n",
              "      <td>65000.0</td>\n",
              "    </tr>\n",
              "    <tr>\n",
              "      <th>Sara</th>\n",
              "      <td>NaN</td>\n",
              "      <td>0</td>\n",
              "      <td>False</td>\n",
              "      <td>0.0</td>\n",
              "    </tr>\n",
              "    <tr>\n",
              "      <th>Paula</th>\n",
              "      <td>NaN</td>\n",
              "      <td>18000</td>\n",
              "      <td>True</td>\n",
              "      <td>78000.0</td>\n",
              "    </tr>\n",
              "    <tr>\n",
              "      <th>Alex</th>\n",
              "      <td>NaN</td>\n",
              "      <td>15000</td>\n",
              "      <td>True</td>\n",
              "      <td>NaN</td>\n",
              "    </tr>\n",
              "  </tbody>\n",
              "</table>\n",
              "</div>"
            ],
            "text/plain": [
              "        Age  Bonus  Is Employed   Salary\n",
              "Jack   25.0  10000         True  65000.0\n",
              "Sara    NaN      0        False      0.0\n",
              "Paula   NaN  18000         True  78000.0\n",
              "Alex    NaN  15000         True      NaN"
            ]
          },
          "metadata": {},
          "output_type": "display_data"
        }
      ],
      "source": [
        "display(df.sort_index(ascending=False)) # sorting the row index \n",
        "display(df.sort_index(axis='columns')) # sort the column lables"
      ]
    },
    {
      "cell_type": "code",
      "execution_count": null,
      "metadata": {
        "id": "uVLSgmU-8yk4",
        "outputId": "f474eb7a-2e99-4ea4-b7b4-79e9dc12d076"
      },
      "outputs": [
        {
          "data": {
            "text/plain": [
              "Sara         0.0\n",
              "Jack     65000.0\n",
              "Paula    78000.0\n",
              "Alex         NaN\n",
              "Name: Salary, dtype: float64"
            ]
          },
          "metadata": {},
          "output_type": "display_data"
        },
        {
          "data": {
            "text/html": [
              "<div>\n",
              "<style scoped>\n",
              "    .dataframe tbody tr th:only-of-type {\n",
              "        vertical-align: middle;\n",
              "    }\n",
              "\n",
              "    .dataframe tbody tr th {\n",
              "        vertical-align: top;\n",
              "    }\n",
              "\n",
              "    .dataframe thead th {\n",
              "        text-align: right;\n",
              "    }\n",
              "</style>\n",
              "<table border=\"1\" class=\"dataframe\">\n",
              "  <thead>\n",
              "    <tr style=\"text-align: right;\">\n",
              "      <th></th>\n",
              "      <th>Salary</th>\n",
              "      <th>Is Employed</th>\n",
              "      <th>Bonus</th>\n",
              "      <th>Age</th>\n",
              "    </tr>\n",
              "  </thead>\n",
              "  <tbody>\n",
              "    <tr>\n",
              "      <th>Sara</th>\n",
              "      <td>0.0</td>\n",
              "      <td>False</td>\n",
              "      <td>0</td>\n",
              "      <td>NaN</td>\n",
              "    </tr>\n",
              "    <tr>\n",
              "      <th>Jack</th>\n",
              "      <td>65000.0</td>\n",
              "      <td>True</td>\n",
              "      <td>10000</td>\n",
              "      <td>25.0</td>\n",
              "    </tr>\n",
              "    <tr>\n",
              "      <th>Paula</th>\n",
              "      <td>78000.0</td>\n",
              "      <td>True</td>\n",
              "      <td>18000</td>\n",
              "      <td>NaN</td>\n",
              "    </tr>\n",
              "    <tr>\n",
              "      <th>Alex</th>\n",
              "      <td>NaN</td>\n",
              "      <td>True</td>\n",
              "      <td>15000</td>\n",
              "      <td>NaN</td>\n",
              "    </tr>\n",
              "  </tbody>\n",
              "</table>\n",
              "</div>"
            ],
            "text/plain": [
              "        Salary  Is Employed  Bonus   Age\n",
              "Sara       0.0        False      0   NaN\n",
              "Jack   65000.0         True  10000  25.0\n",
              "Paula  78000.0         True  18000   NaN\n",
              "Alex       NaN         True  15000   NaN"
            ]
          },
          "metadata": {},
          "output_type": "display_data"
        },
        {
          "data": {
            "text/html": [
              "<div>\n",
              "<style scoped>\n",
              "    .dataframe tbody tr th:only-of-type {\n",
              "        vertical-align: middle;\n",
              "    }\n",
              "\n",
              "    .dataframe tbody tr th {\n",
              "        vertical-align: top;\n",
              "    }\n",
              "\n",
              "    .dataframe thead th {\n",
              "        text-align: right;\n",
              "    }\n",
              "</style>\n",
              "<table border=\"1\" class=\"dataframe\">\n",
              "  <thead>\n",
              "    <tr style=\"text-align: right;\">\n",
              "      <th></th>\n",
              "      <th>Salary</th>\n",
              "      <th>Is Employed</th>\n",
              "      <th>Bonus</th>\n",
              "      <th>Age</th>\n",
              "    </tr>\n",
              "  </thead>\n",
              "  <tbody>\n",
              "    <tr>\n",
              "      <th>Jack</th>\n",
              "      <td>65000.0</td>\n",
              "      <td>True</td>\n",
              "      <td>10000</td>\n",
              "      <td>25.0</td>\n",
              "    </tr>\n",
              "    <tr>\n",
              "      <th>Paula</th>\n",
              "      <td>78000.0</td>\n",
              "      <td>True</td>\n",
              "      <td>18000</td>\n",
              "      <td>NaN</td>\n",
              "    </tr>\n",
              "    <tr>\n",
              "      <th>Sara</th>\n",
              "      <td>0.0</td>\n",
              "      <td>False</td>\n",
              "      <td>0</td>\n",
              "      <td>NaN</td>\n",
              "    </tr>\n",
              "    <tr>\n",
              "      <th>Alex</th>\n",
              "      <td>NaN</td>\n",
              "      <td>True</td>\n",
              "      <td>15000</td>\n",
              "      <td>NaN</td>\n",
              "    </tr>\n",
              "  </tbody>\n",
              "</table>\n",
              "</div>"
            ],
            "text/plain": [
              "        Salary  Is Employed  Bonus   Age\n",
              "Jack   65000.0         True  10000  25.0\n",
              "Paula  78000.0         True  18000   NaN\n",
              "Sara       0.0        False      0   NaN\n",
              "Alex       NaN         True  15000   NaN"
            ]
          },
          "metadata": {},
          "output_type": "display_data"
        }
      ],
      "source": [
        "display(df.Salary.sort_values()) # sorting a Series\n",
        "display(df.sort_values(by='Salary')) # sorting DataFrame by one column\n",
        "display(df.sort_values(by=['Age', 'Salary'], ascending=False)) # sorting DataFrame by multiple columns"
      ]
    },
    {
      "cell_type": "code",
      "execution_count": null,
      "metadata": {
        "id": "YLpzRL6D8yk4",
        "outputId": "f74111c2-9663-4118-d5e2-8cb3795fe32a"
      },
      "outputs": [
        {
          "data": {
            "text/plain": [
              "Jack     2.0\n",
              "Sara     1.0\n",
              "Paula    3.0\n",
              "Alex     NaN\n",
              "Name: Salary, dtype: float64"
            ]
          },
          "metadata": {},
          "output_type": "display_data"
        },
        {
          "data": {
            "text/html": [
              "<div>\n",
              "<style scoped>\n",
              "    .dataframe tbody tr th:only-of-type {\n",
              "        vertical-align: middle;\n",
              "    }\n",
              "\n",
              "    .dataframe tbody tr th {\n",
              "        vertical-align: top;\n",
              "    }\n",
              "\n",
              "    .dataframe thead th {\n",
              "        text-align: right;\n",
              "    }\n",
              "</style>\n",
              "<table border=\"1\" class=\"dataframe\">\n",
              "  <thead>\n",
              "    <tr style=\"text-align: right;\">\n",
              "      <th></th>\n",
              "      <th>Salary</th>\n",
              "      <th>Is Employed</th>\n",
              "      <th>Bonus</th>\n",
              "      <th>Age</th>\n",
              "    </tr>\n",
              "  </thead>\n",
              "  <tbody>\n",
              "    <tr>\n",
              "      <th>Jack</th>\n",
              "      <td>2.0</td>\n",
              "      <td>3.0</td>\n",
              "      <td>2.0</td>\n",
              "      <td>1.0</td>\n",
              "    </tr>\n",
              "    <tr>\n",
              "      <th>Sara</th>\n",
              "      <td>1.0</td>\n",
              "      <td>1.0</td>\n",
              "      <td>1.0</td>\n",
              "      <td>NaN</td>\n",
              "    </tr>\n",
              "    <tr>\n",
              "      <th>Paula</th>\n",
              "      <td>3.0</td>\n",
              "      <td>3.0</td>\n",
              "      <td>4.0</td>\n",
              "      <td>NaN</td>\n",
              "    </tr>\n",
              "    <tr>\n",
              "      <th>Alex</th>\n",
              "      <td>NaN</td>\n",
              "      <td>3.0</td>\n",
              "      <td>3.0</td>\n",
              "      <td>NaN</td>\n",
              "    </tr>\n",
              "  </tbody>\n",
              "</table>\n",
              "</div>"
            ],
            "text/plain": [
              "       Salary  Is Employed  Bonus  Age\n",
              "Jack      2.0          3.0    2.0  1.0\n",
              "Sara      1.0          1.0    1.0  NaN\n",
              "Paula     3.0          3.0    4.0  NaN\n",
              "Alex      NaN          3.0    3.0  NaN"
            ]
          },
          "metadata": {},
          "output_type": "display_data"
        },
        {
          "data": {
            "text/html": [
              "<div>\n",
              "<style scoped>\n",
              "    .dataframe tbody tr th:only-of-type {\n",
              "        vertical-align: middle;\n",
              "    }\n",
              "\n",
              "    .dataframe tbody tr th {\n",
              "        vertical-align: top;\n",
              "    }\n",
              "\n",
              "    .dataframe thead th {\n",
              "        text-align: right;\n",
              "    }\n",
              "</style>\n",
              "<table border=\"1\" class=\"dataframe\">\n",
              "  <thead>\n",
              "    <tr style=\"text-align: right;\">\n",
              "      <th></th>\n",
              "      <th>Salary</th>\n",
              "      <th>Is Employed</th>\n",
              "      <th>Bonus</th>\n",
              "      <th>Age</th>\n",
              "    </tr>\n",
              "  </thead>\n",
              "  <tbody>\n",
              "    <tr>\n",
              "      <th>Jack</th>\n",
              "      <td>4.0</td>\n",
              "      <td>1.0</td>\n",
              "      <td>3.0</td>\n",
              "      <td>2.0</td>\n",
              "    </tr>\n",
              "    <tr>\n",
              "      <th>Sara</th>\n",
              "      <td>2.0</td>\n",
              "      <td>2.0</td>\n",
              "      <td>2.0</td>\n",
              "      <td>NaN</td>\n",
              "    </tr>\n",
              "    <tr>\n",
              "      <th>Paula</th>\n",
              "      <td>3.0</td>\n",
              "      <td>1.0</td>\n",
              "      <td>2.0</td>\n",
              "      <td>NaN</td>\n",
              "    </tr>\n",
              "    <tr>\n",
              "      <th>Alex</th>\n",
              "      <td>NaN</td>\n",
              "      <td>1.0</td>\n",
              "      <td>2.0</td>\n",
              "      <td>NaN</td>\n",
              "    </tr>\n",
              "  </tbody>\n",
              "</table>\n",
              "</div>"
            ],
            "text/plain": [
              "       Salary  Is Employed  Bonus  Age\n",
              "Jack      4.0          1.0    3.0  2.0\n",
              "Sara      2.0          2.0    2.0  NaN\n",
              "Paula     3.0          1.0    2.0  NaN\n",
              "Alex      NaN          1.0    2.0  NaN"
            ]
          },
          "metadata": {},
          "output_type": "display_data"
        }
      ],
      "source": [
        "display(df.Salary.rank()) # ranking a series based on values\n",
        "display(df.rank()) # ranking the DataFrame columns\n",
        "display(df.rank(axis=1)) # ranking a DataFrame rows"
      ]
    },
    {
      "cell_type": "code",
      "execution_count": null,
      "metadata": {
        "id": "HPekQtlw8yk4",
        "outputId": "0da464a8-a332-4fc5-d309-13abd75b3e3b"
      },
      "outputs": [
        {
          "data": {
            "text/plain": [
              "Jack     1.0\n",
              "Sara     4.0\n",
              "Paula    2.0\n",
              "Alex     3.0\n",
              "Name: Is Employed, dtype: float64"
            ]
          },
          "metadata": {},
          "output_type": "display_data"
        },
        {
          "data": {
            "text/plain": [
              "Jack     3.0\n",
              "Sara     4.0\n",
              "Paula    3.0\n",
              "Alex     3.0\n",
              "Name: Is Employed, dtype: float64"
            ]
          },
          "metadata": {},
          "output_type": "display_data"
        },
        {
          "data": {
            "text/plain": [
              "Jack     1.0\n",
              "Sara     4.0\n",
              "Paula    1.0\n",
              "Alex     1.0\n",
              "Name: Is Employed, dtype: float64"
            ]
          },
          "metadata": {},
          "output_type": "display_data"
        },
        {
          "data": {
            "text/plain": [
              "Jack     2.0\n",
              "Sara     4.0\n",
              "Paula    2.0\n",
              "Alex     2.0\n",
              "Name: Is Employed, dtype: float64"
            ]
          },
          "metadata": {},
          "output_type": "display_data"
        }
      ],
      "source": [
        "# Breaking the ties\n",
        "display(df['Is Employed'].rank(ascending=False, method='first')) # assign ranks in the order the values appear in the data\n",
        "display(df['Is Employed'].rank(ascending=False, method='max')) # use the maximum rank for the whole group\n",
        "display(df['Is Employed'].rank(ascending=False, method='min')) # use the minimum rank for the whole group\n",
        "display(df['Is Employed'].rank(ascending=False, method='average')) # assign the average rank to each entry in the equal group"
      ]
    }
  ],
  "metadata": {
    "celltoolbar": "Slideshow",
    "kernelspec": {
      "display_name": "Python 3",
      "language": "python",
      "name": "python3"
    },
    "language_info": {
      "codemirror_mode": {
        "name": "ipython",
        "version": 3
      },
      "file_extension": ".py",
      "mimetype": "text/x-python",
      "name": "python",
      "nbconvert_exporter": "python",
      "pygments_lexer": "ipython3",
      "version": "3.7.6"
    },
    "colab": {
      "name": "04 - Data Analysis with Pandas - Part 1.ipynb",
      "provenance": [],
      "include_colab_link": true
    }
  },
  "nbformat": 4,
  "nbformat_minor": 0
}