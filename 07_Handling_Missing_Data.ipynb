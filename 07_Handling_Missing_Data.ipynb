{
  "cells": [
    {
      "cell_type": "markdown",
      "metadata": {
        "id": "view-in-github",
        "colab_type": "text"
      },
      "source": [
        "<a href=\"https://colab.research.google.com/github/sayyed-uoft/fullstackai/blob/main/07_Handling_Missing_Data.ipynb\" target=\"_parent\"><img src=\"https://colab.research.google.com/assets/colab-badge.svg\" alt=\"Open In Colab\"/></a>"
      ]
    },
    {
      "cell_type": "markdown",
      "metadata": {
        "id": "zxD5akpdQIuW"
      },
      "source": [
        "# Strata.ai - Artificial Intelligence Certificate \n",
        "\n",
        "# Module 1: Data Science for AI\n",
        "\n",
        "# Handling Missing Data\n",
        "\n",
        "Source: https://github.com/ChaitanyaBaweja/Programming-Tutorials"
      ]
    },
    {
      "cell_type": "markdown",
      "metadata": {
        "id": "kQu5DD5fQIuX"
      },
      "source": [
        "## Learning Outcome\n",
        "\n",
        "- Learn how to identify missing and corrupt data\n",
        "- Learn how to drop or replace missing data"
      ]
    },
    {
      "cell_type": "markdown",
      "metadata": {
        "id": "-nNRvpgWQIuX"
      },
      "source": [
        "## Topics\n",
        "- [Exploring Dataset](#dataset)\n",
        "- [Marking invalid/corrupt values as missing](#invalid_data)\n",
        "- [Marking missing values using \"isnull\" and \"notnull\"](#isnull)\n",
        "- [Missing Value Statistics](#stats)\n",
        "- [Removing rows with missing values](#remove_rows)\n",
        "- [Replacing NaNs with a single constant value](#replace_constant)\n",
        "- [Replacing NaNs with the value from the previous row](#replace_prev)\n",
        "- [Replacing NaNs with the value from the next row](#replace_next)\n",
        "- [Replacing NaNs using Median/Mean of the column](#replace_mean)\n",
        "- [Using the replace method](#replace)\n",
        "- [Using the interpolate method](#interpolate)"
      ]
    },
    {
      "cell_type": "markdown",
      "metadata": {
        "id": "RE59W4JzQIuY"
      },
      "source": [
        "<a id=\"dataset\"></a>\n",
        "## Exploring Dataset\n",
        "\n",
        "We will be working with a very small Employee Dataset for this tutorial. \n",
        "\n",
        "Let’s import this dataset and take a look at it. \n"
      ]
    },
    {
      "cell_type": "code",
      "execution_count": null,
      "metadata": {
        "id": "7pz9lrr7QIuY",
        "outputId": "cc1ee77f-9558-46eb-bcdd-4618246f7cc2"
      },
      "outputs": [
        {
          "data": {
            "text/html": [
              "<div>\n",
              "<style scoped>\n",
              "    .dataframe tbody tr th:only-of-type {\n",
              "        vertical-align: middle;\n",
              "    }\n",
              "\n",
              "    .dataframe tbody tr th {\n",
              "        vertical-align: top;\n",
              "    }\n",
              "\n",
              "    .dataframe thead th {\n",
              "        text-align: right;\n",
              "    }\n",
              "</style>\n",
              "<table border=\"1\" class=\"dataframe\">\n",
              "  <thead>\n",
              "    <tr style=\"text-align: right;\">\n",
              "      <th></th>\n",
              "      <th>First Name</th>\n",
              "      <th>Gender</th>\n",
              "      <th>Salary</th>\n",
              "      <th>Bonus %</th>\n",
              "      <th>Senior Management</th>\n",
              "      <th>Team</th>\n",
              "    </tr>\n",
              "  </thead>\n",
              "  <tbody>\n",
              "    <tr>\n",
              "      <th>0</th>\n",
              "      <td>Douglas</td>\n",
              "      <td>Male</td>\n",
              "      <td>97308</td>\n",
              "      <td>6.945</td>\n",
              "      <td>TRUE</td>\n",
              "      <td>Marketing</td>\n",
              "    </tr>\n",
              "    <tr>\n",
              "      <th>1</th>\n",
              "      <td>Thomas</td>\n",
              "      <td>Male</td>\n",
              "      <td>61933</td>\n",
              "      <td>NaN</td>\n",
              "      <td>TRUE</td>\n",
              "      <td>NaN</td>\n",
              "    </tr>\n",
              "    <tr>\n",
              "      <th>2</th>\n",
              "      <td>Maria</td>\n",
              "      <td>Female</td>\n",
              "      <td>130590</td>\n",
              "      <td>11.858</td>\n",
              "      <td>FALSE</td>\n",
              "      <td>Finance</td>\n",
              "    </tr>\n",
              "    <tr>\n",
              "      <th>3</th>\n",
              "      <td>Jerry</td>\n",
              "      <td>Male</td>\n",
              "      <td>NaN</td>\n",
              "      <td>9.34</td>\n",
              "      <td>TRUE</td>\n",
              "      <td>Finance</td>\n",
              "    </tr>\n",
              "    <tr>\n",
              "      <th>4</th>\n",
              "      <td>Larry</td>\n",
              "      <td>Male</td>\n",
              "      <td>101004</td>\n",
              "      <td>1.389</td>\n",
              "      <td>TRUE</td>\n",
              "      <td>Client Services</td>\n",
              "    </tr>\n",
              "  </tbody>\n",
              "</table>\n",
              "</div>"
            ],
            "text/plain": [
              "  First Name  Gender  Salary Bonus % Senior Management             Team\n",
              "0    Douglas    Male   97308   6.945              TRUE        Marketing\n",
              "1     Thomas    Male   61933     NaN              TRUE              NaN\n",
              "2      Maria  Female  130590  11.858             FALSE          Finance\n",
              "3      Jerry    Male     NaN    9.34              TRUE          Finance\n",
              "4      Larry    Male  101004   1.389              TRUE  Client Services"
            ]
          },
          "execution_count": 1,
          "metadata": {},
          "output_type": "execute_result"
        }
      ],
      "source": [
        "# Importing libraries\n",
        "import pandas as pd\n",
        "import numpy as np\n",
        "\n",
        "# Read csv file into a pandas dataframe\n",
        "df = pd.read_csv(\"https://github.com/sayyed-uoft/fullstackai/raw/main/employees.csv\")\n",
        "\n",
        "# Print out the first few rows\n",
        "df.head()\n"
      ]
    },
    {
      "cell_type": "markdown",
      "metadata": {
        "id": "l2C0o2H7QIuZ"
      },
      "source": [
        "Let's get some info and basic statistics. You would notice that the dtypes of all the columns is object. This shouldn't be the case for Salary, Senior Management and Bonus. This happens because we have **corrupt values in these columns**. Once we handle these missing values, we will convert these to the required type using `.astype()` method."
      ]
    },
    {
      "cell_type": "code",
      "execution_count": null,
      "metadata": {
        "id": "535stkJfQIua",
        "outputId": "47f1eb24-c9eb-4e86-db10-94588e410043"
      },
      "outputs": [
        {
          "data": {
            "text/plain": [
              "First Name           object\n",
              "Gender               object\n",
              "Salary               object\n",
              "Bonus %              object\n",
              "Senior Management    object\n",
              "Team                 object\n",
              "dtype: object"
            ]
          },
          "execution_count": 5,
          "metadata": {},
          "output_type": "execute_result"
        }
      ],
      "source": [
        "df.dtypes"
      ]
    },
    {
      "cell_type": "code",
      "execution_count": null,
      "metadata": {
        "id": "ZcRu7ImaQIua",
        "outputId": "0b2ba7d6-2b45-4852-9954-795707b0df07"
      },
      "outputs": [
        {
          "name": "stdout",
          "output_type": "stream",
          "text": [
            "<class 'pandas.core.frame.DataFrame'>\n",
            "RangeIndex: 1000 entries, 0 to 999\n",
            "Data columns (total 6 columns):\n",
            " #   Column             Non-Null Count  Dtype \n",
            "---  ------             --------------  ----- \n",
            " 0   First Name         931 non-null    object\n",
            " 1   Gender             852 non-null    object\n",
            " 2   Salary             998 non-null    object\n",
            " 3   Bonus %            997 non-null    object\n",
            " 4   Senior Management  932 non-null    object\n",
            " 5   Team               957 non-null    object\n",
            "dtypes: object(6)\n",
            "memory usage: 47.0+ KB\n"
          ]
        }
      ],
      "source": [
        "df.info()"
      ]
    },
    {
      "cell_type": "code",
      "execution_count": null,
      "metadata": {
        "id": "r8XauLj3QIua",
        "outputId": "44614508-d0c7-4057-9d2e-019fe3f76bc3"
      },
      "outputs": [
        {
          "data": {
            "text/html": [
              "<div>\n",
              "<style scoped>\n",
              "    .dataframe tbody tr th:only-of-type {\n",
              "        vertical-align: middle;\n",
              "    }\n",
              "\n",
              "    .dataframe tbody tr th {\n",
              "        vertical-align: top;\n",
              "    }\n",
              "\n",
              "    .dataframe thead th {\n",
              "        text-align: right;\n",
              "    }\n",
              "</style>\n",
              "<table border=\"1\" class=\"dataframe\">\n",
              "  <thead>\n",
              "    <tr style=\"text-align: right;\">\n",
              "      <th></th>\n",
              "      <th>First Name</th>\n",
              "      <th>Gender</th>\n",
              "      <th>Salary</th>\n",
              "      <th>Bonus %</th>\n",
              "      <th>Senior Management</th>\n",
              "      <th>Team</th>\n",
              "    </tr>\n",
              "  </thead>\n",
              "  <tbody>\n",
              "    <tr>\n",
              "      <th>count</th>\n",
              "      <td>931</td>\n",
              "      <td>852</td>\n",
              "      <td>998</td>\n",
              "      <td>997</td>\n",
              "      <td>932</td>\n",
              "      <td>957</td>\n",
              "    </tr>\n",
              "    <tr>\n",
              "      <th>unique</th>\n",
              "      <td>201</td>\n",
              "      <td>3</td>\n",
              "      <td>993</td>\n",
              "      <td>968</td>\n",
              "      <td>4</td>\n",
              "      <td>13</td>\n",
              "    </tr>\n",
              "    <tr>\n",
              "      <th>top</th>\n",
              "      <td>Marilyn</td>\n",
              "      <td>Female</td>\n",
              "      <td>?</td>\n",
              "      <td>8.999</td>\n",
              "      <td>TRUE</td>\n",
              "      <td>Client Services</td>\n",
              "    </tr>\n",
              "    <tr>\n",
              "      <th>freq</th>\n",
              "      <td>11</td>\n",
              "      <td>428</td>\n",
              "      <td>2</td>\n",
              "      <td>3</td>\n",
              "      <td>467</td>\n",
              "      <td>105</td>\n",
              "    </tr>\n",
              "  </tbody>\n",
              "</table>\n",
              "</div>"
            ],
            "text/plain": [
              "       First Name  Gender Salary Bonus % Senior Management             Team\n",
              "count         931     852    998     997               932              957\n",
              "unique        201       3    993     968                 4               13\n",
              "top       Marilyn  Female      ?   8.999              TRUE  Client Services\n",
              "freq           11     428      2       3               467              105"
            ]
          },
          "execution_count": 2,
          "metadata": {},
          "output_type": "execute_result"
        }
      ],
      "source": [
        "df.describe()"
      ]
    },
    {
      "cell_type": "markdown",
      "metadata": {
        "id": "O0D2_uP8QIub"
      },
      "source": [
        "<a id=\"invalid_data\"></a>\n",
        "## Marking invalid/corrupt values as missing\n",
        "\n",
        "Pandas treat None and NaN as essentially interchangeable for indicating missing or null values. Other values like na and ? are not recognized by Pandas by default. Let’s focus on the Salary Column. "
      ]
    },
    {
      "cell_type": "code",
      "execution_count": null,
      "metadata": {
        "id": "WEEaUC0nQIub",
        "outputId": "77a8a8be-44bd-4250-f8a8-38808981d27d"
      },
      "outputs": [
        {
          "data": {
            "text/plain": [
              "0     97308\n",
              "1     61933\n",
              "2    130590\n",
              "3       NaN\n",
              "4    101004\n",
              "5    115163\n",
              "6     65476\n",
              "7     45906\n",
              "8       NaN\n",
              "9    139852\n",
              "Name: Salary, dtype: object"
            ]
          },
          "execution_count": 6,
          "metadata": {},
          "output_type": "execute_result"
        }
      ],
      "source": [
        "df['Salary'].head(10)"
      ]
    },
    {
      "cell_type": "markdown",
      "metadata": {
        "id": "ESUXzNCYQIub"
      },
      "source": [
        "In the 8th row there’s a missing value and in the 3rd row there is a NA, which Pandas automatically fills with NaN. But what happens with other symbols like ?, n.a., etc. Let's look at the Gender column."
      ]
    },
    {
      "cell_type": "code",
      "execution_count": null,
      "metadata": {
        "id": "BXEa0GrjQIub",
        "outputId": "4715877f-91e7-4ae1-a92b-bde6d5a6cd2a"
      },
      "outputs": [
        {
          "data": {
            "text/plain": [
              "0      Male\n",
              "1      Male\n",
              "2    Female\n",
              "3      Male\n",
              "4      Male\n",
              "5      n.a.\n",
              "6    Female\n",
              "7    Female\n",
              "8       NaN\n",
              "9    Female\n",
              "Name: Gender, dtype: object"
            ]
          },
          "execution_count": 7,
          "metadata": {},
          "output_type": "execute_result"
        }
      ],
      "source": [
        "df['Gender'].head(10)"
      ]
    },
    {
      "cell_type": "markdown",
      "metadata": {
        "id": "ivZSfGFbQIuc"
      },
      "source": [
        "We notice that n.a. isn't converted to NaN and remains in its original form. \n",
        "We can pass these formats in the `.read_csv()` method to allow Pandas to recognize them as corrupt values. Take a look:"
      ]
    },
    {
      "cell_type": "code",
      "execution_count": null,
      "metadata": {
        "id": "3TaXOZpLQIuc"
      },
      "outputs": [],
      "source": [
        "# a list with all missing value formats\n",
        "missing_value_formats = [\"n.a.\",\"?\",\"NA\",\"n/a\", \"na\", \"--\"]\n",
        "df = pd.read_csv(\"employees.csv\", na_values = missing_value_formats)"
      ]
    },
    {
      "cell_type": "code",
      "execution_count": null,
      "metadata": {
        "id": "YbyLeMvFQIuc",
        "outputId": "bafa87b1-c714-4fb9-b055-0e1a87f2a6d2"
      },
      "outputs": [
        {
          "data": {
            "text/plain": [
              "0      Male\n",
              "1      Male\n",
              "2    Female\n",
              "3      Male\n",
              "4      Male\n",
              "5       NaN\n",
              "6    Female\n",
              "7    Female\n",
              "8       NaN\n",
              "9    Female\n",
              "Name: Gender, dtype: object"
            ]
          },
          "execution_count": 9,
          "metadata": {},
          "output_type": "execute_result"
        }
      ],
      "source": [
        "#print gender again\n",
        "df['Gender'].head(10)"
      ]
    },
    {
      "cell_type": "markdown",
      "metadata": {
        "id": "pXMm92PgQIuc"
      },
      "source": [
        "Till now, our missing values had unique identifiers which, made them pretty easy to catch. But what happens when we get an invalid data type. Let's define a function that allows us to check for invalid data types in a column."
      ]
    },
    {
      "cell_type": "code",
      "execution_count": null,
      "metadata": {
        "id": "LUjwg8fxQIud",
        "outputId": "a5532a82-5ddb-4cef-b2fa-5ec9fbcad518"
      },
      "outputs": [
        {
          "data": {
            "text/plain": [
              "0     97308.0\n",
              "1     61933.0\n",
              "2    130590.0\n",
              "3         NaN\n",
              "4    101004.0\n",
              "Name: Salary, dtype: float64"
            ]
          },
          "execution_count": 11,
          "metadata": {},
          "output_type": "execute_result"
        }
      ],
      "source": [
        "def make_int(i):\n",
        "    try:\n",
        "        return int(i)\n",
        "    except:\n",
        "        return np.nan\n",
        "\n",
        "# apply make_int function to the entire series using map\n",
        "df['Salary'] = df['Salary'].map(make_int)\n",
        "df['Salary'].head()\n"
      ]
    },
    {
      "cell_type": "markdown",
      "metadata": {
        "id": "k63Wj2NqQIud"
      },
      "source": [
        "<a id=\"isnull\"></a>\n",
        "## Marking missing values using \"isnull\" and \"notnull\"\n",
        "\n",
        "In Pandas, we have two functions for marking missing values:   \n",
        "- `isnull()` function to mark all of the NaN values in the dataset as True  \n",
        "- `notnull()` to mark all of the NaN values in the dataset as False.\n"
      ]
    },
    {
      "cell_type": "code",
      "execution_count": null,
      "metadata": {
        "id": "J61uX3RcQIud",
        "outputId": "d7075d61-7cb2-424a-d6d5-e0798ca2167e"
      },
      "outputs": [
        {
          "data": {
            "text/plain": [
              "0    False\n",
              "1    False\n",
              "2    False\n",
              "3    False\n",
              "4    False\n",
              "5     True\n",
              "6    False\n",
              "7    False\n",
              "8     True\n",
              "9    False\n",
              "Name: Gender, dtype: bool"
            ]
          },
          "execution_count": 12,
          "metadata": {},
          "output_type": "execute_result"
        }
      ],
      "source": [
        "df['Gender'].isnull().head(10) # NaN values are marked True\n"
      ]
    },
    {
      "cell_type": "code",
      "execution_count": null,
      "metadata": {
        "id": "E6IkxXy3QIue",
        "outputId": "53a31135-1e80-4aee-fd43-cea6e1ee160e"
      },
      "outputs": [
        {
          "data": {
            "text/plain": [
              "0     True\n",
              "1     True\n",
              "2     True\n",
              "3     True\n",
              "4     True\n",
              "5    False\n",
              "6     True\n",
              "7     True\n",
              "8    False\n",
              "9     True\n",
              "Name: Gender, dtype: bool"
            ]
          },
          "execution_count": 13,
          "metadata": {},
          "output_type": "execute_result"
        }
      ],
      "source": [
        "df['Gender'].notnull().head(10) # non-NaN values are marked True"
      ]
    },
    {
      "cell_type": "markdown",
      "metadata": {
        "id": "kDRoyP_NQIue"
      },
      "source": [
        "We can use the outputs of the `isnull` and `notnull` function for filtering. Let’s print all those rows of the database for which Gender is not missing. "
      ]
    },
    {
      "cell_type": "code",
      "execution_count": null,
      "metadata": {
        "id": "YcPG5KshQIue",
        "outputId": "90098906-8e8a-4610-fcd7-2691bd003c20"
      },
      "outputs": [
        {
          "data": {
            "text/html": [
              "<div>\n",
              "<style scoped>\n",
              "    .dataframe tbody tr th:only-of-type {\n",
              "        vertical-align: middle;\n",
              "    }\n",
              "\n",
              "    .dataframe tbody tr th {\n",
              "        vertical-align: top;\n",
              "    }\n",
              "\n",
              "    .dataframe thead th {\n",
              "        text-align: right;\n",
              "    }\n",
              "</style>\n",
              "<table border=\"1\" class=\"dataframe\">\n",
              "  <thead>\n",
              "    <tr style=\"text-align: right;\">\n",
              "      <th></th>\n",
              "      <th>First Name</th>\n",
              "      <th>Gender</th>\n",
              "      <th>Salary</th>\n",
              "      <th>Bonus %</th>\n",
              "      <th>Senior Management</th>\n",
              "      <th>Team</th>\n",
              "    </tr>\n",
              "  </thead>\n",
              "  <tbody>\n",
              "    <tr>\n",
              "      <th>0</th>\n",
              "      <td>Douglas</td>\n",
              "      <td>Male</td>\n",
              "      <td>97308.0</td>\n",
              "      <td>6.945</td>\n",
              "      <td>True</td>\n",
              "      <td>Marketing</td>\n",
              "    </tr>\n",
              "    <tr>\n",
              "      <th>1</th>\n",
              "      <td>Thomas</td>\n",
              "      <td>Male</td>\n",
              "      <td>61933.0</td>\n",
              "      <td>NaN</td>\n",
              "      <td>True</td>\n",
              "      <td>NaN</td>\n",
              "    </tr>\n",
              "    <tr>\n",
              "      <th>2</th>\n",
              "      <td>Maria</td>\n",
              "      <td>Female</td>\n",
              "      <td>130590.0</td>\n",
              "      <td>11.858</td>\n",
              "      <td>False</td>\n",
              "      <td>Finance</td>\n",
              "    </tr>\n",
              "    <tr>\n",
              "      <th>3</th>\n",
              "      <td>Jerry</td>\n",
              "      <td>Male</td>\n",
              "      <td>NaN</td>\n",
              "      <td>9.340</td>\n",
              "      <td>True</td>\n",
              "      <td>Finance</td>\n",
              "    </tr>\n",
              "    <tr>\n",
              "      <th>4</th>\n",
              "      <td>Larry</td>\n",
              "      <td>Male</td>\n",
              "      <td>101004.0</td>\n",
              "      <td>1.389</td>\n",
              "      <td>True</td>\n",
              "      <td>Client Services</td>\n",
              "    </tr>\n",
              "  </tbody>\n",
              "</table>\n",
              "</div>"
            ],
            "text/plain": [
              "  First Name  Gender    Salary  Bonus % Senior Management             Team\n",
              "0    Douglas    Male   97308.0    6.945              True        Marketing\n",
              "1     Thomas    Male   61933.0      NaN              True              NaN\n",
              "2      Maria  Female  130590.0   11.858             False          Finance\n",
              "3      Jerry    Male       NaN    9.340              True          Finance\n",
              "4      Larry    Male  101004.0    1.389              True  Client Services"
            ]
          },
          "execution_count": 14,
          "metadata": {},
          "output_type": "execute_result"
        }
      ],
      "source": [
        "# returns True on indices for which Gender is not NaN\n",
        "null_filter = df['Gender'].notnull()\n",
        "df[null_filter].head()"
      ]
    },
    {
      "cell_type": "markdown",
      "metadata": {
        "id": "LMuRYGkcQIuf"
      },
      "source": [
        "<a id=\"stats\"></a>\n",
        "## Missing Value Statistics\n",
        "`isnull` and `notnull` can also be used to summarize missing values. \n",
        "\n",
        "To check if there are any missing values in our data frame:"
      ]
    },
    {
      "cell_type": "code",
      "execution_count": null,
      "metadata": {
        "scrolled": true,
        "id": "6eCqHIgOQIuf",
        "outputId": "0c278640-ef64-4de3-f606-bb4d0aa022cf"
      },
      "outputs": [
        {
          "data": {
            "text/plain": [
              "True"
            ]
          },
          "execution_count": 15,
          "metadata": {},
          "output_type": "execute_result"
        }
      ],
      "source": [
        "df.isnull().values.any()"
      ]
    },
    {
      "cell_type": "markdown",
      "metadata": {
        "id": "YFUilesmQIuf"
      },
      "source": [
        "Total number of missing values per column:"
      ]
    },
    {
      "cell_type": "code",
      "execution_count": null,
      "metadata": {
        "id": "VmSYAGptQIuf",
        "outputId": "2b9324c8-3903-49f1-8402-30343fcad640"
      },
      "outputs": [
        {
          "data": {
            "text/plain": [
              "First Name            70\n",
              "Gender               149\n",
              "Salary                 5\n",
              "Bonus %                4\n",
              "Senior Management     71\n",
              "Team                  48\n",
              "dtype: int64"
            ]
          },
          "execution_count": 16,
          "metadata": {},
          "output_type": "execute_result"
        }
      ],
      "source": [
        "df.isnull().sum()"
      ]
    },
    {
      "cell_type": "markdown",
      "metadata": {
        "id": "3FAUyrwiQIuf"
      },
      "source": [
        "<a id=\"remove_rows\"></a>\n",
        "## Removing rows with missing values\n",
        "\n",
        "Pandas library provides the `dropna()` function that can be used to drop either columns or rows with missing data. \n",
        "\n",
        "In the example below, we use dropna() to remove all rows with missing data:"
      ]
    },
    {
      "cell_type": "code",
      "execution_count": null,
      "metadata": {
        "id": "VpJFUnXhQIug",
        "outputId": "58d9874b-639c-4a34-9c5d-d0bdb665cbcc"
      },
      "outputs": [
        {
          "data": {
            "text/plain": [
              "False"
            ]
          },
          "execution_count": 17,
          "metadata": {},
          "output_type": "execute_result"
        }
      ],
      "source": [
        "# drop all rows with NaN values\n",
        "new_df = df.dropna(axis=0)\n",
        "\n",
        "# check if we have any NaN values in our dataset\n",
        "new_df.isnull().values.any()\n"
      ]
    },
    {
      "cell_type": "markdown",
      "metadata": {
        "id": "iUcHEIejQIug"
      },
      "source": [
        "We can also use the `how` parameter.\n",
        "- `how = 'any'`: at least one value must be null.\n",
        "- `how = 'all'`: all values must be null."
      ]
    },
    {
      "cell_type": "code",
      "execution_count": null,
      "metadata": {
        "id": "G4ZODHkmQIug"
      },
      "outputs": [],
      "source": [
        "# drop all rows with atleast one NaN\n",
        "new_df = df.dropna(axis = 0, how ='any')  \n",
        "\n",
        "# drop all rows with all NaN\n",
        "new_df = df.dropna(axis = 0, how ='all')\n",
        "\n",
        "# drop all columns with atleast one NaN\n",
        "new_df = df.dropna(axis = 1, how ='any')\n",
        "\n",
        "# drop all columns with all NaN\n",
        "new_df = df.dropna(axis = 1, how ='all')\n"
      ]
    },
    {
      "cell_type": "markdown",
      "metadata": {
        "id": "cGwG8VrhQIug"
      },
      "source": [
        "<a id=\"replace_constant\"></a>\n",
        "## Replacing NaNs with a single constant value\n",
        "\n",
        "We will use `fillna()` to replace missing values in the **Salary** column with 0.\n"
      ]
    },
    {
      "cell_type": "code",
      "execution_count": null,
      "metadata": {
        "id": "4cauC5NiQIug",
        "outputId": "ef917551-8d70-4846-9e0f-de56e00b18ad"
      },
      "outputs": [
        {
          "data": {
            "text/plain": [
              "0     97308.0\n",
              "1     61933.0\n",
              "2    130590.0\n",
              "3         0.0\n",
              "4    101004.0\n",
              "5    115163.0\n",
              "6     65476.0\n",
              "7     45906.0\n",
              "8         0.0\n",
              "9    139852.0\n",
              "Name: Salary, dtype: float64"
            ]
          },
          "execution_count": 19,
          "metadata": {},
          "output_type": "execute_result"
        }
      ],
      "source": [
        "df['Salary'].fillna(0).head(10)"
      ]
    },
    {
      "cell_type": "markdown",
      "metadata": {
        "id": "UjV78833QIuh"
      },
      "source": [
        "We can also do the same for categorical variables like **Gender**."
      ]
    },
    {
      "cell_type": "code",
      "execution_count": null,
      "metadata": {
        "id": "jI6ZyiytQIuh",
        "outputId": "328540b7-cc43-4224-af0d-a2a2c84fe93f"
      },
      "outputs": [
        {
          "data": {
            "text/plain": [
              "0         Male\n",
              "1         Male\n",
              "2       Female\n",
              "3         Male\n",
              "4         Male\n",
              "5    No Gender\n",
              "6       Female\n",
              "7       Female\n",
              "8    No Gender\n",
              "9       Female\n",
              "Name: Gender, dtype: object"
            ]
          },
          "execution_count": 20,
          "metadata": {},
          "output_type": "execute_result"
        }
      ],
      "source": [
        "df['Gender'].fillna('No Gender').head(10)"
      ]
    },
    {
      "cell_type": "markdown",
      "metadata": {
        "id": "5GNDkXtCQIuh"
      },
      "source": [
        "<a id=\"replace_prev\"></a>\n",
        "## Replacing NaNs with the value from the previous row\n",
        "\n",
        "This is a common approach when filling missing values in image data. We use `method = 'pad'`. Let us try the same for the Salary Column:"
      ]
    },
    {
      "cell_type": "code",
      "execution_count": null,
      "metadata": {
        "id": "I3QaSeHkQIuh",
        "outputId": "a020fa61-4acf-445f-d9b2-6fb494e13517"
      },
      "outputs": [
        {
          "data": {
            "text/plain": [
              "0     97308.0\n",
              "1     61933.0\n",
              "2    130590.0\n",
              "3    130590.0\n",
              "4    101004.0\n",
              "5    115163.0\n",
              "6     65476.0\n",
              "7     45906.0\n",
              "8     45906.0\n",
              "9    139852.0\n",
              "Name: Salary, dtype: float64"
            ]
          },
          "execution_count": 21,
          "metadata": {},
          "output_type": "execute_result"
        }
      ],
      "source": [
        "df['Salary'].fillna(method='pad').head(10)"
      ]
    },
    {
      "cell_type": "markdown",
      "metadata": {
        "id": "FFavyEttQIuh"
      },
      "source": [
        "<a id=\"replace_next\"></a>\n",
        "## Replacing NaNs with the value from the next row\n",
        "We use `method = 'bfill'`."
      ]
    },
    {
      "cell_type": "code",
      "execution_count": null,
      "metadata": {
        "id": "vpqD8824QIuh",
        "outputId": "090de965-34b0-4a44-af37-196c9142450d"
      },
      "outputs": [
        {
          "data": {
            "text/plain": [
              "0     97308.0\n",
              "1     61933.0\n",
              "2    130590.0\n",
              "3    101004.0\n",
              "4    101004.0\n",
              "5    115163.0\n",
              "6     65476.0\n",
              "7     45906.0\n",
              "8    139852.0\n",
              "9    139852.0\n",
              "Name: Salary, dtype: float64"
            ]
          },
          "execution_count": 22,
          "metadata": {},
          "output_type": "execute_result"
        }
      ],
      "source": [
        "df['Salary'].fillna(method='bfill').head(10)"
      ]
    },
    {
      "cell_type": "markdown",
      "metadata": {
        "id": "CLFxR3LLQIui"
      },
      "source": [
        "<a id=\"replace_mean\"></a>\n",
        "## Replacing NaNs using Median/Mean of the column"
      ]
    },
    {
      "cell_type": "code",
      "execution_count": null,
      "metadata": {
        "id": "WcqnBawWQIui",
        "outputId": "cf91df0a-3422-4ff2-da49-5821bf4f0a96"
      },
      "outputs": [
        {
          "data": {
            "text/plain": [
              "0     97308.0\n",
              "1     61933.0\n",
              "2    130590.0\n",
              "3     90370.0\n",
              "4    101004.0\n",
              "5    115163.0\n",
              "6     65476.0\n",
              "7     45906.0\n",
              "8     90370.0\n",
              "9    139852.0\n",
              "Name: Salary, dtype: float64"
            ]
          },
          "execution_count": 23,
          "metadata": {},
          "output_type": "execute_result"
        }
      ],
      "source": [
        "# using median\n",
        "df['Salary'].fillna(df['Salary'].median()).head(10)"
      ]
    },
    {
      "cell_type": "code",
      "execution_count": null,
      "metadata": {
        "id": "Vp_XxMFrQIui",
        "outputId": "9c1f1805-3644-446e-c22e-319b0457c98a"
      },
      "outputs": [
        {
          "data": {
            "text/plain": [
              "0     97308.0\n",
              "1     61933.0\n",
              "2    130590.0\n",
              "3     90522.0\n",
              "4    101004.0\n",
              "5    115163.0\n",
              "6     65476.0\n",
              "7     45906.0\n",
              "8     90522.0\n",
              "9    139852.0\n",
              "Name: Salary, dtype: float64"
            ]
          },
          "execution_count": 24,
          "metadata": {},
          "output_type": "execute_result"
        }
      ],
      "source": [
        "#using mean\n",
        "df['Salary'].fillna(int(df['Salary'].mean())).head(10)"
      ]
    },
    {
      "cell_type": "markdown",
      "metadata": {
        "id": "wNysXHNAQIui"
      },
      "source": [
        "<a id=\"replace\"></a>\n",
        "## Using the replace method\n",
        "The replace method is a more generic form of the fillna method. Here, we specify both the value to be replaced and the replacement value."
      ]
    },
    {
      "cell_type": "code",
      "execution_count": null,
      "metadata": {
        "id": "MZPYiLsaQIui",
        "outputId": "e43dfc27-124a-4b5a-a73c-581322c8a6ac"
      },
      "outputs": [
        {
          "data": {
            "text/plain": [
              "0     97308.0\n",
              "1     61933.0\n",
              "2    130590.0\n",
              "3         0.0\n",
              "4    101004.0\n",
              "5    115163.0\n",
              "6     65476.0\n",
              "7     45906.0\n",
              "8         0.0\n",
              "9    139852.0\n",
              "Name: Salary, dtype: float64"
            ]
          },
          "execution_count": 25,
          "metadata": {},
          "output_type": "execute_result"
        }
      ],
      "source": [
        "# will replace NaN value in Salary with value 0  \n",
        "df['Salary'].replace(to_replace = np.nan, value = 0).head(10)"
      ]
    },
    {
      "cell_type": "markdown",
      "metadata": {
        "id": "DPKFfPUEQIui"
      },
      "source": [
        "<a id=\"interpolate\"></a>\n",
        "## Using the interpolate method\n",
        "`interpolate()` function is used to fill NaN values using various interpolation techniques. \n",
        "\n",
        "Let us interpolate the missing values using the Linear Interpolation method"
      ]
    },
    {
      "cell_type": "code",
      "execution_count": null,
      "metadata": {
        "id": "FcdDf_SMQIuj",
        "outputId": "7f6fd1cc-e6fe-4b92-b70e-0475c5eca145"
      },
      "outputs": [
        {
          "data": {
            "text/plain": [
              "0     97308.0\n",
              "1     61933.0\n",
              "2    130590.0\n",
              "3    115797.0\n",
              "4    101004.0\n",
              "5    115163.0\n",
              "6     65476.0\n",
              "7     45906.0\n",
              "8     92879.0\n",
              "9    139852.0\n",
              "Name: Salary, dtype: float64"
            ]
          },
          "execution_count": 26,
          "metadata": {},
          "output_type": "execute_result"
        }
      ],
      "source": [
        "df['Salary'].interpolate(method='linear', direction = 'forward').head(10)"
      ]
    }
  ],
  "metadata": {
    "celltoolbar": "Slideshow",
    "kernelspec": {
      "display_name": "Python 3",
      "language": "python",
      "name": "python3"
    },
    "language_info": {
      "codemirror_mode": {
        "name": "ipython",
        "version": 3
      },
      "file_extension": ".py",
      "mimetype": "text/x-python",
      "name": "python",
      "nbconvert_exporter": "python",
      "pygments_lexer": "ipython3",
      "version": "3.7.6"
    },
    "colab": {
      "name": "07 - Handling Missing Data.ipynb",
      "provenance": [],
      "include_colab_link": true
    }
  },
  "nbformat": 4,
  "nbformat_minor": 0
}