{
  "cells": [
    {
      "cell_type": "markdown",
      "metadata": {
        "id": "view-in-github",
        "colab_type": "text"
      },
      "source": [
        "<a href=\"https://colab.research.google.com/github/sayyed-uoft/fullstackai/blob/main/09_Time_Series_Analysis.ipynb\" target=\"_parent\"><img src=\"https://colab.research.google.com/assets/colab-badge.svg\" alt=\"Open In Colab\"/></a>"
      ]
    },
    {
      "cell_type": "markdown",
      "metadata": {
        "id": "7udzRAoOl3pg"
      },
      "source": [
        "# Strata.ai - Artificial Intelligence Certificate \n",
        "\n",
        "# Module 1: Data Science for AI\n",
        "\n",
        "# Time Series Analysis\n",
        "\n",
        "Source: https://github.com/PacktPublishing/Pandas-Cookbook"
      ]
    },
    {
      "cell_type": "markdown",
      "metadata": {
        "id": "TYpy89nKl3ph"
      },
      "source": [
        "## Learning Outcome\n",
        "\n",
        "- Learn how to work with  datae and time in Python and Pandas\n",
        "- Learn how to analyze time series data"
      ]
    },
    {
      "cell_type": "markdown",
      "metadata": {
        "id": "SU7eKoRal3pi"
      },
      "source": [
        "# Topics\n",
        "\n",
        "* [Understanding the difference between Python and pandas date tools](#Understanding-the-difference-between-Python-and-pandas-date-tools)\n",
        "* [Slicing time series intelligently](#Slicing-time-series-intelligently)\n",
        "* [Using methods that only work with a DatetimeIndex](#Using-methods-that-only-work-with-a-DatetimeIndex)\n",
        "* [Counting the number of weekly crimes](#Counting-the-number-of-weekly-crimes)\n",
        "* [Aggregating weekly crime and traffic accidents separately](#Aggregating-weekly-crime-and-traffic-separately)\n",
        "* [Measuring crime by weekday and year](#Measuring-crime-by-weekday-and-year)\n",
        "* [Grouping with anonymous functions with a DatetimeIndex](#Grouping-with-anonymous-functions-with-a-DatetimeIndex)\n",
        "* [Grouping by a Timestamp and another column](#Grouping-by-a-Timestamp-and-another-column)\n",
        "* [Finding the last time crime was 20% lower with merge_asof](#Finding-the-last-time-crime-was-20%-lower-with-merge_asof)"
      ]
    },
    {
      "cell_type": "code",
      "execution_count": 1,
      "metadata": {
        "scrolled": true,
        "id": "JCOfJZz4l3pi"
      },
      "outputs": [],
      "source": [
        "import pandas as pd\n",
        "import numpy as np\n",
        "import datetime\n",
        "import matplotlib.pyplot as plt\n",
        "\n",
        "%matplotlib inline\n",
        "plt.rcParams['figure.figsize'] = [6, 4]"
      ]
    },
    {
      "cell_type": "markdown",
      "metadata": {
        "id": "rMrO7pmHl3pj"
      },
      "source": [
        "# Understanding the difference between Python and pandas date tools"
      ]
    },
    {
      "cell_type": "code",
      "execution_count": null,
      "metadata": {
        "scrolled": true,
        "id": "6UnmfZ5xl3pj",
        "outputId": "284e55ae-97b6-4581-b9e6-c39bc25e257d"
      },
      "outputs": [
        {
          "name": "stdout",
          "output_type": "stream",
          "text": [
            "date is  2013-06-07\n",
            "time is 12:30:19.463198\n",
            "datetime is 2013-06-07 12:30:19.463198\n"
          ]
        }
      ],
      "source": [
        "date = datetime.date(year=2013, month=6, day=7)\n",
        "time = datetime.time(hour=12, minute=30, second=19, microsecond=463198)\n",
        "dt = datetime.datetime(year=2013, month=6, day=7, \n",
        "                       hour=12, minute=30, second=19, microsecond=463198)\n",
        "\n",
        "print(\"date is \", date)\n",
        "print(\"time is\", time)\n",
        "print(\"datetime is\", dt)"
      ]
    },
    {
      "cell_type": "code",
      "execution_count": null,
      "metadata": {
        "scrolled": true,
        "id": "lD0DDPqTl3pk",
        "outputId": "8e1a1ad3-706b-41f3-867b-006f028a5d92"
      },
      "outputs": [
        {
          "name": "stdout",
          "output_type": "stream",
          "text": [
            "19 days, 10:20:06.829008\n",
            "new date is 2013-06-26\n",
            "new datetime is 2013-06-26 22:50:26.292206\n"
          ]
        }
      ],
      "source": [
        "td = datetime.timedelta(weeks=2, days=5, hours=10, minutes=20, \n",
        "                        seconds=6.73, milliseconds=99, microseconds=8)\n",
        "print(td)\n",
        "print('new date is', date + td)\n",
        "print('new datetime is', dt + td)"
      ]
    },
    {
      "cell_type": "code",
      "execution_count": null,
      "metadata": {
        "scrolled": true,
        "id": "oVVZ71pYl3pk",
        "outputId": "917c3a47-3a93-4831-ef6c-bbd624bff8f9"
      },
      "outputs": [
        {
          "name": "stdout",
          "output_type": "stream",
          "text": [
            "<class 'datetime.time'>\n",
            "<class 'datetime.timedelta'>\n"
          ]
        },
        {
          "ename": "TypeError",
          "evalue": "unsupported operand type(s) for +: 'datetime.time' and 'datetime.timedelta'",
          "output_type": "error",
          "traceback": [
            "\u001b[0;31m---------------------------------------------------------------------------\u001b[0m",
            "\u001b[0;31mTypeError\u001b[0m                                 Traceback (most recent call last)",
            "\u001b[0;32m<ipython-input-5-f852d5c8f3fa>\u001b[0m in \u001b[0;36m<module>\u001b[0;34m\u001b[0m\n\u001b[1;32m      1\u001b[0m \u001b[0mprint\u001b[0m\u001b[0;34m(\u001b[0m\u001b[0mtype\u001b[0m\u001b[0;34m(\u001b[0m\u001b[0mtime\u001b[0m\u001b[0;34m)\u001b[0m\u001b[0;34m)\u001b[0m\u001b[0;34m\u001b[0m\u001b[0;34m\u001b[0m\u001b[0m\n\u001b[1;32m      2\u001b[0m \u001b[0mprint\u001b[0m\u001b[0;34m(\u001b[0m\u001b[0mtype\u001b[0m\u001b[0;34m(\u001b[0m\u001b[0mtd\u001b[0m\u001b[0;34m)\u001b[0m\u001b[0;34m)\u001b[0m\u001b[0;34m\u001b[0m\u001b[0;34m\u001b[0m\u001b[0m\n\u001b[0;32m----> 3\u001b[0;31m \u001b[0mtime\u001b[0m \u001b[0;34m+\u001b[0m \u001b[0mtd\u001b[0m\u001b[0;34m\u001b[0m\u001b[0;34m\u001b[0m\u001b[0m\n\u001b[0m",
            "\u001b[0;31mTypeError\u001b[0m: unsupported operand type(s) for +: 'datetime.time' and 'datetime.timedelta'"
          ]
        }
      ],
      "source": [
        "print(type(time))\n",
        "print(type(td))\n",
        "time + td"
      ]
    },
    {
      "cell_type": "code",
      "execution_count": null,
      "metadata": {
        "scrolled": true,
        "id": "CNll8BnQl3pl",
        "outputId": "94d9d0ee-9012-4f5c-c525-fedde53a59fa"
      },
      "outputs": [
        {
          "data": {
            "text/plain": [
              "Timestamp('2012-12-21 05:10:08.000099')"
            ]
          },
          "execution_count": 6,
          "metadata": {},
          "output_type": "execute_result"
        }
      ],
      "source": [
        "pd.Timestamp(year=2012, month=12, day=21, hour=5, minute=10, second=8, microsecond=99)"
      ]
    },
    {
      "cell_type": "code",
      "execution_count": null,
      "metadata": {
        "scrolled": true,
        "id": "VghWHjKFl3pl",
        "outputId": "302a0bde-99ca-4e5d-ebc6-c9499f64a356"
      },
      "outputs": [
        {
          "data": {
            "text/plain": [
              "Timestamp('2016-01-10 00:00:00')"
            ]
          },
          "execution_count": 7,
          "metadata": {},
          "output_type": "execute_result"
        }
      ],
      "source": [
        "pd.Timestamp('2016/1/10')"
      ]
    },
    {
      "cell_type": "code",
      "execution_count": null,
      "metadata": {
        "scrolled": true,
        "id": "NOMJ33Pbl3pm",
        "outputId": "8cf4cd87-aee0-4a35-86c8-33de322b3aa1"
      },
      "outputs": [
        {
          "data": {
            "text/plain": [
              "Timestamp('2014-05-10 00:00:00')"
            ]
          },
          "execution_count": 8,
          "metadata": {},
          "output_type": "execute_result"
        }
      ],
      "source": [
        "pd.Timestamp('2014-5/10')"
      ]
    },
    {
      "cell_type": "code",
      "execution_count": null,
      "metadata": {
        "scrolled": true,
        "id": "gDN7yoYFl3pm",
        "outputId": "e1730f07-afff-4d7d-9447-5805e594f9d1"
      },
      "outputs": [
        {
          "data": {
            "text/plain": [
              "Timestamp('2019-01-03 20:45:33')"
            ]
          },
          "execution_count": 9,
          "metadata": {},
          "output_type": "execute_result"
        }
      ],
      "source": [
        "pd.Timestamp('Jan 3, 2019 20:45.56')"
      ]
    },
    {
      "cell_type": "code",
      "execution_count": null,
      "metadata": {
        "scrolled": true,
        "id": "BSdCErAhl3pm",
        "outputId": "65e6d706-e702-459b-b054-36a0568e0bf7"
      },
      "outputs": [
        {
          "data": {
            "text/plain": [
              "Timestamp('2016-01-05 05:34:43.123456789')"
            ]
          },
          "execution_count": 10,
          "metadata": {},
          "output_type": "execute_result"
        }
      ],
      "source": [
        "pd.Timestamp('2016-01-05T05:34:43.123456789')"
      ]
    },
    {
      "cell_type": "code",
      "execution_count": null,
      "metadata": {
        "scrolled": true,
        "id": "GCu3pZdOl3pm",
        "outputId": "032b86ff-10d7-4c2a-a565-26136344d1cf"
      },
      "outputs": [
        {
          "data": {
            "text/plain": [
              "Timestamp('1970-01-01 00:00:00.000000500')"
            ]
          },
          "execution_count": 12,
          "metadata": {},
          "output_type": "execute_result"
        }
      ],
      "source": [
        "pd.Timestamp(500) # nanoseconds 1e-9"
      ]
    },
    {
      "cell_type": "code",
      "execution_count": null,
      "metadata": {
        "scrolled": true,
        "id": "MVBRuDDtl3pn",
        "outputId": "95757c2e-07d7-4909-a3fa-5083dbfe46f8"
      },
      "outputs": [
        {
          "data": {
            "text/plain": [
              "Timestamp('1983-09-10 00:00:00')"
            ]
          },
          "execution_count": 12,
          "metadata": {},
          "output_type": "execute_result"
        }
      ],
      "source": [
        "pd.Timestamp(5000, unit='D')"
      ]
    },
    {
      "cell_type": "code",
      "execution_count": null,
      "metadata": {
        "scrolled": true,
        "id": "oXEWNO8cl3pn",
        "outputId": "4071d57b-cef3-4bac-c012-5c6304f31a75"
      },
      "outputs": [
        {
          "data": {
            "text/plain": [
              "Timestamp('2015-05-13 00:00:00')"
            ]
          },
          "execution_count": 13,
          "metadata": {},
          "output_type": "execute_result"
        }
      ],
      "source": [
        "pd.to_datetime('2015-5-13')"
      ]
    },
    {
      "cell_type": "code",
      "execution_count": null,
      "metadata": {
        "scrolled": true,
        "id": "NbsWRM41l3pn",
        "outputId": "457d2600-ba91-4e8d-d841-bb2594d1e2ca"
      },
      "outputs": [
        {
          "data": {
            "text/plain": [
              "Timestamp('2015-05-13 00:00:00')"
            ]
          },
          "execution_count": 14,
          "metadata": {},
          "output_type": "execute_result"
        }
      ],
      "source": [
        "pd.to_datetime('2015-13-5', dayfirst=True)"
      ]
    },
    {
      "cell_type": "code",
      "execution_count": null,
      "metadata": {
        "scrolled": true,
        "id": "w0cJvzYJl3pn",
        "outputId": "014b2771-106e-4065-82bd-0da011d8eae0"
      },
      "outputs": [
        {
          "data": {
            "text/plain": [
              "Timestamp('2017-09-30 00:00:00')"
            ]
          },
          "execution_count": 15,
          "metadata": {},
          "output_type": "execute_result"
        }
      ],
      "source": [
        "pd.Timestamp('Saturday September 30th, 2017')"
      ]
    },
    {
      "cell_type": "code",
      "execution_count": null,
      "metadata": {
        "scrolled": true,
        "id": "ArrLiPhTl3po",
        "outputId": "56e5751c-c64b-43cc-8980-edaf86a755e7"
      },
      "outputs": [
        {
          "data": {
            "text/plain": [
              "Timestamp('2017-09-30 13:30:00')"
            ]
          },
          "execution_count": 16,
          "metadata": {},
          "output_type": "execute_result"
        }
      ],
      "source": [
        "pd.to_datetime('Start Date: Sep 30, 2017 Start Time: 1:30 pm', format='Start Date: %b %d, %Y Start Time: %I:%M %p')"
      ]
    },
    {
      "cell_type": "code",
      "execution_count": null,
      "metadata": {
        "scrolled": true,
        "id": "ZXl0Yfvll3po",
        "outputId": "2a961ee4-5755-4daf-8f6c-959e87c96a9e"
      },
      "outputs": [
        {
          "data": {
            "text/plain": [
              "Timestamp('2013-04-11 00:00:00')"
            ]
          },
          "execution_count": 17,
          "metadata": {},
          "output_type": "execute_result"
        }
      ],
      "source": [
        "pd.to_datetime(100, unit='D', origin='2013-1-1')"
      ]
    },
    {
      "cell_type": "code",
      "execution_count": null,
      "metadata": {
        "scrolled": true,
        "id": "rZDk9Ya4l3po",
        "outputId": "b10fb39d-519d-4a83-a5b4-79b83393da1e"
      },
      "outputs": [
        {
          "data": {
            "text/plain": [
              "0   1970-01-11\n",
              "1   1970-04-11\n",
              "2   1972-09-27\n",
              "3   1997-05-19\n",
              "dtype: datetime64[ns]"
            ]
          },
          "execution_count": 18,
          "metadata": {},
          "output_type": "execute_result"
        }
      ],
      "source": [
        "s = pd.Series([10, 100, 1000, 10000])\n",
        "pd.to_datetime(s, unit='D')"
      ]
    },
    {
      "cell_type": "code",
      "execution_count": null,
      "metadata": {
        "scrolled": true,
        "id": "dmHT2ojrl3pp",
        "outputId": "93962dd1-9a23-4d96-f7b3-277f2dd47791"
      },
      "outputs": [
        {
          "data": {
            "text/plain": [
              "DatetimeIndex(['1999-08-03 03:45:56', '2017-10-31 00:00:00'], dtype='datetime64[ns]', freq=None)"
            ]
          },
          "execution_count": 20,
          "metadata": {},
          "output_type": "execute_result"
        }
      ],
      "source": [
        "pd.to_datetime(['Aug 3 1999 3:45:56', '10/31/2017'])"
      ]
    },
    {
      "cell_type": "code",
      "execution_count": null,
      "metadata": {
        "scrolled": true,
        "id": "2ZcYUcWSl3pp",
        "outputId": "3a8c6e6b-00b4-4c2b-ad1e-58f252683d1b"
      },
      "outputs": [
        {
          "data": {
            "text/plain": [
              "0   2015-05-12\n",
              "1   2013-01-14\n",
              "2   2017-12-20\n",
              "3          NaT\n",
              "dtype: datetime64[ns]"
            ]
          },
          "execution_count": 15,
          "metadata": {},
          "output_type": "execute_result"
        }
      ],
      "source": [
        "#errors{‘ignore’, ‘raise’, ‘coerce’}, default ‘raise’\n",
        "#    If ‘raise’, then invalid parsing will raise an exception.\n",
        "#    If ‘coerce’, then invalid parsing will be set as NaT.\n",
        "#   If ‘ignore’, then invalid parsing will return the input.\n",
        "\n",
        "s = pd.Series(['12-5-2015', '14-1-2013', '20/12/2017', '40/23/2017'])\n",
        "pd.to_datetime(s, dayfirst=True, errors='coerce')"
      ]
    },
    {
      "cell_type": "code",
      "execution_count": null,
      "metadata": {
        "scrolled": true,
        "id": "WCwagaOol3pw",
        "outputId": "81c0f948-dcd0-4c17-9888-04153083ec5c"
      },
      "outputs": [
        {
          "data": {
            "text/plain": [
              "Timedelta('12 days 05:03:00.123456')"
            ]
          },
          "execution_count": 21,
          "metadata": {},
          "output_type": "execute_result"
        }
      ],
      "source": [
        "pd.Timedelta('12 days 5 hours 3 minutes 123456789 nanoseconds')"
      ]
    },
    {
      "cell_type": "code",
      "execution_count": null,
      "metadata": {
        "scrolled": true,
        "id": "HwdcJDIpl3pw",
        "outputId": "aa2b5ac7-f768-4e4b-b6cd-82ba56c95bfc"
      },
      "outputs": [
        {
          "data": {
            "text/plain": [
              "Timedelta('5 days 00:07:20.400000')"
            ]
          },
          "execution_count": 22,
          "metadata": {},
          "output_type": "execute_result"
        }
      ],
      "source": [
        "pd.Timedelta(days=5, minutes=7.34)"
      ]
    },
    {
      "cell_type": "code",
      "execution_count": null,
      "metadata": {
        "scrolled": true,
        "id": "7rNt8X2rl3pw",
        "outputId": "0443eefa-cd1e-4d38-f5f9-bca9bbaa431c"
      },
      "outputs": [
        {
          "data": {
            "text/plain": [
              "Timedelta('700 days 00:00:00')"
            ]
          },
          "execution_count": 23,
          "metadata": {},
          "output_type": "execute_result"
        }
      ],
      "source": [
        "pd.Timedelta(100, unit='W')"
      ]
    },
    {
      "cell_type": "code",
      "execution_count": null,
      "metadata": {
        "scrolled": true,
        "id": "ExDdpivPl3pw",
        "outputId": "7209c3d2-b18e-46b1-ecbd-8d7b1e330245"
      },
      "outputs": [
        {
          "data": {
            "text/plain": [
              "'5 dayz'"
            ]
          },
          "execution_count": 24,
          "metadata": {},
          "output_type": "execute_result"
        }
      ],
      "source": [
        "pd.to_timedelta('5 dayz', errors='ignore')"
      ]
    },
    {
      "cell_type": "code",
      "execution_count": null,
      "metadata": {
        "scrolled": true,
        "id": "wBJ_S7Pdl3pw",
        "outputId": "f66bd4ea-fe52-4f74-de3b-1a77cb8778ca"
      },
      "outputs": [
        {
          "data": {
            "text/plain": [
              "Timedelta('2 days 19:15:45.454000')"
            ]
          },
          "execution_count": 25,
          "metadata": {},
          "output_type": "execute_result"
        }
      ],
      "source": [
        "pd.to_timedelta('67:15:45.454')"
      ]
    },
    {
      "cell_type": "code",
      "execution_count": null,
      "metadata": {
        "scrolled": true,
        "id": "kPb6TyVSl3px",
        "outputId": "ce6eff7a-31cd-456d-f853-3a686b9bfc4d"
      },
      "outputs": [
        {
          "data": {
            "text/plain": [
              "0   00:00:10\n",
              "1   00:01:40\n",
              "dtype: timedelta64[ns]"
            ]
          },
          "execution_count": 26,
          "metadata": {},
          "output_type": "execute_result"
        }
      ],
      "source": [
        "s = pd.Series([10, 100])\n",
        "pd.to_timedelta(s, unit='s')"
      ]
    },
    {
      "cell_type": "code",
      "execution_count": null,
      "metadata": {
        "scrolled": true,
        "id": "5vLM3jc_l3px",
        "outputId": "9f1b65b0-7eae-465d-ac8d-262fdf9f6503"
      },
      "outputs": [
        {
          "data": {
            "text/plain": [
              "TimedeltaIndex(['2 days 00:25:29.670000', '0 days 00:45:23.600000'], dtype='timedelta64[ns]', freq=None)"
            ]
          },
          "execution_count": 27,
          "metadata": {},
          "output_type": "execute_result"
        }
      ],
      "source": [
        "time_strings = ['2 days 24 minutes 89.67 seconds', '00:45:23.6']\n",
        "pd.to_timedelta(time_strings)"
      ]
    },
    {
      "cell_type": "code",
      "execution_count": null,
      "metadata": {
        "scrolled": true,
        "id": "K--IdY0fl3px",
        "outputId": "d0e24a99-bacb-4016-d79a-8785c176b25d"
      },
      "outputs": [
        {
          "data": {
            "text/plain": [
              "Timedelta('24 days 10:06:00')"
            ]
          },
          "execution_count": 28,
          "metadata": {},
          "output_type": "execute_result"
        }
      ],
      "source": [
        "pd.Timedelta('12 days 5 hours 3 minutes') * 2"
      ]
    },
    {
      "cell_type": "code",
      "execution_count": null,
      "metadata": {
        "scrolled": true,
        "id": "JnEzTXuil3px",
        "outputId": "2c75c02a-bcee-4bcc-fbfd-d625ec8820f5"
      },
      "outputs": [
        {
          "data": {
            "text/plain": [
              "Timestamp('2017-01-25 10:06:00')"
            ]
          },
          "execution_count": 29,
          "metadata": {},
          "output_type": "execute_result"
        }
      ],
      "source": [
        "pd.Timestamp('1/1/2017') + pd.Timedelta('12 days 5 hours 3 minutes') * 2"
      ]
    },
    {
      "cell_type": "code",
      "execution_count": null,
      "metadata": {
        "scrolled": true,
        "id": "nNR86lzXl3px",
        "outputId": "631bb3cc-9a77-44ff-ae7c-249235b095b7"
      },
      "outputs": [
        {
          "data": {
            "text/plain": [
              "TimedeltaIndex(['03:00:10', '04:01:40'], dtype='timedelta64[ns]', freq=None)"
            ]
          },
          "execution_count": 30,
          "metadata": {},
          "output_type": "execute_result"
        }
      ],
      "source": [
        "td1 = pd.to_timedelta([10, 100], unit='s')\n",
        "td2 = pd.to_timedelta(['3 hours', '4 hours'])\n",
        "td1 + td2"
      ]
    },
    {
      "cell_type": "code",
      "execution_count": null,
      "metadata": {
        "scrolled": true,
        "id": "d6wTPwNpl3py",
        "outputId": "1f2f09a7-8f49-4400-dfcf-bdbf63ef27d5"
      },
      "outputs": [
        {
          "data": {
            "text/plain": [
              "4.0"
            ]
          },
          "execution_count": 31,
          "metadata": {},
          "output_type": "execute_result"
        }
      ],
      "source": [
        "pd.Timedelta('12 days') / pd.Timedelta('3 days')"
      ]
    },
    {
      "cell_type": "code",
      "execution_count": null,
      "metadata": {
        "scrolled": true,
        "id": "qA4lQEhil3py"
      },
      "outputs": [],
      "source": [
        "ts = pd.Timestamp('2016-10-1 4:23:23.9')"
      ]
    },
    {
      "cell_type": "code",
      "execution_count": null,
      "metadata": {
        "scrolled": true,
        "id": "zcGpB6_Fl3py",
        "outputId": "1fcbe544-72bf-4760-d3c9-fb1f0c99a489"
      },
      "outputs": [
        {
          "data": {
            "text/plain": [
              "Timestamp('2016-10-01 05:00:00')"
            ]
          },
          "execution_count": 33,
          "metadata": {},
          "output_type": "execute_result"
        }
      ],
      "source": [
        "ts.ceil('h')"
      ]
    },
    {
      "cell_type": "code",
      "execution_count": null,
      "metadata": {
        "scrolled": true,
        "id": "iDJ4ypTQl3py",
        "outputId": "195c3591-3d73-4042-c85f-7f1fc99f7a68"
      },
      "outputs": [
        {
          "data": {
            "text/plain": [
              "(2016, 10, 1, 4, 23, 23)"
            ]
          },
          "execution_count": 34,
          "metadata": {},
          "output_type": "execute_result"
        }
      ],
      "source": [
        "ts.year, ts.month, ts.day, ts.hour, ts.minute, ts.second"
      ]
    },
    {
      "cell_type": "code",
      "execution_count": null,
      "metadata": {
        "scrolled": true,
        "id": "VzggzaQyl3py",
        "outputId": "9eeb892a-7c26-4114-c795-f0617b0d32c6"
      },
      "outputs": [
        {
          "data": {
            "text/plain": [
              "(5, 275, 31)"
            ]
          },
          "execution_count": 35,
          "metadata": {},
          "output_type": "execute_result"
        }
      ],
      "source": [
        "ts.dayofweek, ts.dayofyear, ts.daysinmonth"
      ]
    },
    {
      "cell_type": "code",
      "execution_count": null,
      "metadata": {
        "scrolled": true,
        "id": "37Mivu5El3py",
        "outputId": "53daa397-67ea-4d35-92fb-ff6b75bfb513"
      },
      "outputs": [
        {
          "data": {
            "text/plain": [
              "datetime.datetime(2016, 10, 1, 4, 23, 23, 900000)"
            ]
          },
          "execution_count": 17,
          "metadata": {},
          "output_type": "execute_result"
        }
      ],
      "source": [
        "ts.to_pydatetime()"
      ]
    },
    {
      "cell_type": "code",
      "execution_count": null,
      "metadata": {
        "scrolled": true,
        "id": "YhXUF5abl3pz",
        "outputId": "932fb4db-5f38-4b37-dffa-4349b189bec5"
      },
      "outputs": [
        {
          "data": {
            "text/plain": [
              "Timedelta('5 days 05:52:20.280000')"
            ]
          },
          "execution_count": 37,
          "metadata": {},
          "output_type": "execute_result"
        }
      ],
      "source": [
        "td = pd.Timedelta(125.8723, unit='h')\n",
        "td"
      ]
    },
    {
      "cell_type": "code",
      "execution_count": null,
      "metadata": {
        "scrolled": true,
        "id": "t-Hh8GtNl3pz",
        "outputId": "cd284ef7-2f26-4829-cbfb-be913f48b45c"
      },
      "outputs": [
        {
          "data": {
            "text/plain": [
              "Timedelta('5 days 05:52:00')"
            ]
          },
          "execution_count": 38,
          "metadata": {},
          "output_type": "execute_result"
        }
      ],
      "source": [
        "td.round('min')"
      ]
    },
    {
      "cell_type": "code",
      "execution_count": null,
      "metadata": {
        "scrolled": true,
        "id": "KdnoTKzDl3pz",
        "outputId": "04aa899b-9a8e-426e-d765-235149535139"
      },
      "outputs": [
        {
          "data": {
            "text/plain": [
              "Components(days=5, hours=5, minutes=52, seconds=20, milliseconds=280, microseconds=0, nanoseconds=0)"
            ]
          },
          "execution_count": 39,
          "metadata": {},
          "output_type": "execute_result"
        }
      ],
      "source": [
        "td.components"
      ]
    },
    {
      "cell_type": "code",
      "execution_count": null,
      "metadata": {
        "scrolled": true,
        "id": "JrET0jKIl3pz",
        "outputId": "92dc4a16-4d34-4e26-f6f5-68eb06bc7def"
      },
      "outputs": [
        {
          "data": {
            "text/plain": [
              "453140.28"
            ]
          },
          "execution_count": 40,
          "metadata": {},
          "output_type": "execute_result"
        }
      ],
      "source": [
        "td.total_seconds()"
      ]
    },
    {
      "cell_type": "code",
      "execution_count": null,
      "metadata": {
        "scrolled": true,
        "id": "CoYQop7nl3pz"
      },
      "outputs": [],
      "source": [
        "date_string_list = ['Sep 30 1984'] * 10000"
      ]
    },
    {
      "cell_type": "code",
      "execution_count": null,
      "metadata": {
        "scrolled": true,
        "id": "4jAnK62hl3pz",
        "outputId": "3713750f-6c6b-401e-acda-88a6436db408"
      },
      "outputs": [
        {
          "name": "stdout",
          "output_type": "stream",
          "text": [
            "2.4 ms ± 77.2 µs per loop (mean ± std. dev. of 7 runs, 100 loops each)\n"
          ]
        }
      ],
      "source": [
        "%timeit pd.to_datetime(date_string_list, format='%b %d %Y')"
      ]
    },
    {
      "cell_type": "code",
      "execution_count": null,
      "metadata": {
        "scrolled": true,
        "id": "1A6UTM8Kl3p0",
        "outputId": "2d26e9f5-55c2-4a94-f36b-3d0b95191edf"
      },
      "outputs": [
        {
          "name": "stdout",
          "output_type": "stream",
          "text": [
            "2.75 ms ± 79.5 µs per loop (mean ± std. dev. of 7 runs, 100 loops each)\n"
          ]
        }
      ],
      "source": [
        "%timeit pd.to_datetime(date_string_list)"
      ]
    },
    {
      "cell_type": "markdown",
      "metadata": {
        "id": "jUzrwmg2l3p0"
      },
      "source": [
        "# Slicing time series intelligently"
      ]
    },
    {
      "cell_type": "code",
      "source": [
        "!wget https://github.com/sayyed-uoft/fullstackai/raw/main/crime.h5.zip\n",
        "!unzip crime.h5.zip"
      ],
      "metadata": {
        "colab": {
          "base_uri": "https://localhost:8080/"
        },
        "id": "NM5dWSYpnYQf",
        "outputId": "40713902-76f4-4844-b497-0f173866c8d8"
      },
      "execution_count": 6,
      "outputs": [
        {
          "output_type": "stream",
          "name": "stdout",
          "text": [
            "--2022-01-07 22:20:08--  https://github.com/sayyed-uoft/fullstackai/raw/main/crime.h5.zip\n",
            "Resolving github.com (github.com)... 140.82.113.3\n",
            "Connecting to github.com (github.com)|140.82.113.3|:443... connected.\n",
            "HTTP request sent, awaiting response... 302 Found\n",
            "Location: https://raw.githubusercontent.com/sayyed-uoft/fullstackai/main/crime.h5.zip [following]\n",
            "--2022-01-07 22:20:08--  https://raw.githubusercontent.com/sayyed-uoft/fullstackai/main/crime.h5.zip\n",
            "Resolving raw.githubusercontent.com (raw.githubusercontent.com)... 185.199.108.133, 185.199.109.133, 185.199.110.133, ...\n",
            "Connecting to raw.githubusercontent.com (raw.githubusercontent.com)|185.199.108.133|:443... connected.\n",
            "HTTP request sent, awaiting response... 200 OK\n",
            "Length: 18054265 (17M) [application/zip]\n",
            "Saving to: ‘crime.h5.zip.1’\n",
            "\n",
            "\rcrime.h5.zip.1        0%[                    ]       0  --.-KB/s               \rcrime.h5.zip.1      100%[===================>]  17.22M  --.-KB/s    in 0.06s   \n",
            "\n",
            "2022-01-07 22:20:08 (305 MB/s) - ‘crime.h5.zip.1’ saved [18054265/18054265]\n",
            "\n",
            "Archive:  crime.h5.zip\n",
            "  inflating: crime.h5                \n",
            "  inflating: __MACOSX/._crime.h5     \n"
          ]
        }
      ]
    },
    {
      "cell_type": "code",
      "execution_count": 7,
      "metadata": {
        "scrolled": true,
        "colab": {
          "base_uri": "https://localhost:8080/"
        },
        "id": "j2tdvRABl3p0",
        "outputId": "4a58487e-1175-4bf0-c273-8a9de28e1c89"
      },
      "outputs": [
        {
          "output_type": "execute_result",
          "data": {
            "text/plain": [
              "OFFENSE_TYPE_ID              category\n",
              "OFFENSE_CATEGORY_ID          category\n",
              "REPORTED_DATE          datetime64[ns]\n",
              "GEO_LON                       float64\n",
              "GEO_LAT                       float64\n",
              "NEIGHBORHOOD_ID              category\n",
              "IS_CRIME                        int64\n",
              "IS_TRAFFIC                      int64\n",
              "dtype: object"
            ]
          },
          "metadata": {},
          "execution_count": 7
        }
      ],
      "source": [
        "crime = pd.read_hdf('crime.h5', 'crime')\n",
        "crime.dtypes"
      ]
    },
    {
      "cell_type": "code",
      "execution_count": null,
      "metadata": {
        "scrolled": true,
        "id": "G0pRu1sFl3p0",
        "outputId": "9698b204-49de-419f-83f6-95326f1eba6d"
      },
      "outputs": [
        {
          "data": {
            "text/html": [
              "<div>\n",
              "<style scoped>\n",
              "    .dataframe tbody tr th:only-of-type {\n",
              "        vertical-align: middle;\n",
              "    }\n",
              "\n",
              "    .dataframe tbody tr th {\n",
              "        vertical-align: top;\n",
              "    }\n",
              "\n",
              "    .dataframe thead th {\n",
              "        text-align: right;\n",
              "    }\n",
              "</style>\n",
              "<table border=\"1\" class=\"dataframe\">\n",
              "  <thead>\n",
              "    <tr style=\"text-align: right;\">\n",
              "      <th></th>\n",
              "      <th>OFFENSE_TYPE_ID</th>\n",
              "      <th>OFFENSE_CATEGORY_ID</th>\n",
              "      <th>GEO_LON</th>\n",
              "      <th>GEO_LAT</th>\n",
              "      <th>NEIGHBORHOOD_ID</th>\n",
              "      <th>IS_CRIME</th>\n",
              "      <th>IS_TRAFFIC</th>\n",
              "    </tr>\n",
              "    <tr>\n",
              "      <th>REPORTED_DATE</th>\n",
              "      <th></th>\n",
              "      <th></th>\n",
              "      <th></th>\n",
              "      <th></th>\n",
              "      <th></th>\n",
              "      <th></th>\n",
              "      <th></th>\n",
              "    </tr>\n",
              "  </thead>\n",
              "  <tbody>\n",
              "    <tr>\n",
              "      <th>2014-06-29 02:01:00</th>\n",
              "      <td>traffic-accident-dui-duid</td>\n",
              "      <td>traffic-accident</td>\n",
              "      <td>-105.000149</td>\n",
              "      <td>39.745753</td>\n",
              "      <td>cbd</td>\n",
              "      <td>0</td>\n",
              "      <td>1</td>\n",
              "    </tr>\n",
              "    <tr>\n",
              "      <th>2014-06-29 01:54:00</th>\n",
              "      <td>vehicular-eluding-no-chase</td>\n",
              "      <td>all-other-crimes</td>\n",
              "      <td>-104.884660</td>\n",
              "      <td>39.738702</td>\n",
              "      <td>east-colfax</td>\n",
              "      <td>1</td>\n",
              "      <td>0</td>\n",
              "    </tr>\n",
              "    <tr>\n",
              "      <th>2014-06-29 02:00:00</th>\n",
              "      <td>disturbing-the-peace</td>\n",
              "      <td>public-disorder</td>\n",
              "      <td>-105.020719</td>\n",
              "      <td>39.706674</td>\n",
              "      <td>athmar-park</td>\n",
              "      <td>1</td>\n",
              "      <td>0</td>\n",
              "    </tr>\n",
              "    <tr>\n",
              "      <th>2014-06-29 02:18:00</th>\n",
              "      <td>curfew</td>\n",
              "      <td>public-disorder</td>\n",
              "      <td>-105.001552</td>\n",
              "      <td>39.769505</td>\n",
              "      <td>sunnyside</td>\n",
              "      <td>1</td>\n",
              "      <td>0</td>\n",
              "    </tr>\n",
              "    <tr>\n",
              "      <th>2014-06-29 04:17:00</th>\n",
              "      <td>aggravated-assault</td>\n",
              "      <td>aggravated-assault</td>\n",
              "      <td>-105.018557</td>\n",
              "      <td>39.679229</td>\n",
              "      <td>college-view-south-platte</td>\n",
              "      <td>1</td>\n",
              "      <td>0</td>\n",
              "    </tr>\n",
              "  </tbody>\n",
              "</table>\n",
              "</div>"
            ],
            "text/plain": [
              "                                OFFENSE_TYPE_ID OFFENSE_CATEGORY_ID  \\\n",
              "REPORTED_DATE                                                         \n",
              "2014-06-29 02:01:00   traffic-accident-dui-duid    traffic-accident   \n",
              "2014-06-29 01:54:00  vehicular-eluding-no-chase    all-other-crimes   \n",
              "2014-06-29 02:00:00        disturbing-the-peace     public-disorder   \n",
              "2014-06-29 02:18:00                      curfew     public-disorder   \n",
              "2014-06-29 04:17:00          aggravated-assault  aggravated-assault   \n",
              "\n",
              "                        GEO_LON    GEO_LAT            NEIGHBORHOOD_ID  \\\n",
              "REPORTED_DATE                                                           \n",
              "2014-06-29 02:01:00 -105.000149  39.745753                        cbd   \n",
              "2014-06-29 01:54:00 -104.884660  39.738702                east-colfax   \n",
              "2014-06-29 02:00:00 -105.020719  39.706674                athmar-park   \n",
              "2014-06-29 02:18:00 -105.001552  39.769505                  sunnyside   \n",
              "2014-06-29 04:17:00 -105.018557  39.679229  college-view-south-platte   \n",
              "\n",
              "                     IS_CRIME  IS_TRAFFIC  \n",
              "REPORTED_DATE                              \n",
              "2014-06-29 02:01:00         0           1  \n",
              "2014-06-29 01:54:00         1           0  \n",
              "2014-06-29 02:00:00         1           0  \n",
              "2014-06-29 02:18:00         1           0  \n",
              "2014-06-29 04:17:00         1           0  "
            ]
          },
          "execution_count": 22,
          "metadata": {},
          "output_type": "execute_result"
        }
      ],
      "source": [
        "crime = crime.set_index('REPORTED_DATE')\n",
        "crime.head()"
      ]
    },
    {
      "cell_type": "code",
      "execution_count": null,
      "metadata": {
        "scrolled": true,
        "id": "ei1ltYfcl3p0"
      },
      "outputs": [],
      "source": [
        "pd.options.display.max_rows = 4"
      ]
    },
    {
      "cell_type": "code",
      "execution_count": null,
      "metadata": {
        "scrolled": true,
        "id": "xjmrRn6ol3p0",
        "outputId": "9f9e7696-1ac8-4571-b793-d7c3d1adc86e"
      },
      "outputs": [
        {
          "data": {
            "text/html": [
              "<div>\n",
              "<style scoped>\n",
              "    .dataframe tbody tr th:only-of-type {\n",
              "        vertical-align: middle;\n",
              "    }\n",
              "\n",
              "    .dataframe tbody tr th {\n",
              "        vertical-align: top;\n",
              "    }\n",
              "\n",
              "    .dataframe thead th {\n",
              "        text-align: right;\n",
              "    }\n",
              "</style>\n",
              "<table border=\"1\" class=\"dataframe\">\n",
              "  <thead>\n",
              "    <tr style=\"text-align: right;\">\n",
              "      <th></th>\n",
              "      <th>OFFENSE_TYPE_ID</th>\n",
              "      <th>OFFENSE_CATEGORY_ID</th>\n",
              "      <th>GEO_LON</th>\n",
              "      <th>GEO_LAT</th>\n",
              "      <th>NEIGHBORHOOD_ID</th>\n",
              "      <th>IS_CRIME</th>\n",
              "      <th>IS_TRAFFIC</th>\n",
              "    </tr>\n",
              "    <tr>\n",
              "      <th>REPORTED_DATE</th>\n",
              "      <th></th>\n",
              "      <th></th>\n",
              "      <th></th>\n",
              "      <th></th>\n",
              "      <th></th>\n",
              "      <th></th>\n",
              "      <th></th>\n",
              "    </tr>\n",
              "  </thead>\n",
              "  <tbody>\n",
              "    <tr>\n",
              "      <th>2016-05-12 16:45:00</th>\n",
              "      <td>traffic-accident</td>\n",
              "      <td>traffic-accident</td>\n",
              "      <td>-104.847024</td>\n",
              "      <td>39.779596</td>\n",
              "      <td>montbello</td>\n",
              "      <td>0</td>\n",
              "      <td>1</td>\n",
              "    </tr>\n",
              "    <tr>\n",
              "      <th>2016-05-12 16:45:00</th>\n",
              "      <td>traffic-accident</td>\n",
              "      <td>traffic-accident</td>\n",
              "      <td>-105.049180</td>\n",
              "      <td>39.769296</td>\n",
              "      <td>west-highland</td>\n",
              "      <td>0</td>\n",
              "      <td>1</td>\n",
              "    </tr>\n",
              "    <tr>\n",
              "      <th>2016-05-12 16:45:00</th>\n",
              "      <td>fraud-identity-theft</td>\n",
              "      <td>white-collar-crime</td>\n",
              "      <td>-104.931971</td>\n",
              "      <td>39.717359</td>\n",
              "      <td>hilltop</td>\n",
              "      <td>1</td>\n",
              "      <td>0</td>\n",
              "    </tr>\n",
              "  </tbody>\n",
              "</table>\n",
              "</div>"
            ],
            "text/plain": [
              "                          OFFENSE_TYPE_ID OFFENSE_CATEGORY_ID     GEO_LON  \\\n",
              "REPORTED_DATE                                                               \n",
              "2016-05-12 16:45:00      traffic-accident    traffic-accident -104.847024   \n",
              "2016-05-12 16:45:00      traffic-accident    traffic-accident -105.049180   \n",
              "2016-05-12 16:45:00  fraud-identity-theft  white-collar-crime -104.931971   \n",
              "\n",
              "                       GEO_LAT NEIGHBORHOOD_ID  IS_CRIME  IS_TRAFFIC  \n",
              "REPORTED_DATE                                                         \n",
              "2016-05-12 16:45:00  39.779596       montbello         0           1  \n",
              "2016-05-12 16:45:00  39.769296   west-highland         0           1  \n",
              "2016-05-12 16:45:00  39.717359         hilltop         1           0  "
            ]
          },
          "execution_count": 26,
          "metadata": {},
          "output_type": "execute_result"
        }
      ],
      "source": [
        "crime.loc['2016-05-12 16:45:00']"
      ]
    },
    {
      "cell_type": "code",
      "execution_count": null,
      "metadata": {
        "scrolled": true,
        "id": "qRkIphPrl3p1",
        "outputId": "09baaede-4a45-4dad-99f7-997587b1d785"
      },
      "outputs": [
        {
          "data": {
            "text/html": [
              "<div>\n",
              "<style scoped>\n",
              "    .dataframe tbody tr th:only-of-type {\n",
              "        vertical-align: middle;\n",
              "    }\n",
              "\n",
              "    .dataframe tbody tr th {\n",
              "        vertical-align: top;\n",
              "    }\n",
              "\n",
              "    .dataframe thead th {\n",
              "        text-align: right;\n",
              "    }\n",
              "</style>\n",
              "<table border=\"1\" class=\"dataframe\">\n",
              "  <thead>\n",
              "    <tr style=\"text-align: right;\">\n",
              "      <th></th>\n",
              "      <th>OFFENSE_TYPE_ID</th>\n",
              "      <th>OFFENSE_CATEGORY_ID</th>\n",
              "      <th>GEO_LON</th>\n",
              "      <th>GEO_LAT</th>\n",
              "      <th>NEIGHBORHOOD_ID</th>\n",
              "      <th>IS_CRIME</th>\n",
              "      <th>IS_TRAFFIC</th>\n",
              "    </tr>\n",
              "    <tr>\n",
              "      <th>REPORTED_DATE</th>\n",
              "      <th></th>\n",
              "      <th></th>\n",
              "      <th></th>\n",
              "      <th></th>\n",
              "      <th></th>\n",
              "      <th></th>\n",
              "      <th></th>\n",
              "    </tr>\n",
              "  </thead>\n",
              "  <tbody>\n",
              "    <tr>\n",
              "      <th>2016-05-12 23:51:00</th>\n",
              "      <td>criminal-mischief-other</td>\n",
              "      <td>public-disorder</td>\n",
              "      <td>-105.017241</td>\n",
              "      <td>39.705845</td>\n",
              "      <td>athmar-park</td>\n",
              "      <td>1</td>\n",
              "      <td>0</td>\n",
              "    </tr>\n",
              "    <tr>\n",
              "      <th>2016-05-12 18:40:00</th>\n",
              "      <td>liquor-possession</td>\n",
              "      <td>drug-alcohol</td>\n",
              "      <td>-104.995692</td>\n",
              "      <td>39.747875</td>\n",
              "      <td>cbd</td>\n",
              "      <td>1</td>\n",
              "      <td>0</td>\n",
              "    </tr>\n",
              "    <tr>\n",
              "      <th>...</th>\n",
              "      <td>...</td>\n",
              "      <td>...</td>\n",
              "      <td>...</td>\n",
              "      <td>...</td>\n",
              "      <td>...</td>\n",
              "      <td>...</td>\n",
              "      <td>...</td>\n",
              "    </tr>\n",
              "    <tr>\n",
              "      <th>2016-05-12 15:59:00</th>\n",
              "      <td>menacing-felony-w-weap</td>\n",
              "      <td>aggravated-assault</td>\n",
              "      <td>-104.935172</td>\n",
              "      <td>39.723703</td>\n",
              "      <td>hilltop</td>\n",
              "      <td>1</td>\n",
              "      <td>0</td>\n",
              "    </tr>\n",
              "    <tr>\n",
              "      <th>2016-05-12 16:39:00</th>\n",
              "      <td>assault-dv</td>\n",
              "      <td>other-crimes-against-persons</td>\n",
              "      <td>-104.974700</td>\n",
              "      <td>39.740555</td>\n",
              "      <td>north-capitol-hill</td>\n",
              "      <td>1</td>\n",
              "      <td>0</td>\n",
              "    </tr>\n",
              "  </tbody>\n",
              "</table>\n",
              "<p>243 rows × 7 columns</p>\n",
              "</div>"
            ],
            "text/plain": [
              "                             OFFENSE_TYPE_ID           OFFENSE_CATEGORY_ID  \\\n",
              "REPORTED_DATE                                                                \n",
              "2016-05-12 23:51:00  criminal-mischief-other               public-disorder   \n",
              "2016-05-12 18:40:00        liquor-possession                  drug-alcohol   \n",
              "...                                      ...                           ...   \n",
              "2016-05-12 15:59:00   menacing-felony-w-weap            aggravated-assault   \n",
              "2016-05-12 16:39:00               assault-dv  other-crimes-against-persons   \n",
              "\n",
              "                        GEO_LON    GEO_LAT     NEIGHBORHOOD_ID  IS_CRIME  \\\n",
              "REPORTED_DATE                                                              \n",
              "2016-05-12 23:51:00 -105.017241  39.705845         athmar-park         1   \n",
              "2016-05-12 18:40:00 -104.995692  39.747875                 cbd         1   \n",
              "...                         ...        ...                 ...       ...   \n",
              "2016-05-12 15:59:00 -104.935172  39.723703             hilltop         1   \n",
              "2016-05-12 16:39:00 -104.974700  39.740555  north-capitol-hill         1   \n",
              "\n",
              "                     IS_TRAFFIC  \n",
              "REPORTED_DATE                    \n",
              "2016-05-12 23:51:00           0  \n",
              "2016-05-12 18:40:00           0  \n",
              "...                         ...  \n",
              "2016-05-12 15:59:00           0  \n",
              "2016-05-12 16:39:00           0  \n",
              "\n",
              "[243 rows x 7 columns]"
            ]
          },
          "execution_count": 27,
          "metadata": {},
          "output_type": "execute_result"
        }
      ],
      "source": [
        "crime.loc['2016-05-12']"
      ]
    },
    {
      "cell_type": "code",
      "execution_count": null,
      "metadata": {
        "scrolled": true,
        "id": "t_WQkVeNl3p1",
        "outputId": "65336f16-fe2c-4b14-a2df-0ca6f5483dbc"
      },
      "outputs": [
        {
          "data": {
            "text/plain": [
              "(8012, 7)"
            ]
          },
          "execution_count": 49,
          "metadata": {},
          "output_type": "execute_result"
        }
      ],
      "source": [
        "crime.loc['2016-05'].shape"
      ]
    },
    {
      "cell_type": "code",
      "execution_count": null,
      "metadata": {
        "scrolled": true,
        "id": "Je2pF7xgl3p1",
        "outputId": "9fae78c4-5d09-4236-b63f-b1c6d77bf28e"
      },
      "outputs": [
        {
          "data": {
            "text/plain": [
              "(91076, 7)"
            ]
          },
          "execution_count": 50,
          "metadata": {},
          "output_type": "execute_result"
        }
      ],
      "source": [
        "crime.loc['2016'].shape"
      ]
    },
    {
      "cell_type": "code",
      "execution_count": null,
      "metadata": {
        "scrolled": true,
        "id": "x7vmh-i5l3p1",
        "outputId": "2c8704f6-ebf1-4a9b-80cb-3287bb61f83b"
      },
      "outputs": [
        {
          "data": {
            "text/plain": [
              "(4, 7)"
            ]
          },
          "execution_count": 51,
          "metadata": {},
          "output_type": "execute_result"
        }
      ],
      "source": [
        "crime.loc['2016-05-12 03'].shape"
      ]
    },
    {
      "cell_type": "code",
      "execution_count": null,
      "metadata": {
        "scrolled": true,
        "id": "-tUGJD87l3p1",
        "outputId": "da51938b-438c-473f-c677-acebb38cd8c2"
      },
      "outputs": [
        {
          "data": {
            "text/html": [
              "<div>\n",
              "<style>\n",
              "    .dataframe thead tr:only-child th {\n",
              "        text-align: right;\n",
              "    }\n",
              "\n",
              "    .dataframe thead th {\n",
              "        text-align: left;\n",
              "    }\n",
              "\n",
              "    .dataframe tbody tr th {\n",
              "        vertical-align: top;\n",
              "    }\n",
              "</style>\n",
              "<table border=\"1\" class=\"dataframe\">\n",
              "  <thead>\n",
              "    <tr style=\"text-align: right;\">\n",
              "      <th></th>\n",
              "      <th>OFFENSE_TYPE_ID</th>\n",
              "      <th>OFFENSE_CATEGORY_ID</th>\n",
              "      <th>GEO_LON</th>\n",
              "      <th>GEO_LAT</th>\n",
              "      <th>NEIGHBORHOOD_ID</th>\n",
              "      <th>IS_CRIME</th>\n",
              "      <th>IS_TRAFFIC</th>\n",
              "    </tr>\n",
              "    <tr>\n",
              "      <th>REPORTED_DATE</th>\n",
              "      <th></th>\n",
              "      <th></th>\n",
              "      <th></th>\n",
              "      <th></th>\n",
              "      <th></th>\n",
              "      <th></th>\n",
              "      <th></th>\n",
              "    </tr>\n",
              "  </thead>\n",
              "  <tbody>\n",
              "    <tr>\n",
              "      <th>2015-12-01 00:48:00</th>\n",
              "      <td>drug-cocaine-possess</td>\n",
              "      <td>drug-alcohol</td>\n",
              "      <td>-104.891681</td>\n",
              "      <td>39.740155</td>\n",
              "      <td>east-colfax</td>\n",
              "      <td>1</td>\n",
              "      <td>0</td>\n",
              "    </tr>\n",
              "    <tr>\n",
              "      <th>2015-12-01 00:48:00</th>\n",
              "      <td>theft-of-motor-vehicle</td>\n",
              "      <td>auto-theft</td>\n",
              "      <td>-104.891681</td>\n",
              "      <td>39.740155</td>\n",
              "      <td>east-colfax</td>\n",
              "      <td>1</td>\n",
              "      <td>0</td>\n",
              "    </tr>\n",
              "    <tr>\n",
              "      <th>...</th>\n",
              "      <td>...</td>\n",
              "      <td>...</td>\n",
              "      <td>...</td>\n",
              "      <td>...</td>\n",
              "      <td>...</td>\n",
              "      <td>...</td>\n",
              "      <td>...</td>\n",
              "    </tr>\n",
              "    <tr>\n",
              "      <th>2015-12-31 23:45:00</th>\n",
              "      <td>violation-of-restraining-order</td>\n",
              "      <td>all-other-crimes</td>\n",
              "      <td>-105.034887</td>\n",
              "      <td>39.741827</td>\n",
              "      <td>west-colfax</td>\n",
              "      <td>1</td>\n",
              "      <td>0</td>\n",
              "    </tr>\n",
              "    <tr>\n",
              "      <th>2015-12-31 23:50:00</th>\n",
              "      <td>weapon-poss-illegal-dangerous</td>\n",
              "      <td>all-other-crimes</td>\n",
              "      <td>-105.032769</td>\n",
              "      <td>39.709188</td>\n",
              "      <td>westwood</td>\n",
              "      <td>1</td>\n",
              "      <td>0</td>\n",
              "    </tr>\n",
              "  </tbody>\n",
              "</table>\n",
              "<p>6907 rows × 7 columns</p>\n",
              "</div>"
            ],
            "text/plain": [
              "                                    OFFENSE_TYPE_ID OFFENSE_CATEGORY_ID  \\\n",
              "REPORTED_DATE                                                             \n",
              "2015-12-01 00:48:00            drug-cocaine-possess        drug-alcohol   \n",
              "2015-12-01 00:48:00          theft-of-motor-vehicle          auto-theft   \n",
              "...                                             ...                 ...   \n",
              "2015-12-31 23:45:00  violation-of-restraining-order    all-other-crimes   \n",
              "2015-12-31 23:50:00   weapon-poss-illegal-dangerous    all-other-crimes   \n",
              "\n",
              "                        GEO_LON    GEO_LAT NEIGHBORHOOD_ID  IS_CRIME  \\\n",
              "REPORTED_DATE                                                          \n",
              "2015-12-01 00:48:00 -104.891681  39.740155     east-colfax         1   \n",
              "2015-12-01 00:48:00 -104.891681  39.740155     east-colfax         1   \n",
              "...                         ...        ...             ...       ...   \n",
              "2015-12-31 23:45:00 -105.034887  39.741827     west-colfax         1   \n",
              "2015-12-31 23:50:00 -105.032769  39.709188        westwood         1   \n",
              "\n",
              "                     IS_TRAFFIC  \n",
              "REPORTED_DATE                    \n",
              "2015-12-01 00:48:00           0  \n",
              "2015-12-01 00:48:00           0  \n",
              "...                         ...  \n",
              "2015-12-31 23:45:00           0  \n",
              "2015-12-31 23:50:00           0  \n",
              "\n",
              "[6907 rows x 7 columns]"
            ]
          },
          "execution_count": 52,
          "metadata": {},
          "output_type": "execute_result"
        }
      ],
      "source": [
        "crime.loc['Dec 2015'].sort_index()"
      ]
    },
    {
      "cell_type": "code",
      "execution_count": null,
      "metadata": {
        "scrolled": true,
        "id": "SI_UerxHl3p1",
        "outputId": "9bdda473-1cc3-45cd-9653-f2c113355706"
      },
      "outputs": [
        {
          "data": {
            "text/plain": [
              "(252, 7)"
            ]
          },
          "execution_count": 53,
          "metadata": {},
          "output_type": "execute_result"
        }
      ],
      "source": [
        "crime.loc['2016 Sep, 15'].shape"
      ]
    },
    {
      "cell_type": "code",
      "execution_count": null,
      "metadata": {
        "scrolled": true,
        "id": "PDJggjm0l3p2",
        "outputId": "8f7cc088-d041-4d75-e471-ca87083b1644"
      },
      "outputs": [
        {
          "data": {
            "text/html": [
              "<div>\n",
              "<style scoped>\n",
              "    .dataframe tbody tr th:only-of-type {\n",
              "        vertical-align: middle;\n",
              "    }\n",
              "\n",
              "    .dataframe tbody tr th {\n",
              "        vertical-align: top;\n",
              "    }\n",
              "\n",
              "    .dataframe thead th {\n",
              "        text-align: right;\n",
              "    }\n",
              "</style>\n",
              "<table border=\"1\" class=\"dataframe\">\n",
              "  <thead>\n",
              "    <tr style=\"text-align: right;\">\n",
              "      <th></th>\n",
              "      <th>OFFENSE_TYPE_ID</th>\n",
              "      <th>OFFENSE_CATEGORY_ID</th>\n",
              "      <th>GEO_LON</th>\n",
              "      <th>GEO_LAT</th>\n",
              "      <th>NEIGHBORHOOD_ID</th>\n",
              "      <th>IS_CRIME</th>\n",
              "      <th>IS_TRAFFIC</th>\n",
              "    </tr>\n",
              "    <tr>\n",
              "      <th>REPORTED_DATE</th>\n",
              "      <th></th>\n",
              "      <th></th>\n",
              "      <th></th>\n",
              "      <th></th>\n",
              "      <th></th>\n",
              "      <th></th>\n",
              "      <th></th>\n",
              "    </tr>\n",
              "  </thead>\n",
              "  <tbody>\n",
              "    <tr>\n",
              "      <th>2014-10-21 05:19:00</th>\n",
              "      <td>traf-other</td>\n",
              "      <td>all-other-crimes</td>\n",
              "      <td>-105.006459</td>\n",
              "      <td>39.769287</td>\n",
              "      <td>highland</td>\n",
              "      <td>1</td>\n",
              "      <td>0</td>\n",
              "    </tr>\n",
              "    <tr>\n",
              "      <th>2014-10-21 05:11:00</th>\n",
              "      <td>criminal-trespassing</td>\n",
              "      <td>all-other-crimes</td>\n",
              "      <td>-104.962105</td>\n",
              "      <td>39.676030</td>\n",
              "      <td>university</td>\n",
              "      <td>1</td>\n",
              "      <td>0</td>\n",
              "    </tr>\n",
              "    <tr>\n",
              "      <th>2014-10-21 05:47:00</th>\n",
              "      <td>harassment-dv</td>\n",
              "      <td>public-disorder</td>\n",
              "      <td>-104.765032</td>\n",
              "      <td>39.801407</td>\n",
              "      <td>dia</td>\n",
              "      <td>1</td>\n",
              "      <td>0</td>\n",
              "    </tr>\n",
              "    <tr>\n",
              "      <th>2014-10-21 05:00:00</th>\n",
              "      <td>criminal-mischief-mtr-veh</td>\n",
              "      <td>public-disorder</td>\n",
              "      <td>-105.020969</td>\n",
              "      <td>39.756938</td>\n",
              "      <td>jefferson-park</td>\n",
              "      <td>1</td>\n",
              "      <td>0</td>\n",
              "    </tr>\n",
              "  </tbody>\n",
              "</table>\n",
              "</div>"
            ],
            "text/plain": [
              "                               OFFENSE_TYPE_ID OFFENSE_CATEGORY_ID  \\\n",
              "REPORTED_DATE                                                        \n",
              "2014-10-21 05:19:00                 traf-other    all-other-crimes   \n",
              "2014-10-21 05:11:00       criminal-trespassing    all-other-crimes   \n",
              "2014-10-21 05:47:00              harassment-dv     public-disorder   \n",
              "2014-10-21 05:00:00  criminal-mischief-mtr-veh     public-disorder   \n",
              "\n",
              "                        GEO_LON    GEO_LAT NEIGHBORHOOD_ID  IS_CRIME  \\\n",
              "REPORTED_DATE                                                          \n",
              "2014-10-21 05:19:00 -105.006459  39.769287        highland         1   \n",
              "2014-10-21 05:11:00 -104.962105  39.676030      university         1   \n",
              "2014-10-21 05:47:00 -104.765032  39.801407             dia         1   \n",
              "2014-10-21 05:00:00 -105.020969  39.756938  jefferson-park         1   \n",
              "\n",
              "                     IS_TRAFFIC  \n",
              "REPORTED_DATE                    \n",
              "2014-10-21 05:19:00           0  \n",
              "2014-10-21 05:11:00           0  \n",
              "2014-10-21 05:47:00           0  \n",
              "2014-10-21 05:00:00           0  "
            ]
          },
          "execution_count": 30,
          "metadata": {},
          "output_type": "execute_result"
        }
      ],
      "source": [
        "crime.loc['21st October 2014 05'] #hour 05"
      ]
    },
    {
      "cell_type": "code",
      "execution_count": null,
      "metadata": {
        "scrolled": true,
        "id": "f2bbRKkgl3p2",
        "outputId": "fb377917-f366-44d6-e55a-632d4a2fd061"
      },
      "outputs": [
        {
          "data": {
            "text/html": [
              "<div>\n",
              "<style>\n",
              "    .dataframe thead tr:only-child th {\n",
              "        text-align: right;\n",
              "    }\n",
              "\n",
              "    .dataframe thead th {\n",
              "        text-align: left;\n",
              "    }\n",
              "\n",
              "    .dataframe tbody tr th {\n",
              "        vertical-align: top;\n",
              "    }\n",
              "</style>\n",
              "<table border=\"1\" class=\"dataframe\">\n",
              "  <thead>\n",
              "    <tr style=\"text-align: right;\">\n",
              "      <th></th>\n",
              "      <th>OFFENSE_TYPE_ID</th>\n",
              "      <th>OFFENSE_CATEGORY_ID</th>\n",
              "      <th>GEO_LON</th>\n",
              "      <th>GEO_LAT</th>\n",
              "      <th>NEIGHBORHOOD_ID</th>\n",
              "      <th>IS_CRIME</th>\n",
              "      <th>IS_TRAFFIC</th>\n",
              "    </tr>\n",
              "    <tr>\n",
              "      <th>REPORTED_DATE</th>\n",
              "      <th></th>\n",
              "      <th></th>\n",
              "      <th></th>\n",
              "      <th></th>\n",
              "      <th></th>\n",
              "      <th></th>\n",
              "      <th></th>\n",
              "    </tr>\n",
              "  </thead>\n",
              "  <tbody>\n",
              "    <tr>\n",
              "      <th>2015-03-04 00:11:00</th>\n",
              "      <td>assault-dv</td>\n",
              "      <td>other-crimes-against-persons</td>\n",
              "      <td>-105.021966</td>\n",
              "      <td>39.770883</td>\n",
              "      <td>sunnyside</td>\n",
              "      <td>1</td>\n",
              "      <td>0</td>\n",
              "    </tr>\n",
              "    <tr>\n",
              "      <th>2015-03-04 00:19:00</th>\n",
              "      <td>assault-dv</td>\n",
              "      <td>other-crimes-against-persons</td>\n",
              "      <td>-104.978988</td>\n",
              "      <td>39.748799</td>\n",
              "      <td>five-points</td>\n",
              "      <td>1</td>\n",
              "      <td>0</td>\n",
              "    </tr>\n",
              "    <tr>\n",
              "      <th>...</th>\n",
              "      <td>...</td>\n",
              "      <td>...</td>\n",
              "      <td>...</td>\n",
              "      <td>...</td>\n",
              "      <td>...</td>\n",
              "      <td>...</td>\n",
              "      <td>...</td>\n",
              "    </tr>\n",
              "    <tr>\n",
              "      <th>2016-01-01 23:45:00</th>\n",
              "      <td>drug-cocaine-possess</td>\n",
              "      <td>drug-alcohol</td>\n",
              "      <td>-104.987310</td>\n",
              "      <td>39.753598</td>\n",
              "      <td>five-points</td>\n",
              "      <td>1</td>\n",
              "      <td>0</td>\n",
              "    </tr>\n",
              "    <tr>\n",
              "      <th>2016-01-01 23:48:00</th>\n",
              "      <td>drug-poss-paraphernalia</td>\n",
              "      <td>drug-alcohol</td>\n",
              "      <td>-104.986020</td>\n",
              "      <td>39.752541</td>\n",
              "      <td>five-points</td>\n",
              "      <td>1</td>\n",
              "      <td>0</td>\n",
              "    </tr>\n",
              "  </tbody>\n",
              "</table>\n",
              "<p>75403 rows × 7 columns</p>\n",
              "</div>"
            ],
            "text/plain": [
              "                             OFFENSE_TYPE_ID           OFFENSE_CATEGORY_ID  \\\n",
              "REPORTED_DATE                                                                \n",
              "2015-03-04 00:11:00               assault-dv  other-crimes-against-persons   \n",
              "2015-03-04 00:19:00               assault-dv  other-crimes-against-persons   \n",
              "...                                      ...                           ...   \n",
              "2016-01-01 23:45:00     drug-cocaine-possess                  drug-alcohol   \n",
              "2016-01-01 23:48:00  drug-poss-paraphernalia                  drug-alcohol   \n",
              "\n",
              "                        GEO_LON    GEO_LAT NEIGHBORHOOD_ID  IS_CRIME  \\\n",
              "REPORTED_DATE                                                          \n",
              "2015-03-04 00:11:00 -105.021966  39.770883       sunnyside         1   \n",
              "2015-03-04 00:19:00 -104.978988  39.748799     five-points         1   \n",
              "...                         ...        ...             ...       ...   \n",
              "2016-01-01 23:45:00 -104.987310  39.753598     five-points         1   \n",
              "2016-01-01 23:48:00 -104.986020  39.752541     five-points         1   \n",
              "\n",
              "                     IS_TRAFFIC  \n",
              "REPORTED_DATE                    \n",
              "2015-03-04 00:11:00           0  \n",
              "2015-03-04 00:19:00           0  \n",
              "...                         ...  \n",
              "2016-01-01 23:45:00           0  \n",
              "2016-01-01 23:48:00           0  \n",
              "\n",
              "[75403 rows x 7 columns]"
            ]
          },
          "execution_count": 55,
          "metadata": {},
          "output_type": "execute_result"
        }
      ],
      "source": [
        "crime.loc['2015-3-4':'2016-1-1'].sort_index()"
      ]
    },
    {
      "cell_type": "code",
      "execution_count": null,
      "metadata": {
        "scrolled": true,
        "id": "5sZqdbXTl3p2",
        "outputId": "d7620513-d388-4255-99fa-48fca8024d6d"
      },
      "outputs": [
        {
          "data": {
            "text/html": [
              "<div>\n",
              "<style>\n",
              "    .dataframe thead tr:only-child th {\n",
              "        text-align: right;\n",
              "    }\n",
              "\n",
              "    .dataframe thead th {\n",
              "        text-align: left;\n",
              "    }\n",
              "\n",
              "    .dataframe tbody tr th {\n",
              "        vertical-align: top;\n",
              "    }\n",
              "</style>\n",
              "<table border=\"1\" class=\"dataframe\">\n",
              "  <thead>\n",
              "    <tr style=\"text-align: right;\">\n",
              "      <th></th>\n",
              "      <th>OFFENSE_TYPE_ID</th>\n",
              "      <th>OFFENSE_CATEGORY_ID</th>\n",
              "      <th>GEO_LON</th>\n",
              "      <th>GEO_LAT</th>\n",
              "      <th>NEIGHBORHOOD_ID</th>\n",
              "      <th>IS_CRIME</th>\n",
              "      <th>IS_TRAFFIC</th>\n",
              "    </tr>\n",
              "    <tr>\n",
              "      <th>REPORTED_DATE</th>\n",
              "      <th></th>\n",
              "      <th></th>\n",
              "      <th></th>\n",
              "      <th></th>\n",
              "      <th></th>\n",
              "      <th></th>\n",
              "      <th></th>\n",
              "    </tr>\n",
              "  </thead>\n",
              "  <tbody>\n",
              "    <tr>\n",
              "      <th>2015-03-04 22:25:00</th>\n",
              "      <td>traffic-accident-hit-and-run</td>\n",
              "      <td>traffic-accident</td>\n",
              "      <td>-104.973896</td>\n",
              "      <td>39.769064</td>\n",
              "      <td>five-points</td>\n",
              "      <td>0</td>\n",
              "      <td>1</td>\n",
              "    </tr>\n",
              "    <tr>\n",
              "      <th>2015-03-04 22:30:00</th>\n",
              "      <td>traffic-accident</td>\n",
              "      <td>traffic-accident</td>\n",
              "      <td>-104.906412</td>\n",
              "      <td>39.632816</td>\n",
              "      <td>hampden-south</td>\n",
              "      <td>0</td>\n",
              "      <td>1</td>\n",
              "    </tr>\n",
              "    <tr>\n",
              "      <th>...</th>\n",
              "      <td>...</td>\n",
              "      <td>...</td>\n",
              "      <td>...</td>\n",
              "      <td>...</td>\n",
              "      <td>...</td>\n",
              "      <td>...</td>\n",
              "      <td>...</td>\n",
              "    </tr>\n",
              "    <tr>\n",
              "      <th>2016-01-01 23:40:00</th>\n",
              "      <td>robbery-business</td>\n",
              "      <td>robbery</td>\n",
              "      <td>-105.039236</td>\n",
              "      <td>39.726157</td>\n",
              "      <td>villa-park</td>\n",
              "      <td>1</td>\n",
              "      <td>0</td>\n",
              "    </tr>\n",
              "    <tr>\n",
              "      <th>2016-01-01 23:45:00</th>\n",
              "      <td>drug-cocaine-possess</td>\n",
              "      <td>drug-alcohol</td>\n",
              "      <td>-104.987310</td>\n",
              "      <td>39.753598</td>\n",
              "      <td>five-points</td>\n",
              "      <td>1</td>\n",
              "      <td>0</td>\n",
              "    </tr>\n",
              "  </tbody>\n",
              "</table>\n",
              "<p>75175 rows × 7 columns</p>\n",
              "</div>"
            ],
            "text/plain": [
              "                                  OFFENSE_TYPE_ID OFFENSE_CATEGORY_ID  \\\n",
              "REPORTED_DATE                                                           \n",
              "2015-03-04 22:25:00  traffic-accident-hit-and-run    traffic-accident   \n",
              "2015-03-04 22:30:00              traffic-accident    traffic-accident   \n",
              "...                                           ...                 ...   \n",
              "2016-01-01 23:40:00              robbery-business             robbery   \n",
              "2016-01-01 23:45:00          drug-cocaine-possess        drug-alcohol   \n",
              "\n",
              "                        GEO_LON    GEO_LAT NEIGHBORHOOD_ID  IS_CRIME  \\\n",
              "REPORTED_DATE                                                          \n",
              "2015-03-04 22:25:00 -104.973896  39.769064     five-points         0   \n",
              "2015-03-04 22:30:00 -104.906412  39.632816   hampden-south         0   \n",
              "...                         ...        ...             ...       ...   \n",
              "2016-01-01 23:40:00 -105.039236  39.726157      villa-park         1   \n",
              "2016-01-01 23:45:00 -104.987310  39.753598     five-points         1   \n",
              "\n",
              "                     IS_TRAFFIC  \n",
              "REPORTED_DATE                    \n",
              "2015-03-04 22:25:00           1  \n",
              "2015-03-04 22:30:00           1  \n",
              "...                         ...  \n",
              "2016-01-01 23:40:00           0  \n",
              "2016-01-01 23:45:00           0  \n",
              "\n",
              "[75175 rows x 7 columns]"
            ]
          },
          "execution_count": 56,
          "metadata": {},
          "output_type": "execute_result"
        }
      ],
      "source": [
        "crime.loc['2015-3-4 22':'2016-1-1 23:45:00'].sort_index()"
      ]
    },
    {
      "cell_type": "code",
      "execution_count": null,
      "metadata": {
        "scrolled": true,
        "id": "4hb_CZX5l3p2",
        "outputId": "d6f4aac8-423e-4bd1-e3aa-748e8245e9fb"
      },
      "outputs": [
        {
          "name": "stdout",
          "output_type": "stream",
          "text": [
            "5.92 ms ± 131 µs per loop (mean ± std. dev. of 7 runs, 100 loops each)\n"
          ]
        }
      ],
      "source": [
        "%timeit crime.loc['2015-3-4':'2016-1-1']"
      ]
    },
    {
      "cell_type": "code",
      "execution_count": null,
      "metadata": {
        "scrolled": true,
        "id": "DROzmQbMl3p2"
      },
      "outputs": [],
      "source": [
        "crime_sort = crime.sort_index()"
      ]
    },
    {
      "cell_type": "code",
      "execution_count": null,
      "metadata": {
        "scrolled": true,
        "id": "evOPXw87l3p2",
        "outputId": "90d68623-99ef-4c29-f5af-e60cee3843e5"
      },
      "outputs": [
        {
          "name": "stdout",
          "output_type": "stream",
          "text": [
            "706 µs ± 13.8 µs per loop (mean ± std. dev. of 7 runs, 1000 loops each)\n"
          ]
        }
      ],
      "source": [
        "%timeit crime_sort.loc['2015-3-4':'2016-1-1']"
      ]
    },
    {
      "cell_type": "code",
      "execution_count": null,
      "metadata": {
        "scrolled": true,
        "id": "FwxezoSRl3p3"
      },
      "outputs": [],
      "source": [
        "pd.options.display.max_rows = 6"
      ]
    },
    {
      "cell_type": "markdown",
      "metadata": {
        "id": "gCyNc1Qwl3p3"
      },
      "source": [
        "# Using methods that only work with a DatetimeIndex"
      ]
    },
    {
      "cell_type": "code",
      "execution_count": null,
      "metadata": {
        "scrolled": true,
        "id": "wQakGuuXl3p3",
        "outputId": "46e68674-ce22-4225-b00e-54bf6937e4bb"
      },
      "outputs": [
        {
          "name": "stdout",
          "output_type": "stream",
          "text": [
            "<class 'pandas.core.indexes.datetimes.DatetimeIndex'>\n"
          ]
        }
      ],
      "source": [
        "crime = pd.read_hdf('crime.h5', 'crime').set_index('REPORTED_DATE')\n",
        "print(type(crime.index))"
      ]
    },
    {
      "cell_type": "code",
      "execution_count": null,
      "metadata": {
        "scrolled": true,
        "id": "nWJ3hf9Ml3p3",
        "outputId": "5dacc87d-38b9-43bb-ebd2-5e5f637a9e54"
      },
      "outputs": [
        {
          "data": {
            "text/html": [
              "<div>\n",
              "<style scoped>\n",
              "    .dataframe tbody tr th:only-of-type {\n",
              "        vertical-align: middle;\n",
              "    }\n",
              "\n",
              "    .dataframe tbody tr th {\n",
              "        vertical-align: top;\n",
              "    }\n",
              "\n",
              "    .dataframe thead th {\n",
              "        text-align: right;\n",
              "    }\n",
              "</style>\n",
              "<table border=\"1\" class=\"dataframe\">\n",
              "  <thead>\n",
              "    <tr style=\"text-align: right;\">\n",
              "      <th></th>\n",
              "      <th>OFFENSE_TYPE_ID</th>\n",
              "      <th>OFFENSE_CATEGORY_ID</th>\n",
              "      <th>GEO_LON</th>\n",
              "      <th>GEO_LAT</th>\n",
              "      <th>NEIGHBORHOOD_ID</th>\n",
              "      <th>IS_CRIME</th>\n",
              "      <th>IS_TRAFFIC</th>\n",
              "    </tr>\n",
              "    <tr>\n",
              "      <th>REPORTED_DATE</th>\n",
              "      <th></th>\n",
              "      <th></th>\n",
              "      <th></th>\n",
              "      <th></th>\n",
              "      <th></th>\n",
              "      <th></th>\n",
              "      <th></th>\n",
              "    </tr>\n",
              "  </thead>\n",
              "  <tbody>\n",
              "    <tr>\n",
              "      <th>2014-06-29 02:01:00</th>\n",
              "      <td>traffic-accident-dui-duid</td>\n",
              "      <td>traffic-accident</td>\n",
              "      <td>-105.000149</td>\n",
              "      <td>39.745753</td>\n",
              "      <td>cbd</td>\n",
              "      <td>0</td>\n",
              "      <td>1</td>\n",
              "    </tr>\n",
              "    <tr>\n",
              "      <th>2014-06-29 02:00:00</th>\n",
              "      <td>disturbing-the-peace</td>\n",
              "      <td>public-disorder</td>\n",
              "      <td>-105.020719</td>\n",
              "      <td>39.706674</td>\n",
              "      <td>athmar-park</td>\n",
              "      <td>1</td>\n",
              "      <td>0</td>\n",
              "    </tr>\n",
              "    <tr>\n",
              "      <th>2014-06-29 02:18:00</th>\n",
              "      <td>curfew</td>\n",
              "      <td>public-disorder</td>\n",
              "      <td>-105.001552</td>\n",
              "      <td>39.769505</td>\n",
              "      <td>sunnyside</td>\n",
              "      <td>1</td>\n",
              "      <td>0</td>\n",
              "    </tr>\n",
              "    <tr>\n",
              "      <th>2014-06-29 04:17:00</th>\n",
              "      <td>aggravated-assault</td>\n",
              "      <td>aggravated-assault</td>\n",
              "      <td>-105.018557</td>\n",
              "      <td>39.679229</td>\n",
              "      <td>college-view-south-platte</td>\n",
              "      <td>1</td>\n",
              "      <td>0</td>\n",
              "    </tr>\n",
              "    <tr>\n",
              "      <th>2014-06-29 04:22:00</th>\n",
              "      <td>violation-of-restraining-order</td>\n",
              "      <td>all-other-crimes</td>\n",
              "      <td>-104.972447</td>\n",
              "      <td>39.739449</td>\n",
              "      <td>cheesman-park</td>\n",
              "      <td>1</td>\n",
              "      <td>0</td>\n",
              "    </tr>\n",
              "  </tbody>\n",
              "</table>\n",
              "</div>"
            ],
            "text/plain": [
              "                                    OFFENSE_TYPE_ID OFFENSE_CATEGORY_ID  \\\n",
              "REPORTED_DATE                                                             \n",
              "2014-06-29 02:01:00       traffic-accident-dui-duid    traffic-accident   \n",
              "2014-06-29 02:00:00            disturbing-the-peace     public-disorder   \n",
              "2014-06-29 02:18:00                          curfew     public-disorder   \n",
              "2014-06-29 04:17:00              aggravated-assault  aggravated-assault   \n",
              "2014-06-29 04:22:00  violation-of-restraining-order    all-other-crimes   \n",
              "\n",
              "                        GEO_LON    GEO_LAT            NEIGHBORHOOD_ID  \\\n",
              "REPORTED_DATE                                                           \n",
              "2014-06-29 02:01:00 -105.000149  39.745753                        cbd   \n",
              "2014-06-29 02:00:00 -105.020719  39.706674                athmar-park   \n",
              "2014-06-29 02:18:00 -105.001552  39.769505                  sunnyside   \n",
              "2014-06-29 04:17:00 -105.018557  39.679229  college-view-south-platte   \n",
              "2014-06-29 04:22:00 -104.972447  39.739449              cheesman-park   \n",
              "\n",
              "                     IS_CRIME  IS_TRAFFIC  \n",
              "REPORTED_DATE                              \n",
              "2014-06-29 02:01:00         0           1  \n",
              "2014-06-29 02:00:00         1           0  \n",
              "2014-06-29 02:18:00         1           0  \n",
              "2014-06-29 04:17:00         1           0  \n",
              "2014-06-29 04:22:00         1           0  "
            ]
          },
          "execution_count": 43,
          "metadata": {},
          "output_type": "execute_result"
        }
      ],
      "source": [
        "crime.between_time('2:00', '5:00', include_end=False).head()"
      ]
    },
    {
      "cell_type": "code",
      "execution_count": null,
      "metadata": {
        "scrolled": true,
        "id": "aOMfjE0Ol3p3",
        "outputId": "793543c1-d013-43ea-bdb8-fd4fe2ec9ae5"
      },
      "outputs": [
        {
          "data": {
            "text/html": [
              "<div>\n",
              "<style scoped>\n",
              "    .dataframe tbody tr th:only-of-type {\n",
              "        vertical-align: middle;\n",
              "    }\n",
              "\n",
              "    .dataframe tbody tr th {\n",
              "        vertical-align: top;\n",
              "    }\n",
              "\n",
              "    .dataframe thead th {\n",
              "        text-align: right;\n",
              "    }\n",
              "</style>\n",
              "<table border=\"1\" class=\"dataframe\">\n",
              "  <thead>\n",
              "    <tr style=\"text-align: right;\">\n",
              "      <th></th>\n",
              "      <th>OFFENSE_TYPE_ID</th>\n",
              "      <th>OFFENSE_CATEGORY_ID</th>\n",
              "      <th>GEO_LON</th>\n",
              "      <th>GEO_LAT</th>\n",
              "      <th>NEIGHBORHOOD_ID</th>\n",
              "      <th>IS_CRIME</th>\n",
              "      <th>IS_TRAFFIC</th>\n",
              "    </tr>\n",
              "    <tr>\n",
              "      <th>REPORTED_DATE</th>\n",
              "      <th></th>\n",
              "      <th></th>\n",
              "      <th></th>\n",
              "      <th></th>\n",
              "      <th></th>\n",
              "      <th></th>\n",
              "      <th></th>\n",
              "    </tr>\n",
              "  </thead>\n",
              "  <tbody>\n",
              "    <tr>\n",
              "      <th>2013-11-26 05:47:00</th>\n",
              "      <td>criminal-mischief-other</td>\n",
              "      <td>public-disorder</td>\n",
              "      <td>-104.991476</td>\n",
              "      <td>39.751536</td>\n",
              "      <td>cbd</td>\n",
              "      <td>1</td>\n",
              "      <td>0</td>\n",
              "    </tr>\n",
              "    <tr>\n",
              "      <th>2017-04-09 05:47:00</th>\n",
              "      <td>criminal-mischief-mtr-veh</td>\n",
              "      <td>public-disorder</td>\n",
              "      <td>-104.959394</td>\n",
              "      <td>39.678425</td>\n",
              "      <td>university</td>\n",
              "      <td>1</td>\n",
              "      <td>0</td>\n",
              "    </tr>\n",
              "    <tr>\n",
              "      <th>2017-02-19 05:47:00</th>\n",
              "      <td>criminal-mischief-other</td>\n",
              "      <td>public-disorder</td>\n",
              "      <td>-104.986767</td>\n",
              "      <td>39.741336</td>\n",
              "      <td>north-capitol-hill</td>\n",
              "      <td>1</td>\n",
              "      <td>0</td>\n",
              "    </tr>\n",
              "    <tr>\n",
              "      <th>2017-02-16 05:47:00</th>\n",
              "      <td>aggravated-assault</td>\n",
              "      <td>aggravated-assault</td>\n",
              "      <td>-104.934029</td>\n",
              "      <td>39.732320</td>\n",
              "      <td>hale</td>\n",
              "      <td>1</td>\n",
              "      <td>0</td>\n",
              "    </tr>\n",
              "    <tr>\n",
              "      <th>2017-02-12 05:47:00</th>\n",
              "      <td>police-interference</td>\n",
              "      <td>all-other-crimes</td>\n",
              "      <td>-104.976306</td>\n",
              "      <td>39.722644</td>\n",
              "      <td>speer</td>\n",
              "      <td>1</td>\n",
              "      <td>0</td>\n",
              "    </tr>\n",
              "  </tbody>\n",
              "</table>\n",
              "</div>"
            ],
            "text/plain": [
              "                               OFFENSE_TYPE_ID OFFENSE_CATEGORY_ID  \\\n",
              "REPORTED_DATE                                                        \n",
              "2013-11-26 05:47:00    criminal-mischief-other     public-disorder   \n",
              "2017-04-09 05:47:00  criminal-mischief-mtr-veh     public-disorder   \n",
              "2017-02-19 05:47:00    criminal-mischief-other     public-disorder   \n",
              "2017-02-16 05:47:00         aggravated-assault  aggravated-assault   \n",
              "2017-02-12 05:47:00        police-interference    all-other-crimes   \n",
              "\n",
              "                        GEO_LON    GEO_LAT     NEIGHBORHOOD_ID  IS_CRIME  \\\n",
              "REPORTED_DATE                                                              \n",
              "2013-11-26 05:47:00 -104.991476  39.751536                 cbd         1   \n",
              "2017-04-09 05:47:00 -104.959394  39.678425          university         1   \n",
              "2017-02-19 05:47:00 -104.986767  39.741336  north-capitol-hill         1   \n",
              "2017-02-16 05:47:00 -104.934029  39.732320                hale         1   \n",
              "2017-02-12 05:47:00 -104.976306  39.722644               speer         1   \n",
              "\n",
              "                     IS_TRAFFIC  \n",
              "REPORTED_DATE                    \n",
              "2013-11-26 05:47:00           0  \n",
              "2017-04-09 05:47:00           0  \n",
              "2017-02-19 05:47:00           0  \n",
              "2017-02-16 05:47:00           0  \n",
              "2017-02-12 05:47:00           0  "
            ]
          },
          "execution_count": 44,
          "metadata": {},
          "output_type": "execute_result"
        }
      ],
      "source": [
        "crime.at_time('5:47').head()"
      ]
    },
    {
      "cell_type": "code",
      "execution_count": null,
      "metadata": {
        "scrolled": true,
        "id": "DthPrqGQl3p3"
      },
      "outputs": [],
      "source": [
        "crime_sort = crime.sort_index()"
      ]
    },
    {
      "cell_type": "code",
      "execution_count": null,
      "metadata": {
        "id": "FSKg7_OHl3p3",
        "outputId": "c04b9291-e992-4584-df8b-07aeaead1e99"
      },
      "outputs": [
        {
          "data": {
            "text/html": [
              "<div>\n",
              "<style scoped>\n",
              "    .dataframe tbody tr th:only-of-type {\n",
              "        vertical-align: middle;\n",
              "    }\n",
              "\n",
              "    .dataframe tbody tr th {\n",
              "        vertical-align: top;\n",
              "    }\n",
              "\n",
              "    .dataframe thead th {\n",
              "        text-align: right;\n",
              "    }\n",
              "</style>\n",
              "<table border=\"1\" class=\"dataframe\">\n",
              "  <thead>\n",
              "    <tr style=\"text-align: right;\">\n",
              "      <th></th>\n",
              "      <th>OFFENSE_TYPE_ID</th>\n",
              "      <th>OFFENSE_CATEGORY_ID</th>\n",
              "      <th>GEO_LON</th>\n",
              "      <th>GEO_LAT</th>\n",
              "      <th>NEIGHBORHOOD_ID</th>\n",
              "      <th>IS_CRIME</th>\n",
              "      <th>IS_TRAFFIC</th>\n",
              "    </tr>\n",
              "    <tr>\n",
              "      <th>REPORTED_DATE</th>\n",
              "      <th></th>\n",
              "      <th></th>\n",
              "      <th></th>\n",
              "      <th></th>\n",
              "      <th></th>\n",
              "      <th></th>\n",
              "      <th></th>\n",
              "    </tr>\n",
              "  </thead>\n",
              "  <tbody>\n",
              "    <tr>\n",
              "      <th>2012-01-02 00:06:00</th>\n",
              "      <td>aggravated-assault</td>\n",
              "      <td>aggravated-assault</td>\n",
              "      <td>-104.816860</td>\n",
              "      <td>39.796717</td>\n",
              "      <td>montbello</td>\n",
              "      <td>1</td>\n",
              "      <td>0</td>\n",
              "    </tr>\n",
              "    <tr>\n",
              "      <th>2012-01-02 00:06:00</th>\n",
              "      <td>violation-of-restraining-order</td>\n",
              "      <td>all-other-crimes</td>\n",
              "      <td>-104.816860</td>\n",
              "      <td>39.796717</td>\n",
              "      <td>montbello</td>\n",
              "      <td>1</td>\n",
              "      <td>0</td>\n",
              "    </tr>\n",
              "    <tr>\n",
              "      <th>2012-01-02 00:16:00</th>\n",
              "      <td>traffic-accident-dui-duid</td>\n",
              "      <td>traffic-accident</td>\n",
              "      <td>-104.971851</td>\n",
              "      <td>39.736874</td>\n",
              "      <td>cheesman-park</td>\n",
              "      <td>0</td>\n",
              "      <td>1</td>\n",
              "    </tr>\n",
              "    <tr>\n",
              "      <th>...</th>\n",
              "      <td>...</td>\n",
              "      <td>...</td>\n",
              "      <td>...</td>\n",
              "      <td>...</td>\n",
              "      <td>...</td>\n",
              "      <td>...</td>\n",
              "      <td>...</td>\n",
              "    </tr>\n",
              "    <tr>\n",
              "      <th>2017-09-29 04:12:00</th>\n",
              "      <td>traf-other</td>\n",
              "      <td>all-other-crimes</td>\n",
              "      <td>-105.006426</td>\n",
              "      <td>39.783139</td>\n",
              "      <td>sunnyside</td>\n",
              "      <td>1</td>\n",
              "      <td>0</td>\n",
              "    </tr>\n",
              "    <tr>\n",
              "      <th>2017-09-29 04:12:00</th>\n",
              "      <td>drug-pcs-other-drug</td>\n",
              "      <td>drug-alcohol</td>\n",
              "      <td>-105.048416</td>\n",
              "      <td>39.726209</td>\n",
              "      <td>villa-park</td>\n",
              "      <td>1</td>\n",
              "      <td>0</td>\n",
              "    </tr>\n",
              "    <tr>\n",
              "      <th>2017-09-29 06:16:00</th>\n",
              "      <td>theft-of-motor-vehicle</td>\n",
              "      <td>auto-theft</td>\n",
              "      <td>-104.890269</td>\n",
              "      <td>39.657222</td>\n",
              "      <td>hampden</td>\n",
              "      <td>1</td>\n",
              "      <td>0</td>\n",
              "    </tr>\n",
              "  </tbody>\n",
              "</table>\n",
              "<p>460911 rows × 7 columns</p>\n",
              "</div>"
            ],
            "text/plain": [
              "                                    OFFENSE_TYPE_ID OFFENSE_CATEGORY_ID  \\\n",
              "REPORTED_DATE                                                             \n",
              "2012-01-02 00:06:00              aggravated-assault  aggravated-assault   \n",
              "2012-01-02 00:06:00  violation-of-restraining-order    all-other-crimes   \n",
              "2012-01-02 00:16:00       traffic-accident-dui-duid    traffic-accident   \n",
              "...                                             ...                 ...   \n",
              "2017-09-29 04:12:00                      traf-other    all-other-crimes   \n",
              "2017-09-29 04:12:00             drug-pcs-other-drug        drug-alcohol   \n",
              "2017-09-29 06:16:00          theft-of-motor-vehicle          auto-theft   \n",
              "\n",
              "                        GEO_LON    GEO_LAT NEIGHBORHOOD_ID  IS_CRIME  \\\n",
              "REPORTED_DATE                                                          \n",
              "2012-01-02 00:06:00 -104.816860  39.796717       montbello         1   \n",
              "2012-01-02 00:06:00 -104.816860  39.796717       montbello         1   \n",
              "2012-01-02 00:16:00 -104.971851  39.736874   cheesman-park         0   \n",
              "...                         ...        ...             ...       ...   \n",
              "2017-09-29 04:12:00 -105.006426  39.783139       sunnyside         1   \n",
              "2017-09-29 04:12:00 -105.048416  39.726209      villa-park         1   \n",
              "2017-09-29 06:16:00 -104.890269  39.657222         hampden         1   \n",
              "\n",
              "                     IS_TRAFFIC  \n",
              "REPORTED_DATE                    \n",
              "2012-01-02 00:06:00           0  \n",
              "2012-01-02 00:06:00           0  \n",
              "2012-01-02 00:16:00           1  \n",
              "...                         ...  \n",
              "2017-09-29 04:12:00           0  \n",
              "2017-09-29 04:12:00           0  \n",
              "2017-09-29 06:16:00           0  \n",
              "\n",
              "[460911 rows x 7 columns]"
            ]
          },
          "execution_count": 45,
          "metadata": {},
          "output_type": "execute_result"
        }
      ],
      "source": [
        "crime_sort"
      ]
    },
    {
      "cell_type": "code",
      "execution_count": null,
      "metadata": {
        "scrolled": true,
        "id": "NCBmixUDl3p4",
        "outputId": "32204712-b691-4637-a836-ad9855b68535"
      },
      "outputs": [
        {
          "data": {
            "text/html": [
              "<div>\n",
              "<style scoped>\n",
              "    .dataframe tbody tr th:only-of-type {\n",
              "        vertical-align: middle;\n",
              "    }\n",
              "\n",
              "    .dataframe tbody tr th {\n",
              "        vertical-align: top;\n",
              "    }\n",
              "\n",
              "    .dataframe thead th {\n",
              "        text-align: right;\n",
              "    }\n",
              "</style>\n",
              "<table border=\"1\" class=\"dataframe\">\n",
              "  <thead>\n",
              "    <tr style=\"text-align: right;\">\n",
              "      <th></th>\n",
              "      <th>OFFENSE_TYPE_ID</th>\n",
              "      <th>OFFENSE_CATEGORY_ID</th>\n",
              "      <th>GEO_LON</th>\n",
              "      <th>GEO_LAT</th>\n",
              "      <th>NEIGHBORHOOD_ID</th>\n",
              "      <th>IS_CRIME</th>\n",
              "      <th>IS_TRAFFIC</th>\n",
              "    </tr>\n",
              "    <tr>\n",
              "      <th>REPORTED_DATE</th>\n",
              "      <th></th>\n",
              "      <th></th>\n",
              "      <th></th>\n",
              "      <th></th>\n",
              "      <th></th>\n",
              "      <th></th>\n",
              "      <th></th>\n",
              "    </tr>\n",
              "  </thead>\n",
              "  <tbody>\n",
              "    <tr>\n",
              "      <th>2012-01-02 00:06:00</th>\n",
              "      <td>aggravated-assault</td>\n",
              "      <td>aggravated-assault</td>\n",
              "      <td>-104.816860</td>\n",
              "      <td>39.796717</td>\n",
              "      <td>montbello</td>\n",
              "      <td>1</td>\n",
              "      <td>0</td>\n",
              "    </tr>\n",
              "    <tr>\n",
              "      <th>2012-01-02 00:06:00</th>\n",
              "      <td>violation-of-restraining-order</td>\n",
              "      <td>all-other-crimes</td>\n",
              "      <td>-104.816860</td>\n",
              "      <td>39.796717</td>\n",
              "      <td>montbello</td>\n",
              "      <td>1</td>\n",
              "      <td>0</td>\n",
              "    </tr>\n",
              "    <tr>\n",
              "      <th>2012-01-02 00:16:00</th>\n",
              "      <td>traffic-accident-dui-duid</td>\n",
              "      <td>traffic-accident</td>\n",
              "      <td>-104.971851</td>\n",
              "      <td>39.736874</td>\n",
              "      <td>cheesman-park</td>\n",
              "      <td>0</td>\n",
              "      <td>1</td>\n",
              "    </tr>\n",
              "    <tr>\n",
              "      <th>...</th>\n",
              "      <td>...</td>\n",
              "      <td>...</td>\n",
              "      <td>...</td>\n",
              "      <td>...</td>\n",
              "      <td>...</td>\n",
              "      <td>...</td>\n",
              "      <td>...</td>\n",
              "    </tr>\n",
              "    <tr>\n",
              "      <th>2012-06-30 23:50:00</th>\n",
              "      <td>criminal-mischief-mtr-veh</td>\n",
              "      <td>public-disorder</td>\n",
              "      <td>-104.838271</td>\n",
              "      <td>39.788683</td>\n",
              "      <td>montbello</td>\n",
              "      <td>1</td>\n",
              "      <td>0</td>\n",
              "    </tr>\n",
              "    <tr>\n",
              "      <th>2012-06-30 23:54:00</th>\n",
              "      <td>traffic-accident-hit-and-run</td>\n",
              "      <td>traffic-accident</td>\n",
              "      <td>-105.014162</td>\n",
              "      <td>39.740439</td>\n",
              "      <td>lincoln-park</td>\n",
              "      <td>0</td>\n",
              "      <td>1</td>\n",
              "    </tr>\n",
              "    <tr>\n",
              "      <th>2012-07-01 00:01:00</th>\n",
              "      <td>robbery-street</td>\n",
              "      <td>robbery</td>\n",
              "      <td>-104.924292</td>\n",
              "      <td>39.767585</td>\n",
              "      <td>northeast-park-hill</td>\n",
              "      <td>1</td>\n",
              "      <td>0</td>\n",
              "    </tr>\n",
              "  </tbody>\n",
              "</table>\n",
              "<p>27489 rows × 7 columns</p>\n",
              "</div>"
            ],
            "text/plain": [
              "                                    OFFENSE_TYPE_ID OFFENSE_CATEGORY_ID  \\\n",
              "REPORTED_DATE                                                             \n",
              "2012-01-02 00:06:00              aggravated-assault  aggravated-assault   \n",
              "2012-01-02 00:06:00  violation-of-restraining-order    all-other-crimes   \n",
              "2012-01-02 00:16:00       traffic-accident-dui-duid    traffic-accident   \n",
              "...                                             ...                 ...   \n",
              "2012-06-30 23:50:00       criminal-mischief-mtr-veh     public-disorder   \n",
              "2012-06-30 23:54:00    traffic-accident-hit-and-run    traffic-accident   \n",
              "2012-07-01 00:01:00                  robbery-street             robbery   \n",
              "\n",
              "                        GEO_LON    GEO_LAT      NEIGHBORHOOD_ID  IS_CRIME  \\\n",
              "REPORTED_DATE                                                               \n",
              "2012-01-02 00:06:00 -104.816860  39.796717            montbello         1   \n",
              "2012-01-02 00:06:00 -104.816860  39.796717            montbello         1   \n",
              "2012-01-02 00:16:00 -104.971851  39.736874        cheesman-park         0   \n",
              "...                         ...        ...                  ...       ...   \n",
              "2012-06-30 23:50:00 -104.838271  39.788683            montbello         1   \n",
              "2012-06-30 23:54:00 -105.014162  39.740439         lincoln-park         0   \n",
              "2012-07-01 00:01:00 -104.924292  39.767585  northeast-park-hill         1   \n",
              "\n",
              "                     IS_TRAFFIC  \n",
              "REPORTED_DATE                    \n",
              "2012-01-02 00:06:00           0  \n",
              "2012-01-02 00:06:00           0  \n",
              "2012-01-02 00:16:00           1  \n",
              "...                         ...  \n",
              "2012-06-30 23:50:00           0  \n",
              "2012-06-30 23:54:00           1  \n",
              "2012-07-01 00:01:00           0  \n",
              "\n",
              "[27489 rows x 7 columns]"
            ]
          },
          "execution_count": 46,
          "metadata": {},
          "output_type": "execute_result"
        }
      ],
      "source": [
        "crime_sort.first(pd.offsets.MonthBegin(6))"
      ]
    },
    {
      "cell_type": "code",
      "execution_count": null,
      "metadata": {
        "scrolled": true,
        "id": "EOQ4JR1vl3p4",
        "outputId": "0eee2714-6e9a-410f-8b62-bbc9cfe2af4a"
      },
      "outputs": [
        {
          "data": {
            "text/html": [
              "<div>\n",
              "<style scoped>\n",
              "    .dataframe tbody tr th:only-of-type {\n",
              "        vertical-align: middle;\n",
              "    }\n",
              "\n",
              "    .dataframe tbody tr th {\n",
              "        vertical-align: top;\n",
              "    }\n",
              "\n",
              "    .dataframe thead th {\n",
              "        text-align: right;\n",
              "    }\n",
              "</style>\n",
              "<table border=\"1\" class=\"dataframe\">\n",
              "  <thead>\n",
              "    <tr style=\"text-align: right;\">\n",
              "      <th></th>\n",
              "      <th>OFFENSE_TYPE_ID</th>\n",
              "      <th>OFFENSE_CATEGORY_ID</th>\n",
              "      <th>GEO_LON</th>\n",
              "      <th>GEO_LAT</th>\n",
              "      <th>NEIGHBORHOOD_ID</th>\n",
              "      <th>IS_CRIME</th>\n",
              "      <th>IS_TRAFFIC</th>\n",
              "    </tr>\n",
              "    <tr>\n",
              "      <th>REPORTED_DATE</th>\n",
              "      <th></th>\n",
              "      <th></th>\n",
              "      <th></th>\n",
              "      <th></th>\n",
              "      <th></th>\n",
              "      <th></th>\n",
              "      <th></th>\n",
              "    </tr>\n",
              "  </thead>\n",
              "  <tbody>\n",
              "    <tr>\n",
              "      <th>2012-01-02 00:06:00</th>\n",
              "      <td>aggravated-assault</td>\n",
              "      <td>aggravated-assault</td>\n",
              "      <td>-104.816860</td>\n",
              "      <td>39.796717</td>\n",
              "      <td>montbello</td>\n",
              "      <td>1</td>\n",
              "      <td>0</td>\n",
              "    </tr>\n",
              "    <tr>\n",
              "      <th>2012-01-02 00:06:00</th>\n",
              "      <td>violation-of-restraining-order</td>\n",
              "      <td>all-other-crimes</td>\n",
              "      <td>-104.816860</td>\n",
              "      <td>39.796717</td>\n",
              "      <td>montbello</td>\n",
              "      <td>1</td>\n",
              "      <td>0</td>\n",
              "    </tr>\n",
              "    <tr>\n",
              "      <th>2012-01-02 00:16:00</th>\n",
              "      <td>traffic-accident-dui-duid</td>\n",
              "      <td>traffic-accident</td>\n",
              "      <td>-104.971851</td>\n",
              "      <td>39.736874</td>\n",
              "      <td>cheesman-park</td>\n",
              "      <td>0</td>\n",
              "      <td>1</td>\n",
              "    </tr>\n",
              "    <tr>\n",
              "      <th>...</th>\n",
              "      <td>...</td>\n",
              "      <td>...</td>\n",
              "      <td>...</td>\n",
              "      <td>...</td>\n",
              "      <td>...</td>\n",
              "      <td>...</td>\n",
              "      <td>...</td>\n",
              "    </tr>\n",
              "    <tr>\n",
              "      <th>2012-06-29 23:41:00</th>\n",
              "      <td>robbery-street</td>\n",
              "      <td>robbery</td>\n",
              "      <td>-104.991912</td>\n",
              "      <td>39.756163</td>\n",
              "      <td>five-points</td>\n",
              "      <td>1</td>\n",
              "      <td>0</td>\n",
              "    </tr>\n",
              "    <tr>\n",
              "      <th>2012-06-29 23:57:00</th>\n",
              "      <td>assault-simple</td>\n",
              "      <td>other-crimes-against-persons</td>\n",
              "      <td>-104.987360</td>\n",
              "      <td>39.715162</td>\n",
              "      <td>speer</td>\n",
              "      <td>1</td>\n",
              "      <td>0</td>\n",
              "    </tr>\n",
              "    <tr>\n",
              "      <th>2012-06-30 00:04:00</th>\n",
              "      <td>traffic-accident</td>\n",
              "      <td>traffic-accident</td>\n",
              "      <td>-104.894697</td>\n",
              "      <td>39.628902</td>\n",
              "      <td>hampden-south</td>\n",
              "      <td>0</td>\n",
              "      <td>1</td>\n",
              "    </tr>\n",
              "  </tbody>\n",
              "</table>\n",
              "<p>27332 rows × 7 columns</p>\n",
              "</div>"
            ],
            "text/plain": [
              "                                    OFFENSE_TYPE_ID  \\\n",
              "REPORTED_DATE                                         \n",
              "2012-01-02 00:06:00              aggravated-assault   \n",
              "2012-01-02 00:06:00  violation-of-restraining-order   \n",
              "2012-01-02 00:16:00       traffic-accident-dui-duid   \n",
              "...                                             ...   \n",
              "2012-06-29 23:41:00                  robbery-street   \n",
              "2012-06-29 23:57:00                  assault-simple   \n",
              "2012-06-30 00:04:00                traffic-accident   \n",
              "\n",
              "                              OFFENSE_CATEGORY_ID     GEO_LON    GEO_LAT  \\\n",
              "REPORTED_DATE                                                              \n",
              "2012-01-02 00:06:00            aggravated-assault -104.816860  39.796717   \n",
              "2012-01-02 00:06:00              all-other-crimes -104.816860  39.796717   \n",
              "2012-01-02 00:16:00              traffic-accident -104.971851  39.736874   \n",
              "...                                           ...         ...        ...   \n",
              "2012-06-29 23:41:00                       robbery -104.991912  39.756163   \n",
              "2012-06-29 23:57:00  other-crimes-against-persons -104.987360  39.715162   \n",
              "2012-06-30 00:04:00              traffic-accident -104.894697  39.628902   \n",
              "\n",
              "                    NEIGHBORHOOD_ID  IS_CRIME  IS_TRAFFIC  \n",
              "REPORTED_DATE                                              \n",
              "2012-01-02 00:06:00       montbello         1           0  \n",
              "2012-01-02 00:06:00       montbello         1           0  \n",
              "2012-01-02 00:16:00   cheesman-park         0           1  \n",
              "...                             ...       ...         ...  \n",
              "2012-06-29 23:41:00     five-points         1           0  \n",
              "2012-06-29 23:57:00           speer         1           0  \n",
              "2012-06-30 00:04:00   hampden-south         0           1  \n",
              "\n",
              "[27332 rows x 7 columns]"
            ]
          },
          "execution_count": 47,
          "metadata": {},
          "output_type": "execute_result"
        }
      ],
      "source": [
        "crime_sort.first(pd.offsets.MonthEnd(6))"
      ]
    },
    {
      "cell_type": "code",
      "execution_count": null,
      "metadata": {
        "scrolled": true,
        "id": "YiYbeHNxl3p4",
        "outputId": "8d4ebcb5-a0cd-4b96-8e09-c1c7af5d0c8a"
      },
      "outputs": [
        {
          "data": {
            "text/html": [
              "<div>\n",
              "<style scoped>\n",
              "    .dataframe tbody tr th:only-of-type {\n",
              "        vertical-align: middle;\n",
              "    }\n",
              "\n",
              "    .dataframe tbody tr th {\n",
              "        vertical-align: top;\n",
              "    }\n",
              "\n",
              "    .dataframe thead th {\n",
              "        text-align: right;\n",
              "    }\n",
              "</style>\n",
              "<table border=\"1\" class=\"dataframe\">\n",
              "  <thead>\n",
              "    <tr style=\"text-align: right;\">\n",
              "      <th></th>\n",
              "      <th>OFFENSE_TYPE_ID</th>\n",
              "      <th>OFFENSE_CATEGORY_ID</th>\n",
              "      <th>GEO_LON</th>\n",
              "      <th>GEO_LAT</th>\n",
              "      <th>NEIGHBORHOOD_ID</th>\n",
              "      <th>IS_CRIME</th>\n",
              "      <th>IS_TRAFFIC</th>\n",
              "    </tr>\n",
              "    <tr>\n",
              "      <th>REPORTED_DATE</th>\n",
              "      <th></th>\n",
              "      <th></th>\n",
              "      <th></th>\n",
              "      <th></th>\n",
              "      <th></th>\n",
              "      <th></th>\n",
              "      <th></th>\n",
              "    </tr>\n",
              "  </thead>\n",
              "  <tbody>\n",
              "    <tr>\n",
              "      <th>2012-01-02 00:06:00</th>\n",
              "      <td>aggravated-assault</td>\n",
              "      <td>aggravated-assault</td>\n",
              "      <td>-104.816860</td>\n",
              "      <td>39.796717</td>\n",
              "      <td>montbello</td>\n",
              "      <td>1</td>\n",
              "      <td>0</td>\n",
              "    </tr>\n",
              "    <tr>\n",
              "      <th>2012-01-02 00:06:00</th>\n",
              "      <td>violation-of-restraining-order</td>\n",
              "      <td>all-other-crimes</td>\n",
              "      <td>-104.816860</td>\n",
              "      <td>39.796717</td>\n",
              "      <td>montbello</td>\n",
              "      <td>1</td>\n",
              "      <td>0</td>\n",
              "    </tr>\n",
              "    <tr>\n",
              "      <th>2012-01-02 00:16:00</th>\n",
              "      <td>traffic-accident-dui-duid</td>\n",
              "      <td>traffic-accident</td>\n",
              "      <td>-104.971851</td>\n",
              "      <td>39.736874</td>\n",
              "      <td>cheesman-park</td>\n",
              "      <td>0</td>\n",
              "      <td>1</td>\n",
              "    </tr>\n",
              "    <tr>\n",
              "      <th>...</th>\n",
              "      <td>...</td>\n",
              "      <td>...</td>\n",
              "      <td>...</td>\n",
              "      <td>...</td>\n",
              "      <td>...</td>\n",
              "      <td>...</td>\n",
              "      <td>...</td>\n",
              "    </tr>\n",
              "    <tr>\n",
              "      <th>2012-06-30 23:44:00</th>\n",
              "      <td>traffic-accident</td>\n",
              "      <td>traffic-accident</td>\n",
              "      <td>-104.987578</td>\n",
              "      <td>39.711158</td>\n",
              "      <td>baker</td>\n",
              "      <td>0</td>\n",
              "      <td>1</td>\n",
              "    </tr>\n",
              "    <tr>\n",
              "      <th>2012-06-30 23:50:00</th>\n",
              "      <td>criminal-mischief-mtr-veh</td>\n",
              "      <td>public-disorder</td>\n",
              "      <td>-104.838271</td>\n",
              "      <td>39.788683</td>\n",
              "      <td>montbello</td>\n",
              "      <td>1</td>\n",
              "      <td>0</td>\n",
              "    </tr>\n",
              "    <tr>\n",
              "      <th>2012-06-30 23:54:00</th>\n",
              "      <td>traffic-accident-hit-and-run</td>\n",
              "      <td>traffic-accident</td>\n",
              "      <td>-105.014162</td>\n",
              "      <td>39.740439</td>\n",
              "      <td>lincoln-park</td>\n",
              "      <td>0</td>\n",
              "      <td>1</td>\n",
              "    </tr>\n",
              "  </tbody>\n",
              "</table>\n",
              "<p>27488 rows × 7 columns</p>\n",
              "</div>"
            ],
            "text/plain": [
              "                                    OFFENSE_TYPE_ID OFFENSE_CATEGORY_ID  \\\n",
              "REPORTED_DATE                                                             \n",
              "2012-01-02 00:06:00              aggravated-assault  aggravated-assault   \n",
              "2012-01-02 00:06:00  violation-of-restraining-order    all-other-crimes   \n",
              "2012-01-02 00:16:00       traffic-accident-dui-duid    traffic-accident   \n",
              "...                                             ...                 ...   \n",
              "2012-06-30 23:44:00                traffic-accident    traffic-accident   \n",
              "2012-06-30 23:50:00       criminal-mischief-mtr-veh     public-disorder   \n",
              "2012-06-30 23:54:00    traffic-accident-hit-and-run    traffic-accident   \n",
              "\n",
              "                        GEO_LON    GEO_LAT NEIGHBORHOOD_ID  IS_CRIME  \\\n",
              "REPORTED_DATE                                                          \n",
              "2012-01-02 00:06:00 -104.816860  39.796717       montbello         1   \n",
              "2012-01-02 00:06:00 -104.816860  39.796717       montbello         1   \n",
              "2012-01-02 00:16:00 -104.971851  39.736874   cheesman-park         0   \n",
              "...                         ...        ...             ...       ...   \n",
              "2012-06-30 23:44:00 -104.987578  39.711158           baker         0   \n",
              "2012-06-30 23:50:00 -104.838271  39.788683       montbello         1   \n",
              "2012-06-30 23:54:00 -105.014162  39.740439    lincoln-park         0   \n",
              "\n",
              "                     IS_TRAFFIC  \n",
              "REPORTED_DATE                    \n",
              "2012-01-02 00:06:00           0  \n",
              "2012-01-02 00:06:00           0  \n",
              "2012-01-02 00:16:00           1  \n",
              "...                         ...  \n",
              "2012-06-30 23:44:00           1  \n",
              "2012-06-30 23:50:00           0  \n",
              "2012-06-30 23:54:00           1  \n",
              "\n",
              "[27488 rows x 7 columns]"
            ]
          },
          "execution_count": 48,
          "metadata": {},
          "output_type": "execute_result"
        }
      ],
      "source": [
        "crime_sort.first(pd.offsets.MonthBegin(6, normalize=True))"
      ]
    },
    {
      "cell_type": "code",
      "execution_count": null,
      "metadata": {
        "scrolled": true,
        "id": "TWHZcOoFl3p4",
        "outputId": "54de293d-5fce-4245-cdec-59b9d8734512"
      },
      "outputs": [
        {
          "data": {
            "text/html": [
              "<div>\n",
              "<style>\n",
              "    .dataframe thead tr:only-child th {\n",
              "        text-align: right;\n",
              "    }\n",
              "\n",
              "    .dataframe thead th {\n",
              "        text-align: left;\n",
              "    }\n",
              "\n",
              "    .dataframe tbody tr th {\n",
              "        vertical-align: top;\n",
              "    }\n",
              "</style>\n",
              "<table border=\"1\" class=\"dataframe\">\n",
              "  <thead>\n",
              "    <tr style=\"text-align: right;\">\n",
              "      <th></th>\n",
              "      <th>OFFENSE_TYPE_ID</th>\n",
              "      <th>OFFENSE_CATEGORY_ID</th>\n",
              "      <th>GEO_LON</th>\n",
              "      <th>GEO_LAT</th>\n",
              "      <th>NEIGHBORHOOD_ID</th>\n",
              "      <th>IS_CRIME</th>\n",
              "      <th>IS_TRAFFIC</th>\n",
              "    </tr>\n",
              "    <tr>\n",
              "      <th>REPORTED_DATE</th>\n",
              "      <th></th>\n",
              "      <th></th>\n",
              "      <th></th>\n",
              "      <th></th>\n",
              "      <th></th>\n",
              "      <th></th>\n",
              "      <th></th>\n",
              "    </tr>\n",
              "  </thead>\n",
              "  <tbody>\n",
              "    <tr>\n",
              "      <th>2012-01-02 00:06:00</th>\n",
              "      <td>aggravated-assault</td>\n",
              "      <td>aggravated-assault</td>\n",
              "      <td>-104.816860</td>\n",
              "      <td>39.796717</td>\n",
              "      <td>montbello</td>\n",
              "      <td>1</td>\n",
              "      <td>0</td>\n",
              "    </tr>\n",
              "    <tr>\n",
              "      <th>2012-01-02 00:06:00</th>\n",
              "      <td>violation-of-restraining-order</td>\n",
              "      <td>all-other-crimes</td>\n",
              "      <td>-104.816860</td>\n",
              "      <td>39.796717</td>\n",
              "      <td>montbello</td>\n",
              "      <td>1</td>\n",
              "      <td>0</td>\n",
              "    </tr>\n",
              "    <tr>\n",
              "      <th>2012-01-02 00:16:00</th>\n",
              "      <td>traffic-accident-dui-duid</td>\n",
              "      <td>traffic-accident</td>\n",
              "      <td>-104.971851</td>\n",
              "      <td>39.736874</td>\n",
              "      <td>cheesman-park</td>\n",
              "      <td>0</td>\n",
              "      <td>1</td>\n",
              "    </tr>\n",
              "    <tr>\n",
              "      <th>...</th>\n",
              "      <td>...</td>\n",
              "      <td>...</td>\n",
              "      <td>...</td>\n",
              "      <td>...</td>\n",
              "      <td>...</td>\n",
              "      <td>...</td>\n",
              "      <td>...</td>\n",
              "    </tr>\n",
              "    <tr>\n",
              "      <th>2012-06-30 23:44:00</th>\n",
              "      <td>traffic-accident</td>\n",
              "      <td>traffic-accident</td>\n",
              "      <td>-104.987578</td>\n",
              "      <td>39.711158</td>\n",
              "      <td>baker</td>\n",
              "      <td>0</td>\n",
              "      <td>1</td>\n",
              "    </tr>\n",
              "    <tr>\n",
              "      <th>2012-06-30 23:50:00</th>\n",
              "      <td>criminal-mischief-mtr-veh</td>\n",
              "      <td>public-disorder</td>\n",
              "      <td>-104.838271</td>\n",
              "      <td>39.788683</td>\n",
              "      <td>montbello</td>\n",
              "      <td>1</td>\n",
              "      <td>0</td>\n",
              "    </tr>\n",
              "    <tr>\n",
              "      <th>2012-06-30 23:54:00</th>\n",
              "      <td>traffic-accident-hit-and-run</td>\n",
              "      <td>traffic-accident</td>\n",
              "      <td>-105.014162</td>\n",
              "      <td>39.740439</td>\n",
              "      <td>lincoln-park</td>\n",
              "      <td>0</td>\n",
              "      <td>1</td>\n",
              "    </tr>\n",
              "  </tbody>\n",
              "</table>\n",
              "<p>27488 rows × 7 columns</p>\n",
              "</div>"
            ],
            "text/plain": [
              "                                    OFFENSE_TYPE_ID OFFENSE_CATEGORY_ID  \\\n",
              "REPORTED_DATE                                                             \n",
              "2012-01-02 00:06:00              aggravated-assault  aggravated-assault   \n",
              "2012-01-02 00:06:00  violation-of-restraining-order    all-other-crimes   \n",
              "2012-01-02 00:16:00       traffic-accident-dui-duid    traffic-accident   \n",
              "...                                             ...                 ...   \n",
              "2012-06-30 23:44:00                traffic-accident    traffic-accident   \n",
              "2012-06-30 23:50:00       criminal-mischief-mtr-veh     public-disorder   \n",
              "2012-06-30 23:54:00    traffic-accident-hit-and-run    traffic-accident   \n",
              "\n",
              "                        GEO_LON    GEO_LAT NEIGHBORHOOD_ID  IS_CRIME  \\\n",
              "REPORTED_DATE                                                          \n",
              "2012-01-02 00:06:00 -104.816860  39.796717       montbello         1   \n",
              "2012-01-02 00:06:00 -104.816860  39.796717       montbello         1   \n",
              "2012-01-02 00:16:00 -104.971851  39.736874   cheesman-park         0   \n",
              "...                         ...        ...             ...       ...   \n",
              "2012-06-30 23:44:00 -104.987578  39.711158           baker         0   \n",
              "2012-06-30 23:50:00 -104.838271  39.788683       montbello         1   \n",
              "2012-06-30 23:54:00 -105.014162  39.740439    lincoln-park         0   \n",
              "\n",
              "                     IS_TRAFFIC  \n",
              "REPORTED_DATE                    \n",
              "2012-01-02 00:06:00           0  \n",
              "2012-01-02 00:06:00           0  \n",
              "2012-01-02 00:16:00           1  \n",
              "...                         ...  \n",
              "2012-06-30 23:44:00           1  \n",
              "2012-06-30 23:50:00           0  \n",
              "2012-06-30 23:54:00           1  \n",
              "\n",
              "[27488 rows x 7 columns]"
            ]
          },
          "execution_count": 71,
          "metadata": {},
          "output_type": "execute_result"
        }
      ],
      "source": [
        "crime_sort.loc[:'2012-06']"
      ]
    },
    {
      "cell_type": "code",
      "execution_count": null,
      "metadata": {
        "scrolled": true,
        "id": "Ze1DlKNWl3p4",
        "outputId": "08055bc0-ddd9-41fe-b1ec-1b8687c40e61"
      },
      "outputs": [
        {
          "data": {
            "text/html": [
              "<div>\n",
              "<style>\n",
              "    .dataframe thead tr:only-child th {\n",
              "        text-align: right;\n",
              "    }\n",
              "\n",
              "    .dataframe thead th {\n",
              "        text-align: left;\n",
              "    }\n",
              "\n",
              "    .dataframe tbody tr th {\n",
              "        vertical-align: top;\n",
              "    }\n",
              "</style>\n",
              "<table border=\"1\" class=\"dataframe\">\n",
              "  <thead>\n",
              "    <tr style=\"text-align: right;\">\n",
              "      <th></th>\n",
              "      <th>OFFENSE_TYPE_ID</th>\n",
              "      <th>OFFENSE_CATEGORY_ID</th>\n",
              "      <th>GEO_LON</th>\n",
              "      <th>GEO_LAT</th>\n",
              "      <th>NEIGHBORHOOD_ID</th>\n",
              "      <th>IS_CRIME</th>\n",
              "      <th>IS_TRAFFIC</th>\n",
              "    </tr>\n",
              "    <tr>\n",
              "      <th>REPORTED_DATE</th>\n",
              "      <th></th>\n",
              "      <th></th>\n",
              "      <th></th>\n",
              "      <th></th>\n",
              "      <th></th>\n",
              "      <th></th>\n",
              "      <th></th>\n",
              "    </tr>\n",
              "  </thead>\n",
              "  <tbody>\n",
              "    <tr>\n",
              "      <th>2012-01-02 00:06:00</th>\n",
              "      <td>aggravated-assault</td>\n",
              "      <td>aggravated-assault</td>\n",
              "      <td>-104.816860</td>\n",
              "      <td>39.796717</td>\n",
              "      <td>montbello</td>\n",
              "      <td>1</td>\n",
              "      <td>0</td>\n",
              "    </tr>\n",
              "    <tr>\n",
              "      <th>2012-01-02 00:06:00</th>\n",
              "      <td>violation-of-restraining-order</td>\n",
              "      <td>all-other-crimes</td>\n",
              "      <td>-104.816860</td>\n",
              "      <td>39.796717</td>\n",
              "      <td>montbello</td>\n",
              "      <td>1</td>\n",
              "      <td>0</td>\n",
              "    </tr>\n",
              "    <tr>\n",
              "      <th>2012-01-02 00:16:00</th>\n",
              "      <td>traffic-accident-dui-duid</td>\n",
              "      <td>traffic-accident</td>\n",
              "      <td>-104.971851</td>\n",
              "      <td>39.736874</td>\n",
              "      <td>cheesman-park</td>\n",
              "      <td>0</td>\n",
              "      <td>1</td>\n",
              "    </tr>\n",
              "    <tr>\n",
              "      <th>...</th>\n",
              "      <td>...</td>\n",
              "      <td>...</td>\n",
              "      <td>...</td>\n",
              "      <td>...</td>\n",
              "      <td>...</td>\n",
              "      <td>...</td>\n",
              "      <td>...</td>\n",
              "    </tr>\n",
              "    <tr>\n",
              "      <th>2012-01-06 23:30:00</th>\n",
              "      <td>assault-dv</td>\n",
              "      <td>other-crimes-against-persons</td>\n",
              "      <td>-104.958983</td>\n",
              "      <td>39.674135</td>\n",
              "      <td>university-park</td>\n",
              "      <td>1</td>\n",
              "      <td>0</td>\n",
              "    </tr>\n",
              "    <tr>\n",
              "      <th>2012-01-06 23:44:00</th>\n",
              "      <td>theft-of-motor-vehicle</td>\n",
              "      <td>auto-theft</td>\n",
              "      <td>-104.845356</td>\n",
              "      <td>39.794035</td>\n",
              "      <td>montbello</td>\n",
              "      <td>1</td>\n",
              "      <td>0</td>\n",
              "    </tr>\n",
              "    <tr>\n",
              "      <th>2012-01-06 23:55:00</th>\n",
              "      <td>threats-to-injure</td>\n",
              "      <td>public-disorder</td>\n",
              "      <td>-105.004788</td>\n",
              "      <td>39.708714</td>\n",
              "      <td>athmar-park</td>\n",
              "      <td>1</td>\n",
              "      <td>0</td>\n",
              "    </tr>\n",
              "  </tbody>\n",
              "</table>\n",
              "<p>605 rows × 7 columns</p>\n",
              "</div>"
            ],
            "text/plain": [
              "                                    OFFENSE_TYPE_ID  \\\n",
              "REPORTED_DATE                                         \n",
              "2012-01-02 00:06:00              aggravated-assault   \n",
              "2012-01-02 00:06:00  violation-of-restraining-order   \n",
              "2012-01-02 00:16:00       traffic-accident-dui-duid   \n",
              "...                                             ...   \n",
              "2012-01-06 23:30:00                      assault-dv   \n",
              "2012-01-06 23:44:00          theft-of-motor-vehicle   \n",
              "2012-01-06 23:55:00               threats-to-injure   \n",
              "\n",
              "                              OFFENSE_CATEGORY_ID     GEO_LON    GEO_LAT  \\\n",
              "REPORTED_DATE                                                              \n",
              "2012-01-02 00:06:00            aggravated-assault -104.816860  39.796717   \n",
              "2012-01-02 00:06:00              all-other-crimes -104.816860  39.796717   \n",
              "2012-01-02 00:16:00              traffic-accident -104.971851  39.736874   \n",
              "...                                           ...         ...        ...   \n",
              "2012-01-06 23:30:00  other-crimes-against-persons -104.958983  39.674135   \n",
              "2012-01-06 23:44:00                    auto-theft -104.845356  39.794035   \n",
              "2012-01-06 23:55:00               public-disorder -105.004788  39.708714   \n",
              "\n",
              "                     NEIGHBORHOOD_ID  IS_CRIME  IS_TRAFFIC  \n",
              "REPORTED_DATE                                               \n",
              "2012-01-02 00:06:00        montbello         1           0  \n",
              "2012-01-02 00:06:00        montbello         1           0  \n",
              "2012-01-02 00:16:00    cheesman-park         0           1  \n",
              "...                              ...       ...         ...  \n",
              "2012-01-06 23:30:00  university-park         1           0  \n",
              "2012-01-06 23:44:00        montbello         1           0  \n",
              "2012-01-06 23:55:00      athmar-park         1           0  \n",
              "\n",
              "[605 rows x 7 columns]"
            ]
          },
          "execution_count": 72,
          "metadata": {},
          "output_type": "execute_result"
        }
      ],
      "source": [
        "crime_sort.first('5D')"
      ]
    },
    {
      "cell_type": "code",
      "execution_count": null,
      "metadata": {
        "scrolled": true,
        "id": "Cdh3COScl3p4",
        "outputId": "b017a460-5d5c-4b94-93b1-f79cba8e8589"
      },
      "outputs": [
        {
          "data": {
            "text/html": [
              "<div>\n",
              "<style>\n",
              "    .dataframe thead tr:only-child th {\n",
              "        text-align: right;\n",
              "    }\n",
              "\n",
              "    .dataframe thead th {\n",
              "        text-align: left;\n",
              "    }\n",
              "\n",
              "    .dataframe tbody tr th {\n",
              "        vertical-align: top;\n",
              "    }\n",
              "</style>\n",
              "<table border=\"1\" class=\"dataframe\">\n",
              "  <thead>\n",
              "    <tr style=\"text-align: right;\">\n",
              "      <th></th>\n",
              "      <th>OFFENSE_TYPE_ID</th>\n",
              "      <th>OFFENSE_CATEGORY_ID</th>\n",
              "      <th>GEO_LON</th>\n",
              "      <th>GEO_LAT</th>\n",
              "      <th>NEIGHBORHOOD_ID</th>\n",
              "      <th>IS_CRIME</th>\n",
              "      <th>IS_TRAFFIC</th>\n",
              "    </tr>\n",
              "    <tr>\n",
              "      <th>REPORTED_DATE</th>\n",
              "      <th></th>\n",
              "      <th></th>\n",
              "      <th></th>\n",
              "      <th></th>\n",
              "      <th></th>\n",
              "      <th></th>\n",
              "      <th></th>\n",
              "    </tr>\n",
              "  </thead>\n",
              "  <tbody>\n",
              "    <tr>\n",
              "      <th>2012-01-02 00:06:00</th>\n",
              "      <td>aggravated-assault</td>\n",
              "      <td>aggravated-assault</td>\n",
              "      <td>-104.816860</td>\n",
              "      <td>39.796717</td>\n",
              "      <td>montbello</td>\n",
              "      <td>1</td>\n",
              "      <td>0</td>\n",
              "    </tr>\n",
              "    <tr>\n",
              "      <th>2012-01-02 00:06:00</th>\n",
              "      <td>violation-of-restraining-order</td>\n",
              "      <td>all-other-crimes</td>\n",
              "      <td>-104.816860</td>\n",
              "      <td>39.796717</td>\n",
              "      <td>montbello</td>\n",
              "      <td>1</td>\n",
              "      <td>0</td>\n",
              "    </tr>\n",
              "    <tr>\n",
              "      <th>2012-01-02 00:16:00</th>\n",
              "      <td>traffic-accident-dui-duid</td>\n",
              "      <td>traffic-accident</td>\n",
              "      <td>-104.971851</td>\n",
              "      <td>39.736874</td>\n",
              "      <td>cheesman-park</td>\n",
              "      <td>0</td>\n",
              "      <td>1</td>\n",
              "    </tr>\n",
              "    <tr>\n",
              "      <th>...</th>\n",
              "      <td>...</td>\n",
              "      <td>...</td>\n",
              "      <td>...</td>\n",
              "      <td>...</td>\n",
              "      <td>...</td>\n",
              "      <td>...</td>\n",
              "      <td>...</td>\n",
              "    </tr>\n",
              "    <tr>\n",
              "      <th>2012-01-08 23:52:00</th>\n",
              "      <td>theft-other</td>\n",
              "      <td>larceny</td>\n",
              "      <td>-104.968227</td>\n",
              "      <td>39.739752</td>\n",
              "      <td>cheesman-park</td>\n",
              "      <td>1</td>\n",
              "      <td>0</td>\n",
              "    </tr>\n",
              "    <tr>\n",
              "      <th>2012-01-09 00:04:00</th>\n",
              "      <td>traffic-accident-hit-and-run</td>\n",
              "      <td>traffic-accident</td>\n",
              "      <td>-104.973343</td>\n",
              "      <td>39.760757</td>\n",
              "      <td>five-points</td>\n",
              "      <td>0</td>\n",
              "      <td>1</td>\n",
              "    </tr>\n",
              "    <tr>\n",
              "      <th>2012-01-09 00:05:00</th>\n",
              "      <td>fraud-criminal-impersonation</td>\n",
              "      <td>white-collar-crime</td>\n",
              "      <td>-105.024676</td>\n",
              "      <td>39.712702</td>\n",
              "      <td>valverde</td>\n",
              "      <td>1</td>\n",
              "      <td>0</td>\n",
              "    </tr>\n",
              "  </tbody>\n",
              "</table>\n",
              "<p>879 rows × 7 columns</p>\n",
              "</div>"
            ],
            "text/plain": [
              "                                    OFFENSE_TYPE_ID OFFENSE_CATEGORY_ID  \\\n",
              "REPORTED_DATE                                                             \n",
              "2012-01-02 00:06:00              aggravated-assault  aggravated-assault   \n",
              "2012-01-02 00:06:00  violation-of-restraining-order    all-other-crimes   \n",
              "2012-01-02 00:16:00       traffic-accident-dui-duid    traffic-accident   \n",
              "...                                             ...                 ...   \n",
              "2012-01-08 23:52:00                     theft-other             larceny   \n",
              "2012-01-09 00:04:00    traffic-accident-hit-and-run    traffic-accident   \n",
              "2012-01-09 00:05:00    fraud-criminal-impersonation  white-collar-crime   \n",
              "\n",
              "                        GEO_LON    GEO_LAT NEIGHBORHOOD_ID  IS_CRIME  \\\n",
              "REPORTED_DATE                                                          \n",
              "2012-01-02 00:06:00 -104.816860  39.796717       montbello         1   \n",
              "2012-01-02 00:06:00 -104.816860  39.796717       montbello         1   \n",
              "2012-01-02 00:16:00 -104.971851  39.736874   cheesman-park         0   \n",
              "...                         ...        ...             ...       ...   \n",
              "2012-01-08 23:52:00 -104.968227  39.739752   cheesman-park         1   \n",
              "2012-01-09 00:04:00 -104.973343  39.760757     five-points         0   \n",
              "2012-01-09 00:05:00 -105.024676  39.712702        valverde         1   \n",
              "\n",
              "                     IS_TRAFFIC  \n",
              "REPORTED_DATE                    \n",
              "2012-01-02 00:06:00           0  \n",
              "2012-01-02 00:06:00           0  \n",
              "2012-01-02 00:16:00           1  \n",
              "...                         ...  \n",
              "2012-01-08 23:52:00           0  \n",
              "2012-01-09 00:04:00           1  \n",
              "2012-01-09 00:05:00           0  \n",
              "\n",
              "[879 rows x 7 columns]"
            ]
          },
          "execution_count": 73,
          "metadata": {},
          "output_type": "execute_result"
        }
      ],
      "source": [
        "crime_sort.first('5B')"
      ]
    },
    {
      "cell_type": "code",
      "execution_count": null,
      "metadata": {
        "scrolled": true,
        "id": "PHg8FLVll3p4",
        "outputId": "fbd4ca7c-c8bf-4977-8fe0-fe310aeb68a5"
      },
      "outputs": [
        {
          "data": {
            "text/html": [
              "<div>\n",
              "<style>\n",
              "    .dataframe thead tr:only-child th {\n",
              "        text-align: right;\n",
              "    }\n",
              "\n",
              "    .dataframe thead th {\n",
              "        text-align: left;\n",
              "    }\n",
              "\n",
              "    .dataframe tbody tr th {\n",
              "        vertical-align: top;\n",
              "    }\n",
              "</style>\n",
              "<table border=\"1\" class=\"dataframe\">\n",
              "  <thead>\n",
              "    <tr style=\"text-align: right;\">\n",
              "      <th></th>\n",
              "      <th>OFFENSE_TYPE_ID</th>\n",
              "      <th>OFFENSE_CATEGORY_ID</th>\n",
              "      <th>GEO_LON</th>\n",
              "      <th>GEO_LAT</th>\n",
              "      <th>NEIGHBORHOOD_ID</th>\n",
              "      <th>IS_CRIME</th>\n",
              "      <th>IS_TRAFFIC</th>\n",
              "    </tr>\n",
              "    <tr>\n",
              "      <th>REPORTED_DATE</th>\n",
              "      <th></th>\n",
              "      <th></th>\n",
              "      <th></th>\n",
              "      <th></th>\n",
              "      <th></th>\n",
              "      <th></th>\n",
              "      <th></th>\n",
              "    </tr>\n",
              "  </thead>\n",
              "  <tbody>\n",
              "    <tr>\n",
              "      <th>2012-01-02 00:06:00</th>\n",
              "      <td>aggravated-assault</td>\n",
              "      <td>aggravated-assault</td>\n",
              "      <td>-104.816860</td>\n",
              "      <td>39.796717</td>\n",
              "      <td>montbello</td>\n",
              "      <td>1</td>\n",
              "      <td>0</td>\n",
              "    </tr>\n",
              "    <tr>\n",
              "      <th>2012-01-02 00:06:00</th>\n",
              "      <td>violation-of-restraining-order</td>\n",
              "      <td>all-other-crimes</td>\n",
              "      <td>-104.816860</td>\n",
              "      <td>39.796717</td>\n",
              "      <td>montbello</td>\n",
              "      <td>1</td>\n",
              "      <td>0</td>\n",
              "    </tr>\n",
              "    <tr>\n",
              "      <th>2012-01-02 00:16:00</th>\n",
              "      <td>traffic-accident-dui-duid</td>\n",
              "      <td>traffic-accident</td>\n",
              "      <td>-104.971851</td>\n",
              "      <td>39.736874</td>\n",
              "      <td>cheesman-park</td>\n",
              "      <td>0</td>\n",
              "      <td>1</td>\n",
              "    </tr>\n",
              "    <tr>\n",
              "      <th>...</th>\n",
              "      <td>...</td>\n",
              "      <td>...</td>\n",
              "      <td>...</td>\n",
              "      <td>...</td>\n",
              "      <td>...</td>\n",
              "      <td>...</td>\n",
              "      <td>...</td>\n",
              "    </tr>\n",
              "    <tr>\n",
              "      <th>2012-02-18 22:20:00</th>\n",
              "      <td>traffic-accident-dui-duid</td>\n",
              "      <td>traffic-accident</td>\n",
              "      <td>-104.919946</td>\n",
              "      <td>39.761917</td>\n",
              "      <td>north-park-hill</td>\n",
              "      <td>0</td>\n",
              "      <td>1</td>\n",
              "    </tr>\n",
              "    <tr>\n",
              "      <th>2012-02-18 22:44:00</th>\n",
              "      <td>criminal-mischief-mtr-veh</td>\n",
              "      <td>public-disorder</td>\n",
              "      <td>-105.044984</td>\n",
              "      <td>39.736776</td>\n",
              "      <td>west-colfax</td>\n",
              "      <td>1</td>\n",
              "      <td>0</td>\n",
              "    </tr>\n",
              "    <tr>\n",
              "      <th>2012-02-18 23:27:00</th>\n",
              "      <td>theft-items-from-vehicle</td>\n",
              "      <td>theft-from-motor-vehicle</td>\n",
              "      <td>-105.009018</td>\n",
              "      <td>39.708701</td>\n",
              "      <td>athmar-park</td>\n",
              "      <td>1</td>\n",
              "      <td>0</td>\n",
              "    </tr>\n",
              "  </tbody>\n",
              "</table>\n",
              "<p>6708 rows × 7 columns</p>\n",
              "</div>"
            ],
            "text/plain": [
              "                                    OFFENSE_TYPE_ID       OFFENSE_CATEGORY_ID  \\\n",
              "REPORTED_DATE                                                                   \n",
              "2012-01-02 00:06:00              aggravated-assault        aggravated-assault   \n",
              "2012-01-02 00:06:00  violation-of-restraining-order          all-other-crimes   \n",
              "2012-01-02 00:16:00       traffic-accident-dui-duid          traffic-accident   \n",
              "...                                             ...                       ...   \n",
              "2012-02-18 22:20:00       traffic-accident-dui-duid          traffic-accident   \n",
              "2012-02-18 22:44:00       criminal-mischief-mtr-veh           public-disorder   \n",
              "2012-02-18 23:27:00        theft-items-from-vehicle  theft-from-motor-vehicle   \n",
              "\n",
              "                        GEO_LON    GEO_LAT  NEIGHBORHOOD_ID  IS_CRIME  \\\n",
              "REPORTED_DATE                                                           \n",
              "2012-01-02 00:06:00 -104.816860  39.796717        montbello         1   \n",
              "2012-01-02 00:06:00 -104.816860  39.796717        montbello         1   \n",
              "2012-01-02 00:16:00 -104.971851  39.736874    cheesman-park         0   \n",
              "...                         ...        ...              ...       ...   \n",
              "2012-02-18 22:20:00 -104.919946  39.761917  north-park-hill         0   \n",
              "2012-02-18 22:44:00 -105.044984  39.736776      west-colfax         1   \n",
              "2012-02-18 23:27:00 -105.009018  39.708701      athmar-park         1   \n",
              "\n",
              "                     IS_TRAFFIC  \n",
              "REPORTED_DATE                    \n",
              "2012-01-02 00:06:00           0  \n",
              "2012-01-02 00:06:00           0  \n",
              "2012-01-02 00:16:00           1  \n",
              "...                         ...  \n",
              "2012-02-18 22:20:00           1  \n",
              "2012-02-18 22:44:00           0  \n",
              "2012-02-18 23:27:00           0  \n",
              "\n",
              "[6708 rows x 7 columns]"
            ]
          },
          "execution_count": 74,
          "metadata": {},
          "output_type": "execute_result"
        }
      ],
      "source": [
        "crime_sort.first('7W')"
      ]
    },
    {
      "cell_type": "code",
      "execution_count": null,
      "metadata": {
        "scrolled": true,
        "id": "DZhhLcAwl3p5",
        "outputId": "701adec2-7eb2-43d2-fb7e-597b041df8c6"
      },
      "outputs": [
        {
          "data": {
            "text/html": [
              "<div>\n",
              "<style>\n",
              "    .dataframe thead tr:only-child th {\n",
              "        text-align: right;\n",
              "    }\n",
              "\n",
              "    .dataframe thead th {\n",
              "        text-align: left;\n",
              "    }\n",
              "\n",
              "    .dataframe tbody tr th {\n",
              "        vertical-align: top;\n",
              "    }\n",
              "</style>\n",
              "<table border=\"1\" class=\"dataframe\">\n",
              "  <thead>\n",
              "    <tr style=\"text-align: right;\">\n",
              "      <th></th>\n",
              "      <th>OFFENSE_TYPE_ID</th>\n",
              "      <th>OFFENSE_CATEGORY_ID</th>\n",
              "      <th>GEO_LON</th>\n",
              "      <th>GEO_LAT</th>\n",
              "      <th>NEIGHBORHOOD_ID</th>\n",
              "      <th>IS_CRIME</th>\n",
              "      <th>IS_TRAFFIC</th>\n",
              "    </tr>\n",
              "    <tr>\n",
              "      <th>REPORTED_DATE</th>\n",
              "      <th></th>\n",
              "      <th></th>\n",
              "      <th></th>\n",
              "      <th></th>\n",
              "      <th></th>\n",
              "      <th></th>\n",
              "      <th></th>\n",
              "    </tr>\n",
              "  </thead>\n",
              "  <tbody>\n",
              "    <tr>\n",
              "      <th>2012-01-02 00:06:00</th>\n",
              "      <td>aggravated-assault</td>\n",
              "      <td>aggravated-assault</td>\n",
              "      <td>-104.816860</td>\n",
              "      <td>39.796717</td>\n",
              "      <td>montbello</td>\n",
              "      <td>1</td>\n",
              "      <td>0</td>\n",
              "    </tr>\n",
              "    <tr>\n",
              "      <th>2012-01-02 00:06:00</th>\n",
              "      <td>violation-of-restraining-order</td>\n",
              "      <td>all-other-crimes</td>\n",
              "      <td>-104.816860</td>\n",
              "      <td>39.796717</td>\n",
              "      <td>montbello</td>\n",
              "      <td>1</td>\n",
              "      <td>0</td>\n",
              "    </tr>\n",
              "    <tr>\n",
              "      <th>2012-01-02 00:16:00</th>\n",
              "      <td>traffic-accident-dui-duid</td>\n",
              "      <td>traffic-accident</td>\n",
              "      <td>-104.971851</td>\n",
              "      <td>39.736874</td>\n",
              "      <td>cheesman-park</td>\n",
              "      <td>0</td>\n",
              "      <td>1</td>\n",
              "    </tr>\n",
              "    <tr>\n",
              "      <th>...</th>\n",
              "      <td>...</td>\n",
              "      <td>...</td>\n",
              "      <td>...</td>\n",
              "      <td>...</td>\n",
              "      <td>...</td>\n",
              "      <td>...</td>\n",
              "      <td>...</td>\n",
              "    </tr>\n",
              "    <tr>\n",
              "      <th>2012-09-30 23:29:00</th>\n",
              "      <td>theft-of-motor-vehicle</td>\n",
              "      <td>auto-theft</td>\n",
              "      <td>-104.988838</td>\n",
              "      <td>39.686925</td>\n",
              "      <td>overland</td>\n",
              "      <td>1</td>\n",
              "      <td>0</td>\n",
              "    </tr>\n",
              "    <tr>\n",
              "      <th>2012-09-30 23:41:00</th>\n",
              "      <td>traffic-accident-hit-and-run</td>\n",
              "      <td>traffic-accident</td>\n",
              "      <td>-105.087598</td>\n",
              "      <td>39.638462</td>\n",
              "      <td>marston</td>\n",
              "      <td>0</td>\n",
              "      <td>1</td>\n",
              "    </tr>\n",
              "    <tr>\n",
              "      <th>2012-09-30 23:43:00</th>\n",
              "      <td>robbery-business</td>\n",
              "      <td>robbery</td>\n",
              "      <td>-104.772712</td>\n",
              "      <td>39.781966</td>\n",
              "      <td>gateway-green-valley-ranch</td>\n",
              "      <td>1</td>\n",
              "      <td>0</td>\n",
              "    </tr>\n",
              "  </tbody>\n",
              "</table>\n",
              "<p>43045 rows × 7 columns</p>\n",
              "</div>"
            ],
            "text/plain": [
              "                                    OFFENSE_TYPE_ID OFFENSE_CATEGORY_ID  \\\n",
              "REPORTED_DATE                                                             \n",
              "2012-01-02 00:06:00              aggravated-assault  aggravated-assault   \n",
              "2012-01-02 00:06:00  violation-of-restraining-order    all-other-crimes   \n",
              "2012-01-02 00:16:00       traffic-accident-dui-duid    traffic-accident   \n",
              "...                                             ...                 ...   \n",
              "2012-09-30 23:29:00          theft-of-motor-vehicle          auto-theft   \n",
              "2012-09-30 23:41:00    traffic-accident-hit-and-run    traffic-accident   \n",
              "2012-09-30 23:43:00                robbery-business             robbery   \n",
              "\n",
              "                        GEO_LON    GEO_LAT             NEIGHBORHOOD_ID  \\\n",
              "REPORTED_DATE                                                            \n",
              "2012-01-02 00:06:00 -104.816860  39.796717                   montbello   \n",
              "2012-01-02 00:06:00 -104.816860  39.796717                   montbello   \n",
              "2012-01-02 00:16:00 -104.971851  39.736874               cheesman-park   \n",
              "...                         ...        ...                         ...   \n",
              "2012-09-30 23:29:00 -104.988838  39.686925                    overland   \n",
              "2012-09-30 23:41:00 -105.087598  39.638462                     marston   \n",
              "2012-09-30 23:43:00 -104.772712  39.781966  gateway-green-valley-ranch   \n",
              "\n",
              "                     IS_CRIME  IS_TRAFFIC  \n",
              "REPORTED_DATE                              \n",
              "2012-01-02 00:06:00         1           0  \n",
              "2012-01-02 00:06:00         1           0  \n",
              "2012-01-02 00:16:00         0           1  \n",
              "...                       ...         ...  \n",
              "2012-09-30 23:29:00         1           0  \n",
              "2012-09-30 23:41:00         0           1  \n",
              "2012-09-30 23:43:00         1           0  \n",
              "\n",
              "[43045 rows x 7 columns]"
            ]
          },
          "execution_count": 75,
          "metadata": {},
          "output_type": "execute_result"
        }
      ],
      "source": [
        "crime_sort.first('3QS')"
      ]
    },
    {
      "cell_type": "code",
      "execution_count": null,
      "metadata": {
        "scrolled": true,
        "id": "TYGay8KFl3p5",
        "outputId": "0c52f4cf-f7fe-46f7-8b7b-3d4a4624c640"
      },
      "outputs": [
        {
          "data": {
            "text/plain": [
              "Timestamp('2012-02-16 13:40:00')"
            ]
          },
          "execution_count": 80,
          "metadata": {},
          "output_type": "execute_result"
        }
      ],
      "source": [
        "dt = pd.Timestamp('2012-1-16 13:40')\n",
        "dt + pd.DateOffset(months=1)"
      ]
    },
    {
      "cell_type": "code",
      "execution_count": null,
      "metadata": {
        "scrolled": true,
        "id": "XSP3TrySl3p5",
        "outputId": "3273eb8a-5e26-48a1-e12b-3daf539b888f"
      },
      "outputs": [
        {
          "data": {
            "text/plain": [
              "Timestamp('2014-06-25 11:22:10')"
            ]
          },
          "execution_count": 81,
          "metadata": {},
          "output_type": "execute_result"
        }
      ],
      "source": [
        "do = pd.DateOffset(years=2, months=5, days=3, hours=8, seconds=10)\n",
        "pd.Timestamp('2012-1-22 03:22') + do"
      ]
    },
    {
      "cell_type": "code",
      "execution_count": null,
      "metadata": {
        "collapsed": true,
        "scrolled": true,
        "id": "X3_FilS4l3p5"
      },
      "outputs": [],
      "source": [
        "pd.options.display.max_rows=60"
      ]
    },
    {
      "cell_type": "markdown",
      "metadata": {
        "id": "v8bh3KI0l3p5"
      },
      "source": [
        "# Counting the number of weekly crimes"
      ]
    },
    {
      "cell_type": "code",
      "execution_count": null,
      "metadata": {
        "scrolled": true,
        "id": "Jzq8l7kfl3p5"
      },
      "outputs": [],
      "source": [
        "crime_sort = pd.read_hdf('crime.h5', 'crime') \\\n",
        "               .set_index('REPORTED_DATE') \\\n",
        "               .sort_index()"
      ]
    },
    {
      "cell_type": "code",
      "execution_count": null,
      "metadata": {
        "scrolled": true,
        "id": "Ce1dIdVyl3p5",
        "outputId": "dbb120cd-4fb5-44b5-d37c-346a55d79656"
      },
      "outputs": [
        {
          "data": {
            "text/plain": [
              "<pandas.core.resample.DatetimeIndexResampler object at 0x7fb868f1f690>"
            ]
          },
          "execution_count": 50,
          "metadata": {},
          "output_type": "execute_result"
        }
      ],
      "source": [
        "crime_sort.resample('W')"
      ]
    },
    {
      "cell_type": "code",
      "execution_count": null,
      "metadata": {
        "scrolled": true,
        "id": "UsRGiztel3p6",
        "outputId": "58ec6655-8dd9-4088-e100-46f8809c6bc1"
      },
      "outputs": [
        {
          "data": {
            "text/plain": [
              "REPORTED_DATE\n",
              "2012-01-08     877\n",
              "2012-01-15    1071\n",
              "2012-01-22     991\n",
              "2012-01-29     988\n",
              "2012-02-05     888\n",
              "Freq: W-SUN, dtype: int64"
            ]
          },
          "execution_count": 51,
          "metadata": {},
          "output_type": "execute_result"
        }
      ],
      "source": [
        "weekly_crimes = crime_sort.resample('W').size()\n",
        "weekly_crimes.head()"
      ]
    },
    {
      "cell_type": "code",
      "execution_count": null,
      "metadata": {
        "scrolled": true,
        "id": "DwXhyJ6cl3p6",
        "outputId": "5f0d633f-bfd1-4981-8ccc-fd01a89ac2d2"
      },
      "outputs": [
        {
          "data": {
            "text/plain": [
              "877"
            ]
          },
          "execution_count": 52,
          "metadata": {},
          "output_type": "execute_result"
        }
      ],
      "source": [
        "len(crime_sort.loc[:'2012-1-8'])"
      ]
    },
    {
      "cell_type": "code",
      "execution_count": null,
      "metadata": {
        "scrolled": true,
        "id": "FGAfoj89l3p6",
        "outputId": "aacf3d56-5b09-4f16-c58a-2d75972cb313"
      },
      "outputs": [
        {
          "data": {
            "text/plain": [
              "1071"
            ]
          },
          "execution_count": 87,
          "metadata": {},
          "output_type": "execute_result"
        }
      ],
      "source": [
        "len(crime_sort.loc['2012-1-9':'2012-1-15'])"
      ]
    },
    {
      "cell_type": "code",
      "execution_count": null,
      "metadata": {
        "scrolled": true,
        "id": "rTzIU8awl3p6",
        "outputId": "2636cc28-9d5f-4f57-e89d-0b7ca7b7df68"
      },
      "outputs": [
        {
          "data": {
            "text/plain": [
              "REPORTED_DATE\n",
              "2012-01-05     462\n",
              "2012-01-12    1116\n",
              "2012-01-19     924\n",
              "2012-01-26    1061\n",
              "2012-02-02     926\n",
              "Freq: W-THU, dtype: int64"
            ]
          },
          "execution_count": 53,
          "metadata": {},
          "output_type": "execute_result"
        }
      ],
      "source": [
        "crime_sort.resample('W-THU').size().head()"
      ]
    },
    {
      "cell_type": "code",
      "execution_count": null,
      "metadata": {
        "scrolled": true,
        "id": "QDsVvKxal3p6",
        "outputId": "9efd5047-576b-42a3-a849-4ca0d97a0e19"
      },
      "outputs": [
        {
          "data": {
            "text/plain": [
              "REPORTED_DATE\n",
              "2012-01-08     877\n",
              "2012-01-15    1071\n",
              "2012-01-22     991\n",
              "2012-01-29     988\n",
              "2012-02-05     888\n",
              "Freq: W-SUN, dtype: int64"
            ]
          },
          "execution_count": 89,
          "metadata": {},
          "output_type": "execute_result"
        }
      ],
      "source": [
        "weekly_crimes_gby = crime_sort.groupby(pd.Grouper(freq='W')).size()\n",
        "weekly_crimes_gby.head()"
      ]
    },
    {
      "cell_type": "code",
      "execution_count": null,
      "metadata": {
        "scrolled": true,
        "id": "dNeAXRyvl3p6",
        "outputId": "2a0ac38b-b8b7-471a-9d41-02bfd35bb5df"
      },
      "outputs": [
        {
          "data": {
            "text/plain": [
              "True"
            ]
          },
          "execution_count": 90,
          "metadata": {},
          "output_type": "execute_result"
        }
      ],
      "source": [
        "weekly_crimes.equals(weekly_crimes_gby)"
      ]
    },
    {
      "cell_type": "code",
      "execution_count": null,
      "metadata": {
        "scrolled": true,
        "id": "O7DEEckel3p7",
        "outputId": "f5c7773a-cb77-4edf-b033-3d9b5da673e5"
      },
      "outputs": [
        {
          "name": "stdout",
          "output_type": "stream",
          "text": [
            "['agg', 'aggregate', 'apply', 'asfreq', 'ax', 'backfill', 'bfill', 'count', 'ffill', 'fillna', 'first', 'get_group', 'groups', 'indices', 'interpolate', 'last', 'max', 'mean', 'median', 'min', 'ndim', 'ngroups', 'nunique', 'obj', 'ohlc', 'pad', 'plot', 'prod', 'sem', 'size', 'std', 'sum', 'transform', 'var']\n"
          ]
        }
      ],
      "source": [
        "r = crime_sort.resample('W')\n",
        "resample_methods = [attr for attr in dir(r) if attr[0].islower()]\n",
        "print(resample_methods)"
      ]
    },
    {
      "cell_type": "code",
      "execution_count": null,
      "metadata": {
        "scrolled": true,
        "id": "5RJNbKAGl3p7",
        "outputId": "15e01723-073a-474a-d7d2-abdff44ddbfa"
      },
      "outputs": [
        {
          "data": {
            "text/plain": [
              "True"
            ]
          },
          "execution_count": 92,
          "metadata": {},
          "output_type": "execute_result"
        }
      ],
      "source": [
        "crime = pd.read_hdf('crime.h5', 'crime')\n",
        "weekly_crimes2 = crime.resample('W', on='REPORTED_DATE').size()\n",
        "weekly_crimes2.equals(weekly_crimes)"
      ]
    },
    {
      "cell_type": "code",
      "execution_count": null,
      "metadata": {
        "scrolled": true,
        "id": "bRKAj4Jsl3p7",
        "outputId": "99c28f18-30a6-4d54-dd10-070c5197f9f0"
      },
      "outputs": [
        {
          "data": {
            "text/plain": [
              "True"
            ]
          },
          "execution_count": 93,
          "metadata": {},
          "output_type": "execute_result"
        }
      ],
      "source": [
        "weekly_crimes_gby2 = crime.groupby(pd.Grouper(key='REPORTED_DATE', freq='W')).size()\n",
        "weekly_crimes_gby2.equals(weekly_crimes_gby)"
      ]
    },
    {
      "cell_type": "code",
      "execution_count": null,
      "metadata": {
        "scrolled": true,
        "id": "93yU-hRQl3p7",
        "outputId": "f3e485f3-fbe7-4bb4-a2cb-716763039ec0"
      },
      "outputs": [
        {
          "data": {
            "text/plain": [
              "<matplotlib.axes._subplots.AxesSubplot at 0x10b8d3240>"
            ]
          },
          "execution_count": 94,
          "metadata": {},
          "output_type": "execute_result"
        },
        {
          "data": {
            "image/png": "[encoded data removed]",
            "text/plain": [
              "<matplotlib.figure.Figure at 0x10be1db38>"
            ]
          },
          "metadata": {},
          "output_type": "display_data"
        }
      ],
      "source": [
        "weekly_crimes.plot(figsize=(16,4), title='All Denver Crimes')"
      ]
    },
    {
      "cell_type": "markdown",
      "metadata": {
        "id": "lTe-Vrl5l3p7"
      },
      "source": [
        "# Aggregating weekly crime and traffic separately"
      ]
    },
    {
      "cell_type": "code",
      "execution_count": null,
      "metadata": {
        "scrolled": true,
        "id": "afLtg0-Yl3p7"
      },
      "outputs": [],
      "source": [
        "crime_sort = pd.read_hdf('crime.h5', 'crime') \\\n",
        "               .set_index('REPORTED_DATE') \\\n",
        "               .sort_index()"
      ]
    },
    {
      "cell_type": "code",
      "execution_count": null,
      "metadata": {
        "scrolled": true,
        "id": "tGznxu1jl3p7",
        "outputId": "95bbc3c8-c56b-475f-8f6f-03aa7dbad041"
      },
      "outputs": [
        {
          "data": {
            "text/html": [
              "<div>\n",
              "<style scoped>\n",
              "    .dataframe tbody tr th:only-of-type {\n",
              "        vertical-align: middle;\n",
              "    }\n",
              "\n",
              "    .dataframe tbody tr th {\n",
              "        vertical-align: top;\n",
              "    }\n",
              "\n",
              "    .dataframe thead th {\n",
              "        text-align: right;\n",
              "    }\n",
              "</style>\n",
              "<table border=\"1\" class=\"dataframe\">\n",
              "  <thead>\n",
              "    <tr style=\"text-align: right;\">\n",
              "      <th></th>\n",
              "      <th>IS_CRIME</th>\n",
              "      <th>IS_TRAFFIC</th>\n",
              "    </tr>\n",
              "    <tr>\n",
              "      <th>REPORTED_DATE</th>\n",
              "      <th></th>\n",
              "      <th></th>\n",
              "    </tr>\n",
              "  </thead>\n",
              "  <tbody>\n",
              "    <tr>\n",
              "      <th>2012-03-31</th>\n",
              "      <td>7882</td>\n",
              "      <td>4726</td>\n",
              "    </tr>\n",
              "    <tr>\n",
              "      <th>2012-06-30</th>\n",
              "      <td>9641</td>\n",
              "      <td>5255</td>\n",
              "    </tr>\n",
              "    <tr>\n",
              "      <th>2012-09-30</th>\n",
              "      <td>10566</td>\n",
              "      <td>5003</td>\n",
              "    </tr>\n",
              "    <tr>\n",
              "      <th>2012-12-31</th>\n",
              "      <td>9197</td>\n",
              "      <td>4802</td>\n",
              "    </tr>\n",
              "    <tr>\n",
              "      <th>2013-03-31</th>\n",
              "      <td>8730</td>\n",
              "      <td>4442</td>\n",
              "    </tr>\n",
              "  </tbody>\n",
              "</table>\n",
              "</div>"
            ],
            "text/plain": [
              "               IS_CRIME  IS_TRAFFIC\n",
              "REPORTED_DATE                      \n",
              "2012-03-31         7882        4726\n",
              "2012-06-30         9641        5255\n",
              "2012-09-30        10566        5003\n",
              "2012-12-31         9197        4802\n",
              "2013-03-31         8730        4442"
            ]
          },
          "execution_count": 55,
          "metadata": {},
          "output_type": "execute_result"
        }
      ],
      "source": [
        "crime_quarterly = crime_sort.resample('Q')['IS_CRIME', 'IS_TRAFFIC'].sum()\n",
        "crime_quarterly.head()"
      ]
    },
    {
      "cell_type": "code",
      "execution_count": null,
      "metadata": {
        "scrolled": true,
        "id": "5CBsYiM9l3p8",
        "outputId": "e58e459f-1cc5-4554-8776-4366dc494d34"
      },
      "outputs": [
        {
          "data": {
            "text/html": [
              "<div>\n",
              "<style>\n",
              "    .dataframe thead tr:only-child th {\n",
              "        text-align: right;\n",
              "    }\n",
              "\n",
              "    .dataframe thead th {\n",
              "        text-align: left;\n",
              "    }\n",
              "\n",
              "    .dataframe tbody tr th {\n",
              "        vertical-align: top;\n",
              "    }\n",
              "</style>\n",
              "<table border=\"1\" class=\"dataframe\">\n",
              "  <thead>\n",
              "    <tr style=\"text-align: right;\">\n",
              "      <th></th>\n",
              "      <th>IS_CRIME</th>\n",
              "      <th>IS_TRAFFIC</th>\n",
              "    </tr>\n",
              "    <tr>\n",
              "      <th>REPORTED_DATE</th>\n",
              "      <th></th>\n",
              "      <th></th>\n",
              "    </tr>\n",
              "  </thead>\n",
              "  <tbody>\n",
              "    <tr>\n",
              "      <th>2012-01-01</th>\n",
              "      <td>7882</td>\n",
              "      <td>4726</td>\n",
              "    </tr>\n",
              "    <tr>\n",
              "      <th>2012-04-01</th>\n",
              "      <td>9641</td>\n",
              "      <td>5255</td>\n",
              "    </tr>\n",
              "    <tr>\n",
              "      <th>2012-07-01</th>\n",
              "      <td>10566</td>\n",
              "      <td>5003</td>\n",
              "    </tr>\n",
              "    <tr>\n",
              "      <th>2012-10-01</th>\n",
              "      <td>9197</td>\n",
              "      <td>4802</td>\n",
              "    </tr>\n",
              "    <tr>\n",
              "      <th>2013-01-01</th>\n",
              "      <td>8730</td>\n",
              "      <td>4442</td>\n",
              "    </tr>\n",
              "  </tbody>\n",
              "</table>\n",
              "</div>"
            ],
            "text/plain": [
              "               IS_CRIME  IS_TRAFFIC\n",
              "REPORTED_DATE                      \n",
              "2012-01-01         7882        4726\n",
              "2012-04-01         9641        5255\n",
              "2012-07-01        10566        5003\n",
              "2012-10-01         9197        4802\n",
              "2013-01-01         8730        4442"
            ]
          },
          "execution_count": 97,
          "metadata": {},
          "output_type": "execute_result"
        }
      ],
      "source": [
        "crime_sort.resample('QS')['IS_CRIME', 'IS_TRAFFIC'].sum().head()"
      ]
    },
    {
      "cell_type": "code",
      "execution_count": null,
      "metadata": {
        "scrolled": true,
        "id": "jZ5Az_ILl3p8",
        "outputId": "e409ee2e-822d-4cda-c8fa-6f8a61b646bd"
      },
      "outputs": [
        {
          "data": {
            "text/plain": [
              "IS_CRIME      9641\n",
              "IS_TRAFFIC    5255\n",
              "dtype: int64"
            ]
          },
          "execution_count": 98,
          "metadata": {},
          "output_type": "execute_result"
        }
      ],
      "source": [
        "crime_sort.loc['2012-4-1':'2012-6-30', ['IS_CRIME', 'IS_TRAFFIC']].sum()"
      ]
    },
    {
      "cell_type": "code",
      "execution_count": null,
      "metadata": {
        "scrolled": true,
        "id": "RJyMmZrAl3p8",
        "outputId": "6dada484-a39e-47ce-afbe-62bf706c8cf7"
      },
      "outputs": [
        {
          "data": {
            "text/plain": [
              "True"
            ]
          },
          "execution_count": 99,
          "metadata": {},
          "output_type": "execute_result"
        }
      ],
      "source": [
        "crime_quarterly2 = crime_sort.groupby(pd.Grouper(freq='Q'))['IS_CRIME', 'IS_TRAFFIC'].sum()\n",
        "crime_quarterly2.equals(crime_quarterly)"
      ]
    },
    {
      "cell_type": "code",
      "execution_count": null,
      "metadata": {
        "scrolled": true,
        "id": "CRuzKuihl3p8",
        "outputId": "5b4034c5-e549-4e14-82e9-2ef9658498fe"
      },
      "outputs": [
        {
          "data": {
            "text/plain": [
              "<matplotlib.axes._subplots.AxesSubplot at 0x10b8d12e8>"
            ]
          },
          "execution_count": 100,
          "metadata": {},
          "output_type": "execute_result"
        },
        {
          "data": {
            "image/png": "[encoded data removed]",
            "text/plain": [
              "<matplotlib.figure.Figure at 0x11f40e7f0>"
            ]
          },
          "metadata": {},
          "output_type": "display_data"
        }
      ],
      "source": [
        "plot_kwargs = dict(figsize=(16,4), \n",
        "                   color=['black', 'lightgrey'], \n",
        "                   title='Denver Crimes and Traffic Accidents')\n",
        "crime_quarterly.plot(**plot_kwargs)"
      ]
    },
    {
      "cell_type": "code",
      "execution_count": null,
      "metadata": {
        "scrolled": true,
        "id": "vX0OfyN1l3p8",
        "outputId": "613ed18f-b44a-4f1e-b189-4fcbba776de8"
      },
      "outputs": [
        {
          "data": {
            "text/html": [
              "<div>\n",
              "<style>\n",
              "    .dataframe thead tr:only-child th {\n",
              "        text-align: right;\n",
              "    }\n",
              "\n",
              "    .dataframe thead th {\n",
              "        text-align: left;\n",
              "    }\n",
              "\n",
              "    .dataframe tbody tr th {\n",
              "        vertical-align: top;\n",
              "    }\n",
              "</style>\n",
              "<table border=\"1\" class=\"dataframe\">\n",
              "  <thead>\n",
              "    <tr style=\"text-align: right;\">\n",
              "      <th></th>\n",
              "      <th>GEO_LON</th>\n",
              "      <th>GEO_LAT</th>\n",
              "      <th>IS_CRIME</th>\n",
              "      <th>IS_TRAFFIC</th>\n",
              "    </tr>\n",
              "    <tr>\n",
              "      <th>REPORTED_DATE</th>\n",
              "      <th></th>\n",
              "      <th></th>\n",
              "      <th></th>\n",
              "      <th></th>\n",
              "    </tr>\n",
              "  </thead>\n",
              "  <tbody>\n",
              "    <tr>\n",
              "      <th>2012-03-31</th>\n",
              "      <td>-1.313006e+06</td>\n",
              "      <td>496960.237747</td>\n",
              "      <td>7882</td>\n",
              "      <td>4726</td>\n",
              "    </tr>\n",
              "    <tr>\n",
              "      <th>2012-06-30</th>\n",
              "      <td>-1.547274e+06</td>\n",
              "      <td>585656.789182</td>\n",
              "      <td>9641</td>\n",
              "      <td>5255</td>\n",
              "    </tr>\n",
              "    <tr>\n",
              "      <th>2012-09-30</th>\n",
              "      <td>-1.615835e+06</td>\n",
              "      <td>611604.800384</td>\n",
              "      <td>10566</td>\n",
              "      <td>5003</td>\n",
              "    </tr>\n",
              "    <tr>\n",
              "      <th>2012-12-31</th>\n",
              "      <td>-1.458177e+06</td>\n",
              "      <td>551923.040048</td>\n",
              "      <td>9197</td>\n",
              "      <td>4802</td>\n",
              "    </tr>\n",
              "    <tr>\n",
              "      <th>2013-03-31</th>\n",
              "      <td>-1.368931e+06</td>\n",
              "      <td>518159.721947</td>\n",
              "      <td>8730</td>\n",
              "      <td>4442</td>\n",
              "    </tr>\n",
              "  </tbody>\n",
              "</table>\n",
              "</div>"
            ],
            "text/plain": [
              "                    GEO_LON        GEO_LAT  IS_CRIME  IS_TRAFFIC\n",
              "REPORTED_DATE                                                   \n",
              "2012-03-31    -1.313006e+06  496960.237747      7882        4726\n",
              "2012-06-30    -1.547274e+06  585656.789182      9641        5255\n",
              "2012-09-30    -1.615835e+06  611604.800384     10566        5003\n",
              "2012-12-31    -1.458177e+06  551923.040048      9197        4802\n",
              "2013-03-31    -1.368931e+06  518159.721947      8730        4442"
            ]
          },
          "execution_count": 101,
          "metadata": {},
          "output_type": "execute_result"
        }
      ],
      "source": [
        "crime_sort.resample('Q').sum().head()"
      ]
    },
    {
      "cell_type": "code",
      "execution_count": null,
      "metadata": {
        "scrolled": true,
        "id": "AQ_B_IExl3p8",
        "outputId": "594be09c-8c4f-404c-892c-52e1f19c9611"
      },
      "outputs": [
        {
          "data": {
            "text/html": [
              "<div>\n",
              "<style>\n",
              "    .dataframe thead tr:only-child th {\n",
              "        text-align: right;\n",
              "    }\n",
              "\n",
              "    .dataframe thead th {\n",
              "        text-align: left;\n",
              "    }\n",
              "\n",
              "    .dataframe tbody tr th {\n",
              "        vertical-align: top;\n",
              "    }\n",
              "</style>\n",
              "<table border=\"1\" class=\"dataframe\">\n",
              "  <thead>\n",
              "    <tr style=\"text-align: right;\">\n",
              "      <th></th>\n",
              "      <th>IS_CRIME</th>\n",
              "      <th>IS_TRAFFIC</th>\n",
              "    </tr>\n",
              "    <tr>\n",
              "      <th>REPORTED_DATE</th>\n",
              "      <th></th>\n",
              "      <th></th>\n",
              "    </tr>\n",
              "  </thead>\n",
              "  <tbody>\n",
              "    <tr>\n",
              "      <th>2011-12-01</th>\n",
              "      <td>5013</td>\n",
              "      <td>3198</td>\n",
              "    </tr>\n",
              "    <tr>\n",
              "      <th>2012-03-01</th>\n",
              "      <td>9260</td>\n",
              "      <td>4954</td>\n",
              "    </tr>\n",
              "    <tr>\n",
              "      <th>2012-06-01</th>\n",
              "      <td>10524</td>\n",
              "      <td>5190</td>\n",
              "    </tr>\n",
              "    <tr>\n",
              "      <th>2012-09-01</th>\n",
              "      <td>9450</td>\n",
              "      <td>4777</td>\n",
              "    </tr>\n",
              "    <tr>\n",
              "      <th>2012-12-01</th>\n",
              "      <td>9003</td>\n",
              "      <td>4652</td>\n",
              "    </tr>\n",
              "  </tbody>\n",
              "</table>\n",
              "</div>"
            ],
            "text/plain": [
              "               IS_CRIME  IS_TRAFFIC\n",
              "REPORTED_DATE                      \n",
              "2011-12-01         5013        3198\n",
              "2012-03-01         9260        4954\n",
              "2012-06-01        10524        5190\n",
              "2012-09-01         9450        4777\n",
              "2012-12-01         9003        4652"
            ]
          },
          "execution_count": 102,
          "metadata": {},
          "output_type": "execute_result"
        }
      ],
      "source": [
        "crime_sort.resample('QS-MAR')['IS_CRIME', 'IS_TRAFFIC'].sum().head()"
      ]
    },
    {
      "cell_type": "code",
      "execution_count": null,
      "metadata": {
        "scrolled": true,
        "id": "cMlqYSLXl3p9",
        "outputId": "befac9d9-5590-4316-e68a-48a5d6f72343"
      },
      "outputs": [
        {
          "data": {
            "text/plain": [
              "IS_CRIME      7882\n",
              "IS_TRAFFIC    4726\n",
              "Name: 2012-03-31 00:00:00, dtype: int64"
            ]
          },
          "execution_count": 103,
          "metadata": {},
          "output_type": "execute_result"
        }
      ],
      "source": [
        "crime_begin = crime_quarterly.iloc[0]\n",
        "crime_begin"
      ]
    },
    {
      "cell_type": "code",
      "execution_count": null,
      "metadata": {
        "scrolled": true,
        "id": "50rC3249l3p9",
        "outputId": "5332dad1-c9a4-4ed4-b6c8-40730f2c9639"
      },
      "outputs": [
        {
          "data": {
            "text/plain": [
              "<matplotlib.axes._subplots.AxesSubplot at 0x1158850b8>"
            ]
          },
          "execution_count": 104,
          "metadata": {},
          "output_type": "execute_result"
        },
        {
          "data": {
            "image/png": "[encoded data removed]",
            "text/plain": [
              "<matplotlib.figure.Figure at 0x10be1d5f8>"
            ]
          },
          "metadata": {},
          "output_type": "display_data"
        }
      ],
      "source": [
        "crime_quarterly.div(crime_begin) \\\n",
        "               .sub(1) \\\n",
        "               .round(2) \\\n",
        "               .plot(**plot_kwargs)"
      ]
    },
    {
      "cell_type": "markdown",
      "metadata": {
        "id": "gb9SZ_ofl3p9"
      },
      "source": [
        "# Measuring crime by weekday and year"
      ]
    },
    {
      "cell_type": "code",
      "execution_count": null,
      "metadata": {
        "scrolled": true,
        "id": "Xldp2fLll3p9",
        "outputId": "490ef1b0-f8c2-4655-a2fd-40f157d3e125"
      },
      "outputs": [
        {
          "data": {
            "text/html": [
              "<div>\n",
              "<style scoped>\n",
              "    .dataframe tbody tr th:only-of-type {\n",
              "        vertical-align: middle;\n",
              "    }\n",
              "\n",
              "    .dataframe tbody tr th {\n",
              "        vertical-align: top;\n",
              "    }\n",
              "\n",
              "    .dataframe thead th {\n",
              "        text-align: right;\n",
              "    }\n",
              "</style>\n",
              "<table border=\"1\" class=\"dataframe\">\n",
              "  <thead>\n",
              "    <tr style=\"text-align: right;\">\n",
              "      <th></th>\n",
              "      <th>OFFENSE_TYPE_ID</th>\n",
              "      <th>OFFENSE_CATEGORY_ID</th>\n",
              "      <th>REPORTED_DATE</th>\n",
              "      <th>GEO_LON</th>\n",
              "      <th>GEO_LAT</th>\n",
              "      <th>NEIGHBORHOOD_ID</th>\n",
              "      <th>IS_CRIME</th>\n",
              "      <th>IS_TRAFFIC</th>\n",
              "    </tr>\n",
              "  </thead>\n",
              "  <tbody>\n",
              "    <tr>\n",
              "      <th>0</th>\n",
              "      <td>traffic-accident-dui-duid</td>\n",
              "      <td>traffic-accident</td>\n",
              "      <td>2014-06-29 02:01:00</td>\n",
              "      <td>-105.000149</td>\n",
              "      <td>39.745753</td>\n",
              "      <td>cbd</td>\n",
              "      <td>0</td>\n",
              "      <td>1</td>\n",
              "    </tr>\n",
              "    <tr>\n",
              "      <th>1</th>\n",
              "      <td>vehicular-eluding-no-chase</td>\n",
              "      <td>all-other-crimes</td>\n",
              "      <td>2014-06-29 01:54:00</td>\n",
              "      <td>-104.884660</td>\n",
              "      <td>39.738702</td>\n",
              "      <td>east-colfax</td>\n",
              "      <td>1</td>\n",
              "      <td>0</td>\n",
              "    </tr>\n",
              "    <tr>\n",
              "      <th>2</th>\n",
              "      <td>disturbing-the-peace</td>\n",
              "      <td>public-disorder</td>\n",
              "      <td>2014-06-29 02:00:00</td>\n",
              "      <td>-105.020719</td>\n",
              "      <td>39.706674</td>\n",
              "      <td>athmar-park</td>\n",
              "      <td>1</td>\n",
              "      <td>0</td>\n",
              "    </tr>\n",
              "    <tr>\n",
              "      <th>3</th>\n",
              "      <td>curfew</td>\n",
              "      <td>public-disorder</td>\n",
              "      <td>2014-06-29 02:18:00</td>\n",
              "      <td>-105.001552</td>\n",
              "      <td>39.769505</td>\n",
              "      <td>sunnyside</td>\n",
              "      <td>1</td>\n",
              "      <td>0</td>\n",
              "    </tr>\n",
              "    <tr>\n",
              "      <th>4</th>\n",
              "      <td>aggravated-assault</td>\n",
              "      <td>aggravated-assault</td>\n",
              "      <td>2014-06-29 04:17:00</td>\n",
              "      <td>-105.018557</td>\n",
              "      <td>39.679229</td>\n",
              "      <td>college-view-south-platte</td>\n",
              "      <td>1</td>\n",
              "      <td>0</td>\n",
              "    </tr>\n",
              "  </tbody>\n",
              "</table>\n",
              "</div>"
            ],
            "text/plain": [
              "              OFFENSE_TYPE_ID OFFENSE_CATEGORY_ID       REPORTED_DATE  \\\n",
              "0   traffic-accident-dui-duid    traffic-accident 2014-06-29 02:01:00   \n",
              "1  vehicular-eluding-no-chase    all-other-crimes 2014-06-29 01:54:00   \n",
              "2        disturbing-the-peace     public-disorder 2014-06-29 02:00:00   \n",
              "3                      curfew     public-disorder 2014-06-29 02:18:00   \n",
              "4          aggravated-assault  aggravated-assault 2014-06-29 04:17:00   \n",
              "\n",
              "      GEO_LON    GEO_LAT            NEIGHBORHOOD_ID  IS_CRIME  IS_TRAFFIC  \n",
              "0 -105.000149  39.745753                        cbd         0           1  \n",
              "1 -104.884660  39.738702                east-colfax         1           0  \n",
              "2 -105.020719  39.706674                athmar-park         1           0  \n",
              "3 -105.001552  39.769505                  sunnyside         1           0  \n",
              "4 -105.018557  39.679229  college-view-south-platte         1           0  "
            ]
          },
          "execution_count": 60,
          "metadata": {},
          "output_type": "execute_result"
        }
      ],
      "source": [
        "crime = pd.read_hdf('crime.h5', 'crime')\n",
        "crime.head()"
      ]
    },
    {
      "cell_type": "code",
      "execution_count": null,
      "metadata": {
        "scrolled": true,
        "id": "WD56i8JQl3p9",
        "outputId": "4ac8da1e-f091-44a5-ef83-abe664bff503"
      },
      "outputs": [
        {
          "data": {
            "text/plain": [
              "Monday       70024\n",
              "Friday       69621\n",
              "Wednesday    69538\n",
              "             ...  \n",
              "Tuesday      68394\n",
              "Saturday     58834\n",
              "Sunday       55213\n",
              "Name: REPORTED_DATE, Length: 7, dtype: int64"
            ]
          },
          "execution_count": 63,
          "metadata": {},
          "output_type": "execute_result"
        }
      ],
      "source": [
        "wd_counts = crime['REPORTED_DATE'].dt.day_name().value_counts()\n",
        "wd_counts"
      ]
    },
    {
      "cell_type": "code",
      "execution_count": null,
      "metadata": {
        "scrolled": true,
        "id": "ZDeNPHj0l3p9",
        "outputId": "3e70da2c-74fb-40c0-ae43-963dc19ba453"
      },
      "outputs": [
        {
          "data": {
            "text/plain": [
              "<matplotlib.axes._subplots.AxesSubplot at 0x7fb8924e2c10>"
            ]
          },
          "execution_count": 83,
          "metadata": {},
          "output_type": "execute_result"
        },
        {
          "data": {
            "image/png": "[encoded data removed]",
            "text/plain": [
              "<Figure size 432x288 with 1 Axes>"
            ]
          },
          "metadata": {
            "needs_background": "light"
          },
          "output_type": "display_data"
        }
      ],
      "source": [
        "days = ['Monday', 'Tuesday', 'Wednesday', 'Thursday', \n",
        "        'Friday', 'Saturday', 'Sunday']\n",
        "title = 'Denver Crimes and Traffic Accidents per Weekday'\n",
        "wd_counts.reindex(days).plot(kind='barh', title=title)"
      ]
    },
    {
      "cell_type": "code",
      "execution_count": null,
      "metadata": {
        "scrolled": true,
        "id": "3PMfK_bxl3p-",
        "outputId": "37d101c5-8df6-430b-8254-41959b58e534"
      },
      "outputs": [
        {
          "data": {
            "text/plain": [
              "<matplotlib.axes._subplots.AxesSubplot at 0x7fb8223f6210>"
            ]
          },
          "execution_count": 84,
          "metadata": {},
          "output_type": "execute_result"
        },
        {
          "data": {
            "image/png": "[encoded data removed]",
            "text/plain": [
              "<Figure size 432x288 with 1 Axes>"
            ]
          },
          "metadata": {
            "needs_background": "light"
          },
          "output_type": "display_data"
        }
      ],
      "source": [
        "title = 'Denver Crimes and Traffic Accidents per Year' \n",
        "crime['REPORTED_DATE'].dt.year.value_counts() \\\n",
        "                              .sort_index() \\\n",
        "                              .plot(kind='barh', title=title)"
      ]
    },
    {
      "cell_type": "code",
      "execution_count": null,
      "metadata": {
        "scrolled": true,
        "id": "FBe8_6BYl3p-",
        "outputId": "d818b5a7-0bc2-4aa8-bfa1-7636ff88c7d8"
      },
      "outputs": [
        {
          "data": {
            "text/plain": [
              "REPORTED_DATE  REPORTED_DATE\n",
              "2012           Friday            8549\n",
              "               Monday            8786\n",
              "               Saturday          7442\n",
              "                                ...  \n",
              "2013           Friday           10380\n",
              "               Monday           10627\n",
              "               Saturday          8875\n",
              "Length: 10, dtype: int64"
            ]
          },
          "execution_count": 68,
          "metadata": {},
          "output_type": "execute_result"
        }
      ],
      "source": [
        "weekday = crime['REPORTED_DATE'].dt.day_name()\n",
        "year = crime['REPORTED_DATE'].dt.year\n",
        "\n",
        "crime_wd_y = crime.groupby([year, weekday]).size()\n",
        "crime_wd_y.head(10)"
      ]
    },
    {
      "cell_type": "code",
      "execution_count": null,
      "metadata": {
        "scrolled": true,
        "id": "5LfGYM6ql3p-",
        "outputId": "39154c50-562f-4abc-d8b4-4793988f9821"
      },
      "outputs": [
        {
          "data": {
            "text/html": [
              "<div>\n",
              "<style scoped>\n",
              "    .dataframe tbody tr th:only-of-type {\n",
              "        vertical-align: middle;\n",
              "    }\n",
              "\n",
              "    .dataframe tbody tr th {\n",
              "        vertical-align: top;\n",
              "    }\n",
              "\n",
              "    .dataframe thead th {\n",
              "        text-align: right;\n",
              "    }\n",
              "</style>\n",
              "<table border=\"1\" class=\"dataframe\">\n",
              "  <thead>\n",
              "    <tr style=\"text-align: right;\">\n",
              "      <th>Weekday</th>\n",
              "      <th>Friday</th>\n",
              "      <th>Monday</th>\n",
              "      <th>Saturday</th>\n",
              "      <th>Sunday</th>\n",
              "      <th>Thursday</th>\n",
              "      <th>Tuesday</th>\n",
              "      <th>Wednesday</th>\n",
              "    </tr>\n",
              "    <tr>\n",
              "      <th>Year</th>\n",
              "      <th></th>\n",
              "      <th></th>\n",
              "      <th></th>\n",
              "      <th></th>\n",
              "      <th></th>\n",
              "      <th></th>\n",
              "      <th></th>\n",
              "    </tr>\n",
              "  </thead>\n",
              "  <tbody>\n",
              "    <tr>\n",
              "      <th>2012</th>\n",
              "      <td>8549</td>\n",
              "      <td>8786</td>\n",
              "      <td>7442</td>\n",
              "      <td>7189</td>\n",
              "      <td>8440</td>\n",
              "      <td>8191</td>\n",
              "      <td>8440</td>\n",
              "    </tr>\n",
              "    <tr>\n",
              "      <th>2013</th>\n",
              "      <td>10380</td>\n",
              "      <td>10627</td>\n",
              "      <td>8875</td>\n",
              "      <td>8444</td>\n",
              "      <td>10431</td>\n",
              "      <td>10416</td>\n",
              "      <td>10354</td>\n",
              "    </tr>\n",
              "    <tr>\n",
              "      <th>2014</th>\n",
              "      <td>12683</td>\n",
              "      <td>12813</td>\n",
              "      <td>10950</td>\n",
              "      <td>10278</td>\n",
              "      <td>12309</td>\n",
              "      <td>12440</td>\n",
              "      <td>12948</td>\n",
              "    </tr>\n",
              "    <tr>\n",
              "      <th>2015</th>\n",
              "      <td>13273</td>\n",
              "      <td>13452</td>\n",
              "      <td>11586</td>\n",
              "      <td>10624</td>\n",
              "      <td>13512</td>\n",
              "      <td>13381</td>\n",
              "      <td>13320</td>\n",
              "    </tr>\n",
              "    <tr>\n",
              "      <th>2016</th>\n",
              "      <td>14059</td>\n",
              "      <td>13708</td>\n",
              "      <td>11467</td>\n",
              "      <td>10554</td>\n",
              "      <td>14050</td>\n",
              "      <td>13338</td>\n",
              "      <td>13900</td>\n",
              "    </tr>\n",
              "    <tr>\n",
              "      <th>2017</th>\n",
              "      <td>10677</td>\n",
              "      <td>10638</td>\n",
              "      <td>8514</td>\n",
              "      <td>8124</td>\n",
              "      <td>10545</td>\n",
              "      <td>10628</td>\n",
              "      <td>10576</td>\n",
              "    </tr>\n",
              "  </tbody>\n",
              "</table>\n",
              "</div>"
            ],
            "text/plain": [
              "Weekday  Friday  Monday  Saturday  Sunday  Thursday  Tuesday  Wednesday\n",
              "Year                                                                   \n",
              "2012       8549    8786      7442    7189      8440     8191       8440\n",
              "2013      10380   10627      8875    8444     10431    10416      10354\n",
              "2014      12683   12813     10950   10278     12309    12440      12948\n",
              "2015      13273   13452     11586   10624     13512    13381      13320\n",
              "2016      14059   13708     11467   10554     14050    13338      13900\n",
              "2017      10677   10638      8514    8124     10545    10628      10576"
            ]
          },
          "execution_count": 69,
          "metadata": {},
          "output_type": "execute_result"
        }
      ],
      "source": [
        "crime_table = crime_wd_y.rename_axis(['Year', 'Weekday']).unstack('Weekday')\n",
        "crime_table"
      ]
    },
    {
      "cell_type": "code",
      "execution_count": null,
      "metadata": {
        "scrolled": true,
        "id": "LdCXiCmEl3p-",
        "outputId": "9dc17de9-66a5-4143-aa49-59d8bcd8f223"
      },
      "outputs": [
        {
          "data": {
            "text/plain": [
              "272"
            ]
          },
          "execution_count": 70,
          "metadata": {},
          "output_type": "execute_result"
        }
      ],
      "source": [
        "criteria = crime['REPORTED_DATE'].dt.year == 2017\n",
        "crime.loc[criteria, 'REPORTED_DATE'].dt.dayofyear.max()"
      ]
    },
    {
      "cell_type": "code",
      "execution_count": null,
      "metadata": {
        "scrolled": true,
        "id": "fvENUBc8l3p-",
        "outputId": "ee4d2a89-3b88-4488-d3fc-19ce2486cce4"
      },
      "outputs": [
        {
          "data": {
            "text/plain": [
              "0.745"
            ]
          },
          "execution_count": 71,
          "metadata": {},
          "output_type": "execute_result"
        }
      ],
      "source": [
        "round(272 / 365, 3)"
      ]
    },
    {
      "cell_type": "code",
      "execution_count": null,
      "metadata": {
        "scrolled": true,
        "id": "jsVcvyaul3p-",
        "outputId": "f80f99c9-2d4f-4f6d-af9b-ed6a6e23ec81"
      },
      "outputs": [
        {
          "data": {
            "text/plain": [
              "REPORTED_DATE\n",
              "2012    0.748\n",
              "2013    0.725\n",
              "2014    0.751\n",
              "2015    0.748\n",
              "2016    0.752\n",
              "2017    1.000\n",
              "Name: REPORTED_DATE, dtype: float64"
            ]
          },
          "execution_count": 72,
          "metadata": {},
          "output_type": "execute_result"
        }
      ],
      "source": [
        "crime_pct = crime['REPORTED_DATE'].dt.dayofyear.le(272) \\\n",
        "                                  .groupby(year) \\\n",
        "                                  .mean() \\\n",
        "                                  .round(3)\n",
        "crime_pct"
      ]
    },
    {
      "cell_type": "code",
      "execution_count": null,
      "metadata": {
        "scrolled": true,
        "id": "AX1lcsE2l3p_",
        "outputId": "67595587-3a99-4578-d3aa-2e676e4125c2"
      },
      "outputs": [
        {
          "data": {
            "text/plain": [
              "0.748"
            ]
          },
          "execution_count": 73,
          "metadata": {},
          "output_type": "execute_result"
        }
      ],
      "source": [
        "crime_pct.loc[2012:2016].median()"
      ]
    },
    {
      "cell_type": "code",
      "execution_count": null,
      "metadata": {
        "scrolled": true,
        "id": "WNbFFmgol3p_",
        "outputId": "dd5634b1-8ea6-4502-88db-a57d7ab64dd8"
      },
      "outputs": [
        {
          "data": {
            "text/html": [
              "<div>\n",
              "<style scoped>\n",
              "    .dataframe tbody tr th:only-of-type {\n",
              "        vertical-align: middle;\n",
              "    }\n",
              "\n",
              "    .dataframe tbody tr th {\n",
              "        vertical-align: top;\n",
              "    }\n",
              "\n",
              "    .dataframe thead th {\n",
              "        text-align: right;\n",
              "    }\n",
              "</style>\n",
              "<table border=\"1\" class=\"dataframe\">\n",
              "  <thead>\n",
              "    <tr style=\"text-align: right;\">\n",
              "      <th>Weekday</th>\n",
              "      <th>Monday</th>\n",
              "      <th>Tuesday</th>\n",
              "      <th>Wednesday</th>\n",
              "      <th>Thursday</th>\n",
              "      <th>Friday</th>\n",
              "      <th>Saturday</th>\n",
              "      <th>Sunday</th>\n",
              "    </tr>\n",
              "    <tr>\n",
              "      <th>Year</th>\n",
              "      <th></th>\n",
              "      <th></th>\n",
              "      <th></th>\n",
              "      <th></th>\n",
              "      <th></th>\n",
              "      <th></th>\n",
              "      <th></th>\n",
              "    </tr>\n",
              "  </thead>\n",
              "  <tbody>\n",
              "    <tr>\n",
              "      <th>2012</th>\n",
              "      <td>8786</td>\n",
              "      <td>8191</td>\n",
              "      <td>8440</td>\n",
              "      <td>8440</td>\n",
              "      <td>8549</td>\n",
              "      <td>7442</td>\n",
              "      <td>7189</td>\n",
              "    </tr>\n",
              "    <tr>\n",
              "      <th>2013</th>\n",
              "      <td>10627</td>\n",
              "      <td>10416</td>\n",
              "      <td>10354</td>\n",
              "      <td>10431</td>\n",
              "      <td>10380</td>\n",
              "      <td>8875</td>\n",
              "      <td>8444</td>\n",
              "    </tr>\n",
              "    <tr>\n",
              "      <th>2014</th>\n",
              "      <td>12813</td>\n",
              "      <td>12440</td>\n",
              "      <td>12948</td>\n",
              "      <td>12309</td>\n",
              "      <td>12683</td>\n",
              "      <td>10950</td>\n",
              "      <td>10278</td>\n",
              "    </tr>\n",
              "    <tr>\n",
              "      <th>2015</th>\n",
              "      <td>13452</td>\n",
              "      <td>13381</td>\n",
              "      <td>13320</td>\n",
              "      <td>13512</td>\n",
              "      <td>13273</td>\n",
              "      <td>11586</td>\n",
              "      <td>10624</td>\n",
              "    </tr>\n",
              "    <tr>\n",
              "      <th>2016</th>\n",
              "      <td>13708</td>\n",
              "      <td>13338</td>\n",
              "      <td>13900</td>\n",
              "      <td>14050</td>\n",
              "      <td>14059</td>\n",
              "      <td>11467</td>\n",
              "      <td>10554</td>\n",
              "    </tr>\n",
              "    <tr>\n",
              "      <th>2017</th>\n",
              "      <td>14221</td>\n",
              "      <td>14208</td>\n",
              "      <td>14139</td>\n",
              "      <td>14097</td>\n",
              "      <td>14274</td>\n",
              "      <td>11382</td>\n",
              "      <td>10860</td>\n",
              "    </tr>\n",
              "  </tbody>\n",
              "</table>\n",
              "</div>"
            ],
            "text/plain": [
              "Weekday  Monday  Tuesday  Wednesday  Thursday  Friday  Saturday  Sunday\n",
              "Year                                                                   \n",
              "2012       8786     8191       8440      8440    8549      7442    7189\n",
              "2013      10627    10416      10354     10431   10380      8875    8444\n",
              "2014      12813    12440      12948     12309   12683     10950   10278\n",
              "2015      13452    13381      13320     13512   13273     11586   10624\n",
              "2016      13708    13338      13900     14050   14059     11467   10554\n",
              "2017      14221    14208      14139     14097   14274     11382   10860"
            ]
          },
          "execution_count": 74,
          "metadata": {},
          "output_type": "execute_result"
        }
      ],
      "source": [
        "crime_table.loc[2017] = crime_table.loc[2017].div(.748).astype('int')\n",
        "crime_table = crime_table.reindex(columns=days)\n",
        "crime_table"
      ]
    },
    {
      "cell_type": "code",
      "execution_count": null,
      "metadata": {
        "id": "WmGvi8l6l3p_",
        "outputId": "a4437051-5ee9-4930-8af7-a5539ba86602"
      },
      "outputs": [
        {
          "data": {
            "text/plain": [
              "<matplotlib.axes._subplots.AxesSubplot at 0x7fb822429890>"
            ]
          },
          "execution_count": 85,
          "metadata": {},
          "output_type": "execute_result"
        },
        {
          "data": {
            "image/png": "[encoded data removed]",
            "text/plain": [
              "<Figure size 432x288 with 2 Axes>"
            ]
          },
          "metadata": {
            "needs_background": "light"
          },
          "output_type": "display_data"
        }
      ],
      "source": [
        "import seaborn as sns\n",
        "sns.heatmap(crime_table, cmap='Greys')"
      ]
    },
    {
      "cell_type": "code",
      "execution_count": null,
      "metadata": {
        "scrolled": true,
        "id": "3pu0a3JFl3p_",
        "outputId": "7c16f0e0-3f56-4ea9-b5d6-899fd6b0e6d5"
      },
      "outputs": [
        {
          "data": {
            "text/html": [
              "<div>\n",
              "<style scoped>\n",
              "    .dataframe tbody tr th:only-of-type {\n",
              "        vertical-align: middle;\n",
              "    }\n",
              "\n",
              "    .dataframe tbody tr th {\n",
              "        vertical-align: top;\n",
              "    }\n",
              "\n",
              "    .dataframe thead th {\n",
              "        text-align: right;\n",
              "    }\n",
              "</style>\n",
              "<table border=\"1\" class=\"dataframe\">\n",
              "  <thead>\n",
              "    <tr style=\"text-align: right;\">\n",
              "      <th></th>\n",
              "      <th>Population</th>\n",
              "    </tr>\n",
              "    <tr>\n",
              "      <th>Year</th>\n",
              "      <th></th>\n",
              "    </tr>\n",
              "  </thead>\n",
              "  <tbody>\n",
              "    <tr>\n",
              "      <th>2017</th>\n",
              "      <td>705000</td>\n",
              "    </tr>\n",
              "    <tr>\n",
              "      <th>2016</th>\n",
              "      <td>693000</td>\n",
              "    </tr>\n",
              "    <tr>\n",
              "      <th>2015</th>\n",
              "      <td>680000</td>\n",
              "    </tr>\n",
              "    <tr>\n",
              "      <th>2014</th>\n",
              "      <td>662000</td>\n",
              "    </tr>\n",
              "    <tr>\n",
              "      <th>2013</th>\n",
              "      <td>647000</td>\n",
              "    </tr>\n",
              "    <tr>\n",
              "      <th>2012</th>\n",
              "      <td>634000</td>\n",
              "    </tr>\n",
              "  </tbody>\n",
              "</table>\n",
              "</div>"
            ],
            "text/plain": [
              "      Population\n",
              "Year            \n",
              "2017      705000\n",
              "2016      693000\n",
              "2015      680000\n",
              "2014      662000\n",
              "2013      647000\n",
              "2012      634000"
            ]
          },
          "execution_count": 86,
          "metadata": {},
          "output_type": "execute_result"
        }
      ],
      "source": [
        "denver_pop = pd.read_csv('https://github.com/sayyed-uoft/fullstackai/raw/main/denver_pop.csv', index_col='Year')\n",
        "denver_pop"
      ]
    },
    {
      "cell_type": "code",
      "execution_count": null,
      "metadata": {
        "id": "43LrXpxRl3p_",
        "outputId": "c4a3b050-d518-4643-b20b-5647ad5dc022"
      },
      "outputs": [
        {
          "data": {
            "text/plain": [
              "Year\n",
              "2017    7.05\n",
              "2016    6.93\n",
              "2015    6.80\n",
              "2014    6.62\n",
              "2013    6.47\n",
              "2012    6.34\n",
              "Name: Population, dtype: float64"
            ]
          },
          "execution_count": 90,
          "metadata": {},
          "output_type": "execute_result"
        }
      ],
      "source": [
        "den_100k = denver_pop.div(100000).squeeze()\n",
        "den_100k"
      ]
    },
    {
      "cell_type": "code",
      "execution_count": null,
      "metadata": {
        "scrolled": true,
        "id": "beMXfPtxl3p_",
        "outputId": "7cfe74e1-e990-4003-d868-a7bbd4553e66"
      },
      "outputs": [
        {
          "data": {
            "text/html": [
              "<div>\n",
              "<style scoped>\n",
              "    .dataframe tbody tr th:only-of-type {\n",
              "        vertical-align: middle;\n",
              "    }\n",
              "\n",
              "    .dataframe tbody tr th {\n",
              "        vertical-align: top;\n",
              "    }\n",
              "\n",
              "    .dataframe thead th {\n",
              "        text-align: right;\n",
              "    }\n",
              "</style>\n",
              "<table border=\"1\" class=\"dataframe\">\n",
              "  <thead>\n",
              "    <tr style=\"text-align: right;\">\n",
              "      <th>Weekday</th>\n",
              "      <th>Monday</th>\n",
              "      <th>Tuesday</th>\n",
              "      <th>Wednesday</th>\n",
              "      <th>Thursday</th>\n",
              "      <th>Friday</th>\n",
              "      <th>Saturday</th>\n",
              "      <th>Sunday</th>\n",
              "    </tr>\n",
              "    <tr>\n",
              "      <th>Year</th>\n",
              "      <th></th>\n",
              "      <th></th>\n",
              "      <th></th>\n",
              "      <th></th>\n",
              "      <th></th>\n",
              "      <th></th>\n",
              "      <th></th>\n",
              "    </tr>\n",
              "  </thead>\n",
              "  <tbody>\n",
              "    <tr>\n",
              "      <th>2012</th>\n",
              "      <td>1385</td>\n",
              "      <td>1291</td>\n",
              "      <td>1331</td>\n",
              "      <td>1331</td>\n",
              "      <td>1348</td>\n",
              "      <td>1173</td>\n",
              "      <td>1133</td>\n",
              "    </tr>\n",
              "    <tr>\n",
              "      <th>2013</th>\n",
              "      <td>1642</td>\n",
              "      <td>1609</td>\n",
              "      <td>1600</td>\n",
              "      <td>1612</td>\n",
              "      <td>1604</td>\n",
              "      <td>1371</td>\n",
              "      <td>1305</td>\n",
              "    </tr>\n",
              "    <tr>\n",
              "      <th>2014</th>\n",
              "      <td>1935</td>\n",
              "      <td>1879</td>\n",
              "      <td>1955</td>\n",
              "      <td>1859</td>\n",
              "      <td>1915</td>\n",
              "      <td>1654</td>\n",
              "      <td>1552</td>\n",
              "    </tr>\n",
              "    <tr>\n",
              "      <th>2015</th>\n",
              "      <td>1978</td>\n",
              "      <td>1967</td>\n",
              "      <td>1958</td>\n",
              "      <td>1987</td>\n",
              "      <td>1951</td>\n",
              "      <td>1703</td>\n",
              "      <td>1562</td>\n",
              "    </tr>\n",
              "    <tr>\n",
              "      <th>2016</th>\n",
              "      <td>1978</td>\n",
              "      <td>1924</td>\n",
              "      <td>2005</td>\n",
              "      <td>2027</td>\n",
              "      <td>2028</td>\n",
              "      <td>1654</td>\n",
              "      <td>1522</td>\n",
              "    </tr>\n",
              "    <tr>\n",
              "      <th>2017</th>\n",
              "      <td>2017</td>\n",
              "      <td>2015</td>\n",
              "      <td>2005</td>\n",
              "      <td>1999</td>\n",
              "      <td>2024</td>\n",
              "      <td>1614</td>\n",
              "      <td>1540</td>\n",
              "    </tr>\n",
              "  </tbody>\n",
              "</table>\n",
              "</div>"
            ],
            "text/plain": [
              "Weekday  Monday  Tuesday  Wednesday  Thursday  Friday  Saturday  Sunday\n",
              "Year                                                                   \n",
              "2012       1385     1291       1331      1331    1348      1173    1133\n",
              "2013       1642     1609       1600      1612    1604      1371    1305\n",
              "2014       1935     1879       1955      1859    1915      1654    1552\n",
              "2015       1978     1967       1958      1987    1951      1703    1562\n",
              "2016       1978     1924       2005      2027    2028      1654    1522\n",
              "2017       2017     2015       2005      1999    2024      1614    1540"
            ]
          },
          "execution_count": 92,
          "metadata": {},
          "output_type": "execute_result"
        }
      ],
      "source": [
        "crime_table2 = crime_table.div(den_100k, axis='index').astype('int')\n",
        "crime_table2"
      ]
    },
    {
      "cell_type": "code",
      "execution_count": null,
      "metadata": {
        "scrolled": false,
        "id": "mR3IaUQdl3qA",
        "outputId": "80f00202-2b65-4226-f82f-db1267c4e114"
      },
      "outputs": [
        {
          "data": {
            "text/plain": [
              "<matplotlib.axes._subplots.AxesSubplot at 0x7fb892548310>"
            ]
          },
          "execution_count": 93,
          "metadata": {},
          "output_type": "execute_result"
        },
        {
          "data": {
            "image/png": "[encoded data removed]",
            "text/plain": [
              "<Figure size 432x288 with 2 Axes>"
            ]
          },
          "metadata": {
            "needs_background": "light"
          },
          "output_type": "display_data"
        }
      ],
      "source": [
        "sns.heatmap(crime_table2, cmap='Greys')"
      ]
    },
    {
      "cell_type": "code",
      "execution_count": null,
      "metadata": {
        "scrolled": true,
        "id": "RBPW4wq2l3qA"
      },
      "outputs": [],
      "source": [
        "ADJ_2017 = .748\n",
        "\n",
        "def count_crime(df, offense_cat): \n",
        "    df = df[df['OFFENSE_CATEGORY_ID'] == offense_cat]\n",
        "    weekday = df['REPORTED_DATE'].dt.day_name()\n",
        "    year = df['REPORTED_DATE'].dt.year\n",
        "    \n",
        "    ct = df.groupby([year, weekday]).size().unstack()\n",
        "    ct.loc[2017] = ct.loc[2017].div(ADJ_2017).astype('int')\n",
        "    \n",
        "    pop = pd.read_csv('https://github.com/sayyed-uoft/fullstackai/raw/main/denver_pop.csv', index_col='Year')\n",
        "    pop = pop.squeeze().div(100000)\n",
        "    \n",
        "    ct = ct.div(pop, axis=0).astype('int')\n",
        "    ct = ct.reindex(columns=days)\n",
        "    sns.heatmap(ct, cmap='Greys')\n",
        "    return ct"
      ]
    },
    {
      "cell_type": "code",
      "execution_count": null,
      "metadata": {
        "id": "0RB76quUl3qA",
        "outputId": "1755c18c-d277-4350-ca73-a1e8534e76de"
      },
      "outputs": [
        {
          "data": {
            "text/html": [
              "<div>\n",
              "<style scoped>\n",
              "    .dataframe tbody tr th:only-of-type {\n",
              "        vertical-align: middle;\n",
              "    }\n",
              "\n",
              "    .dataframe tbody tr th {\n",
              "        vertical-align: top;\n",
              "    }\n",
              "\n",
              "    .dataframe thead th {\n",
              "        text-align: right;\n",
              "    }\n",
              "</style>\n",
              "<table border=\"1\" class=\"dataframe\">\n",
              "  <thead>\n",
              "    <tr style=\"text-align: right;\">\n",
              "      <th>REPORTED_DATE</th>\n",
              "      <th>Monday</th>\n",
              "      <th>Tuesday</th>\n",
              "      <th>Wednesday</th>\n",
              "      <th>Thursday</th>\n",
              "      <th>Friday</th>\n",
              "      <th>Saturday</th>\n",
              "      <th>Sunday</th>\n",
              "    </tr>\n",
              "  </thead>\n",
              "  <tbody>\n",
              "    <tr>\n",
              "      <th>2012</th>\n",
              "      <td>95</td>\n",
              "      <td>72</td>\n",
              "      <td>72</td>\n",
              "      <td>76</td>\n",
              "      <td>71</td>\n",
              "      <td>78</td>\n",
              "      <td>76</td>\n",
              "    </tr>\n",
              "    <tr>\n",
              "      <th>2013</th>\n",
              "      <td>85</td>\n",
              "      <td>74</td>\n",
              "      <td>74</td>\n",
              "      <td>69</td>\n",
              "      <td>65</td>\n",
              "      <td>68</td>\n",
              "      <td>67</td>\n",
              "    </tr>\n",
              "    <tr>\n",
              "      <th>2014</th>\n",
              "      <td>94</td>\n",
              "      <td>76</td>\n",
              "      <td>72</td>\n",
              "      <td>70</td>\n",
              "      <td>76</td>\n",
              "      <td>67</td>\n",
              "      <td>67</td>\n",
              "    </tr>\n",
              "    <tr>\n",
              "      <th>2015</th>\n",
              "      <td>108</td>\n",
              "      <td>102</td>\n",
              "      <td>89</td>\n",
              "      <td>101</td>\n",
              "      <td>92</td>\n",
              "      <td>85</td>\n",
              "      <td>78</td>\n",
              "    </tr>\n",
              "    <tr>\n",
              "      <th>2016</th>\n",
              "      <td>119</td>\n",
              "      <td>102</td>\n",
              "      <td>100</td>\n",
              "      <td>99</td>\n",
              "      <td>97</td>\n",
              "      <td>86</td>\n",
              "      <td>85</td>\n",
              "    </tr>\n",
              "    <tr>\n",
              "      <th>2017</th>\n",
              "      <td>114</td>\n",
              "      <td>118</td>\n",
              "      <td>111</td>\n",
              "      <td>106</td>\n",
              "      <td>111</td>\n",
              "      <td>91</td>\n",
              "      <td>102</td>\n",
              "    </tr>\n",
              "  </tbody>\n",
              "</table>\n",
              "</div>"
            ],
            "text/plain": [
              "REPORTED_DATE  Monday  Tuesday  Wednesday  Thursday  Friday  Saturday  Sunday\n",
              "2012               95       72         72        76      71        78      76\n",
              "2013               85       74         74        69      65        68      67\n",
              "2014               94       76         72        70      76        67      67\n",
              "2015              108      102         89       101      92        85      78\n",
              "2016              119      102        100        99      97        86      85\n",
              "2017              114      118        111       106     111        91     102"
            ]
          },
          "execution_count": 99,
          "metadata": {},
          "output_type": "execute_result"
        },
        {
          "data": {
            "image/png": "[encoded data removed]",
            "text/plain": [
              "<Figure size 432x288 with 2 Axes>"
            ]
          },
          "metadata": {
            "needs_background": "light"
          },
          "output_type": "display_data"
        }
      ],
      "source": [
        "count_crime(crime, 'auto-theft')"
      ]
    },
    {
      "cell_type": "markdown",
      "metadata": {
        "collapsed": true,
        "id": "iCL5hho_l3qA"
      },
      "source": [
        "# Grouping with anonymous functions with a DatetimeIndex"
      ]
    },
    {
      "cell_type": "code",
      "execution_count": null,
      "metadata": {
        "id": "pRxiGTlgl3qA"
      },
      "outputs": [],
      "source": [
        "crime_sort = pd.read_hdf('crime.h5', 'crime') \\\n",
        "               .set_index('REPORTED_DATE') \\\n",
        "               .sort_index()"
      ]
    },
    {
      "cell_type": "code",
      "execution_count": null,
      "metadata": {
        "id": "NmRxHua-l3qA",
        "outputId": "b51b4ee9-0843-4ac0-d9f0-4b1224163902"
      },
      "outputs": [
        {
          "name": "stdout",
          "output_type": "stream",
          "text": [
            "['normalize', 'week', 'strftime', 'min', 'day', 'floor', 'date', 'to_period', 'timetz', 'month_name', 'tzinfo', 'hour', 'day_name', 'round', 'daysinmonth', 'is_year_start', 'is_leap_year', 'tz_convert', 'is_year_end', 'to_numpy', 'freq', 'weekday', 'dayofweek', 'weekofyear', 'microsecond', 'dayofyear', 'to_pydatetime', 'is_quarter_start', 'to_julian_date', 'month', 'second', 'tz_localize', 'is_month_end', 'days_in_month', 'is_quarter_end', 'time', 'nanosecond', 'tz', 'max', 'freqstr', 'quarter', 'resolution', 'ceil', 'is_month_start', 'year', 'minute']\n"
          ]
        }
      ],
      "source": [
        "common_attrs = set(dir(crime_sort.index)) & set(dir(pd.Timestamp))\n",
        "print([attr for attr in common_attrs if attr[0] != '_'])"
      ]
    },
    {
      "cell_type": "code",
      "execution_count": null,
      "metadata": {
        "id": "Hv5AZ3Ocl3qA",
        "outputId": "251fd18c-e1eb-49f5-8635-5ca946eeabf4"
      },
      "outputs": [
        {
          "data": {
            "text/plain": [
              "Monday       70024\n",
              "Friday       69621\n",
              "Wednesday    69538\n",
              "             ...  \n",
              "Tuesday      68394\n",
              "Saturday     58834\n",
              "Sunday       55213\n",
              "Name: REPORTED_DATE, Length: 7, dtype: int64"
            ]
          },
          "execution_count": 103,
          "metadata": {},
          "output_type": "execute_result"
        }
      ],
      "source": [
        "crime_sort.index.day_name().value_counts()"
      ]
    },
    {
      "cell_type": "code",
      "execution_count": null,
      "metadata": {
        "id": "SRwB8e4_l3qB",
        "outputId": "916cb79d-6bd2-4799-a4b0-2b1bee20fa93"
      },
      "outputs": [
        {
          "data": {
            "text/html": [
              "<div>\n",
              "<style scoped>\n",
              "    .dataframe tbody tr th:only-of-type {\n",
              "        vertical-align: middle;\n",
              "    }\n",
              "\n",
              "    .dataframe tbody tr th {\n",
              "        vertical-align: top;\n",
              "    }\n",
              "\n",
              "    .dataframe thead th {\n",
              "        text-align: right;\n",
              "    }\n",
              "</style>\n",
              "<table border=\"1\" class=\"dataframe\">\n",
              "  <thead>\n",
              "    <tr style=\"text-align: right;\">\n",
              "      <th></th>\n",
              "      <th>IS_CRIME</th>\n",
              "      <th>IS_TRAFFIC</th>\n",
              "    </tr>\n",
              "  </thead>\n",
              "  <tbody>\n",
              "    <tr>\n",
              "      <th>Friday</th>\n",
              "      <td>48833</td>\n",
              "      <td>20814</td>\n",
              "    </tr>\n",
              "    <tr>\n",
              "      <th>Monday</th>\n",
              "      <td>52158</td>\n",
              "      <td>17895</td>\n",
              "    </tr>\n",
              "    <tr>\n",
              "      <th>Saturday</th>\n",
              "      <td>43363</td>\n",
              "      <td>15516</td>\n",
              "    </tr>\n",
              "    <tr>\n",
              "      <th>...</th>\n",
              "      <td>...</td>\n",
              "      <td>...</td>\n",
              "    </tr>\n",
              "    <tr>\n",
              "      <th>Thursday</th>\n",
              "      <td>49470</td>\n",
              "      <td>19845</td>\n",
              "    </tr>\n",
              "    <tr>\n",
              "      <th>Tuesday</th>\n",
              "      <td>49658</td>\n",
              "      <td>18755</td>\n",
              "    </tr>\n",
              "    <tr>\n",
              "      <th>Wednesday</th>\n",
              "      <td>50054</td>\n",
              "      <td>19508</td>\n",
              "    </tr>\n",
              "  </tbody>\n",
              "</table>\n",
              "<p>7 rows × 2 columns</p>\n",
              "</div>"
            ],
            "text/plain": [
              "           IS_CRIME  IS_TRAFFIC\n",
              "Friday        48833       20814\n",
              "Monday        52158       17895\n",
              "Saturday      43363       15516\n",
              "...             ...         ...\n",
              "Thursday      49470       19845\n",
              "Tuesday       49658       18755\n",
              "Wednesday     50054       19508\n",
              "\n",
              "[7 rows x 2 columns]"
            ]
          },
          "execution_count": 105,
          "metadata": {},
          "output_type": "execute_result"
        }
      ],
      "source": [
        "crime_sort.groupby(lambda x: x.day_name())[['IS_CRIME', 'IS_TRAFFIC']].sum()"
      ]
    },
    {
      "cell_type": "code",
      "execution_count": null,
      "metadata": {
        "id": "1jqio9J7l3qB",
        "outputId": "62dc7937-a6e1-4c37-ba57-0b37ae0d90ba"
      },
      "outputs": [
        {
          "data": {
            "text/html": [
              "<style  type=\"text/css\" >\n",
              "    #T_c0d082ce_66ec_11eb_9bf6_3af9d3be6615row6_col0 {\n",
              "            background-color:  lightgrey;\n",
              "        }    #T_c0d082ce_66ec_11eb_9bf6_3af9d3be6615row8_col1 {\n",
              "            background-color:  lightgrey;\n",
              "        }    #T_c0d082ce_66ec_11eb_9bf6_3af9d3be6615row8_col2 {\n",
              "            background-color:  lightgrey;\n",
              "        }    #T_c0d082ce_66ec_11eb_9bf6_3af9d3be6615row8_col3 {\n",
              "            background-color:  lightgrey;\n",
              "        }    #T_c0d082ce_66ec_11eb_9bf6_3af9d3be6615row8_col4 {\n",
              "            background-color:  lightgrey;\n",
              "        }    #T_c0d082ce_66ec_11eb_9bf6_3af9d3be6615row8_col5 {\n",
              "            background-color:  lightgrey;\n",
              "        }    #T_c0d082ce_66ec_11eb_9bf6_3af9d3be6615row8_col11 {\n",
              "            background-color:  lightgrey;\n",
              "        }    #T_c0d082ce_66ec_11eb_9bf6_3af9d3be6615row9_col6 {\n",
              "            background-color:  lightgrey;\n",
              "        }    #T_c0d082ce_66ec_11eb_9bf6_3af9d3be6615row9_col7 {\n",
              "            background-color:  lightgrey;\n",
              "        }    #T_c0d082ce_66ec_11eb_9bf6_3af9d3be6615row9_col8 {\n",
              "            background-color:  lightgrey;\n",
              "        }    #T_c0d082ce_66ec_11eb_9bf6_3af9d3be6615row9_col9 {\n",
              "            background-color:  lightgrey;\n",
              "        }    #T_c0d082ce_66ec_11eb_9bf6_3af9d3be6615row9_col10 {\n",
              "            background-color:  lightgrey;\n",
              "        }</style><table id=\"T_c0d082ce_66ec_11eb_9bf6_3af9d3be6615\" ><thead>    <tr>        <th class=\"blank level0\" ></th>        <th class=\"col_heading level0 col0\" colspan=6>IS_CRIME</th>        <th class=\"col_heading level0 col6\" colspan=6>IS_TRAFFIC</th>    </tr>    <tr>        <th class=\"blank level1\" ></th>        <th class=\"col_heading level1 col0\" >2012</th>        <th class=\"col_heading level1 col1\" >2013</th>        <th class=\"col_heading level1 col2\" >2014</th>        <th class=\"col_heading level1 col3\" >2015</th>        <th class=\"col_heading level1 col4\" >2016</th>        <th class=\"col_heading level1 col5\" >2017</th>        <th class=\"col_heading level1 col6\" >2012</th>        <th class=\"col_heading level1 col7\" >2013</th>        <th class=\"col_heading level1 col8\" >2014</th>        <th class=\"col_heading level1 col9\" >2015</th>        <th class=\"col_heading level1 col10\" >2016</th>        <th class=\"col_heading level1 col11\" >2017</th>    </tr></thead><tbody>\n",
              "                <tr>\n",
              "                        <th id=\"T_c0d082ce_66ec_11eb_9bf6_3af9d3be6615level0_row0\" class=\"row_heading level0 row0\" >0</th>\n",
              "                        <td id=\"T_c0d082ce_66ec_11eb_9bf6_3af9d3be6615row0_col0\" class=\"data row0 col0\" >2422</td>\n",
              "                        <td id=\"T_c0d082ce_66ec_11eb_9bf6_3af9d3be6615row0_col1\" class=\"data row0 col1\" >4040</td>\n",
              "                        <td id=\"T_c0d082ce_66ec_11eb_9bf6_3af9d3be6615row0_col2\" class=\"data row0 col2\" >5649</td>\n",
              "                        <td id=\"T_c0d082ce_66ec_11eb_9bf6_3af9d3be6615row0_col3\" class=\"data row0 col3\" >5649</td>\n",
              "                        <td id=\"T_c0d082ce_66ec_11eb_9bf6_3af9d3be6615row0_col4\" class=\"data row0 col4\" >5377</td>\n",
              "                        <td id=\"T_c0d082ce_66ec_11eb_9bf6_3af9d3be6615row0_col5\" class=\"data row0 col5\" >3811</td>\n",
              "                        <td id=\"T_c0d082ce_66ec_11eb_9bf6_3af9d3be6615row0_col6\" class=\"data row0 col6\" >919</td>\n",
              "                        <td id=\"T_c0d082ce_66ec_11eb_9bf6_3af9d3be6615row0_col7\" class=\"data row0 col7\" >792</td>\n",
              "                        <td id=\"T_c0d082ce_66ec_11eb_9bf6_3af9d3be6615row0_col8\" class=\"data row0 col8\" >978</td>\n",
              "                        <td id=\"T_c0d082ce_66ec_11eb_9bf6_3af9d3be6615row0_col9\" class=\"data row0 col9\" >1136</td>\n",
              "                        <td id=\"T_c0d082ce_66ec_11eb_9bf6_3af9d3be6615row0_col10\" class=\"data row0 col10\" >980</td>\n",
              "                        <td id=\"T_c0d082ce_66ec_11eb_9bf6_3af9d3be6615row0_col11\" class=\"data row0 col11\" >782</td>\n",
              "            </tr>\n",
              "            <tr>\n",
              "                        <th id=\"T_c0d082ce_66ec_11eb_9bf6_3af9d3be6615level0_row1\" class=\"row_heading level0 row1\" >2</th>\n",
              "                        <td id=\"T_c0d082ce_66ec_11eb_9bf6_3af9d3be6615row1_col0\" class=\"data row1 col0\" >1888</td>\n",
              "                        <td id=\"T_c0d082ce_66ec_11eb_9bf6_3af9d3be6615row1_col1\" class=\"data row1 col1\" >3214</td>\n",
              "                        <td id=\"T_c0d082ce_66ec_11eb_9bf6_3af9d3be6615row1_col2\" class=\"data row1 col2\" >4245</td>\n",
              "                        <td id=\"T_c0d082ce_66ec_11eb_9bf6_3af9d3be6615row1_col3\" class=\"data row1 col3\" >4050</td>\n",
              "                        <td id=\"T_c0d082ce_66ec_11eb_9bf6_3af9d3be6615row1_col4\" class=\"data row1 col4\" >4091</td>\n",
              "                        <td id=\"T_c0d082ce_66ec_11eb_9bf6_3af9d3be6615row1_col5\" class=\"data row1 col5\" >3041</td>\n",
              "                        <td id=\"T_c0d082ce_66ec_11eb_9bf6_3af9d3be6615row1_col6\" class=\"data row1 col6\" >718</td>\n",
              "                        <td id=\"T_c0d082ce_66ec_11eb_9bf6_3af9d3be6615row1_col7\" class=\"data row1 col7\" >652</td>\n",
              "                        <td id=\"T_c0d082ce_66ec_11eb_9bf6_3af9d3be6615row1_col8\" class=\"data row1 col8\" >779</td>\n",
              "                        <td id=\"T_c0d082ce_66ec_11eb_9bf6_3af9d3be6615row1_col9\" class=\"data row1 col9\" >773</td>\n",
              "                        <td id=\"T_c0d082ce_66ec_11eb_9bf6_3af9d3be6615row1_col10\" class=\"data row1 col10\" >718</td>\n",
              "                        <td id=\"T_c0d082ce_66ec_11eb_9bf6_3af9d3be6615row1_col11\" class=\"data row1 col11\" >537</td>\n",
              "            </tr>\n",
              "            <tr>\n",
              "                        <th id=\"T_c0d082ce_66ec_11eb_9bf6_3af9d3be6615level0_row2\" class=\"row_heading level0 row2\" >4</th>\n",
              "                        <td id=\"T_c0d082ce_66ec_11eb_9bf6_3af9d3be6615row2_col0\" class=\"data row2 col0\" >1472</td>\n",
              "                        <td id=\"T_c0d082ce_66ec_11eb_9bf6_3af9d3be6615row2_col1\" class=\"data row2 col1\" >2181</td>\n",
              "                        <td id=\"T_c0d082ce_66ec_11eb_9bf6_3af9d3be6615row2_col2\" class=\"data row2 col2\" >2956</td>\n",
              "                        <td id=\"T_c0d082ce_66ec_11eb_9bf6_3af9d3be6615row2_col3\" class=\"data row2 col3\" >2959</td>\n",
              "                        <td id=\"T_c0d082ce_66ec_11eb_9bf6_3af9d3be6615row2_col4\" class=\"data row2 col4\" >3044</td>\n",
              "                        <td id=\"T_c0d082ce_66ec_11eb_9bf6_3af9d3be6615row2_col5\" class=\"data row2 col5\" >2255</td>\n",
              "                        <td id=\"T_c0d082ce_66ec_11eb_9bf6_3af9d3be6615row2_col6\" class=\"data row2 col6\" >399</td>\n",
              "                        <td id=\"T_c0d082ce_66ec_11eb_9bf6_3af9d3be6615row2_col7\" class=\"data row2 col7\" >378</td>\n",
              "                        <td id=\"T_c0d082ce_66ec_11eb_9bf6_3af9d3be6615row2_col8\" class=\"data row2 col8\" >424</td>\n",
              "                        <td id=\"T_c0d082ce_66ec_11eb_9bf6_3af9d3be6615row2_col9\" class=\"data row2 col9\" >471</td>\n",
              "                        <td id=\"T_c0d082ce_66ec_11eb_9bf6_3af9d3be6615row2_col10\" class=\"data row2 col10\" >464</td>\n",
              "                        <td id=\"T_c0d082ce_66ec_11eb_9bf6_3af9d3be6615row2_col11\" class=\"data row2 col11\" >313</td>\n",
              "            </tr>\n",
              "            <tr>\n",
              "                        <th id=\"T_c0d082ce_66ec_11eb_9bf6_3af9d3be6615level0_row3\" class=\"row_heading level0 row3\" >6</th>\n",
              "                        <td id=\"T_c0d082ce_66ec_11eb_9bf6_3af9d3be6615row3_col0\" class=\"data row3 col0\" >1067</td>\n",
              "                        <td id=\"T_c0d082ce_66ec_11eb_9bf6_3af9d3be6615row3_col1\" class=\"data row3 col1\" >1365</td>\n",
              "                        <td id=\"T_c0d082ce_66ec_11eb_9bf6_3af9d3be6615row3_col2\" class=\"data row3 col2\" >1750</td>\n",
              "                        <td id=\"T_c0d082ce_66ec_11eb_9bf6_3af9d3be6615row3_col3\" class=\"data row3 col3\" >2167</td>\n",
              "                        <td id=\"T_c0d082ce_66ec_11eb_9bf6_3af9d3be6615row3_col4\" class=\"data row3 col4\" >2108</td>\n",
              "                        <td id=\"T_c0d082ce_66ec_11eb_9bf6_3af9d3be6615row3_col5\" class=\"data row3 col5\" >1567</td>\n",
              "                        <td id=\"T_c0d082ce_66ec_11eb_9bf6_3af9d3be6615row3_col6\" class=\"data row3 col6\" >411</td>\n",
              "                        <td id=\"T_c0d082ce_66ec_11eb_9bf6_3af9d3be6615row3_col7\" class=\"data row3 col7\" >399</td>\n",
              "                        <td id=\"T_c0d082ce_66ec_11eb_9bf6_3af9d3be6615row3_col8\" class=\"data row3 col8\" >479</td>\n",
              "                        <td id=\"T_c0d082ce_66ec_11eb_9bf6_3af9d3be6615row3_col9\" class=\"data row3 col9\" >494</td>\n",
              "                        <td id=\"T_c0d082ce_66ec_11eb_9bf6_3af9d3be6615row3_col10\" class=\"data row3 col10\" >593</td>\n",
              "                        <td id=\"T_c0d082ce_66ec_11eb_9bf6_3af9d3be6615row3_col11\" class=\"data row3 col11\" >462</td>\n",
              "            </tr>\n",
              "            <tr>\n",
              "                        <th id=\"T_c0d082ce_66ec_11eb_9bf6_3af9d3be6615level0_row4\" class=\"row_heading level0 row4\" >8</th>\n",
              "                        <td id=\"T_c0d082ce_66ec_11eb_9bf6_3af9d3be6615row4_col0\" class=\"data row4 col0\" >2998</td>\n",
              "                        <td id=\"T_c0d082ce_66ec_11eb_9bf6_3af9d3be6615row4_col1\" class=\"data row4 col1\" >3445</td>\n",
              "                        <td id=\"T_c0d082ce_66ec_11eb_9bf6_3af9d3be6615row4_col2\" class=\"data row4 col2\" >3727</td>\n",
              "                        <td id=\"T_c0d082ce_66ec_11eb_9bf6_3af9d3be6615row4_col3\" class=\"data row4 col3\" >4161</td>\n",
              "                        <td id=\"T_c0d082ce_66ec_11eb_9bf6_3af9d3be6615row4_col4\" class=\"data row4 col4\" >4488</td>\n",
              "                        <td id=\"T_c0d082ce_66ec_11eb_9bf6_3af9d3be6615row4_col5\" class=\"data row4 col5\" >3251</td>\n",
              "                        <td id=\"T_c0d082ce_66ec_11eb_9bf6_3af9d3be6615row4_col6\" class=\"data row4 col6\" >1957</td>\n",
              "                        <td id=\"T_c0d082ce_66ec_11eb_9bf6_3af9d3be6615row4_col7\" class=\"data row4 col7\" >1955</td>\n",
              "                        <td id=\"T_c0d082ce_66ec_11eb_9bf6_3af9d3be6615row4_col8\" class=\"data row4 col8\" >2210</td>\n",
              "                        <td id=\"T_c0d082ce_66ec_11eb_9bf6_3af9d3be6615row4_col9\" class=\"data row4 col9\" >2331</td>\n",
              "                        <td id=\"T_c0d082ce_66ec_11eb_9bf6_3af9d3be6615row4_col10\" class=\"data row4 col10\" >2372</td>\n",
              "                        <td id=\"T_c0d082ce_66ec_11eb_9bf6_3af9d3be6615row4_col11\" class=\"data row4 col11\" >1828</td>\n",
              "            </tr>\n",
              "            <tr>\n",
              "                        <th id=\"T_c0d082ce_66ec_11eb_9bf6_3af9d3be6615level0_row5\" class=\"row_heading level0 row5\" >10</th>\n",
              "                        <td id=\"T_c0d082ce_66ec_11eb_9bf6_3af9d3be6615row5_col0\" class=\"data row5 col0\" >4305</td>\n",
              "                        <td id=\"T_c0d082ce_66ec_11eb_9bf6_3af9d3be6615row5_col1\" class=\"data row5 col1\" >5035</td>\n",
              "                        <td id=\"T_c0d082ce_66ec_11eb_9bf6_3af9d3be6615row5_col2\" class=\"data row5 col2\" >5658</td>\n",
              "                        <td id=\"T_c0d082ce_66ec_11eb_9bf6_3af9d3be6615row5_col3\" class=\"data row5 col3\" >6205</td>\n",
              "                        <td id=\"T_c0d082ce_66ec_11eb_9bf6_3af9d3be6615row5_col4\" class=\"data row5 col4\" >6218</td>\n",
              "                        <td id=\"T_c0d082ce_66ec_11eb_9bf6_3af9d3be6615row5_col5\" class=\"data row5 col5\" >4993</td>\n",
              "                        <td id=\"T_c0d082ce_66ec_11eb_9bf6_3af9d3be6615row5_col6\" class=\"data row5 col6\" >1979</td>\n",
              "                        <td id=\"T_c0d082ce_66ec_11eb_9bf6_3af9d3be6615row5_col7\" class=\"data row5 col7\" >1901</td>\n",
              "                        <td id=\"T_c0d082ce_66ec_11eb_9bf6_3af9d3be6615row5_col8\" class=\"data row5 col8\" >2139</td>\n",
              "                        <td id=\"T_c0d082ce_66ec_11eb_9bf6_3af9d3be6615row5_col9\" class=\"data row5 col9\" >2320</td>\n",
              "                        <td id=\"T_c0d082ce_66ec_11eb_9bf6_3af9d3be6615row5_col10\" class=\"data row5 col10\" >2303</td>\n",
              "                        <td id=\"T_c0d082ce_66ec_11eb_9bf6_3af9d3be6615row5_col11\" class=\"data row5 col11\" >1873</td>\n",
              "            </tr>\n",
              "            <tr>\n",
              "                        <th id=\"T_c0d082ce_66ec_11eb_9bf6_3af9d3be6615level0_row6\" class=\"row_heading level0 row6\" >12</th>\n",
              "                        <td id=\"T_c0d082ce_66ec_11eb_9bf6_3af9d3be6615row6_col0\" class=\"data row6 col0\" >4496</td>\n",
              "                        <td id=\"T_c0d082ce_66ec_11eb_9bf6_3af9d3be6615row6_col1\" class=\"data row6 col1\" >5524</td>\n",
              "                        <td id=\"T_c0d082ce_66ec_11eb_9bf6_3af9d3be6615row6_col2\" class=\"data row6 col2\" >6434</td>\n",
              "                        <td id=\"T_c0d082ce_66ec_11eb_9bf6_3af9d3be6615row6_col3\" class=\"data row6 col3\" >6841</td>\n",
              "                        <td id=\"T_c0d082ce_66ec_11eb_9bf6_3af9d3be6615row6_col4\" class=\"data row6 col4\" >7226</td>\n",
              "                        <td id=\"T_c0d082ce_66ec_11eb_9bf6_3af9d3be6615row6_col5\" class=\"data row6 col5\" >5463</td>\n",
              "                        <td id=\"T_c0d082ce_66ec_11eb_9bf6_3af9d3be6615row6_col6\" class=\"data row6 col6\" >2200</td>\n",
              "                        <td id=\"T_c0d082ce_66ec_11eb_9bf6_3af9d3be6615row6_col7\" class=\"data row6 col7\" >2138</td>\n",
              "                        <td id=\"T_c0d082ce_66ec_11eb_9bf6_3af9d3be6615row6_col8\" class=\"data row6 col8\" >2379</td>\n",
              "                        <td id=\"T_c0d082ce_66ec_11eb_9bf6_3af9d3be6615row6_col9\" class=\"data row6 col9\" >2631</td>\n",
              "                        <td id=\"T_c0d082ce_66ec_11eb_9bf6_3af9d3be6615row6_col10\" class=\"data row6 col10\" >2760</td>\n",
              "                        <td id=\"T_c0d082ce_66ec_11eb_9bf6_3af9d3be6615row6_col11\" class=\"data row6 col11\" >1986</td>\n",
              "            </tr>\n",
              "            <tr>\n",
              "                        <th id=\"T_c0d082ce_66ec_11eb_9bf6_3af9d3be6615level0_row7\" class=\"row_heading level0 row7\" >14</th>\n",
              "                        <td id=\"T_c0d082ce_66ec_11eb_9bf6_3af9d3be6615row7_col0\" class=\"data row7 col0\" >4266</td>\n",
              "                        <td id=\"T_c0d082ce_66ec_11eb_9bf6_3af9d3be6615row7_col1\" class=\"data row7 col1\" >5698</td>\n",
              "                        <td id=\"T_c0d082ce_66ec_11eb_9bf6_3af9d3be6615row7_col2\" class=\"data row7 col2\" >6708</td>\n",
              "                        <td id=\"T_c0d082ce_66ec_11eb_9bf6_3af9d3be6615row7_col3\" class=\"data row7 col3\" >7218</td>\n",
              "                        <td id=\"T_c0d082ce_66ec_11eb_9bf6_3af9d3be6615row7_col4\" class=\"data row7 col4\" >6896</td>\n",
              "                        <td id=\"T_c0d082ce_66ec_11eb_9bf6_3af9d3be6615row7_col5\" class=\"data row7 col5\" >5396</td>\n",
              "                        <td id=\"T_c0d082ce_66ec_11eb_9bf6_3af9d3be6615row7_col6\" class=\"data row7 col6\" >2241</td>\n",
              "                        <td id=\"T_c0d082ce_66ec_11eb_9bf6_3af9d3be6615row7_col7\" class=\"data row7 col7\" >2245</td>\n",
              "                        <td id=\"T_c0d082ce_66ec_11eb_9bf6_3af9d3be6615row7_col8\" class=\"data row7 col8\" >2630</td>\n",
              "                        <td id=\"T_c0d082ce_66ec_11eb_9bf6_3af9d3be6615row7_col9\" class=\"data row7 col9\" >2840</td>\n",
              "                        <td id=\"T_c0d082ce_66ec_11eb_9bf6_3af9d3be6615row7_col10\" class=\"data row7 col10\" >2763</td>\n",
              "                        <td id=\"T_c0d082ce_66ec_11eb_9bf6_3af9d3be6615row7_col11\" class=\"data row7 col11\" >1990</td>\n",
              "            </tr>\n",
              "            <tr>\n",
              "                        <th id=\"T_c0d082ce_66ec_11eb_9bf6_3af9d3be6615level0_row8\" class=\"row_heading level0 row8\" >16</th>\n",
              "                        <td id=\"T_c0d082ce_66ec_11eb_9bf6_3af9d3be6615row8_col0\" class=\"data row8 col0\" >4113</td>\n",
              "                        <td id=\"T_c0d082ce_66ec_11eb_9bf6_3af9d3be6615row8_col1\" class=\"data row8 col1\" >5889</td>\n",
              "                        <td id=\"T_c0d082ce_66ec_11eb_9bf6_3af9d3be6615row8_col2\" class=\"data row8 col2\" >7351</td>\n",
              "                        <td id=\"T_c0d082ce_66ec_11eb_9bf6_3af9d3be6615row8_col3\" class=\"data row8 col3\" >7643</td>\n",
              "                        <td id=\"T_c0d082ce_66ec_11eb_9bf6_3af9d3be6615row8_col4\" class=\"data row8 col4\" >7926</td>\n",
              "                        <td id=\"T_c0d082ce_66ec_11eb_9bf6_3af9d3be6615row8_col5\" class=\"data row8 col5\" >6338</td>\n",
              "                        <td id=\"T_c0d082ce_66ec_11eb_9bf6_3af9d3be6615row8_col6\" class=\"data row8 col6\" >2714</td>\n",
              "                        <td id=\"T_c0d082ce_66ec_11eb_9bf6_3af9d3be6615row8_col7\" class=\"data row8 col7\" >2562</td>\n",
              "                        <td id=\"T_c0d082ce_66ec_11eb_9bf6_3af9d3be6615row8_col8\" class=\"data row8 col8\" >3002</td>\n",
              "                        <td id=\"T_c0d082ce_66ec_11eb_9bf6_3af9d3be6615row8_col9\" class=\"data row8 col9\" >3160</td>\n",
              "                        <td id=\"T_c0d082ce_66ec_11eb_9bf6_3af9d3be6615row8_col10\" class=\"data row8 col10\" >3527</td>\n",
              "                        <td id=\"T_c0d082ce_66ec_11eb_9bf6_3af9d3be6615row8_col11\" class=\"data row8 col11\" >2784</td>\n",
              "            </tr>\n",
              "            <tr>\n",
              "                        <th id=\"T_c0d082ce_66ec_11eb_9bf6_3af9d3be6615level0_row9\" class=\"row_heading level0 row9\" >18</th>\n",
              "                        <td id=\"T_c0d082ce_66ec_11eb_9bf6_3af9d3be6615row9_col0\" class=\"data row9 col0\" >3660</td>\n",
              "                        <td id=\"T_c0d082ce_66ec_11eb_9bf6_3af9d3be6615row9_col1\" class=\"data row9 col1\" >5094</td>\n",
              "                        <td id=\"T_c0d082ce_66ec_11eb_9bf6_3af9d3be6615row9_col2\" class=\"data row9 col2\" >6586</td>\n",
              "                        <td id=\"T_c0d082ce_66ec_11eb_9bf6_3af9d3be6615row9_col3\" class=\"data row9 col3\" >7015</td>\n",
              "                        <td id=\"T_c0d082ce_66ec_11eb_9bf6_3af9d3be6615row9_col4\" class=\"data row9 col4\" >7407</td>\n",
              "                        <td id=\"T_c0d082ce_66ec_11eb_9bf6_3af9d3be6615row9_col5\" class=\"data row9 col5\" >6157</td>\n",
              "                        <td id=\"T_c0d082ce_66ec_11eb_9bf6_3af9d3be6615row9_col6\" class=\"data row9 col6\" >3118</td>\n",
              "                        <td id=\"T_c0d082ce_66ec_11eb_9bf6_3af9d3be6615row9_col7\" class=\"data row9 col7\" >2704</td>\n",
              "                        <td id=\"T_c0d082ce_66ec_11eb_9bf6_3af9d3be6615row9_col8\" class=\"data row9 col8\" >3217</td>\n",
              "                        <td id=\"T_c0d082ce_66ec_11eb_9bf6_3af9d3be6615row9_col9\" class=\"data row9 col9\" >3412</td>\n",
              "                        <td id=\"T_c0d082ce_66ec_11eb_9bf6_3af9d3be6615row9_col10\" class=\"data row9 col10\" >3608</td>\n",
              "                        <td id=\"T_c0d082ce_66ec_11eb_9bf6_3af9d3be6615row9_col11\" class=\"data row9 col11\" >2718</td>\n",
              "            </tr>\n",
              "            <tr>\n",
              "                        <th id=\"T_c0d082ce_66ec_11eb_9bf6_3af9d3be6615level0_row10\" class=\"row_heading level0 row10\" >20</th>\n",
              "                        <td id=\"T_c0d082ce_66ec_11eb_9bf6_3af9d3be6615row10_col0\" class=\"data row10 col0\" >3521</td>\n",
              "                        <td id=\"T_c0d082ce_66ec_11eb_9bf6_3af9d3be6615row10_col1\" class=\"data row10 col1\" >4895</td>\n",
              "                        <td id=\"T_c0d082ce_66ec_11eb_9bf6_3af9d3be6615row10_col2\" class=\"data row10 col2\" >6130</td>\n",
              "                        <td id=\"T_c0d082ce_66ec_11eb_9bf6_3af9d3be6615row10_col3\" class=\"data row10 col3\" >6360</td>\n",
              "                        <td id=\"T_c0d082ce_66ec_11eb_9bf6_3af9d3be6615row10_col4\" class=\"data row10 col4\" >6963</td>\n",
              "                        <td id=\"T_c0d082ce_66ec_11eb_9bf6_3af9d3be6615row10_col5\" class=\"data row10 col5\" >5272</td>\n",
              "                        <td id=\"T_c0d082ce_66ec_11eb_9bf6_3af9d3be6615row10_col6\" class=\"data row10 col6\" >1787</td>\n",
              "                        <td id=\"T_c0d082ce_66ec_11eb_9bf6_3af9d3be6615row10_col7\" class=\"data row10 col7\" >1806</td>\n",
              "                        <td id=\"T_c0d082ce_66ec_11eb_9bf6_3af9d3be6615row10_col8\" class=\"data row10 col8\" >1994</td>\n",
              "                        <td id=\"T_c0d082ce_66ec_11eb_9bf6_3af9d3be6615row10_col9\" class=\"data row10 col9\" >2071</td>\n",
              "                        <td id=\"T_c0d082ce_66ec_11eb_9bf6_3af9d3be6615row10_col10\" class=\"data row10 col10\" >2184</td>\n",
              "                        <td id=\"T_c0d082ce_66ec_11eb_9bf6_3af9d3be6615row10_col11\" class=\"data row10 col11\" >1491</td>\n",
              "            </tr>\n",
              "            <tr>\n",
              "                        <th id=\"T_c0d082ce_66ec_11eb_9bf6_3af9d3be6615level0_row11\" class=\"row_heading level0 row11\" >22</th>\n",
              "                        <td id=\"T_c0d082ce_66ec_11eb_9bf6_3af9d3be6615row11_col0\" class=\"data row11 col0\" >3078</td>\n",
              "                        <td id=\"T_c0d082ce_66ec_11eb_9bf6_3af9d3be6615row11_col1\" class=\"data row11 col1\" >4318</td>\n",
              "                        <td id=\"T_c0d082ce_66ec_11eb_9bf6_3af9d3be6615row11_col2\" class=\"data row11 col2\" >5496</td>\n",
              "                        <td id=\"T_c0d082ce_66ec_11eb_9bf6_3af9d3be6615row11_col3\" class=\"data row11 col3\" >5626</td>\n",
              "                        <td id=\"T_c0d082ce_66ec_11eb_9bf6_3af9d3be6615row11_col4\" class=\"data row11 col4\" >5637</td>\n",
              "                        <td id=\"T_c0d082ce_66ec_11eb_9bf6_3af9d3be6615row11_col5\" class=\"data row11 col5\" >4358</td>\n",
              "                        <td id=\"T_c0d082ce_66ec_11eb_9bf6_3af9d3be6615row11_col6\" class=\"data row11 col6\" >1343</td>\n",
              "                        <td id=\"T_c0d082ce_66ec_11eb_9bf6_3af9d3be6615row11_col7\" class=\"data row11 col7\" >1330</td>\n",
              "                        <td id=\"T_c0d082ce_66ec_11eb_9bf6_3af9d3be6615row11_col8\" class=\"data row11 col8\" >1532</td>\n",
              "                        <td id=\"T_c0d082ce_66ec_11eb_9bf6_3af9d3be6615row11_col9\" class=\"data row11 col9\" >1671</td>\n",
              "                        <td id=\"T_c0d082ce_66ec_11eb_9bf6_3af9d3be6615row11_col10\" class=\"data row11 col10\" >1472</td>\n",
              "                        <td id=\"T_c0d082ce_66ec_11eb_9bf6_3af9d3be6615row11_col11\" class=\"data row11 col11\" >1072</td>\n",
              "            </tr>\n",
              "    </tbody></table>"
            ],
            "text/plain": [
              "<pandas.io.formats.style.Styler at 0x7fb8713d7390>"
            ]
          },
          "execution_count": 109,
          "metadata": {},
          "output_type": "execute_result"
        }
      ],
      "source": [
        "funcs = [lambda x: x.round('2h').hour, lambda x: x.year]\n",
        "cr_group = crime_sort.groupby(funcs)[['IS_CRIME', 'IS_TRAFFIC']].sum()\n",
        "cr_final = cr_group.unstack()\n",
        "cr_final.style.highlight_max(color='lightgrey')"
      ]
    },
    {
      "cell_type": "code",
      "execution_count": null,
      "metadata": {
        "id": "uHbB0aojl3qB",
        "outputId": "5e79807e-fcce-4539-b932-19671b24113a"
      },
      "outputs": [
        {
          "data": {
            "text/html": [
              "<div>\n",
              "<style scoped>\n",
              "    .dataframe tbody tr th:only-of-type {\n",
              "        vertical-align: middle;\n",
              "    }\n",
              "\n",
              "    .dataframe tbody tr th {\n",
              "        vertical-align: top;\n",
              "    }\n",
              "\n",
              "    .dataframe thead th {\n",
              "        text-align: right;\n",
              "    }\n",
              "</style>\n",
              "<table border=\"1\" class=\"dataframe\">\n",
              "  <thead>\n",
              "    <tr style=\"text-align: right;\">\n",
              "      <th></th>\n",
              "      <th>2012</th>\n",
              "      <th>2013</th>\n",
              "      <th>2014</th>\n",
              "      <th>2015</th>\n",
              "      <th>2016</th>\n",
              "      <th>2017</th>\n",
              "    </tr>\n",
              "  </thead>\n",
              "  <tbody>\n",
              "    <tr>\n",
              "      <th>0</th>\n",
              "      <td>919</td>\n",
              "      <td>792</td>\n",
              "      <td>978</td>\n",
              "      <td>1136</td>\n",
              "      <td>980</td>\n",
              "      <td>782</td>\n",
              "    </tr>\n",
              "    <tr>\n",
              "      <th>2</th>\n",
              "      <td>718</td>\n",
              "      <td>652</td>\n",
              "      <td>779</td>\n",
              "      <td>773</td>\n",
              "      <td>718</td>\n",
              "      <td>537</td>\n",
              "    </tr>\n",
              "    <tr>\n",
              "      <th>4</th>\n",
              "      <td>399</td>\n",
              "      <td>378</td>\n",
              "      <td>424</td>\n",
              "      <td>471</td>\n",
              "      <td>464</td>\n",
              "      <td>313</td>\n",
              "    </tr>\n",
              "    <tr>\n",
              "      <th>6</th>\n",
              "      <td>411</td>\n",
              "      <td>399</td>\n",
              "      <td>479</td>\n",
              "      <td>494</td>\n",
              "      <td>593</td>\n",
              "      <td>462</td>\n",
              "    </tr>\n",
              "    <tr>\n",
              "      <th>8</th>\n",
              "      <td>1957</td>\n",
              "      <td>1955</td>\n",
              "      <td>2210</td>\n",
              "      <td>2331</td>\n",
              "      <td>2372</td>\n",
              "      <td>1828</td>\n",
              "    </tr>\n",
              "  </tbody>\n",
              "</table>\n",
              "</div>"
            ],
            "text/plain": [
              "   2012  2013  2014  2015  2016  2017\n",
              "0   919   792   978  1136   980   782\n",
              "2   718   652   779   773   718   537\n",
              "4   399   378   424   471   464   313\n",
              "6   411   399   479   494   593   462\n",
              "8  1957  1955  2210  2331  2372  1828"
            ]
          },
          "execution_count": 110,
          "metadata": {},
          "output_type": "execute_result"
        }
      ],
      "source": [
        "cr_final.xs('IS_TRAFFIC', axis='columns', level=0).head()"
      ]
    },
    {
      "cell_type": "code",
      "execution_count": null,
      "metadata": {
        "id": "Pkbla_5cl3qB",
        "outputId": "b93cbe61-8905-49ca-f2f8-77774c91931f"
      },
      "outputs": [
        {
          "data": {
            "text/html": [
              "<div>\n",
              "<style scoped>\n",
              "    .dataframe tbody tr th:only-of-type {\n",
              "        vertical-align: middle;\n",
              "    }\n",
              "\n",
              "    .dataframe tbody tr th {\n",
              "        vertical-align: top;\n",
              "    }\n",
              "\n",
              "    .dataframe thead th {\n",
              "        text-align: right;\n",
              "    }\n",
              "</style>\n",
              "<table border=\"1\" class=\"dataframe\">\n",
              "  <thead>\n",
              "    <tr style=\"text-align: right;\">\n",
              "      <th></th>\n",
              "      <th>IS_CRIME</th>\n",
              "      <th>IS_TRAFFIC</th>\n",
              "    </tr>\n",
              "  </thead>\n",
              "  <tbody>\n",
              "    <tr>\n",
              "      <th>0</th>\n",
              "      <td>5377</td>\n",
              "      <td>980</td>\n",
              "    </tr>\n",
              "    <tr>\n",
              "      <th>2</th>\n",
              "      <td>4091</td>\n",
              "      <td>718</td>\n",
              "    </tr>\n",
              "    <tr>\n",
              "      <th>4</th>\n",
              "      <td>3044</td>\n",
              "      <td>464</td>\n",
              "    </tr>\n",
              "    <tr>\n",
              "      <th>6</th>\n",
              "      <td>2108</td>\n",
              "      <td>593</td>\n",
              "    </tr>\n",
              "    <tr>\n",
              "      <th>8</th>\n",
              "      <td>4488</td>\n",
              "      <td>2372</td>\n",
              "    </tr>\n",
              "  </tbody>\n",
              "</table>\n",
              "</div>"
            ],
            "text/plain": [
              "   IS_CRIME  IS_TRAFFIC\n",
              "0      5377         980\n",
              "2      4091         718\n",
              "4      3044         464\n",
              "6      2108         593\n",
              "8      4488        2372"
            ]
          },
          "execution_count": 111,
          "metadata": {},
          "output_type": "execute_result"
        }
      ],
      "source": [
        "cr_final.xs(2016, axis='columns', level=1).head()"
      ]
    },
    {
      "cell_type": "markdown",
      "metadata": {
        "id": "6TyGSzdXl3qB"
      },
      "source": [
        "# Grouping by a Timestamp and another column"
      ]
    },
    {
      "cell_type": "code",
      "execution_count": null,
      "metadata": {
        "id": "RyNLPDSQl3qB",
        "outputId": "b2d4bdfe-fc85-4e5e-fc1d-538dc01a647d"
      },
      "outputs": [
        {
          "data": {
            "text/html": [
              "<div>\n",
              "<style scoped>\n",
              "    .dataframe tbody tr th:only-of-type {\n",
              "        vertical-align: middle;\n",
              "    }\n",
              "\n",
              "    .dataframe tbody tr th {\n",
              "        vertical-align: top;\n",
              "    }\n",
              "\n",
              "    .dataframe thead th {\n",
              "        text-align: right;\n",
              "    }\n",
              "</style>\n",
              "<table border=\"1\" class=\"dataframe\">\n",
              "  <thead>\n",
              "    <tr style=\"text-align: right;\">\n",
              "      <th></th>\n",
              "      <th>UNIQUE_ID</th>\n",
              "      <th>POSITION_TITLE</th>\n",
              "      <th>DEPARTMENT</th>\n",
              "      <th>BASE_SALARY</th>\n",
              "      <th>RACE</th>\n",
              "      <th>EMPLOYMENT_TYPE</th>\n",
              "      <th>GENDER</th>\n",
              "      <th>EMPLOYMENT_STATUS</th>\n",
              "      <th>JOB_DATE</th>\n",
              "    </tr>\n",
              "    <tr>\n",
              "      <th>HIRE_DATE</th>\n",
              "      <th></th>\n",
              "      <th></th>\n",
              "      <th></th>\n",
              "      <th></th>\n",
              "      <th></th>\n",
              "      <th></th>\n",
              "      <th></th>\n",
              "      <th></th>\n",
              "      <th></th>\n",
              "    </tr>\n",
              "  </thead>\n",
              "  <tbody>\n",
              "    <tr>\n",
              "      <th>2006-06-12</th>\n",
              "      <td>0</td>\n",
              "      <td>ASSISTANT DIRECTOR (EX LVL)</td>\n",
              "      <td>Municipal Courts Department</td>\n",
              "      <td>121862.0</td>\n",
              "      <td>Hispanic/Latino</td>\n",
              "      <td>Full Time</td>\n",
              "      <td>Female</td>\n",
              "      <td>Active</td>\n",
              "      <td>2012-10-13</td>\n",
              "    </tr>\n",
              "    <tr>\n",
              "      <th>2000-07-19</th>\n",
              "      <td>1</td>\n",
              "      <td>LIBRARY ASSISTANT</td>\n",
              "      <td>Library</td>\n",
              "      <td>26125.0</td>\n",
              "      <td>Hispanic/Latino</td>\n",
              "      <td>Full Time</td>\n",
              "      <td>Female</td>\n",
              "      <td>Active</td>\n",
              "      <td>2010-09-18</td>\n",
              "    </tr>\n",
              "    <tr>\n",
              "      <th>2015-02-03</th>\n",
              "      <td>2</td>\n",
              "      <td>POLICE OFFICER</td>\n",
              "      <td>Houston Police Department-HPD</td>\n",
              "      <td>45279.0</td>\n",
              "      <td>White</td>\n",
              "      <td>Full Time</td>\n",
              "      <td>Male</td>\n",
              "      <td>Active</td>\n",
              "      <td>2015-02-03</td>\n",
              "    </tr>\n",
              "    <tr>\n",
              "      <th>1982-02-08</th>\n",
              "      <td>3</td>\n",
              "      <td>ENGINEER/OPERATOR</td>\n",
              "      <td>Houston Fire Department (HFD)</td>\n",
              "      <td>63166.0</td>\n",
              "      <td>White</td>\n",
              "      <td>Full Time</td>\n",
              "      <td>Male</td>\n",
              "      <td>Active</td>\n",
              "      <td>1991-05-25</td>\n",
              "    </tr>\n",
              "    <tr>\n",
              "      <th>1989-06-19</th>\n",
              "      <td>4</td>\n",
              "      <td>ELECTRICIAN</td>\n",
              "      <td>General Services Department</td>\n",
              "      <td>56347.0</td>\n",
              "      <td>White</td>\n",
              "      <td>Full Time</td>\n",
              "      <td>Male</td>\n",
              "      <td>Active</td>\n",
              "      <td>1994-10-22</td>\n",
              "    </tr>\n",
              "  </tbody>\n",
              "</table>\n",
              "</div>"
            ],
            "text/plain": [
              "            UNIQUE_ID               POSITION_TITLE  \\\n",
              "HIRE_DATE                                            \n",
              "2006-06-12          0  ASSISTANT DIRECTOR (EX LVL)   \n",
              "2000-07-19          1            LIBRARY ASSISTANT   \n",
              "2015-02-03          2               POLICE OFFICER   \n",
              "1982-02-08          3            ENGINEER/OPERATOR   \n",
              "1989-06-19          4                  ELECTRICIAN   \n",
              "\n",
              "                               DEPARTMENT  BASE_SALARY             RACE  \\\n",
              "HIRE_DATE                                                                 \n",
              "2006-06-12    Municipal Courts Department     121862.0  Hispanic/Latino   \n",
              "2000-07-19                        Library      26125.0  Hispanic/Latino   \n",
              "2015-02-03  Houston Police Department-HPD      45279.0            White   \n",
              "1982-02-08  Houston Fire Department (HFD)      63166.0            White   \n",
              "1989-06-19    General Services Department      56347.0            White   \n",
              "\n",
              "           EMPLOYMENT_TYPE  GENDER EMPLOYMENT_STATUS   JOB_DATE  \n",
              "HIRE_DATE                                                        \n",
              "2006-06-12       Full Time  Female            Active 2012-10-13  \n",
              "2000-07-19       Full Time  Female            Active 2010-09-18  \n",
              "2015-02-03       Full Time    Male            Active 2015-02-03  \n",
              "1982-02-08       Full Time    Male            Active 1991-05-25  \n",
              "1989-06-19       Full Time    Male            Active 1994-10-22  "
            ]
          },
          "execution_count": 112,
          "metadata": {},
          "output_type": "execute_result"
        }
      ],
      "source": [
        "employee = pd.read_csv('https://github.com/sayyed-uoft/fullstackai/raw/main/employee.csv', \n",
        "                       parse_dates=['JOB_DATE', 'HIRE_DATE'], \n",
        "                       index_col='HIRE_DATE')\n",
        "employee.head()"
      ]
    },
    {
      "cell_type": "code",
      "execution_count": null,
      "metadata": {
        "id": "PLPB9NIxl3qC",
        "outputId": "5d3c9afb-eb0d-4486-c334-82ff72e1486a"
      },
      "outputs": [
        {
          "data": {
            "text/plain": [
              "GENDER\n",
              "Female    52200.0\n",
              "Male      57400.0\n",
              "Name: BASE_SALARY, dtype: float64"
            ]
          },
          "execution_count": 113,
          "metadata": {},
          "output_type": "execute_result"
        }
      ],
      "source": [
        "employee.groupby('GENDER')['BASE_SALARY'].mean().round(-2)"
      ]
    },
    {
      "cell_type": "code",
      "execution_count": null,
      "metadata": {
        "id": "6maz6miql3qC",
        "outputId": "92adbaa0-486b-4a83-def1-55fcc7915e8a"
      },
      "outputs": [
        {
          "data": {
            "text/plain": [
              "HIRE_DATE\n",
              "1958-01-01     81200.0\n",
              "1968-01-01    106500.0\n",
              "1978-01-01     69600.0\n",
              "1988-01-01     62300.0\n",
              "1998-01-01     58200.0\n",
              "2008-01-01     47200.0\n",
              "Freq: 10AS-JAN, Name: BASE_SALARY, dtype: float64"
            ]
          },
          "execution_count": 133,
          "metadata": {},
          "output_type": "execute_result"
        }
      ],
      "source": [
        "employee.resample('10AS')['BASE_SALARY'].mean().round(-2)"
      ]
    },
    {
      "cell_type": "code",
      "execution_count": null,
      "metadata": {
        "id": "7DfPM_84l3qC",
        "outputId": "dd6c7994-9e91-4e20-cb92-f062bcfe44b5"
      },
      "outputs": [
        {
          "data": {
            "text/plain": [
              "GENDER  HIRE_DATE \n",
              "Female  1975-01-01     51600.0\n",
              "        1985-01-01     57600.0\n",
              "        1995-01-01     55500.0\n",
              "        2005-01-01     51700.0\n",
              "        2015-01-01     38600.0\n",
              "Male    1958-01-01     81200.0\n",
              "        1968-01-01    106500.0\n",
              "        1978-01-01     72300.0\n",
              "        1988-01-01     64600.0\n",
              "        1998-01-01     59700.0\n",
              "        2008-01-01     47200.0\n",
              "Name: BASE_SALARY, dtype: float64"
            ]
          },
          "execution_count": 134,
          "metadata": {},
          "output_type": "execute_result"
        }
      ],
      "source": [
        "sal_avg = employee.groupby('GENDER').resample('10AS')['BASE_SALARY'].mean().round(-2)\n",
        "sal_avg"
      ]
    },
    {
      "cell_type": "code",
      "execution_count": null,
      "metadata": {
        "id": "C1AaI36vl3qC",
        "outputId": "0653ffb8-2496-4f40-f04c-0ee1665d70f1"
      },
      "outputs": [
        {
          "data": {
            "text/html": [
              "<div>\n",
              "<style>\n",
              "    .dataframe thead tr:only-child th {\n",
              "        text-align: right;\n",
              "    }\n",
              "\n",
              "    .dataframe thead th {\n",
              "        text-align: left;\n",
              "    }\n",
              "\n",
              "    .dataframe tbody tr th {\n",
              "        vertical-align: top;\n",
              "    }\n",
              "</style>\n",
              "<table border=\"1\" class=\"dataframe\">\n",
              "  <thead>\n",
              "    <tr style=\"text-align: right;\">\n",
              "      <th>GENDER</th>\n",
              "      <th>Female</th>\n",
              "      <th>Male</th>\n",
              "    </tr>\n",
              "    <tr>\n",
              "      <th>HIRE_DATE</th>\n",
              "      <th></th>\n",
              "      <th></th>\n",
              "    </tr>\n",
              "  </thead>\n",
              "  <tbody>\n",
              "    <tr>\n",
              "      <th>1958-01-01</th>\n",
              "      <td>NaN</td>\n",
              "      <td>81200.0</td>\n",
              "    </tr>\n",
              "    <tr>\n",
              "      <th>1968-01-01</th>\n",
              "      <td>NaN</td>\n",
              "      <td>106500.0</td>\n",
              "    </tr>\n",
              "    <tr>\n",
              "      <th>1975-01-01</th>\n",
              "      <td>51600.0</td>\n",
              "      <td>NaN</td>\n",
              "    </tr>\n",
              "    <tr>\n",
              "      <th>1978-01-01</th>\n",
              "      <td>NaN</td>\n",
              "      <td>72300.0</td>\n",
              "    </tr>\n",
              "    <tr>\n",
              "      <th>1985-01-01</th>\n",
              "      <td>57600.0</td>\n",
              "      <td>NaN</td>\n",
              "    </tr>\n",
              "    <tr>\n",
              "      <th>1988-01-01</th>\n",
              "      <td>NaN</td>\n",
              "      <td>64600.0</td>\n",
              "    </tr>\n",
              "    <tr>\n",
              "      <th>1995-01-01</th>\n",
              "      <td>55500.0</td>\n",
              "      <td>NaN</td>\n",
              "    </tr>\n",
              "    <tr>\n",
              "      <th>1998-01-01</th>\n",
              "      <td>NaN</td>\n",
              "      <td>59700.0</td>\n",
              "    </tr>\n",
              "    <tr>\n",
              "      <th>2005-01-01</th>\n",
              "      <td>51700.0</td>\n",
              "      <td>NaN</td>\n",
              "    </tr>\n",
              "    <tr>\n",
              "      <th>2008-01-01</th>\n",
              "      <td>NaN</td>\n",
              "      <td>47200.0</td>\n",
              "    </tr>\n",
              "    <tr>\n",
              "      <th>2015-01-01</th>\n",
              "      <td>38600.0</td>\n",
              "      <td>NaN</td>\n",
              "    </tr>\n",
              "  </tbody>\n",
              "</table>\n",
              "</div>"
            ],
            "text/plain": [
              "GENDER       Female      Male\n",
              "HIRE_DATE                    \n",
              "1958-01-01      NaN   81200.0\n",
              "1968-01-01      NaN  106500.0\n",
              "1975-01-01  51600.0       NaN\n",
              "1978-01-01      NaN   72300.0\n",
              "1985-01-01  57600.0       NaN\n",
              "1988-01-01      NaN   64600.0\n",
              "1995-01-01  55500.0       NaN\n",
              "1998-01-01      NaN   59700.0\n",
              "2005-01-01  51700.0       NaN\n",
              "2008-01-01      NaN   47200.0\n",
              "2015-01-01  38600.0       NaN"
            ]
          },
          "execution_count": 135,
          "metadata": {},
          "output_type": "execute_result"
        }
      ],
      "source": [
        "sal_avg.unstack('GENDER')"
      ]
    },
    {
      "cell_type": "code",
      "execution_count": null,
      "metadata": {
        "id": "xTvhW6ayl3qC",
        "outputId": "9a8cf43c-6383-40d5-f5a7-6c3461ed67be"
      },
      "outputs": [
        {
          "data": {
            "text/plain": [
              "Timestamp('1958-12-29 00:00:00')"
            ]
          },
          "execution_count": 136,
          "metadata": {},
          "output_type": "execute_result"
        }
      ],
      "source": [
        "employee[employee['GENDER'] == 'Male'].index.min()"
      ]
    },
    {
      "cell_type": "code",
      "execution_count": null,
      "metadata": {
        "id": "Zz7W8f67l3qC",
        "outputId": "f1f0624d-8eb2-4d78-fda7-f3125801203c"
      },
      "outputs": [
        {
          "data": {
            "text/plain": [
              "Timestamp('1975-06-09 00:00:00')"
            ]
          },
          "execution_count": 137,
          "metadata": {},
          "output_type": "execute_result"
        }
      ],
      "source": [
        "employee[employee['GENDER'] == 'Female'].index.min()"
      ]
    },
    {
      "cell_type": "code",
      "execution_count": null,
      "metadata": {
        "id": "YsKTq5aml3qD",
        "outputId": "92258f6f-ca43-40e7-ffc0-53807520eeca"
      },
      "outputs": [
        {
          "data": {
            "text/plain": [
              "GENDER  HIRE_DATE \n",
              "Female  1968-01-01         NaN\n",
              "        1978-01-01     57100.0\n",
              "        1988-01-01     57100.0\n",
              "        1998-01-01     54700.0\n",
              "        2008-01-01     47300.0\n",
              "Male    1958-01-01     81200.0\n",
              "        1968-01-01    106500.0\n",
              "        1978-01-01     72300.0\n",
              "        1988-01-01     64600.0\n",
              "        1998-01-01     59700.0\n",
              "        2008-01-01     47200.0\n",
              "Name: BASE_SALARY, dtype: float64"
            ]
          },
          "execution_count": 138,
          "metadata": {},
          "output_type": "execute_result"
        }
      ],
      "source": [
        "sal_avg2 = employee.groupby(['GENDER', pd.Grouper(freq='10AS')])['BASE_SALARY'].mean().round(-2)\n",
        "sal_avg2"
      ]
    },
    {
      "cell_type": "code",
      "execution_count": null,
      "metadata": {
        "id": "jAcPO1esl3qD",
        "outputId": "b16f217e-981e-463f-ec47-209c8b137141"
      },
      "outputs": [
        {
          "data": {
            "text/html": [
              "<div>\n",
              "<style>\n",
              "    .dataframe thead tr:only-child th {\n",
              "        text-align: right;\n",
              "    }\n",
              "\n",
              "    .dataframe thead th {\n",
              "        text-align: left;\n",
              "    }\n",
              "\n",
              "    .dataframe tbody tr th {\n",
              "        vertical-align: top;\n",
              "    }\n",
              "</style>\n",
              "<table border=\"1\" class=\"dataframe\">\n",
              "  <thead>\n",
              "    <tr style=\"text-align: right;\">\n",
              "      <th>GENDER</th>\n",
              "      <th>Female</th>\n",
              "      <th>Male</th>\n",
              "    </tr>\n",
              "    <tr>\n",
              "      <th>HIRE_DATE</th>\n",
              "      <th></th>\n",
              "      <th></th>\n",
              "    </tr>\n",
              "  </thead>\n",
              "  <tbody>\n",
              "    <tr>\n",
              "      <th>1958-01-01</th>\n",
              "      <td>NaN</td>\n",
              "      <td>81200.0</td>\n",
              "    </tr>\n",
              "    <tr>\n",
              "      <th>1968-01-01</th>\n",
              "      <td>NaN</td>\n",
              "      <td>106500.0</td>\n",
              "    </tr>\n",
              "    <tr>\n",
              "      <th>1978-01-01</th>\n",
              "      <td>57100.0</td>\n",
              "      <td>72300.0</td>\n",
              "    </tr>\n",
              "    <tr>\n",
              "      <th>1988-01-01</th>\n",
              "      <td>57100.0</td>\n",
              "      <td>64600.0</td>\n",
              "    </tr>\n",
              "    <tr>\n",
              "      <th>1998-01-01</th>\n",
              "      <td>54700.0</td>\n",
              "      <td>59700.0</td>\n",
              "    </tr>\n",
              "    <tr>\n",
              "      <th>2008-01-01</th>\n",
              "      <td>47300.0</td>\n",
              "      <td>47200.0</td>\n",
              "    </tr>\n",
              "  </tbody>\n",
              "</table>\n",
              "</div>"
            ],
            "text/plain": [
              "GENDER       Female      Male\n",
              "HIRE_DATE                    \n",
              "1958-01-01      NaN   81200.0\n",
              "1968-01-01      NaN  106500.0\n",
              "1978-01-01  57100.0   72300.0\n",
              "1988-01-01  57100.0   64600.0\n",
              "1998-01-01  54700.0   59700.0\n",
              "2008-01-01  47300.0   47200.0"
            ]
          },
          "execution_count": 139,
          "metadata": {},
          "output_type": "execute_result"
        }
      ],
      "source": [
        "sal_final = sal_avg2.unstack('GENDER')\n",
        "sal_final"
      ]
    },
    {
      "cell_type": "code",
      "execution_count": null,
      "metadata": {
        "id": "8CXXoUuel3qD",
        "outputId": "63fd73f7-b72f-42f4-d4ae-6c1e4fa77875"
      },
      "outputs": [
        {
          "data": {
            "text/html": [
              "<div>\n",
              "<style>\n",
              "    .dataframe thead tr:only-child th {\n",
              "        text-align: right;\n",
              "    }\n",
              "\n",
              "    .dataframe thead th {\n",
              "        text-align: left;\n",
              "    }\n",
              "\n",
              "    .dataframe tbody tr th {\n",
              "        vertical-align: top;\n",
              "    }\n",
              "</style>\n",
              "<table border=\"1\" class=\"dataframe\">\n",
              "  <thead>\n",
              "    <tr style=\"text-align: right;\">\n",
              "      <th>GENDER</th>\n",
              "      <th>Female</th>\n",
              "      <th>Male</th>\n",
              "    </tr>\n",
              "  </thead>\n",
              "  <tbody>\n",
              "    <tr>\n",
              "      <th>1958-1967</th>\n",
              "      <td>NaN</td>\n",
              "      <td>81200.0</td>\n",
              "    </tr>\n",
              "    <tr>\n",
              "      <th>1968-1977</th>\n",
              "      <td>NaN</td>\n",
              "      <td>106500.0</td>\n",
              "    </tr>\n",
              "    <tr>\n",
              "      <th>1978-1987</th>\n",
              "      <td>57100.0</td>\n",
              "      <td>72300.0</td>\n",
              "    </tr>\n",
              "    <tr>\n",
              "      <th>1988-1997</th>\n",
              "      <td>57100.0</td>\n",
              "      <td>64600.0</td>\n",
              "    </tr>\n",
              "    <tr>\n",
              "      <th>1998-2007</th>\n",
              "      <td>54700.0</td>\n",
              "      <td>59700.0</td>\n",
              "    </tr>\n",
              "    <tr>\n",
              "      <th>2008-2017</th>\n",
              "      <td>47300.0</td>\n",
              "      <td>47200.0</td>\n",
              "    </tr>\n",
              "  </tbody>\n",
              "</table>\n",
              "</div>"
            ],
            "text/plain": [
              "GENDER      Female      Male\n",
              "1958-1967      NaN   81200.0\n",
              "1968-1977      NaN  106500.0\n",
              "1978-1987  57100.0   72300.0\n",
              "1988-1997  57100.0   64600.0\n",
              "1998-2007  54700.0   59700.0\n",
              "2008-2017  47300.0   47200.0"
            ]
          },
          "execution_count": 142,
          "metadata": {},
          "output_type": "execute_result"
        }
      ],
      "source": [
        "years = sal_final.index.year\n",
        "years_right = years + 9\n",
        "sal_final.index = years.astype(str) + '-' + years_right.astype(str)\n",
        "sal_final"
      ]
    },
    {
      "cell_type": "code",
      "execution_count": null,
      "metadata": {
        "id": "J1LU8_sil3qD",
        "outputId": "13e9493f-0a3c-4288-ec60-a34f9c67cfb4"
      },
      "outputs": [
        {
          "data": {
            "text/plain": [
              "array([Interval(1958.0, 1970.0, closed='right'),\n",
              "       Interval(1970.0, 1981.0, closed='right'),\n",
              "       Interval(1981.0, 1993.0, closed='right'),\n",
              "       Interval(1993.0, 2004.0, closed='right'),\n",
              "       Interval(2004.0, 2016.0, closed='right')], dtype=object)"
            ]
          },
          "execution_count": 143,
          "metadata": {},
          "output_type": "execute_result"
        }
      ],
      "source": [
        "cuts = pd.cut(employee.index.year, bins=5, precision=0)\n",
        "cuts.categories.values"
      ]
    },
    {
      "cell_type": "code",
      "execution_count": null,
      "metadata": {
        "id": "809bHeB6l3qD",
        "outputId": "9b71122e-d3ef-47fa-a40f-e896b1c50b16"
      },
      "outputs": [
        {
          "data": {
            "text/html": [
              "<div>\n",
              "<style>\n",
              "    .dataframe thead tr:only-child th {\n",
              "        text-align: right;\n",
              "    }\n",
              "\n",
              "    .dataframe thead th {\n",
              "        text-align: left;\n",
              "    }\n",
              "\n",
              "    .dataframe tbody tr th {\n",
              "        vertical-align: top;\n",
              "    }\n",
              "</style>\n",
              "<table border=\"1\" class=\"dataframe\">\n",
              "  <thead>\n",
              "    <tr style=\"text-align: right;\">\n",
              "      <th>GENDER</th>\n",
              "      <th>Female</th>\n",
              "      <th>Male</th>\n",
              "    </tr>\n",
              "  </thead>\n",
              "  <tbody>\n",
              "    <tr>\n",
              "      <th>(1958.0, 1970.0]</th>\n",
              "      <td>NaN</td>\n",
              "      <td>85400.0</td>\n",
              "    </tr>\n",
              "    <tr>\n",
              "      <th>(1970.0, 1981.0]</th>\n",
              "      <td>54400.0</td>\n",
              "      <td>72700.0</td>\n",
              "    </tr>\n",
              "    <tr>\n",
              "      <th>(1981.0, 1993.0]</th>\n",
              "      <td>55700.0</td>\n",
              "      <td>69300.0</td>\n",
              "    </tr>\n",
              "    <tr>\n",
              "      <th>(1993.0, 2004.0]</th>\n",
              "      <td>56500.0</td>\n",
              "      <td>62300.0</td>\n",
              "    </tr>\n",
              "    <tr>\n",
              "      <th>(2004.0, 2016.0]</th>\n",
              "      <td>49100.0</td>\n",
              "      <td>49800.0</td>\n",
              "    </tr>\n",
              "  </tbody>\n",
              "</table>\n",
              "</div>"
            ],
            "text/plain": [
              "GENDER             Female     Male\n",
              "(1958.0, 1970.0]      NaN  85400.0\n",
              "(1970.0, 1981.0]  54400.0  72700.0\n",
              "(1981.0, 1993.0]  55700.0  69300.0\n",
              "(1993.0, 2004.0]  56500.0  62300.0\n",
              "(2004.0, 2016.0]  49100.0  49800.0"
            ]
          },
          "execution_count": 144,
          "metadata": {},
          "output_type": "execute_result"
        }
      ],
      "source": [
        "employee.groupby([cuts, 'GENDER'])['BASE_SALARY'].mean().unstack('GENDER').round(-2)"
      ]
    },
    {
      "cell_type": "markdown",
      "metadata": {
        "id": "Y_o_S-DMl3qD"
      },
      "source": [
        "# Finding the last time crime was 20% lower with merge_asof"
      ]
    },
    {
      "cell_type": "code",
      "execution_count": null,
      "metadata": {
        "id": "NDWz5zorl3qE"
      },
      "outputs": [],
      "source": [
        "crime_sort = pd.read_hdf('crime.h5', 'crime') \\\n",
        "               .set_index('REPORTED_DATE') \\\n",
        "               .sort_index()"
      ]
    },
    {
      "cell_type": "code",
      "execution_count": null,
      "metadata": {
        "id": "UM-UQphol3qE",
        "outputId": "37c68fca-8c0b-4a64-f048-33ecd308c6f6"
      },
      "outputs": [
        {
          "data": {
            "text/plain": [
              "Timestamp('2017-09-29 06:16:00')"
            ]
          },
          "execution_count": 123,
          "metadata": {},
          "output_type": "execute_result"
        }
      ],
      "source": [
        "crime_sort.index.max()"
      ]
    },
    {
      "cell_type": "code",
      "execution_count": null,
      "metadata": {
        "id": "TK5b2Ktwl3qE",
        "outputId": "16570336-deb9-4587-d7f9-4f9d73d2918c"
      },
      "outputs": [
        {
          "data": {
            "text/plain": [
              "Timestamp('2017-08-31 23:52:00')"
            ]
          },
          "execution_count": 128,
          "metadata": {},
          "output_type": "execute_result"
        }
      ],
      "source": [
        "crime_sort = crime_sort[:'2017-8']\n",
        "crime_sort.index.max()"
      ]
    },
    {
      "cell_type": "code",
      "execution_count": null,
      "metadata": {
        "id": "N-1BX7FMl3qE",
        "outputId": "285d968e-5458-4d91-9dc1-635d507f3b85"
      },
      "outputs": [
        {
          "data": {
            "text/plain": [
              "REPORTED_DATE  OFFENSE_CATEGORY_ID\n",
              "2012-01-31     aggravated-assault     113\n",
              "               all-other-crimes       124\n",
              "               arson                    5\n",
              "               auto-theft             275\n",
              "               burglary               343\n",
              "dtype: int64"
            ]
          },
          "execution_count": 133,
          "metadata": {},
          "output_type": "execute_result"
        }
      ],
      "source": [
        "all_data = crime_sort.groupby([pd.Grouper(freq='M'), 'OFFENSE_CATEGORY_ID']).size()\n",
        "all_data.head()"
      ]
    },
    {
      "cell_type": "code",
      "execution_count": null,
      "metadata": {
        "id": "O8R9TFvGl3qE",
        "outputId": "37e08ee2-4916-46cd-f657-8d32d906e80a"
      },
      "outputs": [
        {
          "data": {
            "text/html": [
              "<div>\n",
              "<style scoped>\n",
              "    .dataframe tbody tr th:only-of-type {\n",
              "        vertical-align: middle;\n",
              "    }\n",
              "\n",
              "    .dataframe tbody tr th {\n",
              "        vertical-align: top;\n",
              "    }\n",
              "\n",
              "    .dataframe thead th {\n",
              "        text-align: right;\n",
              "    }\n",
              "</style>\n",
              "<table border=\"1\" class=\"dataframe\">\n",
              "  <thead>\n",
              "    <tr style=\"text-align: right;\">\n",
              "      <th></th>\n",
              "      <th>REPORTED_DATE</th>\n",
              "      <th>OFFENSE_CATEGORY_ID</th>\n",
              "      <th>Total</th>\n",
              "    </tr>\n",
              "  </thead>\n",
              "  <tbody>\n",
              "    <tr>\n",
              "      <th>0</th>\n",
              "      <td>2012-01-31</td>\n",
              "      <td>murder</td>\n",
              "      <td>0</td>\n",
              "    </tr>\n",
              "    <tr>\n",
              "      <th>1</th>\n",
              "      <td>2016-05-31</td>\n",
              "      <td>murder</td>\n",
              "      <td>1</td>\n",
              "    </tr>\n",
              "    <tr>\n",
              "      <th>2</th>\n",
              "      <td>2013-01-31</td>\n",
              "      <td>arson</td>\n",
              "      <td>1</td>\n",
              "    </tr>\n",
              "    <tr>\n",
              "      <th>3</th>\n",
              "      <td>2016-12-31</td>\n",
              "      <td>murder</td>\n",
              "      <td>1</td>\n",
              "    </tr>\n",
              "    <tr>\n",
              "      <th>4</th>\n",
              "      <td>2014-12-31</td>\n",
              "      <td>murder</td>\n",
              "      <td>1</td>\n",
              "    </tr>\n",
              "  </tbody>\n",
              "</table>\n",
              "</div>"
            ],
            "text/plain": [
              "  REPORTED_DATE OFFENSE_CATEGORY_ID  Total\n",
              "0    2012-01-31              murder      0\n",
              "1    2016-05-31              murder      1\n",
              "2    2013-01-31               arson      1\n",
              "3    2016-12-31              murder      1\n",
              "4    2014-12-31              murder      1"
            ]
          },
          "execution_count": 134,
          "metadata": {},
          "output_type": "execute_result"
        }
      ],
      "source": [
        "all_data = all_data.sort_values().reset_index(name='Total')\n",
        "all_data.head()"
      ]
    },
    {
      "cell_type": "code",
      "execution_count": null,
      "metadata": {
        "id": "xKTNaEGTl3qE",
        "outputId": "2451efbd-fba4-4a9b-8850-f0097a0a2389"
      },
      "outputs": [
        {
          "data": {
            "text/html": [
              "<div>\n",
              "<style scoped>\n",
              "    .dataframe tbody tr th:only-of-type {\n",
              "        vertical-align: middle;\n",
              "    }\n",
              "\n",
              "    .dataframe tbody tr th {\n",
              "        vertical-align: top;\n",
              "    }\n",
              "\n",
              "    .dataframe thead th {\n",
              "        text-align: right;\n",
              "    }\n",
              "</style>\n",
              "<table border=\"1\" class=\"dataframe\">\n",
              "  <thead>\n",
              "    <tr style=\"text-align: right;\">\n",
              "      <th></th>\n",
              "      <th>REPORTED_DATE</th>\n",
              "      <th>OFFENSE_CATEGORY_ID</th>\n",
              "      <th>Total</th>\n",
              "      <th>Total_Goal</th>\n",
              "    </tr>\n",
              "  </thead>\n",
              "  <tbody>\n",
              "    <tr>\n",
              "      <th>0</th>\n",
              "      <td>2017-08-31</td>\n",
              "      <td>murder</td>\n",
              "      <td>7</td>\n",
              "      <td>5</td>\n",
              "    </tr>\n",
              "    <tr>\n",
              "      <th>1</th>\n",
              "      <td>2017-08-31</td>\n",
              "      <td>arson</td>\n",
              "      <td>7</td>\n",
              "      <td>5</td>\n",
              "    </tr>\n",
              "    <tr>\n",
              "      <th>2</th>\n",
              "      <td>2017-08-31</td>\n",
              "      <td>sexual-assault</td>\n",
              "      <td>57</td>\n",
              "      <td>45</td>\n",
              "    </tr>\n",
              "    <tr>\n",
              "      <th>3</th>\n",
              "      <td>2017-08-31</td>\n",
              "      <td>robbery</td>\n",
              "      <td>108</td>\n",
              "      <td>86</td>\n",
              "    </tr>\n",
              "    <tr>\n",
              "      <th>4</th>\n",
              "      <td>2017-08-31</td>\n",
              "      <td>white-collar-crime</td>\n",
              "      <td>138</td>\n",
              "      <td>110</td>\n",
              "    </tr>\n",
              "  </tbody>\n",
              "</table>\n",
              "</div>"
            ],
            "text/plain": [
              "  REPORTED_DATE OFFENSE_CATEGORY_ID  Total  Total_Goal\n",
              "0    2017-08-31              murder      7           5\n",
              "1    2017-08-31               arson      7           5\n",
              "2    2017-08-31      sexual-assault     57          45\n",
              "3    2017-08-31             robbery    108          86\n",
              "4    2017-08-31  white-collar-crime    138         110"
            ]
          },
          "execution_count": 136,
          "metadata": {},
          "output_type": "execute_result"
        }
      ],
      "source": [
        "goal = all_data[all_data['REPORTED_DATE'] == '2017-8-31'].reset_index(drop=True)\n",
        "goal['Total_Goal'] = goal['Total'].mul(.8).astype(int)\n",
        "goal.head()"
      ]
    },
    {
      "cell_type": "code",
      "execution_count": null,
      "metadata": {
        "id": "qTapHK_Xl3qF",
        "outputId": "db1552f9-9b01-4d0c-c818-0dfea4ba79f3"
      },
      "outputs": [
        {
          "data": {
            "text/html": [
              "<div>\n",
              "<style scoped>\n",
              "    .dataframe tbody tr th:only-of-type {\n",
              "        vertical-align: middle;\n",
              "    }\n",
              "\n",
              "    .dataframe tbody tr th {\n",
              "        vertical-align: top;\n",
              "    }\n",
              "\n",
              "    .dataframe thead th {\n",
              "        text-align: right;\n",
              "    }\n",
              "</style>\n",
              "<table border=\"1\" class=\"dataframe\">\n",
              "  <thead>\n",
              "    <tr style=\"text-align: right;\">\n",
              "      <th></th>\n",
              "      <th>REPORTED_DATE_Current</th>\n",
              "      <th>OFFENSE_CATEGORY_ID</th>\n",
              "      <th>Total_Current</th>\n",
              "      <th>Total_Goal</th>\n",
              "      <th>REPORTED_DATE_Last</th>\n",
              "      <th>Total_Last</th>\n",
              "    </tr>\n",
              "  </thead>\n",
              "  <tbody>\n",
              "    <tr>\n",
              "      <th>0</th>\n",
              "      <td>2017-08-31</td>\n",
              "      <td>murder</td>\n",
              "      <td>7</td>\n",
              "      <td>5</td>\n",
              "      <td>2017-05-31</td>\n",
              "      <td>5</td>\n",
              "    </tr>\n",
              "    <tr>\n",
              "      <th>1</th>\n",
              "      <td>2017-08-31</td>\n",
              "      <td>arson</td>\n",
              "      <td>7</td>\n",
              "      <td>5</td>\n",
              "      <td>2012-01-31</td>\n",
              "      <td>5</td>\n",
              "    </tr>\n",
              "    <tr>\n",
              "      <th>2</th>\n",
              "      <td>2017-08-31</td>\n",
              "      <td>sexual-assault</td>\n",
              "      <td>57</td>\n",
              "      <td>45</td>\n",
              "      <td>2013-01-31</td>\n",
              "      <td>45</td>\n",
              "    </tr>\n",
              "    <tr>\n",
              "      <th>...</th>\n",
              "      <td>...</td>\n",
              "      <td>...</td>\n",
              "      <td>...</td>\n",
              "      <td>...</td>\n",
              "      <td>...</td>\n",
              "      <td>...</td>\n",
              "    </tr>\n",
              "    <tr>\n",
              "      <th>12</th>\n",
              "      <td>2017-08-31</td>\n",
              "      <td>public-disorder</td>\n",
              "      <td>878</td>\n",
              "      <td>702</td>\n",
              "      <td>2015-12-31</td>\n",
              "      <td>699</td>\n",
              "    </tr>\n",
              "    <tr>\n",
              "      <th>13</th>\n",
              "      <td>2017-08-31</td>\n",
              "      <td>all-other-crimes</td>\n",
              "      <td>1583</td>\n",
              "      <td>1266</td>\n",
              "      <td>2016-11-30</td>\n",
              "      <td>1264</td>\n",
              "    </tr>\n",
              "    <tr>\n",
              "      <th>14</th>\n",
              "      <td>2017-08-31</td>\n",
              "      <td>traffic-accident</td>\n",
              "      <td>2126</td>\n",
              "      <td>1700</td>\n",
              "      <td>2013-12-31</td>\n",
              "      <td>1697</td>\n",
              "    </tr>\n",
              "  </tbody>\n",
              "</table>\n",
              "<p>15 rows × 6 columns</p>\n",
              "</div>"
            ],
            "text/plain": [
              "   REPORTED_DATE_Current OFFENSE_CATEGORY_ID  Total_Current  Total_Goal  \\\n",
              "0             2017-08-31              murder              7           5   \n",
              "1             2017-08-31               arson              7           5   \n",
              "2             2017-08-31      sexual-assault             57          45   \n",
              "..                   ...                 ...            ...         ...   \n",
              "12            2017-08-31     public-disorder            878         702   \n",
              "13            2017-08-31    all-other-crimes           1583        1266   \n",
              "14            2017-08-31    traffic-accident           2126        1700   \n",
              "\n",
              "   REPORTED_DATE_Last  Total_Last  \n",
              "0          2017-05-31           5  \n",
              "1          2012-01-31           5  \n",
              "2          2013-01-31          45  \n",
              "..                ...         ...  \n",
              "12         2015-12-31         699  \n",
              "13         2016-11-30        1264  \n",
              "14         2013-12-31        1697  \n",
              "\n",
              "[15 rows x 6 columns]"
            ]
          },
          "execution_count": 137,
          "metadata": {},
          "output_type": "execute_result"
        }
      ],
      "source": [
        "pd.merge_asof(goal, all_data, left_on='Total_Goal', right_on='Total', \n",
        "              by='OFFENSE_CATEGORY_ID', suffixes=('_Current', '_Last'))"
      ]
    },
    {
      "cell_type": "code",
      "execution_count": null,
      "metadata": {
        "id": "PYWgeS_ll3qF",
        "outputId": "46f590c0-c79f-4304-e042-ba827e034501"
      },
      "outputs": [
        {
          "data": {
            "text/plain": [
              "Period('2012-05-17 14:20', 'T')"
            ]
          },
          "execution_count": 152,
          "metadata": {},
          "output_type": "execute_result"
        }
      ],
      "source": [
        "pd.Period(year=2012, month=5, day=17, hour=14, minute=20, freq='T')"
      ]
    },
    {
      "cell_type": "code",
      "execution_count": null,
      "metadata": {
        "id": "e6o60Jqhl3qF",
        "outputId": "9fad93bd-8f6c-471c-ad85-aa8931f9e51d"
      },
      "outputs": [
        {
          "data": {
            "text/plain": [
              "PeriodIndex(['2012-01', '2012-01', '2012-01', '2012-01', '2012-01', '2012-01',\n",
              "             '2012-01', '2012-01', '2012-01', '2012-01',\n",
              "             ...\n",
              "             '2017-08', '2017-08', '2017-08', '2017-08', '2017-08', '2017-08',\n",
              "             '2017-08', '2017-08', '2017-08', '2017-08'],\n",
              "            dtype='period[M]', name='REPORTED_DATE', length=453568, freq='M')"
            ]
          },
          "execution_count": 153,
          "metadata": {},
          "output_type": "execute_result"
        }
      ],
      "source": [
        "crime_sort.index.to_period('M')"
      ]
    },
    {
      "cell_type": "code",
      "execution_count": null,
      "metadata": {
        "id": "k8bGNPcDl3qF",
        "outputId": "e5680609-fc70-4365-c95e-2f9e6cf27dc2"
      },
      "outputs": [
        {
          "data": {
            "text/html": [
              "<div>\n",
              "<style>\n",
              "    .dataframe thead tr:only-child th {\n",
              "        text-align: right;\n",
              "    }\n",
              "\n",
              "    .dataframe thead th {\n",
              "        text-align: left;\n",
              "    }\n",
              "\n",
              "    .dataframe tbody tr th {\n",
              "        vertical-align: top;\n",
              "    }\n",
              "</style>\n",
              "<table border=\"1\" class=\"dataframe\">\n",
              "  <thead>\n",
              "    <tr style=\"text-align: right;\">\n",
              "      <th></th>\n",
              "      <th>REPORTED_DATE</th>\n",
              "      <th>OFFENSE_CATEGORY_ID</th>\n",
              "      <th>Total</th>\n",
              "    </tr>\n",
              "  </thead>\n",
              "  <tbody>\n",
              "    <tr>\n",
              "      <th>0</th>\n",
              "      <td>2014-12</td>\n",
              "      <td>murder</td>\n",
              "      <td>1</td>\n",
              "    </tr>\n",
              "    <tr>\n",
              "      <th>1</th>\n",
              "      <td>2013-01</td>\n",
              "      <td>arson</td>\n",
              "      <td>1</td>\n",
              "    </tr>\n",
              "    <tr>\n",
              "      <th>2</th>\n",
              "      <td>2016-05</td>\n",
              "      <td>murder</td>\n",
              "      <td>1</td>\n",
              "    </tr>\n",
              "    <tr>\n",
              "      <th>3</th>\n",
              "      <td>2012-12</td>\n",
              "      <td>murder</td>\n",
              "      <td>1</td>\n",
              "    </tr>\n",
              "    <tr>\n",
              "      <th>4</th>\n",
              "      <td>2016-12</td>\n",
              "      <td>murder</td>\n",
              "      <td>1</td>\n",
              "    </tr>\n",
              "  </tbody>\n",
              "</table>\n",
              "</div>"
            ],
            "text/plain": [
              "  REPORTED_DATE OFFENSE_CATEGORY_ID  Total\n",
              "0       2014-12              murder      1\n",
              "1       2013-01               arson      1\n",
              "2       2016-05              murder      1\n",
              "3       2012-12              murder      1\n",
              "4       2016-12              murder      1"
            ]
          },
          "execution_count": 154,
          "metadata": {},
          "output_type": "execute_result"
        }
      ],
      "source": [
        "ad_period = crime_sort.groupby([lambda x: x.to_period('M'), \n",
        "                                'OFFENSE_CATEGORY_ID']).size()\n",
        "ad_period = ad_period.sort_values() \\\n",
        "                     .reset_index(name='Total') \\\n",
        "                     .rename(columns={'level_0':'REPORTED_DATE'})\n",
        "ad_period.head()"
      ]
    },
    {
      "cell_type": "code",
      "execution_count": null,
      "metadata": {
        "id": "Li6ElwYyl3qF",
        "outputId": "81ff3b75-eb61-4a1c-e919-01234e8abf50"
      },
      "outputs": [
        {
          "data": {
            "text/plain": [
              "True"
            ]
          },
          "execution_count": 155,
          "metadata": {},
          "output_type": "execute_result"
        }
      ],
      "source": [
        "cols = ['OFFENSE_CATEGORY_ID', 'Total']\n",
        "all_data[cols].equals(ad_period[cols])"
      ]
    },
    {
      "cell_type": "code",
      "execution_count": null,
      "metadata": {
        "id": "dOs_i4Xql3qF",
        "outputId": "bde8d188-ea2f-454e-f134-7dde4eba0f52"
      },
      "outputs": [
        {
          "data": {
            "text/html": [
              "<div>\n",
              "<style>\n",
              "    .dataframe thead tr:only-child th {\n",
              "        text-align: right;\n",
              "    }\n",
              "\n",
              "    .dataframe thead th {\n",
              "        text-align: left;\n",
              "    }\n",
              "\n",
              "    .dataframe tbody tr th {\n",
              "        vertical-align: top;\n",
              "    }\n",
              "</style>\n",
              "<table border=\"1\" class=\"dataframe\">\n",
              "  <thead>\n",
              "    <tr style=\"text-align: right;\">\n",
              "      <th></th>\n",
              "      <th>REPORTED_DATE_Current</th>\n",
              "      <th>OFFENSE_CATEGORY_ID</th>\n",
              "      <th>Total_Current</th>\n",
              "      <th>Total_Goal</th>\n",
              "      <th>REPORTED_DATE_Last</th>\n",
              "      <th>Total_Last</th>\n",
              "    </tr>\n",
              "  </thead>\n",
              "  <tbody>\n",
              "    <tr>\n",
              "      <th>0</th>\n",
              "      <td>2017-08</td>\n",
              "      <td>murder</td>\n",
              "      <td>7</td>\n",
              "      <td>5</td>\n",
              "      <td>2017-01</td>\n",
              "      <td>5</td>\n",
              "    </tr>\n",
              "    <tr>\n",
              "      <th>1</th>\n",
              "      <td>2017-08</td>\n",
              "      <td>arson</td>\n",
              "      <td>7</td>\n",
              "      <td>5</td>\n",
              "      <td>2012-01</td>\n",
              "      <td>5</td>\n",
              "    </tr>\n",
              "    <tr>\n",
              "      <th>2</th>\n",
              "      <td>2017-08</td>\n",
              "      <td>sexual-assault</td>\n",
              "      <td>57</td>\n",
              "      <td>45</td>\n",
              "      <td>2013-01</td>\n",
              "      <td>45</td>\n",
              "    </tr>\n",
              "    <tr>\n",
              "      <th>3</th>\n",
              "      <td>2017-08</td>\n",
              "      <td>robbery</td>\n",
              "      <td>108</td>\n",
              "      <td>86</td>\n",
              "      <td>2015-03</td>\n",
              "      <td>86</td>\n",
              "    </tr>\n",
              "    <tr>\n",
              "      <th>4</th>\n",
              "      <td>2017-08</td>\n",
              "      <td>white-collar-crime</td>\n",
              "      <td>138</td>\n",
              "      <td>110</td>\n",
              "      <td>2016-10</td>\n",
              "      <td>110</td>\n",
              "    </tr>\n",
              "  </tbody>\n",
              "</table>\n",
              "</div>"
            ],
            "text/plain": [
              "  REPORTED_DATE_Current OFFENSE_CATEGORY_ID  Total_Current  Total_Goal  \\\n",
              "0               2017-08              murder              7           5   \n",
              "1               2017-08               arson              7           5   \n",
              "2               2017-08      sexual-assault             57          45   \n",
              "3               2017-08             robbery            108          86   \n",
              "4               2017-08  white-collar-crime            138         110   \n",
              "\n",
              "  REPORTED_DATE_Last  Total_Last  \n",
              "0            2017-01           5  \n",
              "1            2012-01           5  \n",
              "2            2013-01          45  \n",
              "3            2015-03          86  \n",
              "4            2016-10         110  "
            ]
          },
          "execution_count": 156,
          "metadata": {},
          "output_type": "execute_result"
        }
      ],
      "source": [
        "aug_2018 = pd.Period('2017-8', freq='M')\n",
        "goal_period = ad_period[ad_period['REPORTED_DATE'] == aug_2018].reset_index(drop=True)\n",
        "goal_period['Total_Goal'] = goal_period['Total'].mul(.8).astype(int)\n",
        "\n",
        "pd.merge_asof(goal_period, ad_period, left_on='Total_Goal', right_on='Total', \n",
        "                  by='OFFENSE_CATEGORY_ID', suffixes=('_Current', '_Last')).head()"
      ]
    }
  ],
  "metadata": {
    "celltoolbar": "Slideshow",
    "kernelspec": {
      "display_name": "Python 3",
      "language": "python",
      "name": "python3"
    },
    "language_info": {
      "codemirror_mode": {
        "name": "ipython",
        "version": 3
      },
      "file_extension": ".py",
      "mimetype": "text/x-python",
      "name": "python",
      "nbconvert_exporter": "python",
      "pygments_lexer": "ipython3",
      "version": "3.7.6"
    },
    "colab": {
      "name": "09 - Time Series Analysis.ipynb",
      "provenance": [],
      "include_colab_link": true
    }
  },
  "nbformat": 4,
  "nbformat_minor": 0
}