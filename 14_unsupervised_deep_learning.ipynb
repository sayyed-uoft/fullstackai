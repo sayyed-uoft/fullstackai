{
  "nbformat": 4,
  "nbformat_minor": 0,
  "metadata": {
    "colab": {
      "name": "14_unsupervised_deep_learning.ipynb",
      "provenance": [],
      "collapsed_sections": [
        "l25gXeQVxOM0"
      ],
      "authorship_tag": "ABX9TyPQ8fAh8NR0G16YduMNfT6g",
      "include_colab_link": true
    },
    "kernelspec": {
      "name": "python3",
      "display_name": "Python 3"
    },
    "language_info": {
      "name": "python"
    }
  },
  "cells": [
    {
      "cell_type": "markdown",
      "metadata": {
        "id": "view-in-github",
        "colab_type": "text"
      },
      "source": [
        "<a href=\"https://colab.research.google.com/github/sayyed-uoft/fullstackai/blob/main/14_unsupervised_deep_learning.ipynb\" target=\"_parent\"><img src=\"https://colab.research.google.com/assets/colab-badge.svg\" alt=\"Open In Colab\"/></a>"
      ]
    },
    {
      "cell_type": "markdown",
      "metadata": {
        "id": "8Fw1dgw0uk-A"
      },
      "source": [
        "# Strata.ai - Artificial Intelligence Certificate \n",
        "\n",
        "# Module 3: Practical Deep Learning\n",
        "\n",
        "# Unsupervised Deep Learning"
      ]
    },
    {
      "cell_type": "markdown",
      "metadata": {
        "id": "l25gXeQVxOM0"
      },
      "source": [
        "# Setup"
      ]
    },
    {
      "cell_type": "code",
      "metadata": {
        "id": "axDx5_0BuXM4"
      },
      "source": [
        "# Python ≥3.5 is required\n",
        "import sys\n",
        "assert sys.version_info >= (3, 5)\n",
        "\n",
        "# Scikit-Learn ≥0.20 is required\n",
        "import sklearn\n",
        "assert sklearn.__version__ >= \"0.20\"\n",
        "\n",
        "try:\n",
        "    # %tensorflow_version only exists in Colab.\n",
        "    %tensorflow_version 2.x\n",
        "except Exception:\n",
        "    pass\n",
        "\n",
        "# TensorFlow ≥2.0 is required\n",
        "import tensorflow as tf\n",
        "from tensorflow import keras\n",
        "assert tf.__version__ >= \"2.0\"\n",
        "\n",
        "%load_ext tensorboard\n",
        "\n",
        "# Common imports\n",
        "import numpy as np\n",
        "import pandas as pd\n",
        "import os\n",
        "\n",
        "# to make this notebook's output stable across runs\n",
        "np.random.seed(42)\n",
        "\n",
        "# To plot pretty figures\n",
        "%matplotlib inline\n",
        "import matplotlib as mpl\n",
        "import matplotlib.pyplot as plt\n",
        "mpl.rc('axes', labelsize=14)\n",
        "mpl.rc('xtick', labelsize=12)\n",
        "mpl.rc('ytick', labelsize=12)\n",
        "\n",
        "# Where to save the figures\n",
        "PROJECT_ROOT_DIR = \".\"\n",
        "CHAPTER_ID = \"deep\"\n",
        "IMAGES_PATH = os.path.join(PROJECT_ROOT_DIR, \"images\", CHAPTER_ID)\n",
        "os.makedirs(IMAGES_PATH, exist_ok=True)\n",
        "\n",
        "def save_fig(fig_id, tight_layout=True, fig_extension=\"png\", resolution=300):\n",
        "    path = os.path.join(IMAGES_PATH, fig_id + \".\" + fig_extension)\n",
        "    print(\"Saving figure\", fig_id)\n",
        "    if tight_layout:\n",
        "        plt.tight_layout()\n",
        "    plt.savefig(path, format=fig_extension, dpi=resolution)"
      ],
      "execution_count": 1,
      "outputs": []
    },
    {
      "cell_type": "markdown",
      "metadata": {
        "id": "VPjkbCdexdgJ"
      },
      "source": [
        "# Unsupervised Pretraining (Feature Learning)"
      ]
    },
    {
      "cell_type": "markdown",
      "metadata": {
        "id": "f-L15bKGyslo"
      },
      "source": [
        "- So far, we discussed supervised deep learning that you have enough labeled data to train neural neworks for either a classifcation or a regression task.\n",
        "- We also discussed how to take advantage of pre-trained models if if you can find one that solves a similar problem (transfer learning).\n",
        "- But, sometimes, you want to tackle a complex task for which you don’t have much labeled training data, and unfortunately you cannot find a model trained on a similar task. You may still be able to perform **unsupervised pretraining** if you can gather unlabeled training examples. It is often rather cheap to gather unlabeled training examples, but quite expensive to label them. If you can gather plenty of unlabeled training data, you can try to train the the entire network or layers one by one (starting with the lowest layer and then going up) using an unsupervised feature learning algorithm such as **autoencoders**."
      ]
    },
    {
      "cell_type": "markdown",
      "metadata": {
        "id": "0DIlyhGi1QKw"
      },
      "source": [
        "## Autoencoders\n"
      ]
    },
    {
      "cell_type": "markdown",
      "metadata": {
        "id": "95b9BzyK6RVm"
      },
      "source": [
        "Autoencoders are neural network architectures that are made of two parts:\n",
        "1. **Encoder:** it compresses the input data to a dense feature (mapping data to a lower dimensional representation). This is very similar to PCA that we learned in Machine Learning model.\n",
        "1. **Decoder:** it decomprsees the dense feature and tries to reconstruct the original input data just from that feature.\n",
        "\n"
      ]
    },
    {
      "cell_type": "markdown",
      "metadata": {
        "id": "svUZkGYZ7gAX"
      },
      "source": [
        "<img src=\"https://github.com/sayyed-uoft/fullstackai/raw/main/autoencoder.png\" width=\"90%\"/>"
      ]
    },
    {
      "cell_type": "markdown",
      "metadata": {
        "id": "NXpvWZpH8GPY"
      },
      "source": [
        "Autoencoders are:\n",
        "\n",
        "- **Data-specific**, which means that they will only be able to compress data similar to what they have been trained on. \n",
        "\n",
        "- **Lossy**, which means that the decompressed outputs will be degraded compared to the original inputs.\n",
        "\n",
        "- **Learned automatically** from data examples, which means that it is easy to train specialized instances of the algorithm that will perform well on a specific type of input. It doesn't require any new engineering, just appropriate training data.\n",
        "\n",
        "Autoencoders are great for:\n",
        "\n",
        "- Compressing data for visualization\n",
        "- Pretaining models with unlabeled data (feature learning)\n",
        "- Genereative models (e.g. data denoising)"
      ]
    },
    {
      "cell_type": "markdown",
      "metadata": {
        "id": "j0M8xELh9ASA"
      },
      "source": [
        "To build an autoencoder, you need three things: an **encoding function**, a **decoding function**, and a **distance function** between the amount of information loss between the compressed representation of your data and the decompressed representation (i.e. a \"loss\" function). The encoder and decoder will be chosen to be parametric functions (typically neural networks), and to be differentiable with respect to the distance function, so the parameters of the encoding/decoding functions can be optimize to minimize the reconstruction loss, using variation of Gradient Descent."
      ]
    },
    {
      "cell_type": "markdown",
      "metadata": {
        "id": "pjZZNOBj-Jfa"
      },
      "source": [
        "**Note**: Usually Encoder and Decoder has similar architectures but reverse of each other:\n",
        "\n",
        "\n",
        "\n",
        "\n",
        "\n"
      ]
    },
    {
      "cell_type": "markdown",
      "metadata": {
        "id": "RgkSWCso7-s0"
      },
      "source": [
        "<img src=\"https://github.com/sayyed-uoft/fullstackai/raw/main/autoencoder2.png\" width=\"60%\"/>"
      ]
    },
    {
      "cell_type": "markdown",
      "metadata": {
        "id": "3NWH0CFF0JYL"
      },
      "source": [
        "## Linear Autoencoder\n",
        "\n",
        "A lineare autoencoder is an autoencoder that doesn't use any activation function in it's layers. \n",
        "\n",
        "Since no activation function is used, ther is no point of using mopre then one hidden layer (with the size of the target dimention). This autoencoder is equivalent to PCA that we learned in the ML module.\n",
        "\n"
      ]
    },
    {
      "cell_type": "markdown",
      "metadata": {
        "id": "PjLOnMeG2pdk"
      },
      "source": [
        "<img src=\"https://github.com/sayyed-uoft/fullstackai/raw/main/linear_autoencoder.png\" width=\"50%\"/>"
      ]
    },
    {
      "cell_type": "markdown",
      "metadata": {
        "id": "V3ArRgZt--gA"
      },
      "source": [
        "## Autoencoder Example: Unsupervised Pretraining"
      ]
    },
    {
      "cell_type": "markdown",
      "metadata": {
        "id": "HjI3RU-_AGji"
      },
      "source": [
        "We will use Fashion MNIST dataset for this example. Let's first load the dataset. We will also select only 1000 samples as an small training dataset. The rest of the samples we will use for unsupervised learning:"
      ]
    },
    {
      "cell_type": "code",
      "metadata": {
        "colab": {
          "base_uri": "https://localhost:8080/"
        },
        "id": "hWhmgK9pxVWi",
        "outputId": "2bf2fd2e-a059-44b0-9592-3b01fb17eff3"
      },
      "source": [
        "(X_train_full, y_train_full), (X_test, y_test) = keras.datasets.fashion_mnist.load_data()\n",
        "X_train_full = X_train_full / 255.0\n",
        "X_test = X_test / 255.0\n",
        "X_valid, X_train = X_train_full[:5000], X_train_full[5000:]\n",
        "y_valid, y_train = y_train_full[:5000], y_train_full[5000:]\n",
        "X_train_small, X_train_nolabel = X_train_full[5000:6000], X_train_full[6000:]\n",
        "y_train_small = y_train_full[5000:6000]"
      ],
      "execution_count": null,
      "outputs": [
        {
          "output_type": "stream",
          "text": [
            "Downloading data from https://storage.googleapis.com/tensorflow/tf-keras-datasets/train-labels-idx1-ubyte.gz\n",
            "32768/29515 [=================================] - 0s 0us/step\n",
            "Downloading data from https://storage.googleapis.com/tensorflow/tf-keras-datasets/train-images-idx3-ubyte.gz\n",
            "26427392/26421880 [==============================] - 1s 0us/step\n",
            "Downloading data from https://storage.googleapis.com/tensorflow/tf-keras-datasets/t10k-labels-idx1-ubyte.gz\n",
            "8192/5148 [===============================================] - 0s 0us/step\n",
            "Downloading data from https://storage.googleapis.com/tensorflow/tf-keras-datasets/t10k-images-idx3-ubyte.gz\n",
            "4423680/4422102 [==============================] - 0s 0us/step\n"
          ],
          "name": "stdout"
        }
      ]
    },
    {
      "cell_type": "markdown",
      "metadata": {
        "id": "ZTsiZ48mqvFl"
      },
      "source": [
        "Let's create our model (the original model we used):"
      ]
    },
    {
      "cell_type": "code",
      "metadata": {
        "id": "6DNvB-u0A0XD"
      },
      "source": [
        "tf.random.set_seed(42)\n",
        "np.random.seed(42)\n",
        "\n",
        "model = keras.models.Sequential([\n",
        "    keras.layers.Flatten(input_shape=[28, 28]),\n",
        "    keras.layers.Dense(300, activation=\"relu\"),\n",
        "    keras.layers.Dense(100, activation=\"relu\"),\n",
        "    keras.layers.Dense(10, activation=\"softmax\")\n",
        "])\n",
        "\n",
        "model.compile(loss=\"sparse_categorical_crossentropy\",\n",
        "              optimizer=keras.optimizers.SGD(learning_rate=1e-3),\n",
        "              metrics=[\"accuracy\"])"
      ],
      "execution_count": null,
      "outputs": []
    },
    {
      "cell_type": "markdown",
      "metadata": {
        "id": "KE1cKvcrr6St"
      },
      "source": [
        "Now, let's train the model with all labeled trraining data: "
      ]
    },
    {
      "cell_type": "code",
      "metadata": {
        "colab": {
          "base_uri": "https://localhost:8080/"
        },
        "id": "-DXl_9WtBwvt",
        "outputId": "0ee9ff65-4205-4704-efc6-7eff9babbdbe"
      },
      "source": [
        "history = model.fit(X_train, y_train, epochs=30,\n",
        "                    validation_data=(X_valid, y_valid))"
      ],
      "execution_count": null,
      "outputs": [
        {
          "output_type": "stream",
          "text": [
            "Epoch 1/30\n",
            "1719/1719 [==============================] - 7s 4ms/step - loss: 1.4968 - accuracy: 0.5750 - val_loss: 1.0055 - val_accuracy: 0.7110\n",
            "Epoch 2/30\n",
            "1719/1719 [==============================] - 6s 4ms/step - loss: 0.8677 - accuracy: 0.7317 - val_loss: 0.7534 - val_accuracy: 0.7652\n",
            "Epoch 3/30\n",
            "1719/1719 [==============================] - 7s 4ms/step - loss: 0.7166 - accuracy: 0.7673 - val_loss: 0.6670 - val_accuracy: 0.7880\n",
            "Epoch 4/30\n",
            "1719/1719 [==============================] - 6s 4ms/step - loss: 0.6452 - accuracy: 0.7884 - val_loss: 0.6063 - val_accuracy: 0.8046\n",
            "Epoch 5/30\n",
            "1719/1719 [==============================] - 6s 4ms/step - loss: 0.5995 - accuracy: 0.8034 - val_loss: 0.5686 - val_accuracy: 0.8200\n",
            "Epoch 6/30\n",
            "1719/1719 [==============================] - 6s 4ms/step - loss: 0.5670 - accuracy: 0.8131 - val_loss: 0.5419 - val_accuracy: 0.8256\n",
            "Epoch 7/30\n",
            "1719/1719 [==============================] - 6s 4ms/step - loss: 0.5428 - accuracy: 0.8209 - val_loss: 0.5200 - val_accuracy: 0.8306\n",
            "Epoch 8/30\n",
            "1719/1719 [==============================] - 6s 4ms/step - loss: 0.5243 - accuracy: 0.8261 - val_loss: 0.5107 - val_accuracy: 0.8306\n",
            "Epoch 9/30\n",
            "1719/1719 [==============================] - 6s 4ms/step - loss: 0.5095 - accuracy: 0.8292 - val_loss: 0.4916 - val_accuracy: 0.8378\n",
            "Epoch 10/30\n",
            "1719/1719 [==============================] - 7s 4ms/step - loss: 0.4966 - accuracy: 0.8323 - val_loss: 0.4826 - val_accuracy: 0.8382\n",
            "Epoch 11/30\n",
            "1719/1719 [==============================] - 6s 4ms/step - loss: 0.4858 - accuracy: 0.8359 - val_loss: 0.4722 - val_accuracy: 0.8424\n",
            "Epoch 12/30\n",
            "1719/1719 [==============================] - 6s 4ms/step - loss: 0.4767 - accuracy: 0.8379 - val_loss: 0.4660 - val_accuracy: 0.8438\n",
            "Epoch 13/30\n",
            "1719/1719 [==============================] - 7s 4ms/step - loss: 0.4691 - accuracy: 0.8413 - val_loss: 0.4583 - val_accuracy: 0.8482\n",
            "Epoch 14/30\n",
            "1719/1719 [==============================] - 6s 4ms/step - loss: 0.4620 - accuracy: 0.8423 - val_loss: 0.4544 - val_accuracy: 0.8474\n",
            "Epoch 15/30\n",
            "1719/1719 [==============================] - 6s 4ms/step - loss: 0.4559 - accuracy: 0.8437 - val_loss: 0.4456 - val_accuracy: 0.8528\n",
            "Epoch 16/30\n",
            "1719/1719 [==============================] - 6s 4ms/step - loss: 0.4502 - accuracy: 0.8464 - val_loss: 0.4435 - val_accuracy: 0.8506\n",
            "Epoch 17/30\n",
            "1719/1719 [==============================] - 6s 4ms/step - loss: 0.4451 - accuracy: 0.8471 - val_loss: 0.4409 - val_accuracy: 0.8518\n",
            "Epoch 18/30\n",
            "1719/1719 [==============================] - 6s 4ms/step - loss: 0.4400 - accuracy: 0.8496 - val_loss: 0.4344 - val_accuracy: 0.8536\n",
            "Epoch 19/30\n",
            "1719/1719 [==============================] - 6s 4ms/step - loss: 0.4360 - accuracy: 0.8506 - val_loss: 0.4307 - val_accuracy: 0.8572\n",
            "Epoch 20/30\n",
            "1719/1719 [==============================] - 6s 4ms/step - loss: 0.4315 - accuracy: 0.8516 - val_loss: 0.4265 - val_accuracy: 0.8540\n",
            "Epoch 21/30\n",
            "1719/1719 [==============================] - 6s 4ms/step - loss: 0.4276 - accuracy: 0.8532 - val_loss: 0.4202 - val_accuracy: 0.8594\n",
            "Epoch 22/30\n",
            "1719/1719 [==============================] - 6s 4ms/step - loss: 0.4237 - accuracy: 0.8549 - val_loss: 0.4180 - val_accuracy: 0.8584\n",
            "Epoch 23/30\n",
            "1719/1719 [==============================] - 6s 4ms/step - loss: 0.4200 - accuracy: 0.8553 - val_loss: 0.4150 - val_accuracy: 0.8608\n",
            "Epoch 24/30\n",
            "1719/1719 [==============================] - 6s 4ms/step - loss: 0.4169 - accuracy: 0.8567 - val_loss: 0.4135 - val_accuracy: 0.8608\n",
            "Epoch 25/30\n",
            "1719/1719 [==============================] - 6s 4ms/step - loss: 0.4139 - accuracy: 0.8579 - val_loss: 0.4131 - val_accuracy: 0.8624\n",
            "Epoch 26/30\n",
            "1719/1719 [==============================] - 6s 4ms/step - loss: 0.4107 - accuracy: 0.8589 - val_loss: 0.4088 - val_accuracy: 0.8622\n",
            "Epoch 27/30\n",
            "1719/1719 [==============================] - 6s 4ms/step - loss: 0.4080 - accuracy: 0.8596 - val_loss: 0.4070 - val_accuracy: 0.8620\n",
            "Epoch 28/30\n",
            "1719/1719 [==============================] - 6s 4ms/step - loss: 0.4052 - accuracy: 0.8605 - val_loss: 0.4073 - val_accuracy: 0.8632\n",
            "Epoch 29/30\n",
            "1719/1719 [==============================] - 6s 4ms/step - loss: 0.4024 - accuracy: 0.8613 - val_loss: 0.4024 - val_accuracy: 0.8636\n",
            "Epoch 30/30\n",
            "1719/1719 [==============================] - 6s 4ms/step - loss: 0.3998 - accuracy: 0.8625 - val_loss: 0.4024 - val_accuracy: 0.8654\n"
          ],
          "name": "stdout"
        }
      ]
    },
    {
      "cell_type": "code",
      "metadata": {
        "colab": {
          "base_uri": "https://localhost:8080/",
          "height": 328
        },
        "id": "mvDsriKzt2AX",
        "outputId": "2712a8c1-bb0f-4d45-f9fd-b785260a68bb"
      },
      "source": [
        "pd.DataFrame(history.history).plot(figsize=(8, 5))\n",
        "plt.grid(True)\n",
        "plt.gca().set_ylim(0, 1)\n",
        "plt.show()"
      ],
      "execution_count": null,
      "outputs": [
        {
          "output_type": "display_data",
          "data": {
            "image/png": "[encoded data removed]",
            "text/plain": [
              "<Figure size 576x360 with 1 Axes>"
            ]
          },
          "metadata": {
            "tags": [],
            "needs_background": "light"
          }
        }
      ]
    },
    {
      "cell_type": "markdown",
      "metadata": {
        "id": "Nto0Sb03t1C-"
      },
      "source": [
        "Let's assume we have only 1000 labeled samples (excluding validation set) and train the same network:"
      ]
    },
    {
      "cell_type": "code",
      "metadata": {
        "colab": {
          "base_uri": "https://localhost:8080/"
        },
        "id": "9zmlGaIivTMS",
        "outputId": "1ac7d982-cbcd-4f76-d20c-380d42631495"
      },
      "source": [
        "keras.backend.clear_session()\n",
        "np.random.seed(42)\n",
        "tf.random.set_seed(42)\n",
        "\n",
        "model = keras.models.Sequential([\n",
        "    keras.layers.Flatten(input_shape=[28, 28]),\n",
        "    keras.layers.Dense(300, activation=\"relu\"),\n",
        "    keras.layers.Dense(100, activation=\"relu\"),\n",
        "    keras.layers.Dense(10, activation=\"softmax\")\n",
        "])\n",
        "\n",
        "model.compile(loss=\"sparse_categorical_crossentropy\",\n",
        "              optimizer=keras.optimizers.SGD(learning_rate=1e-3),\n",
        "              metrics=[\"accuracy\"])\n",
        "\n",
        "history = model.fit(X_train_small, y_train_small, epochs=100,\n",
        "                    validation_data=(X_valid, y_valid))"
      ],
      "execution_count": null,
      "outputs": [
        {
          "output_type": "stream",
          "text": [
            "Epoch 1/100\n",
            "32/32 [==============================] - 1s 18ms/step - loss: 2.4482 - accuracy: 0.1500 - val_loss: 2.3475 - val_accuracy: 0.1468\n",
            "Epoch 2/100\n",
            "32/32 [==============================] - 0s 10ms/step - loss: 2.3041 - accuracy: 0.1540 - val_loss: 2.2408 - val_accuracy: 0.1644\n",
            "Epoch 3/100\n",
            "32/32 [==============================] - 0s 13ms/step - loss: 2.2133 - accuracy: 0.1600 - val_loss: 2.1699 - val_accuracy: 0.1774\n",
            "Epoch 4/100\n",
            "32/32 [==============================] - 0s 13ms/step - loss: 2.1483 - accuracy: 0.2020 - val_loss: 2.1154 - val_accuracy: 0.1988\n",
            "Epoch 5/100\n",
            "32/32 [==============================] - 0s 13ms/step - loss: 2.0960 - accuracy: 0.2380 - val_loss: 2.0687 - val_accuracy: 0.2546\n",
            "Epoch 6/100\n",
            "32/32 [==============================] - 0s 13ms/step - loss: 2.0501 - accuracy: 0.2990 - val_loss: 2.0276 - val_accuracy: 0.3114\n",
            "Epoch 7/100\n",
            "32/32 [==============================] - 0s 9ms/step - loss: 2.0088 - accuracy: 0.3550 - val_loss: 1.9891 - val_accuracy: 0.3598\n",
            "Epoch 8/100\n",
            "32/32 [==============================] - 0s 10ms/step - loss: 1.9700 - accuracy: 0.3820 - val_loss: 1.9529 - val_accuracy: 0.3904\n",
            "Epoch 9/100\n",
            "32/32 [==============================] - 0s 13ms/step - loss: 1.9329 - accuracy: 0.4100 - val_loss: 1.9179 - val_accuracy: 0.4164\n",
            "Epoch 10/100\n",
            "32/32 [==============================] - 0s 13ms/step - loss: 1.8970 - accuracy: 0.4350 - val_loss: 1.8836 - val_accuracy: 0.4390\n",
            "Epoch 11/100\n",
            "32/32 [==============================] - 0s 13ms/step - loss: 1.8622 - accuracy: 0.4540 - val_loss: 1.8496 - val_accuracy: 0.4608\n",
            "Epoch 12/100\n",
            "32/32 [==============================] - 0s 9ms/step - loss: 1.8281 - accuracy: 0.4770 - val_loss: 1.8166 - val_accuracy: 0.4824\n",
            "Epoch 13/100\n",
            "32/32 [==============================] - 0s 10ms/step - loss: 1.7944 - accuracy: 0.4970 - val_loss: 1.7839 - val_accuracy: 0.4976\n",
            "Epoch 14/100\n",
            "32/32 [==============================] - 0s 10ms/step - loss: 1.7609 - accuracy: 0.5190 - val_loss: 1.7520 - val_accuracy: 0.5108\n",
            "Epoch 15/100\n",
            "32/32 [==============================] - 0s 9ms/step - loss: 1.7287 - accuracy: 0.5360 - val_loss: 1.7208 - val_accuracy: 0.5204\n",
            "Epoch 16/100\n",
            "32/32 [==============================] - 0s 13ms/step - loss: 1.6979 - accuracy: 0.5460 - val_loss: 1.6912 - val_accuracy: 0.5288\n",
            "Epoch 17/100\n",
            "32/32 [==============================] - 0s 9ms/step - loss: 1.6683 - accuracy: 0.5510 - val_loss: 1.6617 - val_accuracy: 0.5400\n",
            "Epoch 18/100\n",
            "32/32 [==============================] - 0s 13ms/step - loss: 1.6396 - accuracy: 0.5640 - val_loss: 1.6332 - val_accuracy: 0.5506\n",
            "Epoch 19/100\n",
            "32/32 [==============================] - 0s 11ms/step - loss: 1.6110 - accuracy: 0.5780 - val_loss: 1.6061 - val_accuracy: 0.5602\n",
            "Epoch 20/100\n",
            "32/32 [==============================] - 0s 9ms/step - loss: 1.5839 - accuracy: 0.5830 - val_loss: 1.5788 - val_accuracy: 0.5704\n",
            "Epoch 21/100\n",
            "32/32 [==============================] - 0s 13ms/step - loss: 1.5571 - accuracy: 0.5960 - val_loss: 1.5531 - val_accuracy: 0.5756\n",
            "Epoch 22/100\n",
            "32/32 [==============================] - 0s 13ms/step - loss: 1.5305 - accuracy: 0.6010 - val_loss: 1.5272 - val_accuracy: 0.5846\n",
            "Epoch 23/100\n",
            "32/32 [==============================] - 0s 13ms/step - loss: 1.5052 - accuracy: 0.6130 - val_loss: 1.5021 - val_accuracy: 0.5936\n",
            "Epoch 24/100\n",
            "32/32 [==============================] - 0s 11ms/step - loss: 1.4800 - accuracy: 0.6200 - val_loss: 1.4773 - val_accuracy: 0.6040\n",
            "Epoch 25/100\n",
            "32/32 [==============================] - 0s 10ms/step - loss: 1.4558 - accuracy: 0.6270 - val_loss: 1.4532 - val_accuracy: 0.6138\n",
            "Epoch 26/100\n",
            "32/32 [==============================] - 0s 13ms/step - loss: 1.4321 - accuracy: 0.6310 - val_loss: 1.4311 - val_accuracy: 0.6126\n",
            "Epoch 27/100\n",
            "32/32 [==============================] - 0s 13ms/step - loss: 1.4092 - accuracy: 0.6310 - val_loss: 1.4082 - val_accuracy: 0.6238\n",
            "Epoch 28/100\n",
            "32/32 [==============================] - 0s 10ms/step - loss: 1.3875 - accuracy: 0.6310 - val_loss: 1.3862 - val_accuracy: 0.6264\n",
            "Epoch 29/100\n",
            "32/32 [==============================] - 0s 10ms/step - loss: 1.3657 - accuracy: 0.6370 - val_loss: 1.3655 - val_accuracy: 0.6290\n",
            "Epoch 30/100\n",
            "32/32 [==============================] - 0s 13ms/step - loss: 1.3446 - accuracy: 0.6440 - val_loss: 1.3460 - val_accuracy: 0.6304\n",
            "Epoch 31/100\n",
            "32/32 [==============================] - 0s 10ms/step - loss: 1.3250 - accuracy: 0.6410 - val_loss: 1.3253 - val_accuracy: 0.6418\n",
            "Epoch 32/100\n",
            "32/32 [==============================] - 0s 10ms/step - loss: 1.3053 - accuracy: 0.6530 - val_loss: 1.3063 - val_accuracy: 0.6490\n",
            "Epoch 33/100\n",
            "32/32 [==============================] - 0s 13ms/step - loss: 1.2865 - accuracy: 0.6590 - val_loss: 1.2874 - val_accuracy: 0.6568\n",
            "Epoch 34/100\n",
            "32/32 [==============================] - 0s 10ms/step - loss: 1.2684 - accuracy: 0.6650 - val_loss: 1.2701 - val_accuracy: 0.6582\n",
            "Epoch 35/100\n",
            "32/32 [==============================] - 0s 10ms/step - loss: 1.2507 - accuracy: 0.6690 - val_loss: 1.2527 - val_accuracy: 0.6620\n",
            "Epoch 36/100\n",
            "32/32 [==============================] - 0s 10ms/step - loss: 1.2343 - accuracy: 0.6680 - val_loss: 1.2364 - val_accuracy: 0.6668\n",
            "Epoch 37/100\n",
            "32/32 [==============================] - 0s 13ms/step - loss: 1.2175 - accuracy: 0.6700 - val_loss: 1.2217 - val_accuracy: 0.6668\n",
            "Epoch 38/100\n",
            "32/32 [==============================] - 0s 9ms/step - loss: 1.2020 - accuracy: 0.6750 - val_loss: 1.2061 - val_accuracy: 0.6688\n",
            "Epoch 39/100\n",
            "32/32 [==============================] - 0s 13ms/step - loss: 1.1872 - accuracy: 0.6730 - val_loss: 1.1903 - val_accuracy: 0.6724\n",
            "Epoch 40/100\n",
            "32/32 [==============================] - 0s 10ms/step - loss: 1.1727 - accuracy: 0.6800 - val_loss: 1.1762 - val_accuracy: 0.6768\n",
            "Epoch 41/100\n",
            "32/32 [==============================] - 0s 13ms/step - loss: 1.1582 - accuracy: 0.6850 - val_loss: 1.1627 - val_accuracy: 0.6808\n",
            "Epoch 42/100\n",
            "32/32 [==============================] - 0s 10ms/step - loss: 1.1445 - accuracy: 0.6820 - val_loss: 1.1494 - val_accuracy: 0.6826\n",
            "Epoch 43/100\n",
            "32/32 [==============================] - 0s 13ms/step - loss: 1.1314 - accuracy: 0.6900 - val_loss: 1.1369 - val_accuracy: 0.6828\n",
            "Epoch 44/100\n",
            "32/32 [==============================] - 0s 10ms/step - loss: 1.1190 - accuracy: 0.6870 - val_loss: 1.1252 - val_accuracy: 0.6796\n",
            "Epoch 45/100\n",
            "32/32 [==============================] - 0s 14ms/step - loss: 1.1068 - accuracy: 0.6880 - val_loss: 1.1129 - val_accuracy: 0.6906\n",
            "Epoch 46/100\n",
            "32/32 [==============================] - 0s 13ms/step - loss: 1.0952 - accuracy: 0.6970 - val_loss: 1.1015 - val_accuracy: 0.6904\n",
            "Epoch 47/100\n",
            "32/32 [==============================] - 0s 13ms/step - loss: 1.0835 - accuracy: 0.7000 - val_loss: 1.0914 - val_accuracy: 0.6874\n",
            "Epoch 48/100\n",
            "32/32 [==============================] - 0s 9ms/step - loss: 1.0724 - accuracy: 0.6960 - val_loss: 1.0799 - val_accuracy: 0.6902\n",
            "Epoch 49/100\n",
            "32/32 [==============================] - 0s 13ms/step - loss: 1.0617 - accuracy: 0.6970 - val_loss: 1.0694 - val_accuracy: 0.6948\n",
            "Epoch 50/100\n",
            "32/32 [==============================] - 0s 13ms/step - loss: 1.0510 - accuracy: 0.7020 - val_loss: 1.0608 - val_accuracy: 0.6940\n",
            "Epoch 51/100\n",
            "32/32 [==============================] - 0s 13ms/step - loss: 1.0410 - accuracy: 0.7000 - val_loss: 1.0494 - val_accuracy: 0.7004\n",
            "Epoch 52/100\n",
            "32/32 [==============================] - 0s 11ms/step - loss: 1.0311 - accuracy: 0.7090 - val_loss: 1.0409 - val_accuracy: 0.6962\n",
            "Epoch 53/100\n",
            "32/32 [==============================] - 0s 10ms/step - loss: 1.0217 - accuracy: 0.7070 - val_loss: 1.0325 - val_accuracy: 0.6964\n",
            "Epoch 54/100\n",
            "32/32 [==============================] - 0s 10ms/step - loss: 1.0127 - accuracy: 0.7090 - val_loss: 1.0233 - val_accuracy: 0.6970\n",
            "Epoch 55/100\n",
            "32/32 [==============================] - 0s 10ms/step - loss: 1.0036 - accuracy: 0.7100 - val_loss: 1.0136 - val_accuracy: 0.7030\n",
            "Epoch 56/100\n",
            "32/32 [==============================] - 0s 10ms/step - loss: 0.9954 - accuracy: 0.7160 - val_loss: 1.0072 - val_accuracy: 0.6998\n",
            "Epoch 57/100\n",
            "32/32 [==============================] - 0s 13ms/step - loss: 0.9869 - accuracy: 0.7140 - val_loss: 0.9978 - val_accuracy: 0.7064\n",
            "Epoch 58/100\n",
            "32/32 [==============================] - 0s 13ms/step - loss: 0.9783 - accuracy: 0.7130 - val_loss: 0.9889 - val_accuracy: 0.7116\n",
            "Epoch 59/100\n",
            "32/32 [==============================] - 0s 13ms/step - loss: 0.9706 - accuracy: 0.7260 - val_loss: 0.9817 - val_accuracy: 0.7082\n",
            "Epoch 60/100\n",
            "32/32 [==============================] - 0s 13ms/step - loss: 0.9629 - accuracy: 0.7230 - val_loss: 0.9755 - val_accuracy: 0.7072\n",
            "Epoch 61/100\n",
            "32/32 [==============================] - 0s 13ms/step - loss: 0.9559 - accuracy: 0.7220 - val_loss: 0.9688 - val_accuracy: 0.7088\n",
            "Epoch 62/100\n",
            "32/32 [==============================] - 0s 10ms/step - loss: 0.9484 - accuracy: 0.7280 - val_loss: 0.9606 - val_accuracy: 0.7114\n",
            "Epoch 63/100\n",
            "32/32 [==============================] - 0s 11ms/step - loss: 0.9409 - accuracy: 0.7280 - val_loss: 0.9551 - val_accuracy: 0.7136\n",
            "Epoch 64/100\n",
            "32/32 [==============================] - 0s 13ms/step - loss: 0.9344 - accuracy: 0.7260 - val_loss: 0.9489 - val_accuracy: 0.7156\n",
            "Epoch 65/100\n",
            "32/32 [==============================] - 0s 10ms/step - loss: 0.9282 - accuracy: 0.7270 - val_loss: 0.9423 - val_accuracy: 0.7164\n",
            "Epoch 66/100\n",
            "32/32 [==============================] - 0s 13ms/step - loss: 0.9212 - accuracy: 0.7300 - val_loss: 0.9366 - val_accuracy: 0.7190\n",
            "Epoch 67/100\n",
            "32/32 [==============================] - 0s 13ms/step - loss: 0.9154 - accuracy: 0.7350 - val_loss: 0.9305 - val_accuracy: 0.7226\n",
            "Epoch 68/100\n",
            "32/32 [==============================] - 0s 13ms/step - loss: 0.9089 - accuracy: 0.7360 - val_loss: 0.9240 - val_accuracy: 0.7218\n",
            "Epoch 69/100\n",
            "32/32 [==============================] - 0s 13ms/step - loss: 0.9027 - accuracy: 0.7390 - val_loss: 0.9187 - val_accuracy: 0.7212\n",
            "Epoch 70/100\n",
            "32/32 [==============================] - 0s 10ms/step - loss: 0.8973 - accuracy: 0.7310 - val_loss: 0.9131 - val_accuracy: 0.7226\n",
            "Epoch 71/100\n",
            "32/32 [==============================] - 0s 11ms/step - loss: 0.8913 - accuracy: 0.7360 - val_loss: 0.9077 - val_accuracy: 0.7240\n",
            "Epoch 72/100\n",
            "32/32 [==============================] - 0s 10ms/step - loss: 0.8858 - accuracy: 0.7420 - val_loss: 0.9036 - val_accuracy: 0.7220\n",
            "Epoch 73/100\n",
            "32/32 [==============================] - 0s 13ms/step - loss: 0.8803 - accuracy: 0.7370 - val_loss: 0.8988 - val_accuracy: 0.7232\n",
            "Epoch 74/100\n",
            "32/32 [==============================] - 0s 11ms/step - loss: 0.8748 - accuracy: 0.7360 - val_loss: 0.8930 - val_accuracy: 0.7264\n",
            "Epoch 75/100\n",
            "32/32 [==============================] - 0s 10ms/step - loss: 0.8694 - accuracy: 0.7450 - val_loss: 0.8896 - val_accuracy: 0.7250\n",
            "Epoch 76/100\n",
            "32/32 [==============================] - 0s 11ms/step - loss: 0.8646 - accuracy: 0.7430 - val_loss: 0.8858 - val_accuracy: 0.7252\n",
            "Epoch 77/100\n",
            "32/32 [==============================] - 0s 11ms/step - loss: 0.8600 - accuracy: 0.7360 - val_loss: 0.8794 - val_accuracy: 0.7284\n",
            "Epoch 78/100\n",
            "32/32 [==============================] - 0s 14ms/step - loss: 0.8549 - accuracy: 0.7480 - val_loss: 0.8749 - val_accuracy: 0.7310\n",
            "Epoch 79/100\n",
            "32/32 [==============================] - 0s 11ms/step - loss: 0.8498 - accuracy: 0.7550 - val_loss: 0.8715 - val_accuracy: 0.7298\n",
            "Epoch 80/100\n",
            "32/32 [==============================] - 0s 10ms/step - loss: 0.8459 - accuracy: 0.7470 - val_loss: 0.8692 - val_accuracy: 0.7276\n",
            "Epoch 81/100\n",
            "32/32 [==============================] - 0s 13ms/step - loss: 0.8413 - accuracy: 0.7430 - val_loss: 0.8626 - val_accuracy: 0.7334\n",
            "Epoch 82/100\n",
            "32/32 [==============================] - 0s 13ms/step - loss: 0.8369 - accuracy: 0.7480 - val_loss: 0.8581 - val_accuracy: 0.7334\n",
            "Epoch 83/100\n",
            "32/32 [==============================] - 0s 14ms/step - loss: 0.8325 - accuracy: 0.7470 - val_loss: 0.8551 - val_accuracy: 0.7308\n",
            "Epoch 84/100\n",
            "32/32 [==============================] - 0s 11ms/step - loss: 0.8287 - accuracy: 0.7460 - val_loss: 0.8508 - val_accuracy: 0.7350\n",
            "Epoch 85/100\n",
            "32/32 [==============================] - 0s 14ms/step - loss: 0.8237 - accuracy: 0.7530 - val_loss: 0.8475 - val_accuracy: 0.7326\n",
            "Epoch 86/100\n",
            "32/32 [==============================] - 0s 13ms/step - loss: 0.8198 - accuracy: 0.7510 - val_loss: 0.8449 - val_accuracy: 0.7360\n",
            "Epoch 87/100\n",
            "32/32 [==============================] - 0s 13ms/step - loss: 0.8155 - accuracy: 0.7570 - val_loss: 0.8419 - val_accuracy: 0.7314\n",
            "Epoch 88/100\n",
            "32/32 [==============================] - 0s 10ms/step - loss: 0.8119 - accuracy: 0.7530 - val_loss: 0.8377 - val_accuracy: 0.7372\n",
            "Epoch 89/100\n",
            "32/32 [==============================] - 0s 15ms/step - loss: 0.8079 - accuracy: 0.7530 - val_loss: 0.8340 - val_accuracy: 0.7372\n",
            "Epoch 90/100\n",
            "32/32 [==============================] - 0s 9ms/step - loss: 0.8042 - accuracy: 0.7530 - val_loss: 0.8308 - val_accuracy: 0.7362\n",
            "Epoch 91/100\n",
            "32/32 [==============================] - 0s 10ms/step - loss: 0.8006 - accuracy: 0.7490 - val_loss: 0.8259 - val_accuracy: 0.7414\n",
            "Epoch 92/100\n",
            "32/32 [==============================] - 0s 11ms/step - loss: 0.7969 - accuracy: 0.7540 - val_loss: 0.8245 - val_accuracy: 0.7402\n",
            "Epoch 93/100\n",
            "32/32 [==============================] - 0s 14ms/step - loss: 0.7929 - accuracy: 0.7530 - val_loss: 0.8193 - val_accuracy: 0.7412\n",
            "Epoch 94/100\n",
            "32/32 [==============================] - 0s 13ms/step - loss: 0.7896 - accuracy: 0.7580 - val_loss: 0.8174 - val_accuracy: 0.7422\n",
            "Epoch 95/100\n",
            "32/32 [==============================] - 0s 10ms/step - loss: 0.7866 - accuracy: 0.7600 - val_loss: 0.8167 - val_accuracy: 0.7386\n",
            "Epoch 96/100\n",
            "32/32 [==============================] - 0s 9ms/step - loss: 0.7832 - accuracy: 0.7580 - val_loss: 0.8109 - val_accuracy: 0.7402\n",
            "Epoch 97/100\n",
            "32/32 [==============================] - 0s 13ms/step - loss: 0.7793 - accuracy: 0.7640 - val_loss: 0.8074 - val_accuracy: 0.7422\n",
            "Epoch 98/100\n",
            "32/32 [==============================] - 0s 13ms/step - loss: 0.7761 - accuracy: 0.7660 - val_loss: 0.8059 - val_accuracy: 0.7438\n",
            "Epoch 99/100\n",
            "32/32 [==============================] - 0s 10ms/step - loss: 0.7723 - accuracy: 0.7620 - val_loss: 0.8028 - val_accuracy: 0.7450\n",
            "Epoch 100/100\n",
            "32/32 [==============================] - 0s 13ms/step - loss: 0.7696 - accuracy: 0.7690 - val_loss: 0.7989 - val_accuracy: 0.7448\n"
          ],
          "name": "stdout"
        }
      ]
    },
    {
      "cell_type": "code",
      "metadata": {
        "colab": {
          "base_uri": "https://localhost:8080/",
          "height": 328
        },
        "id": "OgSBmwipvyyu",
        "outputId": "ad7007c4-7104-467c-d658-da5143464818"
      },
      "source": [
        "pd.DataFrame(history.history).plot(figsize=(8, 5))\n",
        "plt.grid(True)\n",
        "plt.gca().set_ylim(0, 2)\n",
        "plt.show()"
      ],
      "execution_count": null,
      "outputs": [
        {
          "output_type": "display_data",
          "data": {
            "image/png": "[encoded data removed]",
            "text/plain": [
              "<Figure size 576x360 with 1 Axes>"
            ]
          },
          "metadata": {
            "tags": [],
            "needs_background": "light"
          }
        }
      ]
    },
    {
      "cell_type": "markdown",
      "metadata": {
        "id": "_B-PvZF5wCto"
      },
      "source": [
        "Obviously, there is not enough data and we get very bad validation accuracy. \n",
        "\n",
        "Let's pretrain the model by using an autoencoder network. For the encoder, we use the exact newtork we used above (except the output layer) and we use the reverse of that for the decoder.\n",
        "\n",
        "This is a regression problem and we will use MSE loss. Because the output is bounded (between 0 and 1), we will juse sigmoid activation function for the output layer."
      ]
    },
    {
      "cell_type": "code",
      "metadata": {
        "colab": {
          "base_uri": "https://localhost:8080/"
        },
        "id": "cBhUQTWHwnYG",
        "outputId": "9ae40cb3-2ec3-4ce3-cd9a-81102e2bb8a4"
      },
      "source": [
        "keras.backend.clear_session()\n",
        "np.random.seed(42)\n",
        "tf.random.set_seed(42)\n",
        "\n",
        "# input vector (flatten image)\n",
        "input_img = keras.Input(shape=[784])\n",
        "\n",
        "# Encoder layers (excluding output layer)\n",
        "e_hidden_1 = keras.layers.Dense(300, activation='relu')(input_img)\n",
        "encoded = keras.layers.Dense(100, activation='relu')(e_hidden_1)\n",
        "\n",
        "# Decoder layers\n",
        "d_hidden_1 = keras.layers.Dense(300, activation='relu')(encoded)\n",
        "decoded = keras.layers.Dense(784, activation='sigmoid')(d_hidden_1)\n",
        "\n",
        "# Autoencoder model\n",
        "autoencoder = keras.Model(inputs=[input_img], outputs=[decoded])\n",
        "\n",
        "autoencoder.summary()"
      ],
      "execution_count": null,
      "outputs": [
        {
          "output_type": "stream",
          "text": [
            "Model: \"model\"\n",
            "_________________________________________________________________\n",
            "Layer (type)                 Output Shape              Param #   \n",
            "=================================================================\n",
            "input_1 (InputLayer)         [(None, 784)]             0         \n",
            "_________________________________________________________________\n",
            "dense (Dense)                (None, 300)               235500    \n",
            "_________________________________________________________________\n",
            "dense_1 (Dense)              (None, 100)               30100     \n",
            "_________________________________________________________________\n",
            "dense_2 (Dense)              (None, 300)               30300     \n",
            "_________________________________________________________________\n",
            "dense_3 (Dense)              (None, 784)               235984    \n",
            "=================================================================\n",
            "Total params: 531,884\n",
            "Trainable params: 531,884\n",
            "Non-trainable params: 0\n",
            "_________________________________________________________________\n"
          ],
          "name": "stdout"
        }
      ]
    },
    {
      "cell_type": "code",
      "metadata": {
        "id": "y2fQDFFrAU0K"
      },
      "source": [
        "autoencoder.compile(loss='mean_squared_error', \n",
        "                    optimizer = keras.optimizers.Nadam())\n",
        "                    #optimizer = keras.optimizers.SGD(learning_rate=1e-3))"
      ],
      "execution_count": null,
      "outputs": []
    },
    {
      "cell_type": "code",
      "metadata": {
        "colab": {
          "base_uri": "https://localhost:8080/"
        },
        "id": "Xz7L7SfkBRF7",
        "outputId": "b1c8653f-c7a5-491c-8a82-eb9ede37629f"
      },
      "source": [
        "X_train_nolabel.shape"
      ],
      "execution_count": null,
      "outputs": [
        {
          "output_type": "execute_result",
          "data": {
            "text/plain": [
              "(54000, 28, 28)"
            ]
          },
          "metadata": {
            "tags": []
          },
          "execution_count": 10
        }
      ]
    },
    {
      "cell_type": "markdown",
      "metadata": {
        "id": "hEltPD7x4sT7"
      },
      "source": [
        "We didn't use Flatten layer so the output shape and the input shape are the same. So, we need to reshape the training data first."
      ]
    },
    {
      "cell_type": "code",
      "metadata": {
        "colab": {
          "base_uri": "https://localhost:8080/"
        },
        "id": "8p5zz9iVA7zd",
        "outputId": "e636b5a8-cd5f-4e7a-8f29-5666854eb975"
      },
      "source": [
        "\n",
        "X_flatten = X_train_nolabel.reshape(-1, 784)\n",
        "X_valid_flatten = X_valid.reshape(-1, 784)\n",
        "(X_flatten.shape, X_valid_flatten.shape)"
      ],
      "execution_count": null,
      "outputs": [
        {
          "output_type": "execute_result",
          "data": {
            "text/plain": [
              "((54000, 784), (5000, 784))"
            ]
          },
          "metadata": {
            "tags": []
          },
          "execution_count": 7
        }
      ]
    },
    {
      "cell_type": "markdown",
      "metadata": {
        "id": "hygTvNw-AH74"
      },
      "source": [
        "Lst's train the sutoencoder with only training data (no labels) for both input and output:"
      ]
    },
    {
      "cell_type": "code",
      "metadata": {
        "colab": {
          "base_uri": "https://localhost:8080/"
        },
        "id": "IViWe_1oBeCc",
        "outputId": "adf2da6e-9436-40ed-82af-e638b8989322"
      },
      "source": [
        "history = autoencoder.fit(X_flatten, X_flatten, epochs=30,\n",
        "                    validation_data=(X_valid_flatten, X_valid_flatten))"
      ],
      "execution_count": null,
      "outputs": [
        {
          "output_type": "stream",
          "text": [
            "Epoch 1/30\n",
            "1688/1688 [==============================] - 22s 12ms/step - loss: 0.0212 - val_loss: 0.0130\n",
            "Epoch 2/30\n",
            "1688/1688 [==============================] - 21s 12ms/step - loss: 0.0118 - val_loss: 0.0105\n",
            "Epoch 3/30\n",
            "1688/1688 [==============================] - 22s 13ms/step - loss: 0.0097 - val_loss: 0.0095\n",
            "Epoch 4/30\n",
            "1688/1688 [==============================] - 21s 13ms/step - loss: 0.0085 - val_loss: 0.0082\n",
            "Epoch 5/30\n",
            "1688/1688 [==============================] - 21s 12ms/step - loss: 0.0077 - val_loss: 0.0079\n",
            "Epoch 6/30\n",
            "1688/1688 [==============================] - 21s 12ms/step - loss: 0.0072 - val_loss: 0.0071\n",
            "Epoch 7/30\n",
            "1688/1688 [==============================] - 21s 13ms/step - loss: 0.0068 - val_loss: 0.0068\n",
            "Epoch 8/30\n",
            "1688/1688 [==============================] - 21s 12ms/step - loss: 0.0065 - val_loss: 0.0065\n",
            "Epoch 9/30\n",
            "1688/1688 [==============================] - 21s 12ms/step - loss: 0.0062 - val_loss: 0.0062\n",
            "Epoch 10/30\n",
            "1688/1688 [==============================] - 20s 12ms/step - loss: 0.0060 - val_loss: 0.0061\n",
            "Epoch 11/30\n",
            "1688/1688 [==============================] - 21s 12ms/step - loss: 0.0059 - val_loss: 0.0061\n",
            "Epoch 12/30\n",
            "1688/1688 [==============================] - 21s 12ms/step - loss: 0.0058 - val_loss: 0.0067\n",
            "Epoch 13/30\n",
            "1688/1688 [==============================] - 21s 13ms/step - loss: 0.0057 - val_loss: 0.0059\n",
            "Epoch 14/30\n",
            "1688/1688 [==============================] - 22s 13ms/step - loss: 0.0056 - val_loss: 0.0057\n",
            "Epoch 15/30\n",
            "1688/1688 [==============================] - 21s 13ms/step - loss: 0.0055 - val_loss: 0.0058\n",
            "Epoch 16/30\n",
            "1688/1688 [==============================] - 22s 13ms/step - loss: 0.0054 - val_loss: 0.0056\n",
            "Epoch 17/30\n",
            "1688/1688 [==============================] - 22s 13ms/step - loss: 0.0054 - val_loss: 0.0060\n",
            "Epoch 18/30\n",
            "1688/1688 [==============================] - 21s 13ms/step - loss: 0.0054 - val_loss: 0.0056\n",
            "Epoch 19/30\n",
            "1688/1688 [==============================] - 22s 13ms/step - loss: 0.0053 - val_loss: 0.0054\n",
            "Epoch 20/30\n",
            "1688/1688 [==============================] - 22s 13ms/step - loss: 0.0053 - val_loss: 0.0055\n",
            "Epoch 21/30\n",
            "1688/1688 [==============================] - 21s 13ms/step - loss: 0.0052 - val_loss: 0.0054\n",
            "Epoch 22/30\n",
            "1688/1688 [==============================] - 22s 13ms/step - loss: 0.0052 - val_loss: 0.0055\n",
            "Epoch 23/30\n",
            "1688/1688 [==============================] - 21s 12ms/step - loss: 0.0052 - val_loss: 0.0054\n",
            "Epoch 24/30\n",
            "1688/1688 [==============================] - 20s 12ms/step - loss: 0.0051 - val_loss: 0.0053\n",
            "Epoch 25/30\n",
            "1688/1688 [==============================] - 20s 12ms/step - loss: 0.0051 - val_loss: 0.0053\n",
            "Epoch 26/30\n",
            "1688/1688 [==============================] - 20s 12ms/step - loss: 0.0051 - val_loss: 0.0054\n",
            "Epoch 27/30\n",
            "1688/1688 [==============================] - 21s 12ms/step - loss: 0.0051 - val_loss: 0.0053\n",
            "Epoch 28/30\n",
            "1688/1688 [==============================] - 20s 12ms/step - loss: 0.0050 - val_loss: 0.0055\n",
            "Epoch 29/30\n",
            "1688/1688 [==============================] - 20s 12ms/step - loss: 0.0050 - val_loss: 0.0052\n",
            "Epoch 30/30\n",
            "1688/1688 [==============================] - 20s 12ms/step - loss: 0.0050 - val_loss: 0.0053\n"
          ],
          "name": "stdout"
        }
      ]
    },
    {
      "cell_type": "code",
      "metadata": {
        "colab": {
          "base_uri": "https://localhost:8080/",
          "height": 323
        },
        "id": "PKlqjVN0H0nK",
        "outputId": "a156c281-444e-4bf6-8a15-9321b8d65272"
      },
      "source": [
        "pd.DataFrame(history.history).plot(figsize=(8, 5))\n",
        "plt.grid(True)\n",
        "plt.show()"
      ],
      "execution_count": null,
      "outputs": [
        {
          "output_type": "display_data",
          "data": {
            "image/png": "[encoded data removed]",
            "text/plain": [
              "<Figure size 576x360 with 1 Axes>"
            ]
          },
          "metadata": {
            "tags": [],
            "needs_background": "light"
          }
        }
      ]
    },
    {
      "cell_type": "markdown",
      "metadata": {
        "id": "p1Jdk9W0A2Dr"
      },
      "source": [
        "The learning cureves show that the autoencoder netowrk leanned very well."
      ]
    },
    {
      "cell_type": "markdown",
      "metadata": {
        "id": "H2E2EAHOBDGq"
      },
      "source": [
        "???????"
      ]
    },
    {
      "cell_type": "markdown",
      "metadata": {
        "id": "vANVz27XBFP_"
      },
      "source": [
        "Now, let'ss add the softmax layer on top of the pre-trained encoder to make the classification model (similar to the model we used for fully supervised learning).\n",
        "\n",
        "First, we will freeze the pretained layers and only train the softmax layer using the small training set:"
      ]
    },
    {
      "cell_type": "code",
      "metadata": {
        "colab": {
          "base_uri": "https://localhost:8080/"
        },
        "id": "LCDTqkVsLKTW",
        "outputId": "453a4bea-2ee8-478b-9b60-defbba409197"
      },
      "source": [
        "# Adding the softmax layer on top of the encoder\n",
        "cls_output = keras.layers.Dense(10, activation=\"softmax\")(encoded)\n",
        "\n",
        "# Creating the classification model\n",
        "model = keras.Model(inputs=[input_img], outputs=[cls_output])\n",
        "\n",
        "# Freeze the layers\n",
        "e_hidden_1.trainable = False\n",
        "encoded.trainable = False\n",
        "\n",
        "model.summary()"
      ],
      "execution_count": null,
      "outputs": [
        {
          "output_type": "stream",
          "text": [
            "Model: \"model_4\"\n",
            "_________________________________________________________________\n",
            "Layer (type)                 Output Shape              Param #   \n",
            "=================================================================\n",
            "input_1 (InputLayer)         [(None, 784)]             0         \n",
            "_________________________________________________________________\n",
            "dense (Dense)                (None, 300)               235500    \n",
            "_________________________________________________________________\n",
            "dense_1 (Dense)              (None, 100)               30100     \n",
            "_________________________________________________________________\n",
            "dense_7 (Dense)              (None, 10)                1010      \n",
            "=================================================================\n",
            "Total params: 266,610\n",
            "Trainable params: 266,610\n",
            "Non-trainable params: 0\n",
            "_________________________________________________________________\n"
          ],
          "name": "stdout"
        }
      ]
    },
    {
      "cell_type": "code",
      "metadata": {
        "id": "l6T5kZ2lL_UF"
      },
      "source": [
        "model.compile(loss=\"sparse_categorical_crossentropy\",\n",
        "              optimizer=keras.optimizers.SGD(learning_rate=1e-3),\n",
        "              metrics=[\"accuracy\"])"
      ],
      "execution_count": null,
      "outputs": []
    },
    {
      "cell_type": "code",
      "metadata": {
        "colab": {
          "base_uri": "https://localhost:8080/"
        },
        "id": "cSPugKgeMSiC",
        "outputId": "ab914639-83df-495a-8b8a-2ceb6915f930"
      },
      "source": [
        "X_flatten = X_train_small.reshape(-1, 784)\n",
        "X_flatten.shape"
      ],
      "execution_count": null,
      "outputs": [
        {
          "output_type": "execute_result",
          "data": {
            "text/plain": [
              "(1000, 784)"
            ]
          },
          "metadata": {
            "tags": []
          },
          "execution_count": 38
        }
      ]
    },
    {
      "cell_type": "code",
      "metadata": {
        "colab": {
          "base_uri": "https://localhost:8080/"
        },
        "id": "daZ9XZjSMg_L",
        "outputId": "dbfae39a-1ff9-4668-8341-f2c529babba1"
      },
      "source": [
        "history = model.fit(X_flatten, y_train_small, epochs=30,\n",
        "                    validation_data=(X_valid_flatten, y_valid))"
      ],
      "execution_count": null,
      "outputs": [
        {
          "output_type": "stream",
          "text": [
            "Epoch 1/30\n",
            "32/32 [==============================] - 1s 20ms/step - loss: 3.2028 - accuracy: 0.1420 - val_loss: 2.6024 - val_accuracy: 0.1898\n",
            "Epoch 2/30\n",
            "32/32 [==============================] - 0s 10ms/step - loss: 2.3879 - accuracy: 0.2160 - val_loss: 2.2140 - val_accuracy: 0.2712\n",
            "Epoch 3/30\n",
            "32/32 [==============================] - 0s 10ms/step - loss: 2.0665 - accuracy: 0.2900 - val_loss: 1.9359 - val_accuracy: 0.3268\n",
            "Epoch 4/30\n",
            "32/32 [==============================] - 0s 10ms/step - loss: 1.8358 - accuracy: 0.3510 - val_loss: 1.7248 - val_accuracy: 0.3866\n",
            "Epoch 5/30\n",
            "32/32 [==============================] - 0s 13ms/step - loss: 1.6596 - accuracy: 0.3920 - val_loss: 1.5690 - val_accuracy: 0.4526\n",
            "Epoch 6/30\n",
            "32/32 [==============================] - 0s 10ms/step - loss: 1.5215 - accuracy: 0.4570 - val_loss: 1.4588 - val_accuracy: 0.4866\n",
            "Epoch 7/30\n",
            "32/32 [==============================] - 0s 13ms/step - loss: 1.4154 - accuracy: 0.4950 - val_loss: 1.3551 - val_accuracy: 0.5210\n",
            "Epoch 8/30\n",
            "32/32 [==============================] - 0s 11ms/step - loss: 1.3259 - accuracy: 0.5290 - val_loss: 1.2831 - val_accuracy: 0.5600\n",
            "Epoch 9/30\n",
            "32/32 [==============================] - 0s 13ms/step - loss: 1.2545 - accuracy: 0.5630 - val_loss: 1.2279 - val_accuracy: 0.5812\n",
            "Epoch 10/30\n",
            "32/32 [==============================] - 0s 13ms/step - loss: 1.1951 - accuracy: 0.5780 - val_loss: 1.1690 - val_accuracy: 0.6004\n",
            "Epoch 11/30\n",
            "32/32 [==============================] - 0s 13ms/step - loss: 1.1469 - accuracy: 0.5990 - val_loss: 1.1183 - val_accuracy: 0.6116\n",
            "Epoch 12/30\n",
            "32/32 [==============================] - 0s 10ms/step - loss: 1.1016 - accuracy: 0.6170 - val_loss: 1.0851 - val_accuracy: 0.6222\n",
            "Epoch 13/30\n",
            "32/32 [==============================] - 0s 10ms/step - loss: 1.0658 - accuracy: 0.6280 - val_loss: 1.0583 - val_accuracy: 0.6338\n",
            "Epoch 14/30\n",
            "32/32 [==============================] - 0s 13ms/step - loss: 1.0325 - accuracy: 0.6430 - val_loss: 1.0212 - val_accuracy: 0.6524\n",
            "Epoch 15/30\n",
            "32/32 [==============================] - 0s 13ms/step - loss: 1.0021 - accuracy: 0.6470 - val_loss: 0.9955 - val_accuracy: 0.6570\n",
            "Epoch 16/30\n",
            "32/32 [==============================] - 0s 10ms/step - loss: 0.9758 - accuracy: 0.6590 - val_loss: 0.9775 - val_accuracy: 0.6610\n",
            "Epoch 17/30\n",
            "32/32 [==============================] - 0s 13ms/step - loss: 0.9525 - accuracy: 0.6690 - val_loss: 0.9476 - val_accuracy: 0.6710\n",
            "Epoch 18/30\n",
            "32/32 [==============================] - 0s 10ms/step - loss: 0.9322 - accuracy: 0.6710 - val_loss: 0.9342 - val_accuracy: 0.6806\n",
            "Epoch 19/30\n",
            "32/32 [==============================] - 0s 13ms/step - loss: 0.9124 - accuracy: 0.6820 - val_loss: 0.9160 - val_accuracy: 0.6850\n",
            "Epoch 20/30\n",
            "32/32 [==============================] - 0s 10ms/step - loss: 0.8919 - accuracy: 0.6960 - val_loss: 0.8969 - val_accuracy: 0.6872\n",
            "Epoch 21/30\n",
            "32/32 [==============================] - 0s 10ms/step - loss: 0.8763 - accuracy: 0.6900 - val_loss: 0.8878 - val_accuracy: 0.6974\n",
            "Epoch 22/30\n",
            "32/32 [==============================] - 0s 13ms/step - loss: 0.8599 - accuracy: 0.6960 - val_loss: 0.8689 - val_accuracy: 0.7000\n",
            "Epoch 23/30\n",
            "32/32 [==============================] - 0s 13ms/step - loss: 0.8466 - accuracy: 0.7000 - val_loss: 0.8576 - val_accuracy: 0.7060\n",
            "Epoch 24/30\n",
            "32/32 [==============================] - 0s 11ms/step - loss: 0.8310 - accuracy: 0.6990 - val_loss: 0.8500 - val_accuracy: 0.7106\n",
            "Epoch 25/30\n",
            "32/32 [==============================] - 0s 10ms/step - loss: 0.8194 - accuracy: 0.7070 - val_loss: 0.8354 - val_accuracy: 0.7096\n",
            "Epoch 26/30\n",
            "32/32 [==============================] - 0s 10ms/step - loss: 0.8068 - accuracy: 0.7120 - val_loss: 0.8296 - val_accuracy: 0.7148\n",
            "Epoch 27/30\n",
            "32/32 [==============================] - 0s 10ms/step - loss: 0.7941 - accuracy: 0.7110 - val_loss: 0.8248 - val_accuracy: 0.7148\n",
            "Epoch 28/30\n",
            "32/32 [==============================] - 0s 10ms/step - loss: 0.7875 - accuracy: 0.7200 - val_loss: 0.8086 - val_accuracy: 0.7206\n",
            "Epoch 29/30\n",
            "32/32 [==============================] - 0s 13ms/step - loss: 0.7762 - accuracy: 0.7190 - val_loss: 0.8040 - val_accuracy: 0.7218\n",
            "Epoch 30/30\n",
            "32/32 [==============================] - 0s 13ms/step - loss: 0.7652 - accuracy: 0.7330 - val_loss: 0.7996 - val_accuracy: 0.7220\n"
          ],
          "name": "stdout"
        }
      ]
    },
    {
      "cell_type": "code",
      "metadata": {
        "colab": {
          "base_uri": "https://localhost:8080/",
          "height": 328
        },
        "id": "sZmb5p00Vuok",
        "outputId": "808b23ef-2272-44b0-93fe-d20f5280bdb9"
      },
      "source": [
        "pd.DataFrame(history.history).plot(figsize=(8, 5))\n",
        "plt.grid(True)\n",
        "plt.gca().set_ylim(0, 2)\n",
        "plt.show()"
      ],
      "execution_count": null,
      "outputs": [
        {
          "output_type": "display_data",
          "data": {
            "image/png": "[encoded data removed]",
            "text/plain": [
              "<Figure size 576x360 with 1 Axes>"
            ]
          },
          "metadata": {
            "tags": [],
            "needs_background": "light"
          }
        }
      ]
    },
    {
      "cell_type": "markdown",
      "metadata": {
        "id": "swGeGUsIBrHC"
      },
      "source": [
        "As you can see we were able to increase the validation accuracy by 10 points. That's a big jump!! Thanks to unsupervised pre-training.\n",
        "\n",
        "Now, let's unfreeze all the layers and finetune them:"
      ]
    },
    {
      "cell_type": "code",
      "metadata": {
        "colab": {
          "base_uri": "https://localhost:8080/"
        },
        "id": "nDLt8gPSYb0Z",
        "outputId": "a7728511-4141-41e3-e9ae-945a1c9de187"
      },
      "source": [
        "# UnFreeze the layers\n",
        "e_hidden_1.trainable = True\n",
        "encoded.trainable = True\n",
        "\n",
        "# Train again with lower learning rate\n",
        "model.compile(loss=\"sparse_categorical_crossentropy\",\n",
        "              optimizer=keras.optimizers.SGD(learning_rate=1e-4),\n",
        "              metrics=[\"accuracy\"])\n",
        "\n",
        "history = model.fit(X_flatten, y_train_small, epochs=30,\n",
        "                    validation_data=(X_valid_flatten, y_valid))"
      ],
      "execution_count": null,
      "outputs": [
        {
          "output_type": "stream",
          "text": [
            "Epoch 1/30\n",
            "32/32 [==============================] - 1s 22ms/step - loss: 0.7570 - accuracy: 0.7240 - val_loss: 0.7964 - val_accuracy: 0.7230\n",
            "Epoch 2/30\n",
            "32/32 [==============================] - 0s 10ms/step - loss: 0.7548 - accuracy: 0.7240 - val_loss: 0.7949 - val_accuracy: 0.7244\n",
            "Epoch 3/30\n",
            "32/32 [==============================] - 0s 10ms/step - loss: 0.7533 - accuracy: 0.7260 - val_loss: 0.7933 - val_accuracy: 0.7248\n",
            "Epoch 4/30\n",
            "32/32 [==============================] - 0s 11ms/step - loss: 0.7521 - accuracy: 0.7240 - val_loss: 0.7916 - val_accuracy: 0.7276\n",
            "Epoch 5/30\n",
            "32/32 [==============================] - 0s 13ms/step - loss: 0.7510 - accuracy: 0.7250 - val_loss: 0.7906 - val_accuracy: 0.7278\n",
            "Epoch 6/30\n",
            "32/32 [==============================] - 0s 10ms/step - loss: 0.7500 - accuracy: 0.7260 - val_loss: 0.7897 - val_accuracy: 0.7288\n",
            "Epoch 7/30\n",
            "32/32 [==============================] - 0s 13ms/step - loss: 0.7492 - accuracy: 0.7250 - val_loss: 0.7886 - val_accuracy: 0.7284\n",
            "Epoch 8/30\n",
            "32/32 [==============================] - 1s 24ms/step - loss: 0.7482 - accuracy: 0.7280 - val_loss: 0.7880 - val_accuracy: 0.7288\n",
            "Epoch 9/30\n",
            "32/32 [==============================] - 0s 13ms/step - loss: 0.7473 - accuracy: 0.7290 - val_loss: 0.7875 - val_accuracy: 0.7286\n",
            "Epoch 10/30\n",
            "32/32 [==============================] - 0s 10ms/step - loss: 0.7465 - accuracy: 0.7290 - val_loss: 0.7867 - val_accuracy: 0.7286\n",
            "Epoch 11/30\n",
            "32/32 [==============================] - 0s 13ms/step - loss: 0.7456 - accuracy: 0.7290 - val_loss: 0.7857 - val_accuracy: 0.7284\n",
            "Epoch 12/30\n",
            "32/32 [==============================] - 0s 11ms/step - loss: 0.7448 - accuracy: 0.7330 - val_loss: 0.7851 - val_accuracy: 0.7284\n",
            "Epoch 13/30\n",
            "32/32 [==============================] - 0s 10ms/step - loss: 0.7440 - accuracy: 0.7300 - val_loss: 0.7843 - val_accuracy: 0.7292\n",
            "Epoch 14/30\n",
            "32/32 [==============================] - 0s 13ms/step - loss: 0.7431 - accuracy: 0.7300 - val_loss: 0.7837 - val_accuracy: 0.7298\n",
            "Epoch 15/30\n",
            "32/32 [==============================] - 0s 11ms/step - loss: 0.7423 - accuracy: 0.7290 - val_loss: 0.7829 - val_accuracy: 0.7290\n",
            "Epoch 16/30\n",
            "32/32 [==============================] - 0s 10ms/step - loss: 0.7413 - accuracy: 0.7330 - val_loss: 0.7822 - val_accuracy: 0.7290\n",
            "Epoch 17/30\n",
            "32/32 [==============================] - 0s 13ms/step - loss: 0.7406 - accuracy: 0.7330 - val_loss: 0.7812 - val_accuracy: 0.7296\n",
            "Epoch 18/30\n",
            "32/32 [==============================] - 0s 10ms/step - loss: 0.7399 - accuracy: 0.7340 - val_loss: 0.7807 - val_accuracy: 0.7294\n",
            "Epoch 19/30\n",
            "32/32 [==============================] - 0s 13ms/step - loss: 0.7390 - accuracy: 0.7350 - val_loss: 0.7800 - val_accuracy: 0.7302\n",
            "Epoch 20/30\n",
            "32/32 [==============================] - 0s 10ms/step - loss: 0.7381 - accuracy: 0.7320 - val_loss: 0.7790 - val_accuracy: 0.7302\n",
            "Epoch 21/30\n",
            "32/32 [==============================] - 0s 11ms/step - loss: 0.7374 - accuracy: 0.7320 - val_loss: 0.7787 - val_accuracy: 0.7304\n",
            "Epoch 22/30\n",
            "32/32 [==============================] - 0s 10ms/step - loss: 0.7365 - accuracy: 0.7330 - val_loss: 0.7777 - val_accuracy: 0.7302\n",
            "Epoch 23/30\n",
            "32/32 [==============================] - 0s 12ms/step - loss: 0.7358 - accuracy: 0.7340 - val_loss: 0.7770 - val_accuracy: 0.7304\n",
            "Epoch 24/30\n",
            "32/32 [==============================] - 0s 10ms/step - loss: 0.7348 - accuracy: 0.7350 - val_loss: 0.7765 - val_accuracy: 0.7310\n",
            "Epoch 25/30\n",
            "32/32 [==============================] - 0s 13ms/step - loss: 0.7342 - accuracy: 0.7360 - val_loss: 0.7756 - val_accuracy: 0.7306\n",
            "Epoch 26/30\n",
            "32/32 [==============================] - 0s 10ms/step - loss: 0.7333 - accuracy: 0.7370 - val_loss: 0.7752 - val_accuracy: 0.7312\n",
            "Epoch 27/30\n",
            "32/32 [==============================] - 0s 10ms/step - loss: 0.7325 - accuracy: 0.7350 - val_loss: 0.7743 - val_accuracy: 0.7316\n",
            "Epoch 28/30\n",
            "32/32 [==============================] - 0s 10ms/step - loss: 0.7319 - accuracy: 0.7400 - val_loss: 0.7735 - val_accuracy: 0.7312\n",
            "Epoch 29/30\n",
            "32/32 [==============================] - 0s 14ms/step - loss: 0.7310 - accuracy: 0.7390 - val_loss: 0.7731 - val_accuracy: 0.7316\n",
            "Epoch 30/30\n",
            "32/32 [==============================] - 0s 13ms/step - loss: 0.7302 - accuracy: 0.7390 - val_loss: 0.7726 - val_accuracy: 0.7322\n"
          ],
          "name": "stdout"
        }
      ]
    },
    {
      "cell_type": "markdown",
      "metadata": {
        "id": "YFLysZoFCMRd"
      },
      "source": [
        "We increased the validation accuracy by one point."
      ]
    },
    {
      "cell_type": "markdown",
      "metadata": {
        "id": "TOA3E-MT70DA"
      },
      "source": [
        "# Unsupervised Pretaining Layer by Layer\n",
        "\n",
        "Another option is to try to train the layers one by one, starting with the lowest layer and then going up, using autoencoders. Once all layers have been trained this way, you can add the output layer for your task, and fine-tune the final network using supervised learning (i.e., with the labeled training examples). At this point, you can unfreeze all the pretrained layers, or just some of the upper ones."
      ]
    },
    {
      "cell_type": "markdown",
      "metadata": {
        "id": "AifUZP5Y769H"
      },
      "source": [
        "<img src=\"https://github.com/sayyed-uoft/fullstackai/raw/main/pretraining_layers.png\" width=\"60%\"/>"
      ]
    },
    {
      "cell_type": "markdown",
      "metadata": {
        "id": "7VPzaycUK1Mq"
      },
      "source": [
        "# Deep Learning Based Clustering"
      ]
    },
    {
      "cell_type": "markdown",
      "metadata": {
        "id": "1aZDHjR9K-MF"
      },
      "source": [
        "In the recents years, several researches have improved unsupervised clustering performance by leveraging deep learning. Several models achieve more than 96% accuracy on MNIST dataset without using a single labeled datapoint. However, we are still very far away from getting good accuracy for harder datasets such as CIFAR-10 and ImageNet.\n",
        "\n"
      ]
    },
    {
      "cell_type": "markdown",
      "metadata": {
        "id": "sZsZ_hBhLjVH"
      },
      "source": [
        "One method to do deep learning based clustering is to learn good feature representations and then run any classical clustering algorithm on the learned representations. Algorithms like K-means will work better on dense representations with lower domension. As we have seen, one popular method to learn meaningful representations is deep autoencoders."
      ]
    },
    {
      "cell_type": "markdown",
      "metadata": {
        "id": "uWUWtQ6RMKG4"
      },
      "source": [
        "Let's make an experiment to compare K-means clustering on raw Fashion MNIST images versus dense representation:"
      ]
    },
    {
      "cell_type": "markdown",
      "metadata": {
        "id": "37HAOKFKMmj6"
      },
      "source": [
        "## K-means Clustering on Raw Images"
      ]
    },
    {
      "cell_type": "markdown",
      "metadata": {
        "id": "zoXZpQZSMzU2"
      },
      "source": [
        "Let's load the dataset again. We don't need the labels for clustering but we can use it to measure the accuracy of the clustering task."
      ]
    },
    {
      "cell_type": "code",
      "metadata": {
        "id": "j5Jzl846MlHx"
      },
      "source": [
        "(X_train, y_train), (X_test, y_test) = keras.datasets.fashion_mnist.load_data()\n",
        "X_train = X_train / 255.0\n",
        "X_test = X_test / 255.0"
      ],
      "execution_count": 15,
      "outputs": []
    },
    {
      "cell_type": "markdown",
      "metadata": {
        "id": "bsrPBqlKOusq"
      },
      "source": [
        "We need to convert each image to a vector:"
      ]
    },
    {
      "cell_type": "code",
      "metadata": {
        "colab": {
          "base_uri": "https://localhost:8080/"
        },
        "id": "Nm2l2l_HOuZs",
        "outputId": "18816e44-a6d5-4bc0-a062-0922fc6dff15"
      },
      "source": [
        "X_train = X_train.reshape(-1, 784)\n",
        "X_test = X_test.reshape(-1, 784)\n",
        "\n",
        "X_train.shape"
      ],
      "execution_count": 17,
      "outputs": [
        {
          "output_type": "execute_result",
          "data": {
            "text/plain": [
              "(60000, 784)"
            ]
          },
          "metadata": {
            "tags": []
          },
          "execution_count": 17
        }
      ]
    },
    {
      "cell_type": "markdown",
      "metadata": {
        "id": "XAjCdOT_NZUO"
      },
      "source": [
        "Let's use K-means clustering from Scikit-learn (we already know K should be 10):"
      ]
    },
    {
      "cell_type": "code",
      "metadata": {
        "id": "W8GarWnoNgVz"
      },
      "source": [
        "from sklearn.cluster import KMeans\n",
        "\n",
        "kmeans = KMeans (n_clusters=10)"
      ],
      "execution_count": 18,
      "outputs": []
    },
    {
      "cell_type": "code",
      "metadata": {
        "colab": {
          "base_uri": "https://localhost:8080/"
        },
        "id": "DP7r8zIuOCtu",
        "outputId": "f5a10801-f399-4aa7-e3f8-336b9e55e214"
      },
      "source": [
        "%%time\n",
        "kmeans.fit(X_train)"
      ],
      "execution_count": 19,
      "outputs": [
        {
          "output_type": "stream",
          "text": [
            "CPU times: user 1min 15s, sys: 4.69 s, total: 1min 20s\n",
            "Wall time: 1min 8s\n"
          ],
          "name": "stdout"
        },
        {
          "output_type": "execute_result",
          "data": {
            "text/plain": [
              "KMeans(algorithm='auto', copy_x=True, init='k-means++', max_iter=300,\n",
              "       n_clusters=10, n_init=10, n_jobs=None, precompute_distances='auto',\n",
              "       random_state=None, tol=0.0001, verbose=0)"
            ]
          },
          "metadata": {
            "tags": []
          },
          "execution_count": 19
        }
      ]
    },
    {
      "cell_type": "markdown",
      "metadata": {
        "id": "lxAILAbXKl9E"
      },
      "source": [
        "Let's draw a table similar to a confusion matrix. Please note that the cluster numbers are not the same as labels but a perfect clustring would have only one non-zero value in each roq nad that value should be 6000. "
      ]
    },
    {
      "cell_type": "code",
      "metadata": {
        "colab": {
          "base_uri": "https://localhost:8080/",
          "height": 393
        },
        "id": "ajKoIeANp8gh",
        "outputId": "5de2f9c6-7fd8-483b-e050-9305d19b1058"
      },
      "source": [
        "df = pd.DataFrame({'label':y_train, 'cluster':kmeans.labels_, 'one':np.ones(60000)})\n",
        "table = pd.pivot_table(df, values='one', index=['cluster'],\n",
        "                    columns=['label'], aggfunc=np.sum, fill_value=0)\n",
        "table"
      ],
      "execution_count": 20,
      "outputs": [
        {
          "output_type": "execute_result",
          "data": {
            "text/html": [
              "<div>\n",
              "<style scoped>\n",
              "    .dataframe tbody tr th:only-of-type {\n",
              "        vertical-align: middle;\n",
              "    }\n",
              "\n",
              "    .dataframe tbody tr th {\n",
              "        vertical-align: top;\n",
              "    }\n",
              "\n",
              "    .dataframe thead th {\n",
              "        text-align: right;\n",
              "    }\n",
              "</style>\n",
              "<table border=\"1\" class=\"dataframe\">\n",
              "  <thead>\n",
              "    <tr style=\"text-align: right;\">\n",
              "      <th>label</th>\n",
              "      <th>0</th>\n",
              "      <th>1</th>\n",
              "      <th>2</th>\n",
              "      <th>3</th>\n",
              "      <th>4</th>\n",
              "      <th>5</th>\n",
              "      <th>6</th>\n",
              "      <th>7</th>\n",
              "      <th>8</th>\n",
              "      <th>9</th>\n",
              "    </tr>\n",
              "    <tr>\n",
              "      <th>cluster</th>\n",
              "      <th></th>\n",
              "      <th></th>\n",
              "      <th></th>\n",
              "      <th></th>\n",
              "      <th></th>\n",
              "      <th></th>\n",
              "      <th></th>\n",
              "      <th></th>\n",
              "      <th></th>\n",
              "      <th></th>\n",
              "    </tr>\n",
              "  </thead>\n",
              "  <tbody>\n",
              "    <tr>\n",
              "      <th>0</th>\n",
              "      <td>593</td>\n",
              "      <td>156</td>\n",
              "      <td>515</td>\n",
              "      <td>522</td>\n",
              "      <td>252</td>\n",
              "      <td>3772</td>\n",
              "      <td>774</td>\n",
              "      <td>511</td>\n",
              "      <td>496</td>\n",
              "      <td>170</td>\n",
              "    </tr>\n",
              "    <tr>\n",
              "      <th>1</th>\n",
              "      <td>1582</td>\n",
              "      <td>129</td>\n",
              "      <td>1786</td>\n",
              "      <td>525</td>\n",
              "      <td>1080</td>\n",
              "      <td>29</td>\n",
              "      <td>2070</td>\n",
              "      <td>0</td>\n",
              "      <td>228</td>\n",
              "      <td>36</td>\n",
              "    </tr>\n",
              "    <tr>\n",
              "      <th>2</th>\n",
              "      <td>23</td>\n",
              "      <td>3</td>\n",
              "      <td>27</td>\n",
              "      <td>5</td>\n",
              "      <td>15</td>\n",
              "      <td>4</td>\n",
              "      <td>62</td>\n",
              "      <td>1</td>\n",
              "      <td>2209</td>\n",
              "      <td>4</td>\n",
              "    </tr>\n",
              "    <tr>\n",
              "      <th>3</th>\n",
              "      <td>0</td>\n",
              "      <td>0</td>\n",
              "      <td>1</td>\n",
              "      <td>0</td>\n",
              "      <td>0</td>\n",
              "      <td>260</td>\n",
              "      <td>1</td>\n",
              "      <td>25</td>\n",
              "      <td>6</td>\n",
              "      <td>2665</td>\n",
              "    </tr>\n",
              "    <tr>\n",
              "      <th>4</th>\n",
              "      <td>3404</td>\n",
              "      <td>236</td>\n",
              "      <td>115</td>\n",
              "      <td>1684</td>\n",
              "      <td>873</td>\n",
              "      <td>2</td>\n",
              "      <td>1053</td>\n",
              "      <td>0</td>\n",
              "      <td>22</td>\n",
              "      <td>2</td>\n",
              "    </tr>\n",
              "    <tr>\n",
              "      <th>5</th>\n",
              "      <td>167</td>\n",
              "      <td>63</td>\n",
              "      <td>3519</td>\n",
              "      <td>49</td>\n",
              "      <td>3596</td>\n",
              "      <td>0</td>\n",
              "      <td>1955</td>\n",
              "      <td>0</td>\n",
              "      <td>269</td>\n",
              "      <td>1</td>\n",
              "    </tr>\n",
              "    <tr>\n",
              "      <th>6</th>\n",
              "      <td>201</td>\n",
              "      <td>5413</td>\n",
              "      <td>9</td>\n",
              "      <td>3208</td>\n",
              "      <td>154</td>\n",
              "      <td>1</td>\n",
              "      <td>62</td>\n",
              "      <td>0</td>\n",
              "      <td>28</td>\n",
              "      <td>2</td>\n",
              "    </tr>\n",
              "    <tr>\n",
              "      <th>7</th>\n",
              "      <td>2</td>\n",
              "      <td>0</td>\n",
              "      <td>1</td>\n",
              "      <td>0</td>\n",
              "      <td>0</td>\n",
              "      <td>1443</td>\n",
              "      <td>6</td>\n",
              "      <td>4695</td>\n",
              "      <td>237</td>\n",
              "      <td>176</td>\n",
              "    </tr>\n",
              "    <tr>\n",
              "      <th>8</th>\n",
              "      <td>0</td>\n",
              "      <td>0</td>\n",
              "      <td>0</td>\n",
              "      <td>0</td>\n",
              "      <td>0</td>\n",
              "      <td>476</td>\n",
              "      <td>0</td>\n",
              "      <td>768</td>\n",
              "      <td>62</td>\n",
              "      <td>2944</td>\n",
              "    </tr>\n",
              "    <tr>\n",
              "      <th>9</th>\n",
              "      <td>28</td>\n",
              "      <td>0</td>\n",
              "      <td>27</td>\n",
              "      <td>7</td>\n",
              "      <td>30</td>\n",
              "      <td>13</td>\n",
              "      <td>17</td>\n",
              "      <td>0</td>\n",
              "      <td>2443</td>\n",
              "      <td>0</td>\n",
              "    </tr>\n",
              "  </tbody>\n",
              "</table>\n",
              "</div>"
            ],
            "text/plain": [
              "label       0     1     2     3     4     5     6     7     8     9\n",
              "cluster                                                            \n",
              "0         593   156   515   522   252  3772   774   511   496   170\n",
              "1        1582   129  1786   525  1080    29  2070     0   228    36\n",
              "2          23     3    27     5    15     4    62     1  2209     4\n",
              "3           0     0     1     0     0   260     1    25     6  2665\n",
              "4        3404   236   115  1684   873     2  1053     0    22     2\n",
              "5         167    63  3519    49  3596     0  1955     0   269     1\n",
              "6         201  5413     9  3208   154     1    62     0    28     2\n",
              "7           2     0     1     0     0  1443     6  4695   237   176\n",
              "8           0     0     0     0     0   476     0   768    62  2944\n",
              "9          28     0    27     7    30    13    17     0  2443     0"
            ]
          },
          "metadata": {
            "tags": []
          },
          "execution_count": 20
        }
      ]
    },
    {
      "cell_type": "markdown",
      "metadata": {
        "id": "iDuRPbI3LL6s"
      },
      "source": [
        "## K-means Clustering on Image Representations"
      ]
    },
    {
      "cell_type": "markdown",
      "metadata": {
        "id": "Pwk_OrARLQsh"
      },
      "source": [
        "This time we will calculate the dense representation for each image, uisng an autoencoder, then we will run k-means algorithm on those representations."
      ]
    },
    {
      "cell_type": "markdown",
      "metadata": {
        "id": "DEvV7HW5LmzD"
      },
      "source": [
        "Let's create the autoencoder first:"
      ]
    },
    {
      "cell_type": "code",
      "metadata": {
        "colab": {
          "base_uri": "https://localhost:8080/"
        },
        "id": "VgLXSFNBMJ5W",
        "outputId": "b73aea7a-5cd4-4bac-b2b6-ceed0470fe0a"
      },
      "source": [
        "keras.backend.clear_session()\n",
        "np.random.seed(42)\n",
        "tf.random.set_seed(42)\n",
        "\n",
        "# input vector (flatten image)\n",
        "input_img = keras.Input(shape=[784])\n",
        "\n",
        "# Encoder layers (excluding output layer)\n",
        "e_hidden_1 = keras.layers.Dense(300, activation='relu')(input_img)\n",
        "encoded = keras.layers.Dense(100, activation='relu')(e_hidden_1)\n",
        "\n",
        "# Decoder layers\n",
        "d_hidden_1 = keras.layers.Dense(300, activation='relu')(encoded)\n",
        "decoded = keras.layers.Dense(784, activation='sigmoid')(d_hidden_1)\n",
        "\n",
        "# Autoencoder model\n",
        "autoencoder = keras.Model(inputs=[input_img], outputs=[decoded])\n",
        "\n",
        "# Encoder model\n",
        "encoder = keras.Model(inputs=[input_img], outputs=[encoded])\n",
        "\n",
        "autoencoder.summary()"
      ],
      "execution_count": 21,
      "outputs": [
        {
          "output_type": "stream",
          "text": [
            "Model: \"model\"\n",
            "_________________________________________________________________\n",
            "Layer (type)                 Output Shape              Param #   \n",
            "=================================================================\n",
            "input_1 (InputLayer)         [(None, 784)]             0         \n",
            "_________________________________________________________________\n",
            "dense (Dense)                (None, 300)               235500    \n",
            "_________________________________________________________________\n",
            "dense_1 (Dense)              (None, 100)               30100     \n",
            "_________________________________________________________________\n",
            "dense_2 (Dense)              (None, 300)               30300     \n",
            "_________________________________________________________________\n",
            "dense_3 (Dense)              (None, 784)               235984    \n",
            "=================================================================\n",
            "Total params: 531,884\n",
            "Trainable params: 531,884\n",
            "Non-trainable params: 0\n",
            "_________________________________________________________________\n"
          ],
          "name": "stdout"
        }
      ]
    },
    {
      "cell_type": "markdown",
      "metadata": {
        "id": "bJYc-_vDMt5V"
      },
      "source": [
        "Let's train it:"
      ]
    },
    {
      "cell_type": "code",
      "metadata": {
        "colab": {
          "base_uri": "https://localhost:8080/"
        },
        "id": "84pEB6UMMsc7",
        "outputId": "f06c5a53-3db8-426b-b40c-444aabdb1653"
      },
      "source": [
        "autoencoder.compile(loss='mean_squared_error', \n",
        "                    optimizer = keras.optimizers.Nadam())\n",
        "history = autoencoder.fit(X_train, X_train, epochs=30,\n",
        "                    validation_data=(X_test, X_test))"
      ],
      "execution_count": 22,
      "outputs": [
        {
          "output_type": "stream",
          "text": [
            "Epoch 1/30\n",
            "1875/1875 [==============================] - 20s 10ms/step - loss: 0.0204 - val_loss: 0.0126\n",
            "Epoch 2/30\n",
            "1875/1875 [==============================] - 19s 10ms/step - loss: 0.0113 - val_loss: 0.0108\n",
            "Epoch 3/30\n",
            "1875/1875 [==============================] - 19s 10ms/step - loss: 0.0093 - val_loss: 0.0093\n",
            "Epoch 4/30\n",
            "1875/1875 [==============================] - 19s 10ms/step - loss: 0.0082 - val_loss: 0.0078\n",
            "Epoch 5/30\n",
            "1875/1875 [==============================] - 19s 10ms/step - loss: 0.0075 - val_loss: 0.0072\n",
            "Epoch 6/30\n",
            "1875/1875 [==============================] - 19s 10ms/step - loss: 0.0069 - val_loss: 0.0068\n",
            "Epoch 7/30\n",
            "1875/1875 [==============================] - 19s 10ms/step - loss: 0.0066 - val_loss: 0.0065\n",
            "Epoch 8/30\n",
            "1875/1875 [==============================] - 19s 10ms/step - loss: 0.0063 - val_loss: 0.0063\n",
            "Epoch 9/30\n",
            "1875/1875 [==============================] - 18s 10ms/step - loss: 0.0061 - val_loss: 0.0061\n",
            "Epoch 10/30\n",
            "1875/1875 [==============================] - 19s 10ms/step - loss: 0.0059 - val_loss: 0.0061\n",
            "Epoch 11/30\n",
            "1875/1875 [==============================] - 19s 10ms/step - loss: 0.0058 - val_loss: 0.0059\n",
            "Epoch 12/30\n",
            "1875/1875 [==============================] - 20s 11ms/step - loss: 0.0056 - val_loss: 0.0058\n",
            "Epoch 13/30\n",
            "1875/1875 [==============================] - 20s 11ms/step - loss: 0.0055 - val_loss: 0.0057\n",
            "Epoch 14/30\n",
            "1875/1875 [==============================] - 20s 11ms/step - loss: 0.0055 - val_loss: 0.0056\n",
            "Epoch 15/30\n",
            "1875/1875 [==============================] - 20s 10ms/step - loss: 0.0054 - val_loss: 0.0055\n",
            "Epoch 16/30\n",
            "1875/1875 [==============================] - 20s 10ms/step - loss: 0.0053 - val_loss: 0.0056\n",
            "Epoch 17/30\n",
            "1875/1875 [==============================] - 20s 10ms/step - loss: 0.0053 - val_loss: 0.0053\n",
            "Epoch 18/30\n",
            "1875/1875 [==============================] - 20s 10ms/step - loss: 0.0052 - val_loss: 0.0055\n",
            "Epoch 19/30\n",
            "1875/1875 [==============================] - 19s 10ms/step - loss: 0.0052 - val_loss: 0.0053\n",
            "Epoch 20/30\n",
            "1875/1875 [==============================] - 19s 10ms/step - loss: 0.0051 - val_loss: 0.0053\n",
            "Epoch 21/30\n",
            "1875/1875 [==============================] - 18s 10ms/step - loss: 0.0051 - val_loss: 0.0053\n",
            "Epoch 22/30\n",
            "1875/1875 [==============================] - 18s 10ms/step - loss: 0.0050 - val_loss: 0.0052\n",
            "Epoch 23/30\n",
            "1875/1875 [==============================] - 18s 10ms/step - loss: 0.0050 - val_loss: 0.0051\n",
            "Epoch 24/30\n",
            "1875/1875 [==============================] - 20s 11ms/step - loss: 0.0050 - val_loss: 0.0051\n",
            "Epoch 25/30\n",
            "1875/1875 [==============================] - 20s 11ms/step - loss: 0.0050 - val_loss: 0.0051\n",
            "Epoch 26/30\n",
            "1875/1875 [==============================] - 20s 11ms/step - loss: 0.0049 - val_loss: 0.0051\n",
            "Epoch 27/30\n",
            "1875/1875 [==============================] - 19s 10ms/step - loss: 0.0049 - val_loss: 0.0051\n",
            "Epoch 28/30\n",
            "1875/1875 [==============================] - 19s 10ms/step - loss: 0.0049 - val_loss: 0.0050\n",
            "Epoch 29/30\n",
            "1875/1875 [==============================] - 20s 10ms/step - loss: 0.0049 - val_loss: 0.0054\n",
            "Epoch 30/30\n",
            "1875/1875 [==============================] - 19s 10ms/step - loss: 0.0048 - val_loss: 0.0050\n"
          ],
          "name": "stdout"
        }
      ]
    },
    {
      "cell_type": "code",
      "metadata": {
        "colab": {
          "base_uri": "https://localhost:8080/"
        },
        "id": "5TOFJovfgQKB",
        "outputId": "62e7c6f0-fee4-4613-cab3-ad4847128ae0"
      },
      "source": [
        "X_test.shape"
      ],
      "execution_count": 23,
      "outputs": [
        {
          "output_type": "execute_result",
          "data": {
            "text/plain": [
              "(10000, 784)"
            ]
          },
          "metadata": {
            "tags": []
          },
          "execution_count": 23
        }
      ]
    },
    {
      "cell_type": "markdown",
      "metadata": {
        "id": "rJ6PxnYJpgD5"
      },
      "source": [
        "Let's view how our autoencoder reconstructing some sample images from test set:"
      ]
    },
    {
      "cell_type": "code",
      "metadata": {
        "id": "sm-u7ppUoVgt"
      },
      "source": [
        "idx = [np.where(y_test==c)[0][0] for c in range(10)]\n",
        "origin_images = X_test[idx]\n",
        "reconst_images = autoencoder.predict(origin_images)"
      ],
      "execution_count": 44,
      "outputs": []
    },
    {
      "cell_type": "code",
      "metadata": {
        "colab": {
          "base_uri": "https://localhost:8080/",
          "height": 1000
        },
        "id": "mu5JBeUFc1Z3",
        "outputId": "7c4e1325-6923-4765-ca30-10c8738bd421"
      },
      "source": [
        "plt.figure(figsize=(5,30))\n",
        "for i in range(10):\n",
        "    plt.subplot(10,2,i*2+1)\n",
        "    plt.imshow(origin_images[i].reshape(28,28), cmap=\"gray\")\n",
        "    plt.subplot(10,2,i*2+2)\n",
        "    plt.imshow(reconst_images[i].reshape(28,28), cmap=\"gray\")\n",
        "plt.show()"
      ],
      "execution_count": 45,
      "outputs": [
        {
          "output_type": "display_data",
          "data": {
            "image/png": "[encoded data removed]",
            "text/plain": [
              "<Figure size 360x2160 with 20 Axes>"
            ]
          },
          "metadata": {
            "tags": [],
            "needs_background": "light"
          }
        }
      ]
    },
    {
      "cell_type": "markdown",
      "metadata": {
        "id": "tJclCcQMRo_P"
      },
      "source": [
        "Now let's use the encoder parts to get the dense representations:"
      ]
    },
    {
      "cell_type": "code",
      "metadata": {
        "colab": {
          "base_uri": "https://localhost:8080/"
        },
        "id": "aECC_9PdRwgg",
        "outputId": "b81797fe-e255-4a94-cf09-e65875281b9b"
      },
      "source": [
        "X_features = encoder.predict(X_train)\n",
        "X_features.shape"
      ],
      "execution_count": 9,
      "outputs": [
        {
          "output_type": "execute_result",
          "data": {
            "text/plain": [
              "(60000, 100)"
            ]
          },
          "metadata": {
            "tags": []
          },
          "execution_count": 9
        }
      ]
    },
    {
      "cell_type": "markdown",
      "metadata": {
        "id": "kX_UXrOGTU73"
      },
      "source": [
        "Now, let's run the K-means:"
      ]
    },
    {
      "cell_type": "code",
      "metadata": {
        "colab": {
          "base_uri": "https://localhost:8080/"
        },
        "id": "PsXlsv-WTkjj",
        "outputId": "5a71e3cf-8c46-4ed0-e935-317f29cab7e7"
      },
      "source": [
        "%%time\n",
        "\n",
        "kmeans = KMeans (n_clusters=10)\n",
        "kmeans.fit(X_features)"
      ],
      "execution_count": 51,
      "outputs": [
        {
          "output_type": "stream",
          "text": [
            "CPU times: user 13.1 s, sys: 4.23 s, total: 17.3 s\n",
            "Wall time: 12.4 s\n"
          ],
          "name": "stdout"
        }
      ]
    },
    {
      "cell_type": "code",
      "metadata": {
        "colab": {
          "base_uri": "https://localhost:8080/",
          "height": 393
        },
        "id": "zqxgZNnTT9zs",
        "outputId": "78c2f0ac-9f7e-405b-bb93-24d17fc76033"
      },
      "source": [
        "df = pd.DataFrame({'label':y_train, 'cluster':kmeans.labels_, 'one':np.ones(60000)})\n",
        "table = pd.pivot_table(df, values='one', index=['cluster'],\n",
        "                    columns=['label'], aggfunc=np.sum, fill_value=0)\n",
        "table"
      ],
      "execution_count": 52,
      "outputs": [
        {
          "output_type": "execute_result",
          "data": {
            "text/html": [
              "<div>\n",
              "<style scoped>\n",
              "    .dataframe tbody tr th:only-of-type {\n",
              "        vertical-align: middle;\n",
              "    }\n",
              "\n",
              "    .dataframe tbody tr th {\n",
              "        vertical-align: top;\n",
              "    }\n",
              "\n",
              "    .dataframe thead th {\n",
              "        text-align: right;\n",
              "    }\n",
              "</style>\n",
              "<table border=\"1\" class=\"dataframe\">\n",
              "  <thead>\n",
              "    <tr style=\"text-align: right;\">\n",
              "      <th>label</th>\n",
              "      <th>0</th>\n",
              "      <th>1</th>\n",
              "      <th>2</th>\n",
              "      <th>3</th>\n",
              "      <th>4</th>\n",
              "      <th>5</th>\n",
              "      <th>6</th>\n",
              "      <th>7</th>\n",
              "      <th>8</th>\n",
              "      <th>9</th>\n",
              "    </tr>\n",
              "    <tr>\n",
              "      <th>cluster</th>\n",
              "      <th></th>\n",
              "      <th></th>\n",
              "      <th></th>\n",
              "      <th></th>\n",
              "      <th></th>\n",
              "      <th></th>\n",
              "      <th></th>\n",
              "      <th></th>\n",
              "      <th></th>\n",
              "      <th></th>\n",
              "    </tr>\n",
              "  </thead>\n",
              "  <tbody>\n",
              "    <tr>\n",
              "      <th>0</th>\n",
              "      <td>3353</td>\n",
              "      <td>250</td>\n",
              "      <td>159</td>\n",
              "      <td>1585</td>\n",
              "      <td>956</td>\n",
              "      <td>0</td>\n",
              "      <td>1169</td>\n",
              "      <td>0</td>\n",
              "      <td>38</td>\n",
              "      <td>3</td>\n",
              "    </tr>\n",
              "    <tr>\n",
              "      <th>1</th>\n",
              "      <td>0</td>\n",
              "      <td>0</td>\n",
              "      <td>0</td>\n",
              "      <td>0</td>\n",
              "      <td>0</td>\n",
              "      <td>153</td>\n",
              "      <td>0</td>\n",
              "      <td>36</td>\n",
              "      <td>4</td>\n",
              "      <td>3015</td>\n",
              "    </tr>\n",
              "    <tr>\n",
              "      <th>2</th>\n",
              "      <td>26</td>\n",
              "      <td>0</td>\n",
              "      <td>18</td>\n",
              "      <td>16</td>\n",
              "      <td>16</td>\n",
              "      <td>6</td>\n",
              "      <td>14</td>\n",
              "      <td>0</td>\n",
              "      <td>2591</td>\n",
              "      <td>0</td>\n",
              "    </tr>\n",
              "    <tr>\n",
              "      <th>3</th>\n",
              "      <td>1</td>\n",
              "      <td>0</td>\n",
              "      <td>1</td>\n",
              "      <td>0</td>\n",
              "      <td>0</td>\n",
              "      <td>3099</td>\n",
              "      <td>0</td>\n",
              "      <td>4549</td>\n",
              "      <td>90</td>\n",
              "      <td>114</td>\n",
              "    </tr>\n",
              "    <tr>\n",
              "      <th>4</th>\n",
              "      <td>207</td>\n",
              "      <td>5447</td>\n",
              "      <td>15</td>\n",
              "      <td>3546</td>\n",
              "      <td>147</td>\n",
              "      <td>4</td>\n",
              "      <td>60</td>\n",
              "      <td>0</td>\n",
              "      <td>57</td>\n",
              "      <td>2</td>\n",
              "    </tr>\n",
              "    <tr>\n",
              "      <th>5</th>\n",
              "      <td>15</td>\n",
              "      <td>1</td>\n",
              "      <td>4</td>\n",
              "      <td>1</td>\n",
              "      <td>2</td>\n",
              "      <td>2069</td>\n",
              "      <td>4</td>\n",
              "      <td>5</td>\n",
              "      <td>28</td>\n",
              "      <td>58</td>\n",
              "    </tr>\n",
              "    <tr>\n",
              "      <th>6</th>\n",
              "      <td>35</td>\n",
              "      <td>4</td>\n",
              "      <td>37</td>\n",
              "      <td>6</td>\n",
              "      <td>16</td>\n",
              "      <td>10</td>\n",
              "      <td>81</td>\n",
              "      <td>3</td>\n",
              "      <td>2483</td>\n",
              "      <td>7</td>\n",
              "    </tr>\n",
              "    <tr>\n",
              "      <th>7</th>\n",
              "      <td>123</td>\n",
              "      <td>63</td>\n",
              "      <td>3611</td>\n",
              "      <td>51</td>\n",
              "      <td>3718</td>\n",
              "      <td>0</td>\n",
              "      <td>1941</td>\n",
              "      <td>0</td>\n",
              "      <td>207</td>\n",
              "      <td>1</td>\n",
              "    </tr>\n",
              "    <tr>\n",
              "      <th>8</th>\n",
              "      <td>0</td>\n",
              "      <td>0</td>\n",
              "      <td>0</td>\n",
              "      <td>0</td>\n",
              "      <td>0</td>\n",
              "      <td>526</td>\n",
              "      <td>0</td>\n",
              "      <td>1385</td>\n",
              "      <td>26</td>\n",
              "      <td>2712</td>\n",
              "    </tr>\n",
              "    <tr>\n",
              "      <th>9</th>\n",
              "      <td>2240</td>\n",
              "      <td>235</td>\n",
              "      <td>2155</td>\n",
              "      <td>795</td>\n",
              "      <td>1145</td>\n",
              "      <td>133</td>\n",
              "      <td>2731</td>\n",
              "      <td>22</td>\n",
              "      <td>476</td>\n",
              "      <td>88</td>\n",
              "    </tr>\n",
              "  </tbody>\n",
              "</table>\n",
              "</div>"
            ],
            "text/plain": [
              "label       0     1     2     3     4     5     6     7     8     9\n",
              "cluster                                                            \n",
              "0        3353   250   159  1585   956     0  1169     0    38     3\n",
              "1           0     0     0     0     0   153     0    36     4  3015\n",
              "2          26     0    18    16    16     6    14     0  2591     0\n",
              "3           1     0     1     0     0  3099     0  4549    90   114\n",
              "4         207  5447    15  3546   147     4    60     0    57     2\n",
              "5          15     1     4     1     2  2069     4     5    28    58\n",
              "6          35     4    37     6    16    10    81     3  2483     7\n",
              "7         123    63  3611    51  3718     0  1941     0   207     1\n",
              "8           0     0     0     0     0   526     0  1385    26  2712\n",
              "9        2240   235  2155   795  1145   133  2731    22   476    88"
            ]
          },
          "metadata": {
            "tags": []
          },
          "execution_count": 52
        }
      ]
    },
    {
      "cell_type": "markdown",
      "metadata": {
        "id": "Ja5TqI9nc42O"
      },
      "source": [
        "We see that this one is less scattered."
      ]
    }
  ]
}