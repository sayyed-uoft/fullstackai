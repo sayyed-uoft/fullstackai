{
  "nbformat": 4,
  "nbformat_minor": 0,
  "metadata": {
    "colab": {
      "name": "14_unsupervised_deep_learning.ipynb",
      "provenance": [],
      "collapsed_sections": [],
      "authorship_tag": "ABX9TyMp5D01GTgLpWsIdCIAiEnC",
      "include_colab_link": true
    },
    "kernelspec": {
      "name": "python3",
      "display_name": "Python 3"
    },
    "language_info": {
      "name": "python"
    }
  },
  "cells": [
    {
      "cell_type": "markdown",
      "metadata": {
        "id": "view-in-github",
        "colab_type": "text"
      },
      "source": [
        "<a href=\"https://colab.research.google.com/github/sayyed-uoft/fullstackai/blob/main/14_unsupervised_deep_learning.ipynb\" target=\"_parent\"><img src=\"https://colab.research.google.com/assets/colab-badge.svg\" alt=\"Open In Colab\"/></a>"
      ]
    },
    {
      "cell_type": "markdown",
      "metadata": {
        "id": "8Fw1dgw0uk-A"
      },
      "source": [
        "# Strata.ai - Artificial Intelligence Certificate \n",
        "\n",
        "# Module 3: Practical Deep Learning\n",
        "\n",
        "# Unsupervised Deep Learning"
      ]
    },
    {
      "cell_type": "markdown",
      "metadata": {
        "id": "l25gXeQVxOM0"
      },
      "source": [
        "# Setup"
      ]
    },
    {
      "cell_type": "code",
      "metadata": {
        "id": "axDx5_0BuXM4"
      },
      "source": [
        "# Python ≥3.5 is required\n",
        "import sys\n",
        "assert sys.version_info >= (3, 5)\n",
        "\n",
        "# Scikit-Learn ≥0.20 is required\n",
        "import sklearn\n",
        "assert sklearn.__version__ >= \"0.20\"\n",
        "\n",
        "try:\n",
        "    # %tensorflow_version only exists in Colab.\n",
        "    %tensorflow_version 2.x\n",
        "except Exception:\n",
        "    pass\n",
        "\n",
        "# TensorFlow ≥2.0 is required\n",
        "import tensorflow as tf\n",
        "from tensorflow import keras\n",
        "assert tf.__version__ >= \"2.0\"\n",
        "\n",
        "%load_ext tensorboard\n",
        "\n",
        "# Common imports\n",
        "import numpy as np\n",
        "import pandas as pd\n",
        "import os\n",
        "\n",
        "# to make this notebook's output stable across runs\n",
        "np.random.seed(42)\n",
        "\n",
        "# To plot pretty figures\n",
        "%matplotlib inline\n",
        "import matplotlib as mpl\n",
        "import matplotlib.pyplot as plt\n",
        "mpl.rc('axes', labelsize=14)\n",
        "mpl.rc('xtick', labelsize=12)\n",
        "mpl.rc('ytick', labelsize=12)\n",
        "\n",
        "# Where to save the figures\n",
        "PROJECT_ROOT_DIR = \".\"\n",
        "CHAPTER_ID = \"deep\"\n",
        "IMAGES_PATH = os.path.join(PROJECT_ROOT_DIR, \"images\", CHAPTER_ID)\n",
        "os.makedirs(IMAGES_PATH, exist_ok=True)\n",
        "\n",
        "def save_fig(fig_id, tight_layout=True, fig_extension=\"png\", resolution=300):\n",
        "    path = os.path.join(IMAGES_PATH, fig_id + \".\" + fig_extension)\n",
        "    print(\"Saving figure\", fig_id)\n",
        "    if tight_layout:\n",
        "        plt.tight_layout()\n",
        "    plt.savefig(path, format=fig_extension, dpi=resolution)"
      ],
      "execution_count": null,
      "outputs": []
    },
    {
      "cell_type": "markdown",
      "metadata": {
        "id": "VPjkbCdexdgJ"
      },
      "source": [
        "# Unsupervised Pretraining (Feature Learning)"
      ]
    },
    {
      "cell_type": "markdown",
      "metadata": {
        "id": "f-L15bKGyslo"
      },
      "source": [
        "- So far, we discussed supervised deep learning that you have enough labeled data to train neural neworks for either a classifcation or a regression task.\n",
        "- We also discussed how to take advantage of pre-trained models if if you can find one that solves a similar problem (transfer learning).\n",
        "- But, sometimes, you want to tackle a complex task for which you don’t have much labeled training data, and unfortunately you cannot find a model trained on a similar task. You may still be able to perform **unsupervised pretraining** if you can gather unlabeled training examples. It is often rather cheap to gather unlabeled training examples, but quite expensive to label them. If you can gather plenty of unlabeled training data, you can try to train the the entire network or layers one by one (starting with the lowest layer and then going up) using an unsupervised feature learning algorithm such as **autoencoders**."
      ]
    },
    {
      "cell_type": "markdown",
      "metadata": {
        "id": "0DIlyhGi1QKw"
      },
      "source": [
        "## Autoencoders\n"
      ]
    },
    {
      "cell_type": "markdown",
      "metadata": {
        "id": "95b9BzyK6RVm"
      },
      "source": [
        "Autoencoders are neural network architectures that are made of two parts:\n",
        "1. **Encoder:** it compresses the input data to a dense feature (mapping data to a lower dimensional representation). This is very similar to PCA that we learned in Machine Learning model.\n",
        "1. **Decoder:** it decomprsees the dense feature and tries to reconstruct the original input data just from that feature.\n",
        "\n"
      ]
    },
    {
      "cell_type": "markdown",
      "metadata": {
        "id": "svUZkGYZ7gAX"
      },
      "source": [
        "<img src=\"https://github.com/sayyed-uoft/fullstackai/raw/main/autoencoder.png\" width=\"90%\"/>"
      ]
    },
    {
      "cell_type": "markdown",
      "metadata": {
        "id": "NXpvWZpH8GPY"
      },
      "source": [
        "Autoencoders are:\n",
        "\n",
        "- **Data-specific**, which means that they will only be able to compress data similar to what they have been trained on. \n",
        "\n",
        "- **Lossy**, which means that the decompressed outputs will be degraded compared to the original inputs.\n",
        "\n",
        "- **Learned automatically** from data examples, which means that it is easy to train specialized instances of the algorithm that will perform well on a specific type of input. It doesn't require any new engineering, just appropriate training data.\n",
        "\n",
        "Autoencoders are great for:\n",
        "\n",
        "- Compressing data for visualization\n",
        "- Pretaining models with unlabeled data (feature learning)\n",
        "- Genereative models (e.g. data denoising)"
      ]
    },
    {
      "cell_type": "markdown",
      "metadata": {
        "id": "j0M8xELh9ASA"
      },
      "source": [
        "To build an autoencoder, you need three things: an **encoding function**, a **decoding function**, and a **distance function** between the amount of information loss between the compressed representation of your data and the decompressed representation (i.e. a \"loss\" function). The encoder and decoder will be chosen to be parametric functions (typically neural networks), and to be differentiable with respect to the distance function, so the parameters of the encoding/decoding functions can be optimize to minimize the reconstruction loss, using variation of Gradient Descent."
      ]
    },
    {
      "cell_type": "markdown",
      "metadata": {
        "id": "pjZZNOBj-Jfa"
      },
      "source": [
        "**Note**: Usually Encoder and Decoder has similar architectures but reverse of each other:\n",
        "\n",
        "\n",
        "\n",
        "\n",
        "\n"
      ]
    },
    {
      "cell_type": "markdown",
      "metadata": {
        "id": "RgkSWCso7-s0"
      },
      "source": [
        "<img src=\"https://github.com/sayyed-uoft/fullstackai/raw/main/autoencoder2.png\" width=\"60%\"/>"
      ]
    },
    {
      "cell_type": "markdown",
      "metadata": {
        "id": "3NWH0CFF0JYL"
      },
      "source": [
        "## Linear Autoencoder\n",
        "\n",
        "A lineare autoencoder is an autoencoder that doesn't use any activation function in it's layers. \n",
        "\n",
        "Since no activation function is used, ther is no point of using mopre then one hidden layer (with the size of the target dimention). This autoencoder is equivalent to PCA that we learned in the ML module.\n",
        "\n"
      ]
    },
    {
      "cell_type": "markdown",
      "metadata": {
        "id": "PjLOnMeG2pdk"
      },
      "source": [
        "<img src=\"https://github.com/sayyed-uoft/fullstackai/raw/main/linear_autoencoder.png\" width=\"50%\"/>"
      ]
    },
    {
      "cell_type": "markdown",
      "metadata": {
        "id": "V3ArRgZt--gA"
      },
      "source": [
        "## Autoencoder Example: Unsupervised Pretraining"
      ]
    },
    {
      "cell_type": "markdown",
      "metadata": {
        "id": "HjI3RU-_AGji"
      },
      "source": [
        "We will use Fashion MNIST dataset for this example. Let's first load the dataset. We will also select only 1000 samples as an small training dataset. The rest of the samples we will use for unsupervised learning:"
      ]
    },
    {
      "cell_type": "code",
      "metadata": {
        "colab": {
          "base_uri": "https://localhost:8080/"
        },
        "id": "hWhmgK9pxVWi",
        "outputId": "6bd21bbb-4388-4584-d00a-3769554d65a9"
      },
      "source": [
        "(X_train_full, y_train_full), (X_test, y_test) = keras.datasets.fashion_mnist.load_data()\n",
        "X_train_full = X_train_full / 255.0\n",
        "X_test = X_test / 255.0\n",
        "X_valid, X_train = X_train_full[:5000], X_train_full[5000:]\n",
        "y_valid, y_train = y_train_full[:5000], y_train_full[5000:]\n",
        "X_train_small, X_train_nolabel = X_train_full[5000:6000], X_train_full[6000:]\n",
        "y_train_small = y_train_full[5000:6000]"
      ],
      "execution_count": null,
      "outputs": [
        {
          "output_type": "stream",
          "text": [
            "Downloading data from https://storage.googleapis.com/tensorflow/tf-keras-datasets/train-labels-idx1-ubyte.gz\n",
            "32768/29515 [=================================] - 0s 0us/step\n",
            "Downloading data from https://storage.googleapis.com/tensorflow/tf-keras-datasets/train-images-idx3-ubyte.gz\n",
            "26427392/26421880 [==============================] - 0s 0us/step\n",
            "Downloading data from https://storage.googleapis.com/tensorflow/tf-keras-datasets/t10k-labels-idx1-ubyte.gz\n",
            "8192/5148 [===============================================] - 0s 0us/step\n",
            "Downloading data from https://storage.googleapis.com/tensorflow/tf-keras-datasets/t10k-images-idx3-ubyte.gz\n",
            "4423680/4422102 [==============================] - 0s 0us/step\n"
          ],
          "name": "stdout"
        }
      ]
    },
    {
      "cell_type": "markdown",
      "metadata": {
        "id": "ZTsiZ48mqvFl"
      },
      "source": [
        "Let's create our model (the original model we used):"
      ]
    },
    {
      "cell_type": "code",
      "metadata": {
        "id": "6DNvB-u0A0XD"
      },
      "source": [
        "tf.random.set_seed(42)\n",
        "np.random.seed(42)\n",
        "\n",
        "model = keras.models.Sequential([\n",
        "    keras.layers.Flatten(input_shape=[28, 28]),\n",
        "    keras.layers.Dense(300, activation=\"relu\"),\n",
        "    keras.layers.Dense(100, activation=\"relu\"),\n",
        "    keras.layers.Dense(10, activation=\"softmax\")\n",
        "])\n",
        "\n",
        "model.compile(loss=\"sparse_categorical_crossentropy\",\n",
        "              optimizer=keras.optimizers.SGD(learning_rate=1e-3),\n",
        "              metrics=[\"accuracy\"])"
      ],
      "execution_count": null,
      "outputs": []
    },
    {
      "cell_type": "markdown",
      "metadata": {
        "id": "KE1cKvcrr6St"
      },
      "source": [
        "Now, let's train the model with all labeled trraining data: "
      ]
    },
    {
      "cell_type": "code",
      "metadata": {
        "colab": {
          "base_uri": "https://localhost:8080/"
        },
        "id": "-DXl_9WtBwvt",
        "outputId": "bbee1439-5a58-4125-cb70-35a5578eed3c"
      },
      "source": [
        "history = model.fit(X_train, y_train, epochs=30,\n",
        "                    validation_data=(X_valid, y_valid))"
      ],
      "execution_count": null,
      "outputs": [
        {
          "output_type": "stream",
          "text": [
            "Epoch 1/30\n",
            "1719/1719 [==============================] - 6s 3ms/step - loss: 1.4968 - accuracy: 0.5750 - val_loss: 1.0055 - val_accuracy: 0.7110\n",
            "Epoch 2/30\n",
            "1719/1719 [==============================] - 6s 3ms/step - loss: 0.8677 - accuracy: 0.7317 - val_loss: 0.7534 - val_accuracy: 0.7652\n",
            "Epoch 3/30\n",
            "1719/1719 [==============================] - 6s 3ms/step - loss: 0.7166 - accuracy: 0.7673 - val_loss: 0.6670 - val_accuracy: 0.7880\n",
            "Epoch 4/30\n",
            "1719/1719 [==============================] - 6s 3ms/step - loss: 0.6452 - accuracy: 0.7884 - val_loss: 0.6063 - val_accuracy: 0.8046\n",
            "Epoch 5/30\n",
            "1719/1719 [==============================] - 6s 3ms/step - loss: 0.5995 - accuracy: 0.8034 - val_loss: 0.5686 - val_accuracy: 0.8200\n",
            "Epoch 6/30\n",
            "1719/1719 [==============================] - 6s 3ms/step - loss: 0.5670 - accuracy: 0.8131 - val_loss: 0.5419 - val_accuracy: 0.8256\n",
            "Epoch 7/30\n",
            "1719/1719 [==============================] - 6s 3ms/step - loss: 0.5428 - accuracy: 0.8209 - val_loss: 0.5200 - val_accuracy: 0.8306\n",
            "Epoch 8/30\n",
            "1719/1719 [==============================] - 6s 3ms/step - loss: 0.5243 - accuracy: 0.8261 - val_loss: 0.5107 - val_accuracy: 0.8306\n",
            "Epoch 9/30\n",
            "1719/1719 [==============================] - 5s 3ms/step - loss: 0.5095 - accuracy: 0.8292 - val_loss: 0.4916 - val_accuracy: 0.8378\n",
            "Epoch 10/30\n",
            "1719/1719 [==============================] - 6s 3ms/step - loss: 0.4966 - accuracy: 0.8323 - val_loss: 0.4826 - val_accuracy: 0.8382\n",
            "Epoch 11/30\n",
            "1719/1719 [==============================] - 6s 3ms/step - loss: 0.4858 - accuracy: 0.8359 - val_loss: 0.4722 - val_accuracy: 0.8424\n",
            "Epoch 12/30\n",
            "1719/1719 [==============================] - 6s 3ms/step - loss: 0.4767 - accuracy: 0.8379 - val_loss: 0.4660 - val_accuracy: 0.8438\n",
            "Epoch 13/30\n",
            "1719/1719 [==============================] - 6s 3ms/step - loss: 0.4691 - accuracy: 0.8413 - val_loss: 0.4583 - val_accuracy: 0.8482\n",
            "Epoch 14/30\n",
            "1719/1719 [==============================] - 5s 3ms/step - loss: 0.4620 - accuracy: 0.8423 - val_loss: 0.4544 - val_accuracy: 0.8474\n",
            "Epoch 15/30\n",
            "1719/1719 [==============================] - 5s 3ms/step - loss: 0.4559 - accuracy: 0.8437 - val_loss: 0.4456 - val_accuracy: 0.8528\n",
            "Epoch 16/30\n",
            "1719/1719 [==============================] - 5s 3ms/step - loss: 0.4502 - accuracy: 0.8464 - val_loss: 0.4435 - val_accuracy: 0.8506\n",
            "Epoch 17/30\n",
            "1719/1719 [==============================] - 5s 3ms/step - loss: 0.4451 - accuracy: 0.8471 - val_loss: 0.4409 - val_accuracy: 0.8518\n",
            "Epoch 18/30\n",
            "1719/1719 [==============================] - 6s 3ms/step - loss: 0.4400 - accuracy: 0.8496 - val_loss: 0.4344 - val_accuracy: 0.8536\n",
            "Epoch 19/30\n",
            "1719/1719 [==============================] - 6s 3ms/step - loss: 0.4360 - accuracy: 0.8506 - val_loss: 0.4307 - val_accuracy: 0.8572\n",
            "Epoch 20/30\n",
            "1719/1719 [==============================] - 6s 3ms/step - loss: 0.4315 - accuracy: 0.8516 - val_loss: 0.4265 - val_accuracy: 0.8540\n",
            "Epoch 21/30\n",
            "1719/1719 [==============================] - 5s 3ms/step - loss: 0.4276 - accuracy: 0.8532 - val_loss: 0.4202 - val_accuracy: 0.8594\n",
            "Epoch 22/30\n",
            "1719/1719 [==============================] - 6s 3ms/step - loss: 0.4237 - accuracy: 0.8549 - val_loss: 0.4180 - val_accuracy: 0.8584\n",
            "Epoch 23/30\n",
            "1719/1719 [==============================] - 6s 3ms/step - loss: 0.4200 - accuracy: 0.8553 - val_loss: 0.4150 - val_accuracy: 0.8608\n",
            "Epoch 24/30\n",
            "1719/1719 [==============================] - 6s 3ms/step - loss: 0.4169 - accuracy: 0.8567 - val_loss: 0.4135 - val_accuracy: 0.8608\n",
            "Epoch 25/30\n",
            "1719/1719 [==============================] - 6s 3ms/step - loss: 0.4139 - accuracy: 0.8579 - val_loss: 0.4131 - val_accuracy: 0.8624\n",
            "Epoch 26/30\n",
            "1719/1719 [==============================] - 6s 3ms/step - loss: 0.4107 - accuracy: 0.8589 - val_loss: 0.4088 - val_accuracy: 0.8622\n",
            "Epoch 27/30\n",
            "1719/1719 [==============================] - 6s 3ms/step - loss: 0.4080 - accuracy: 0.8596 - val_loss: 0.4070 - val_accuracy: 0.8620\n",
            "Epoch 28/30\n",
            "1719/1719 [==============================] - 6s 3ms/step - loss: 0.4052 - accuracy: 0.8605 - val_loss: 0.4073 - val_accuracy: 0.8632\n",
            "Epoch 29/30\n",
            "1719/1719 [==============================] - 6s 3ms/step - loss: 0.4024 - accuracy: 0.8613 - val_loss: 0.4024 - val_accuracy: 0.8636\n",
            "Epoch 30/30\n",
            "1719/1719 [==============================] - 5s 3ms/step - loss: 0.3998 - accuracy: 0.8625 - val_loss: 0.4024 - val_accuracy: 0.8654\n"
          ],
          "name": "stdout"
        }
      ]
    },
    {
      "cell_type": "code",
      "metadata": {
        "colab": {
          "base_uri": "https://localhost:8080/",
          "height": 328
        },
        "id": "mvDsriKzt2AX",
        "outputId": "be3eea7d-7b56-4818-db4d-bbacd9c48ecf"
      },
      "source": [
        "pd.DataFrame(history.history).plot(figsize=(8, 5))\n",
        "plt.grid(True)\n",
        "plt.gca().set_ylim(0, 1)\n",
        "plt.show()"
      ],
      "execution_count": null,
      "outputs": [
        {
          "output_type": "display_data",
          "data": {
            "image/png": "[encoded data removed]",
            "text/plain": [
              "<Figure size 576x360 with 1 Axes>"
            ]
          },
          "metadata": {
            "tags": [],
            "needs_background": "light"
          }
        }
      ]
    },
    {
      "cell_type": "markdown",
      "metadata": {
        "id": "Nto0Sb03t1C-"
      },
      "source": [
        "Let's assume we have only 1000 labeled samples (excluding validation set) and train the same network:"
      ]
    },
    {
      "cell_type": "code",
      "metadata": {
        "colab": {
          "base_uri": "https://localhost:8080/"
        },
        "id": "9zmlGaIivTMS",
        "outputId": "e55bcb4a-c1b7-4979-88bd-a314c7323099"
      },
      "source": [
        "keras.backend.clear_session()\n",
        "np.random.seed(42)\n",
        "tf.random.set_seed(42)\n",
        "\n",
        "model = keras.models.Sequential([\n",
        "    keras.layers.Flatten(input_shape=[28, 28]),\n",
        "    keras.layers.Dense(300, activation=\"relu\"),\n",
        "    keras.layers.Dense(100, activation=\"relu\"),\n",
        "    keras.layers.Dense(10, activation=\"softmax\")\n",
        "])\n",
        "\n",
        "model.compile(loss=\"sparse_categorical_crossentropy\",\n",
        "              optimizer=keras.optimizers.SGD(learning_rate=1e-3),\n",
        "              metrics=[\"accuracy\"])\n",
        "\n",
        "history = model.fit(X_train_small, y_train_small, epochs=30,\n",
        "                    validation_data=(X_valid, y_valid))"
      ],
      "execution_count": null,
      "outputs": [
        {
          "output_type": "stream",
          "text": [
            "Epoch 1/30\n",
            "32/32 [==============================] - 1s 18ms/step - loss: 2.4482 - accuracy: 0.1500 - val_loss: 2.3475 - val_accuracy: 0.1468\n",
            "Epoch 2/30\n",
            "32/32 [==============================] - 0s 11ms/step - loss: 2.3041 - accuracy: 0.1540 - val_loss: 2.2408 - val_accuracy: 0.1644\n",
            "Epoch 3/30\n",
            "32/32 [==============================] - 0s 10ms/step - loss: 2.2133 - accuracy: 0.1600 - val_loss: 2.1699 - val_accuracy: 0.1774\n",
            "Epoch 4/30\n",
            "32/32 [==============================] - 0s 14ms/step - loss: 2.1483 - accuracy: 0.2020 - val_loss: 2.1154 - val_accuracy: 0.1988\n",
            "Epoch 5/30\n",
            "32/32 [==============================] - 0s 11ms/step - loss: 2.0960 - accuracy: 0.2380 - val_loss: 2.0687 - val_accuracy: 0.2546\n",
            "Epoch 6/30\n",
            "32/32 [==============================] - 0s 13ms/step - loss: 2.0501 - accuracy: 0.2990 - val_loss: 2.0276 - val_accuracy: 0.3114\n",
            "Epoch 7/30\n",
            "32/32 [==============================] - 0s 11ms/step - loss: 2.0088 - accuracy: 0.3550 - val_loss: 1.9891 - val_accuracy: 0.3598\n",
            "Epoch 8/30\n",
            "32/32 [==============================] - 0s 10ms/step - loss: 1.9700 - accuracy: 0.3820 - val_loss: 1.9529 - val_accuracy: 0.3904\n",
            "Epoch 9/30\n",
            "32/32 [==============================] - 0s 13ms/step - loss: 1.9329 - accuracy: 0.4100 - val_loss: 1.9179 - val_accuracy: 0.4164\n",
            "Epoch 10/30\n",
            "32/32 [==============================] - 0s 10ms/step - loss: 1.8970 - accuracy: 0.4350 - val_loss: 1.8836 - val_accuracy: 0.4390\n",
            "Epoch 11/30\n",
            "32/32 [==============================] - 0s 10ms/step - loss: 1.8622 - accuracy: 0.4540 - val_loss: 1.8496 - val_accuracy: 0.4608\n",
            "Epoch 12/30\n",
            "32/32 [==============================] - 0s 10ms/step - loss: 1.8281 - accuracy: 0.4770 - val_loss: 1.8166 - val_accuracy: 0.4824\n",
            "Epoch 13/30\n",
            "32/32 [==============================] - 0s 11ms/step - loss: 1.7944 - accuracy: 0.4970 - val_loss: 1.7839 - val_accuracy: 0.4976\n",
            "Epoch 14/30\n",
            "32/32 [==============================] - 0s 10ms/step - loss: 1.7609 - accuracy: 0.5190 - val_loss: 1.7520 - val_accuracy: 0.5108\n",
            "Epoch 15/30\n",
            "32/32 [==============================] - 0s 10ms/step - loss: 1.7287 - accuracy: 0.5360 - val_loss: 1.7208 - val_accuracy: 0.5204\n",
            "Epoch 16/30\n",
            "32/32 [==============================] - 0s 11ms/step - loss: 1.6979 - accuracy: 0.5460 - val_loss: 1.6912 - val_accuracy: 0.5288\n",
            "Epoch 17/30\n",
            "32/32 [==============================] - 0s 13ms/step - loss: 1.6683 - accuracy: 0.5510 - val_loss: 1.6617 - val_accuracy: 0.5400\n",
            "Epoch 18/30\n",
            "32/32 [==============================] - 0s 13ms/step - loss: 1.6396 - accuracy: 0.5640 - val_loss: 1.6332 - val_accuracy: 0.5506\n",
            "Epoch 19/30\n",
            "32/32 [==============================] - 0s 10ms/step - loss: 1.6110 - accuracy: 0.5780 - val_loss: 1.6061 - val_accuracy: 0.5602\n",
            "Epoch 20/30\n",
            "32/32 [==============================] - 0s 13ms/step - loss: 1.5839 - accuracy: 0.5830 - val_loss: 1.5788 - val_accuracy: 0.5704\n",
            "Epoch 21/30\n",
            "32/32 [==============================] - 0s 13ms/step - loss: 1.5571 - accuracy: 0.5960 - val_loss: 1.5531 - val_accuracy: 0.5756\n",
            "Epoch 22/30\n",
            "32/32 [==============================] - 0s 10ms/step - loss: 1.5305 - accuracy: 0.6010 - val_loss: 1.5272 - val_accuracy: 0.5846\n",
            "Epoch 23/30\n",
            "32/32 [==============================] - 0s 13ms/step - loss: 1.5052 - accuracy: 0.6130 - val_loss: 1.5021 - val_accuracy: 0.5936\n",
            "Epoch 24/30\n",
            "32/32 [==============================] - 0s 11ms/step - loss: 1.4800 - accuracy: 0.6200 - val_loss: 1.4773 - val_accuracy: 0.6040\n",
            "Epoch 25/30\n",
            "32/32 [==============================] - 0s 14ms/step - loss: 1.4558 - accuracy: 0.6270 - val_loss: 1.4532 - val_accuracy: 0.6138\n",
            "Epoch 26/30\n",
            "32/32 [==============================] - 0s 11ms/step - loss: 1.4321 - accuracy: 0.6310 - val_loss: 1.4311 - val_accuracy: 0.6126\n",
            "Epoch 27/30\n",
            "32/32 [==============================] - 0s 13ms/step - loss: 1.4092 - accuracy: 0.6310 - val_loss: 1.4082 - val_accuracy: 0.6238\n",
            "Epoch 28/30\n",
            "32/32 [==============================] - 0s 14ms/step - loss: 1.3875 - accuracy: 0.6310 - val_loss: 1.3862 - val_accuracy: 0.6264\n",
            "Epoch 29/30\n",
            "32/32 [==============================] - 0s 14ms/step - loss: 1.3657 - accuracy: 0.6370 - val_loss: 1.3655 - val_accuracy: 0.6290\n",
            "Epoch 30/30\n",
            "32/32 [==============================] - 0s 13ms/step - loss: 1.3446 - accuracy: 0.6440 - val_loss: 1.3460 - val_accuracy: 0.6304\n"
          ],
          "name": "stdout"
        }
      ]
    },
    {
      "cell_type": "code",
      "metadata": {
        "colab": {
          "base_uri": "https://localhost:8080/",
          "height": 328
        },
        "id": "OgSBmwipvyyu",
        "outputId": "56a7ea5d-ae59-4034-ff65-718f15b13006"
      },
      "source": [
        "pd.DataFrame(history.history).plot(figsize=(8, 5))\n",
        "plt.grid(True)\n",
        "plt.gca().set_ylim(0, 2)\n",
        "plt.show()"
      ],
      "execution_count": null,
      "outputs": [
        {
          "output_type": "display_data",
          "data": {
            "image/png": "[encoded data removed]",
            "text/plain": [
              "<Figure size 576x360 with 1 Axes>"
            ]
          },
          "metadata": {
            "tags": [],
            "needs_background": "light"
          }
        }
      ]
    },
    {
      "cell_type": "markdown",
      "metadata": {
        "id": "_B-PvZF5wCto"
      },
      "source": [
        "Obviously, there is not enough data and we get very bad validation accuracy. \n",
        "\n",
        "Let's pretrain the model by using an autoencoder network. For the encoder, we use the exact newtork we used above (except the output layer) and we use the reverse of that for the decoder.\n",
        "\n",
        "This is a regression problem and we will use MSE loss. Because the output is bounded (between 0 and 1), we will juse sigmoid activation function for the output layer."
      ]
    },
    {
      "cell_type": "code",
      "metadata": {
        "colab": {
          "base_uri": "https://localhost:8080/"
        },
        "id": "cBhUQTWHwnYG",
        "outputId": "8b5cf7fb-056b-4e02-82c0-3ae079735d23"
      },
      "source": [
        "keras.backend.clear_session()\n",
        "np.random.seed(42)\n",
        "tf.random.set_seed(42)\n",
        "\n",
        "# input vector (flatten image)\n",
        "input_img = keras.Input(shape=[784])\n",
        "\n",
        "# Encoder layers (excluding output layer)\n",
        "e_hidden_1 = keras.layers.Dense(300, activation='relu')(input_img)\n",
        "encoded = keras.layers.Dense(100, activation='relu')(e_hidden_1)\n",
        "\n",
        "# Decoder layers\n",
        "d_hidden_1 = keras.layers.Dense(300, activation='relu')(encoded)\n",
        "decoded = keras.layers.Dense(784, activation='sigmoid')(d_hidden_1)\n",
        "\n",
        "# Autoencoder model\n",
        "autoencoder = keras.Model(inputs=[input_img], outputs=[decoded])\n",
        "\n",
        "autoencoder.summary()"
      ],
      "execution_count": null,
      "outputs": [
        {
          "output_type": "stream",
          "text": [
            "Model: \"model\"\n",
            "_________________________________________________________________\n",
            "Layer (type)                 Output Shape              Param #   \n",
            "=================================================================\n",
            "input_1 (InputLayer)         [(None, 784)]             0         \n",
            "_________________________________________________________________\n",
            "dense (Dense)                (None, 300)               235500    \n",
            "_________________________________________________________________\n",
            "dense_1 (Dense)              (None, 100)               30100     \n",
            "_________________________________________________________________\n",
            "dense_2 (Dense)              (None, 300)               30300     \n",
            "_________________________________________________________________\n",
            "dense_3 (Dense)              (None, 784)               235984    \n",
            "=================================================================\n",
            "Total params: 531,884\n",
            "Trainable params: 531,884\n",
            "Non-trainable params: 0\n",
            "_________________________________________________________________\n"
          ],
          "name": "stdout"
        }
      ]
    },
    {
      "cell_type": "code",
      "metadata": {
        "id": "y2fQDFFrAU0K"
      },
      "source": [
        "autoencoder.compile(loss='mean_squared_error', \n",
        "                    optimizer = keras.optimizers.Nadam())\n",
        "                    #optimizer = keras.optimizers.SGD(learning_rate=1e-3))"
      ],
      "execution_count": null,
      "outputs": []
    },
    {
      "cell_type": "code",
      "metadata": {
        "colab": {
          "base_uri": "https://localhost:8080/"
        },
        "id": "Xz7L7SfkBRF7",
        "outputId": "093fda8e-19a8-40f8-d6b0-2e5c64cd215e"
      },
      "source": [
        "X_train_nolabel.shape"
      ],
      "execution_count": null,
      "outputs": [
        {
          "output_type": "execute_result",
          "data": {
            "text/plain": [
              "(54000, 28, 28)"
            ]
          },
          "metadata": {
            "tags": []
          },
          "execution_count": 22
        }
      ]
    },
    {
      "cell_type": "markdown",
      "metadata": {
        "id": "hEltPD7x4sT7"
      },
      "source": [
        "We didn't use Flatten layer so the output shape and the input shape are the same. So, we need to reshape the training data first."
      ]
    },
    {
      "cell_type": "code",
      "metadata": {
        "colab": {
          "base_uri": "https://localhost:8080/"
        },
        "id": "8p5zz9iVA7zd",
        "outputId": "27ab6443-d7ce-4531-9234-733586264d65"
      },
      "source": [
        "\n",
        "X_flatten = X_train_nolabel.reshape(-1, 784)\n",
        "X_valid_flatten = X_valid.reshape(-1, 784)\n",
        "(X_flatten.shape, X_valid_flatten.shape)"
      ],
      "execution_count": null,
      "outputs": [
        {
          "output_type": "execute_result",
          "data": {
            "text/plain": [
              "((54000, 784), (5000, 784))"
            ]
          },
          "metadata": {
            "tags": []
          },
          "execution_count": 23
        }
      ]
    },
    {
      "cell_type": "markdown",
      "metadata": {
        "id": "hygTvNw-AH74"
      },
      "source": [
        "Lst's train the sutoencoder with only training data (no labels) for both input and output:"
      ]
    },
    {
      "cell_type": "code",
      "metadata": {
        "colab": {
          "base_uri": "https://localhost:8080/"
        },
        "id": "IViWe_1oBeCc",
        "outputId": "b98cad6b-e802-4c6d-f5f1-a8c007fab36a"
      },
      "source": [
        "history = autoencoder.fit(X_flatten, X_flatten, epochs=30,\n",
        "                    validation_data=(X_valid_flatten, X_valid_flatten))"
      ],
      "execution_count": null,
      "outputs": [
        {
          "output_type": "stream",
          "text": [
            "Epoch 1/30\n",
            "1688/1688 [==============================] - 23s 13ms/step - loss: 0.0212 - val_loss: 0.0130\n",
            "Epoch 2/30\n",
            "1688/1688 [==============================] - 22s 13ms/step - loss: 0.0118 - val_loss: 0.0105\n",
            "Epoch 3/30\n",
            "1688/1688 [==============================] - 22s 13ms/step - loss: 0.0097 - val_loss: 0.0095\n",
            "Epoch 4/30\n",
            "1688/1688 [==============================] - 22s 13ms/step - loss: 0.0085 - val_loss: 0.0082\n",
            "Epoch 5/30\n",
            "1688/1688 [==============================] - 22s 13ms/step - loss: 0.0077 - val_loss: 0.0079\n",
            "Epoch 6/30\n",
            "1688/1688 [==============================] - 22s 13ms/step - loss: 0.0072 - val_loss: 0.0071\n",
            "Epoch 7/30\n",
            "1688/1688 [==============================] - 22s 13ms/step - loss: 0.0068 - val_loss: 0.0068\n",
            "Epoch 8/30\n",
            "1688/1688 [==============================] - 22s 13ms/step - loss: 0.0065 - val_loss: 0.0065\n",
            "Epoch 9/30\n",
            "1688/1688 [==============================] - 22s 13ms/step - loss: 0.0062 - val_loss: 0.0062\n",
            "Epoch 10/30\n",
            "1688/1688 [==============================] - 22s 13ms/step - loss: 0.0060 - val_loss: 0.0061\n",
            "Epoch 11/30\n",
            "1688/1688 [==============================] - 22s 13ms/step - loss: 0.0059 - val_loss: 0.0061\n",
            "Epoch 12/30\n",
            "1688/1688 [==============================] - 21s 13ms/step - loss: 0.0058 - val_loss: 0.0067\n",
            "Epoch 13/30\n",
            "1688/1688 [==============================] - 22s 13ms/step - loss: 0.0057 - val_loss: 0.0059\n",
            "Epoch 14/30\n",
            "1688/1688 [==============================] - 22s 13ms/step - loss: 0.0056 - val_loss: 0.0057\n",
            "Epoch 15/30\n",
            "1688/1688 [==============================] - 22s 13ms/step - loss: 0.0055 - val_loss: 0.0058\n",
            "Epoch 16/30\n",
            "1688/1688 [==============================] - 22s 13ms/step - loss: 0.0054 - val_loss: 0.0056\n",
            "Epoch 17/30\n",
            "1688/1688 [==============================] - 22s 13ms/step - loss: 0.0054 - val_loss: 0.0060\n",
            "Epoch 18/30\n",
            "1688/1688 [==============================] - 22s 13ms/step - loss: 0.0054 - val_loss: 0.0056\n",
            "Epoch 19/30\n",
            "1688/1688 [==============================] - 22s 13ms/step - loss: 0.0053 - val_loss: 0.0054\n",
            "Epoch 20/30\n",
            "1688/1688 [==============================] - 22s 13ms/step - loss: 0.0053 - val_loss: 0.0055\n",
            "Epoch 21/30\n",
            "1688/1688 [==============================] - 22s 13ms/step - loss: 0.0052 - val_loss: 0.0054\n",
            "Epoch 22/30\n",
            "1688/1688 [==============================] - 22s 13ms/step - loss: 0.0052 - val_loss: 0.0055\n",
            "Epoch 23/30\n",
            "1688/1688 [==============================] - 22s 13ms/step - loss: 0.0052 - val_loss: 0.0054\n",
            "Epoch 24/30\n",
            "1688/1688 [==============================] - 22s 13ms/step - loss: 0.0051 - val_loss: 0.0053\n",
            "Epoch 25/30\n",
            "1688/1688 [==============================] - 22s 13ms/step - loss: 0.0051 - val_loss: 0.0053\n",
            "Epoch 26/30\n",
            "1688/1688 [==============================] - 22s 13ms/step - loss: 0.0051 - val_loss: 0.0054\n",
            "Epoch 27/30\n",
            "1688/1688 [==============================] - 22s 13ms/step - loss: 0.0051 - val_loss: 0.0053\n",
            "Epoch 28/30\n",
            "1688/1688 [==============================] - 22s 13ms/step - loss: 0.0050 - val_loss: 0.0055\n",
            "Epoch 29/30\n",
            "1688/1688 [==============================] - 21s 13ms/step - loss: 0.0050 - val_loss: 0.0052\n",
            "Epoch 30/30\n",
            "1688/1688 [==============================] - 22s 13ms/step - loss: 0.0050 - val_loss: 0.0053\n"
          ],
          "name": "stdout"
        }
      ]
    },
    {
      "cell_type": "code",
      "metadata": {
        "colab": {
          "base_uri": "https://localhost:8080/",
          "height": 323
        },
        "id": "PKlqjVN0H0nK",
        "outputId": "a156c281-444e-4bf6-8a15-9321b8d65272"
      },
      "source": [
        "pd.DataFrame(history.history).plot(figsize=(8, 5))\n",
        "plt.grid(True)\n",
        "plt.show()"
      ],
      "execution_count": null,
      "outputs": [
        {
          "output_type": "display_data",
          "data": {
            "image/png": "[encoded data removed]",
            "text/plain": [
              "<Figure size 576x360 with 1 Axes>"
            ]
          },
          "metadata": {
            "tags": [],
            "needs_background": "light"
          }
        }
      ]
    },
    {
      "cell_type": "markdown",
      "metadata": {
        "id": "p1Jdk9W0A2Dr"
      },
      "source": [
        "The learning cureves show that the autoencoder netowrk leanned very well."
      ]
    },
    {
      "cell_type": "markdown",
      "metadata": {
        "id": "H2E2EAHOBDGq"
      },
      "source": [
        "???????"
      ]
    },
    {
      "cell_type": "markdown",
      "metadata": {
        "id": "vANVz27XBFP_"
      },
      "source": [
        "Now, let'ss add the softmax layer on top of the pre-trained encoder to make the classification model (similar to the model we used for fully supervised learning).\n",
        "\n",
        "First, we will freeze the pretained layers and only train the softmax layer using the small training set:"
      ]
    },
    {
      "cell_type": "code",
      "metadata": {
        "colab": {
          "base_uri": "https://localhost:8080/"
        },
        "id": "LCDTqkVsLKTW",
        "outputId": "453a4bea-2ee8-478b-9b60-defbba409197"
      },
      "source": [
        "# Adding the softmax layer on top of the encoder\n",
        "cls_output = keras.layers.Dense(10, activation=\"softmax\")(encoded)\n",
        "\n",
        "# Creating the classification model\n",
        "model = keras.Model(inputs=[input_img], outputs=[cls_output])\n",
        "\n",
        "# Freeze the layers\n",
        "e_hidden_1.trainable = False\n",
        "encoded.trainable = False\n",
        "\n",
        "model.summary()"
      ],
      "execution_count": null,
      "outputs": [
        {
          "output_type": "stream",
          "text": [
            "Model: \"model_4\"\n",
            "_________________________________________________________________\n",
            "Layer (type)                 Output Shape              Param #   \n",
            "=================================================================\n",
            "input_1 (InputLayer)         [(None, 784)]             0         \n",
            "_________________________________________________________________\n",
            "dense (Dense)                (None, 300)               235500    \n",
            "_________________________________________________________________\n",
            "dense_1 (Dense)              (None, 100)               30100     \n",
            "_________________________________________________________________\n",
            "dense_7 (Dense)              (None, 10)                1010      \n",
            "=================================================================\n",
            "Total params: 266,610\n",
            "Trainable params: 266,610\n",
            "Non-trainable params: 0\n",
            "_________________________________________________________________\n"
          ],
          "name": "stdout"
        }
      ]
    },
    {
      "cell_type": "code",
      "metadata": {
        "id": "l6T5kZ2lL_UF"
      },
      "source": [
        "model.compile(loss=\"sparse_categorical_crossentropy\",\n",
        "              optimizer=keras.optimizers.SGD(learning_rate=1e-3),\n",
        "              metrics=[\"accuracy\"])"
      ],
      "execution_count": null,
      "outputs": []
    },
    {
      "cell_type": "code",
      "metadata": {
        "colab": {
          "base_uri": "https://localhost:8080/"
        },
        "id": "cSPugKgeMSiC",
        "outputId": "ab914639-83df-495a-8b8a-2ceb6915f930"
      },
      "source": [
        "X_flatten = X_train_small.reshape(-1, 784)\n",
        "X_flatten.shape"
      ],
      "execution_count": null,
      "outputs": [
        {
          "output_type": "execute_result",
          "data": {
            "text/plain": [
              "(1000, 784)"
            ]
          },
          "metadata": {
            "tags": []
          },
          "execution_count": 38
        }
      ]
    },
    {
      "cell_type": "code",
      "metadata": {
        "colab": {
          "base_uri": "https://localhost:8080/"
        },
        "id": "daZ9XZjSMg_L",
        "outputId": "dbfae39a-1ff9-4668-8341-f2c529babba1"
      },
      "source": [
        "history = model.fit(X_flatten, y_train_small, epochs=30,\n",
        "                    validation_data=(X_valid_flatten, y_valid))"
      ],
      "execution_count": null,
      "outputs": [
        {
          "output_type": "stream",
          "text": [
            "Epoch 1/30\n",
            "32/32 [==============================] - 1s 20ms/step - loss: 3.2028 - accuracy: 0.1420 - val_loss: 2.6024 - val_accuracy: 0.1898\n",
            "Epoch 2/30\n",
            "32/32 [==============================] - 0s 10ms/step - loss: 2.3879 - accuracy: 0.2160 - val_loss: 2.2140 - val_accuracy: 0.2712\n",
            "Epoch 3/30\n",
            "32/32 [==============================] - 0s 10ms/step - loss: 2.0665 - accuracy: 0.2900 - val_loss: 1.9359 - val_accuracy: 0.3268\n",
            "Epoch 4/30\n",
            "32/32 [==============================] - 0s 10ms/step - loss: 1.8358 - accuracy: 0.3510 - val_loss: 1.7248 - val_accuracy: 0.3866\n",
            "Epoch 5/30\n",
            "32/32 [==============================] - 0s 13ms/step - loss: 1.6596 - accuracy: 0.3920 - val_loss: 1.5690 - val_accuracy: 0.4526\n",
            "Epoch 6/30\n",
            "32/32 [==============================] - 0s 10ms/step - loss: 1.5215 - accuracy: 0.4570 - val_loss: 1.4588 - val_accuracy: 0.4866\n",
            "Epoch 7/30\n",
            "32/32 [==============================] - 0s 13ms/step - loss: 1.4154 - accuracy: 0.4950 - val_loss: 1.3551 - val_accuracy: 0.5210\n",
            "Epoch 8/30\n",
            "32/32 [==============================] - 0s 11ms/step - loss: 1.3259 - accuracy: 0.5290 - val_loss: 1.2831 - val_accuracy: 0.5600\n",
            "Epoch 9/30\n",
            "32/32 [==============================] - 0s 13ms/step - loss: 1.2545 - accuracy: 0.5630 - val_loss: 1.2279 - val_accuracy: 0.5812\n",
            "Epoch 10/30\n",
            "32/32 [==============================] - 0s 13ms/step - loss: 1.1951 - accuracy: 0.5780 - val_loss: 1.1690 - val_accuracy: 0.6004\n",
            "Epoch 11/30\n",
            "32/32 [==============================] - 0s 13ms/step - loss: 1.1469 - accuracy: 0.5990 - val_loss: 1.1183 - val_accuracy: 0.6116\n",
            "Epoch 12/30\n",
            "32/32 [==============================] - 0s 10ms/step - loss: 1.1016 - accuracy: 0.6170 - val_loss: 1.0851 - val_accuracy: 0.6222\n",
            "Epoch 13/30\n",
            "32/32 [==============================] - 0s 10ms/step - loss: 1.0658 - accuracy: 0.6280 - val_loss: 1.0583 - val_accuracy: 0.6338\n",
            "Epoch 14/30\n",
            "32/32 [==============================] - 0s 13ms/step - loss: 1.0325 - accuracy: 0.6430 - val_loss: 1.0212 - val_accuracy: 0.6524\n",
            "Epoch 15/30\n",
            "32/32 [==============================] - 0s 13ms/step - loss: 1.0021 - accuracy: 0.6470 - val_loss: 0.9955 - val_accuracy: 0.6570\n",
            "Epoch 16/30\n",
            "32/32 [==============================] - 0s 10ms/step - loss: 0.9758 - accuracy: 0.6590 - val_loss: 0.9775 - val_accuracy: 0.6610\n",
            "Epoch 17/30\n",
            "32/32 [==============================] - 0s 13ms/step - loss: 0.9525 - accuracy: 0.6690 - val_loss: 0.9476 - val_accuracy: 0.6710\n",
            "Epoch 18/30\n",
            "32/32 [==============================] - 0s 10ms/step - loss: 0.9322 - accuracy: 0.6710 - val_loss: 0.9342 - val_accuracy: 0.6806\n",
            "Epoch 19/30\n",
            "32/32 [==============================] - 0s 13ms/step - loss: 0.9124 - accuracy: 0.6820 - val_loss: 0.9160 - val_accuracy: 0.6850\n",
            "Epoch 20/30\n",
            "32/32 [==============================] - 0s 10ms/step - loss: 0.8919 - accuracy: 0.6960 - val_loss: 0.8969 - val_accuracy: 0.6872\n",
            "Epoch 21/30\n",
            "32/32 [==============================] - 0s 10ms/step - loss: 0.8763 - accuracy: 0.6900 - val_loss: 0.8878 - val_accuracy: 0.6974\n",
            "Epoch 22/30\n",
            "32/32 [==============================] - 0s 13ms/step - loss: 0.8599 - accuracy: 0.6960 - val_loss: 0.8689 - val_accuracy: 0.7000\n",
            "Epoch 23/30\n",
            "32/32 [==============================] - 0s 13ms/step - loss: 0.8466 - accuracy: 0.7000 - val_loss: 0.8576 - val_accuracy: 0.7060\n",
            "Epoch 24/30\n",
            "32/32 [==============================] - 0s 11ms/step - loss: 0.8310 - accuracy: 0.6990 - val_loss: 0.8500 - val_accuracy: 0.7106\n",
            "Epoch 25/30\n",
            "32/32 [==============================] - 0s 10ms/step - loss: 0.8194 - accuracy: 0.7070 - val_loss: 0.8354 - val_accuracy: 0.7096\n",
            "Epoch 26/30\n",
            "32/32 [==============================] - 0s 10ms/step - loss: 0.8068 - accuracy: 0.7120 - val_loss: 0.8296 - val_accuracy: 0.7148\n",
            "Epoch 27/30\n",
            "32/32 [==============================] - 0s 10ms/step - loss: 0.7941 - accuracy: 0.7110 - val_loss: 0.8248 - val_accuracy: 0.7148\n",
            "Epoch 28/30\n",
            "32/32 [==============================] - 0s 10ms/step - loss: 0.7875 - accuracy: 0.7200 - val_loss: 0.8086 - val_accuracy: 0.7206\n",
            "Epoch 29/30\n",
            "32/32 [==============================] - 0s 13ms/step - loss: 0.7762 - accuracy: 0.7190 - val_loss: 0.8040 - val_accuracy: 0.7218\n",
            "Epoch 30/30\n",
            "32/32 [==============================] - 0s 13ms/step - loss: 0.7652 - accuracy: 0.7330 - val_loss: 0.7996 - val_accuracy: 0.7220\n"
          ],
          "name": "stdout"
        }
      ]
    },
    {
      "cell_type": "code",
      "metadata": {
        "colab": {
          "base_uri": "https://localhost:8080/",
          "height": 328
        },
        "id": "sZmb5p00Vuok",
        "outputId": "808b23ef-2272-44b0-93fe-d20f5280bdb9"
      },
      "source": [
        "pd.DataFrame(history.history).plot(figsize=(8, 5))\n",
        "plt.grid(True)\n",
        "plt.gca().set_ylim(0, 2)\n",
        "plt.show()"
      ],
      "execution_count": null,
      "outputs": [
        {
          "output_type": "display_data",
          "data": {
            "image/png": "[encoded data removed]",
            "text/plain": [
              "<Figure size 576x360 with 1 Axes>"
            ]
          },
          "metadata": {
            "tags": [],
            "needs_background": "light"
          }
        }
      ]
    },
    {
      "cell_type": "markdown",
      "metadata": {
        "id": "swGeGUsIBrHC"
      },
      "source": [
        "As you can see we were able to increase the validation accuracy by 10 points. That's a big jump!! Thanks to unsupervised pre-training.\n",
        "\n",
        "Now, let's unfreeze all the layers and finetune them:"
      ]
    },
    {
      "cell_type": "code",
      "metadata": {
        "colab": {
          "base_uri": "https://localhost:8080/"
        },
        "id": "nDLt8gPSYb0Z",
        "outputId": "a7728511-4141-41e3-e9ae-945a1c9de187"
      },
      "source": [
        "# UnFreeze the layers\n",
        "e_hidden_1.trainable = True\n",
        "encoded.trainable = True\n",
        "\n",
        "# Train again with lower learning rate\n",
        "model.compile(loss=\"sparse_categorical_crossentropy\",\n",
        "              optimizer=keras.optimizers.SGD(learning_rate=1e-4),\n",
        "              metrics=[\"accuracy\"])\n",
        "\n",
        "history = model.fit(X_flatten, y_train_small, epochs=30,\n",
        "                    validation_data=(X_valid_flatten, y_valid))"
      ],
      "execution_count": null,
      "outputs": [
        {
          "output_type": "stream",
          "text": [
            "Epoch 1/30\n",
            "32/32 [==============================] - 1s 22ms/step - loss: 0.7570 - accuracy: 0.7240 - val_loss: 0.7964 - val_accuracy: 0.7230\n",
            "Epoch 2/30\n",
            "32/32 [==============================] - 0s 10ms/step - loss: 0.7548 - accuracy: 0.7240 - val_loss: 0.7949 - val_accuracy: 0.7244\n",
            "Epoch 3/30\n",
            "32/32 [==============================] - 0s 10ms/step - loss: 0.7533 - accuracy: 0.7260 - val_loss: 0.7933 - val_accuracy: 0.7248\n",
            "Epoch 4/30\n",
            "32/32 [==============================] - 0s 11ms/step - loss: 0.7521 - accuracy: 0.7240 - val_loss: 0.7916 - val_accuracy: 0.7276\n",
            "Epoch 5/30\n",
            "32/32 [==============================] - 0s 13ms/step - loss: 0.7510 - accuracy: 0.7250 - val_loss: 0.7906 - val_accuracy: 0.7278\n",
            "Epoch 6/30\n",
            "32/32 [==============================] - 0s 10ms/step - loss: 0.7500 - accuracy: 0.7260 - val_loss: 0.7897 - val_accuracy: 0.7288\n",
            "Epoch 7/30\n",
            "32/32 [==============================] - 0s 13ms/step - loss: 0.7492 - accuracy: 0.7250 - val_loss: 0.7886 - val_accuracy: 0.7284\n",
            "Epoch 8/30\n",
            "32/32 [==============================] - 1s 24ms/step - loss: 0.7482 - accuracy: 0.7280 - val_loss: 0.7880 - val_accuracy: 0.7288\n",
            "Epoch 9/30\n",
            "32/32 [==============================] - 0s 13ms/step - loss: 0.7473 - accuracy: 0.7290 - val_loss: 0.7875 - val_accuracy: 0.7286\n",
            "Epoch 10/30\n",
            "32/32 [==============================] - 0s 10ms/step - loss: 0.7465 - accuracy: 0.7290 - val_loss: 0.7867 - val_accuracy: 0.7286\n",
            "Epoch 11/30\n",
            "32/32 [==============================] - 0s 13ms/step - loss: 0.7456 - accuracy: 0.7290 - val_loss: 0.7857 - val_accuracy: 0.7284\n",
            "Epoch 12/30\n",
            "32/32 [==============================] - 0s 11ms/step - loss: 0.7448 - accuracy: 0.7330 - val_loss: 0.7851 - val_accuracy: 0.7284\n",
            "Epoch 13/30\n",
            "32/32 [==============================] - 0s 10ms/step - loss: 0.7440 - accuracy: 0.7300 - val_loss: 0.7843 - val_accuracy: 0.7292\n",
            "Epoch 14/30\n",
            "32/32 [==============================] - 0s 13ms/step - loss: 0.7431 - accuracy: 0.7300 - val_loss: 0.7837 - val_accuracy: 0.7298\n",
            "Epoch 15/30\n",
            "32/32 [==============================] - 0s 11ms/step - loss: 0.7423 - accuracy: 0.7290 - val_loss: 0.7829 - val_accuracy: 0.7290\n",
            "Epoch 16/30\n",
            "32/32 [==============================] - 0s 10ms/step - loss: 0.7413 - accuracy: 0.7330 - val_loss: 0.7822 - val_accuracy: 0.7290\n",
            "Epoch 17/30\n",
            "32/32 [==============================] - 0s 13ms/step - loss: 0.7406 - accuracy: 0.7330 - val_loss: 0.7812 - val_accuracy: 0.7296\n",
            "Epoch 18/30\n",
            "32/32 [==============================] - 0s 10ms/step - loss: 0.7399 - accuracy: 0.7340 - val_loss: 0.7807 - val_accuracy: 0.7294\n",
            "Epoch 19/30\n",
            "32/32 [==============================] - 0s 13ms/step - loss: 0.7390 - accuracy: 0.7350 - val_loss: 0.7800 - val_accuracy: 0.7302\n",
            "Epoch 20/30\n",
            "32/32 [==============================] - 0s 10ms/step - loss: 0.7381 - accuracy: 0.7320 - val_loss: 0.7790 - val_accuracy: 0.7302\n",
            "Epoch 21/30\n",
            "32/32 [==============================] - 0s 11ms/step - loss: 0.7374 - accuracy: 0.7320 - val_loss: 0.7787 - val_accuracy: 0.7304\n",
            "Epoch 22/30\n",
            "32/32 [==============================] - 0s 10ms/step - loss: 0.7365 - accuracy: 0.7330 - val_loss: 0.7777 - val_accuracy: 0.7302\n",
            "Epoch 23/30\n",
            "32/32 [==============================] - 0s 12ms/step - loss: 0.7358 - accuracy: 0.7340 - val_loss: 0.7770 - val_accuracy: 0.7304\n",
            "Epoch 24/30\n",
            "32/32 [==============================] - 0s 10ms/step - loss: 0.7348 - accuracy: 0.7350 - val_loss: 0.7765 - val_accuracy: 0.7310\n",
            "Epoch 25/30\n",
            "32/32 [==============================] - 0s 13ms/step - loss: 0.7342 - accuracy: 0.7360 - val_loss: 0.7756 - val_accuracy: 0.7306\n",
            "Epoch 26/30\n",
            "32/32 [==============================] - 0s 10ms/step - loss: 0.7333 - accuracy: 0.7370 - val_loss: 0.7752 - val_accuracy: 0.7312\n",
            "Epoch 27/30\n",
            "32/32 [==============================] - 0s 10ms/step - loss: 0.7325 - accuracy: 0.7350 - val_loss: 0.7743 - val_accuracy: 0.7316\n",
            "Epoch 28/30\n",
            "32/32 [==============================] - 0s 10ms/step - loss: 0.7319 - accuracy: 0.7400 - val_loss: 0.7735 - val_accuracy: 0.7312\n",
            "Epoch 29/30\n",
            "32/32 [==============================] - 0s 14ms/step - loss: 0.7310 - accuracy: 0.7390 - val_loss: 0.7731 - val_accuracy: 0.7316\n",
            "Epoch 30/30\n",
            "32/32 [==============================] - 0s 13ms/step - loss: 0.7302 - accuracy: 0.7390 - val_loss: 0.7726 - val_accuracy: 0.7322\n"
          ],
          "name": "stdout"
        }
      ]
    },
    {
      "cell_type": "markdown",
      "metadata": {
        "id": "YFLysZoFCMRd"
      },
      "source": [
        "We increased the validation accuracy by one point."
      ]
    },
    {
      "cell_type": "markdown",
      "metadata": {
        "id": "TOA3E-MT70DA"
      },
      "source": [
        "# Unsupervised Pretaining Layer by Layer\n",
        "\n",
        "Another option is to try to train the layers one by one, starting with the lowest layer and then going up, using autoencoders. Once all layers have been trained this way, you can add the output layer for your task, and fine-tune the final network using supervised learning (i.e., with the labeled training examples). At this point, you can unfreeze all the pretrained layers, or just some of the upper ones."
      ]
    },
    {
      "cell_type": "markdown",
      "metadata": {
        "id": "AifUZP5Y769H"
      },
      "source": [
        "<img src=\"https://github.com/sayyed-uoft/fullstackai/raw/main/pretraining_layers.png\" width=\"60%\"/>"
      ]
    },
    {
      "cell_type": "code",
      "metadata": {
        "id": "cQt4hgokCVTZ"
      },
      "source": [
        ""
      ],
      "execution_count": null,
      "outputs": []
    }
  ]
}