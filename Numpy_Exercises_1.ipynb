{
  "nbformat": 4,
  "nbformat_minor": 0,
  "metadata": {
    "colab": {
      "name": "Numpy Exercises - 1.ipynb",
      "provenance": [],
      "collapsed_sections": [],
      "authorship_tag": "ABX9TyOEgNHB3XXw/bxm+uz78JYO",
      "include_colab_link": true
    },
    "kernelspec": {
      "name": "python3",
      "display_name": "Python 3"
    },
    "language_info": {
      "name": "python"
    }
  },
  "cells": [
    {
      "cell_type": "markdown",
      "metadata": {
        "id": "view-in-github",
        "colab_type": "text"
      },
      "source": [
        "<a href=\"https://colab.research.google.com/github/sayyed-uoft/fullstackai/blob/main/Numpy_Exercises_1.ipynb\" target=\"_parent\"><img src=\"https://colab.research.google.com/assets/colab-badge.svg\" alt=\"Open In Colab\"/></a>"
      ]
    },
    {
      "cell_type": "markdown",
      "metadata": {
        "id": "GqO4m5cGE50A"
      },
      "source": [
        "Import NumPy package"
      ]
    },
    {
      "cell_type": "code",
      "metadata": {
        "id": "krGl4jPaExb2"
      },
      "source": [
        ""
      ],
      "execution_count": null,
      "outputs": []
    },
    {
      "cell_type": "markdown",
      "metadata": {
        "id": "_ugEVybjFDRy"
      },
      "source": [
        "Get the version of Numpy"
      ]
    },
    {
      "cell_type": "code",
      "metadata": {
        "id": "9H0QWw88FIds"
      },
      "source": [
        ""
      ],
      "execution_count": null,
      "outputs": []
    },
    {
      "cell_type": "markdown",
      "metadata": {
        "id": "MzjZt0w2FJe9"
      },
      "source": [
        "Create a 2x3 matrix (call it m1) with random numbers (normal distribution)"
      ]
    },
    {
      "cell_type": "code",
      "metadata": {
        "id": "u1L5EeySG8Mw"
      },
      "source": [
        ""
      ],
      "execution_count": null,
      "outputs": []
    },
    {
      "cell_type": "markdown",
      "metadata": {
        "id": "AFCfxFBYG9Aj"
      },
      "source": [
        "Multiply all the elements of m1 by 10 and put it in m1 again"
      ]
    },
    {
      "cell_type": "code",
      "metadata": {
        "id": "WbUU_-M2HHLG"
      },
      "source": [
        ""
      ],
      "execution_count": null,
      "outputs": []
    },
    {
      "cell_type": "markdown",
      "metadata": {
        "id": "gRaa9CUBHIej"
      },
      "source": [
        "Check the data type of m1"
      ]
    },
    {
      "cell_type": "code",
      "metadata": {
        "id": "RPTp3meRHFH-"
      },
      "source": [
        ""
      ],
      "execution_count": null,
      "outputs": []
    },
    {
      "cell_type": "markdown",
      "metadata": {
        "id": "j5ffwOTFHNMh"
      },
      "source": [
        "Convert the data type to intereger "
      ]
    },
    {
      "cell_type": "code",
      "metadata": {
        "id": "94EfBKZEHyjg"
      },
      "source": [
        ""
      ],
      "execution_count": null,
      "outputs": []
    },
    {
      "cell_type": "markdown",
      "metadata": {
        "id": "FYFKIKNcJAnG"
      },
      "source": [
        "Create a new matrix (m2) that each element is the power of 3 of m1 elements"
      ]
    },
    {
      "cell_type": "code",
      "metadata": {
        "id": "EnOJN8C3ITyF"
      },
      "source": [
        ""
      ],
      "execution_count": null,
      "outputs": []
    },
    {
      "cell_type": "markdown",
      "metadata": {
        "id": "yU-jW3CYJHJe"
      },
      "source": [
        "Reduce m1 from m2 and put back to m2"
      ]
    },
    {
      "cell_type": "code",
      "metadata": {
        "id": "Vr9LM_MDI8hd"
      },
      "source": [
        ""
      ],
      "execution_count": null,
      "outputs": []
    },
    {
      "cell_type": "markdown",
      "metadata": {
        "id": "Qh71UAaPJeQy"
      },
      "source": [
        "Create a boolean matrix (b) that shows what elements in m1 are bigger than zero"
      ]
    },
    {
      "cell_type": "code",
      "metadata": {
        "id": "rAtfcJY3JQUj"
      },
      "source": [
        ""
      ],
      "execution_count": null,
      "outputs": []
    },
    {
      "cell_type": "markdown",
      "metadata": {
        "id": "8J0l61KHJdH8"
      },
      "source": [
        "Print the shape and data type of b"
      ]
    },
    {
      "cell_type": "code",
      "metadata": {
        "id": "8zNdlcCVJvvt"
      },
      "source": [
        ""
      ],
      "execution_count": null,
      "outputs": []
    },
    {
      "cell_type": "markdown",
      "metadata": {
        "id": "3T5xh3kZKBjj"
      },
      "source": [
        "Reduce the elements in the second column of m2 by 10"
      ]
    },
    {
      "cell_type": "code",
      "metadata": {
        "id": "Uqx9K-DiJw7S"
      },
      "source": [
        ""
      ],
      "execution_count": null,
      "outputs": []
    },
    {
      "cell_type": "markdown",
      "metadata": {
        "id": "oLxCtnEaLQRf"
      },
      "source": [
        "Add 20 to all elements of m2 :"
      ]
    },
    {
      "cell_type": "code",
      "metadata": {
        "id": "K6VQgEJvKnND"
      },
      "source": [
        ""
      ],
      "execution_count": null,
      "outputs": []
    },
    {
      "cell_type": "markdown",
      "metadata": {
        "id": "7Q85IHZzL8vr"
      },
      "source": [
        "Multiply all the elements of m2 by 2.3"
      ]
    },
    {
      "cell_type": "code",
      "metadata": {
        "id": "tGwVEo5cKoGL"
      },
      "source": [
        ""
      ],
      "execution_count": null,
      "outputs": []
    },
    {
      "cell_type": "markdown",
      "metadata": {
        "id": "z8QNCecPL1-L"
      },
      "source": [
        "Check the data type of m2 now"
      ]
    },
    {
      "cell_type": "code",
      "metadata": {
        "id": "ZWKFCNM-MKuD"
      },
      "source": [
        ""
      ],
      "execution_count": null,
      "outputs": []
    },
    {
      "cell_type": "markdown",
      "metadata": {
        "id": "Ba1jUmCXPrLY"
      },
      "source": [
        "Create a 1D array of 10 elements starting from 1 to 17 with the step of 2 (call it m3)"
      ]
    },
    {
      "cell_type": "code",
      "metadata": {
        "id": "VDCh7v6GMMNS"
      },
      "source": [
        ""
      ],
      "execution_count": null,
      "outputs": []
    },
    {
      "cell_type": "markdown",
      "metadata": {
        "id": "bdECcLIAQfj3"
      },
      "source": [
        "Print the shape of m3"
      ]
    },
    {
      "cell_type": "code",
      "metadata": {
        "id": "GTqBPKzyQdnl"
      },
      "source": [
        ""
      ],
      "execution_count": null,
      "outputs": []
    },
    {
      "cell_type": "markdown",
      "metadata": {
        "id": "AeXEJ-i5QyVT"
      },
      "source": [
        "Reshape m3 to a 2x2x2 matrix"
      ]
    },
    {
      "cell_type": "code",
      "metadata": {
        "id": "oCBRv_IEQjEp"
      },
      "source": [
        ""
      ],
      "execution_count": null,
      "outputs": []
    },
    {
      "cell_type": "markdown",
      "metadata": {
        "id": "hNZ2UD9MSGTj"
      },
      "source": [
        "convert the following text to lowercase, split it to words, and then create a numpy array of words (m4):\n",
        "\n",
        "\"The brown fox jumped over the lazy dog\""
      ]
    },
    {
      "cell_type": "code",
      "metadata": {
        "id": "u9r27WzzRCh1"
      },
      "source": [
        ""
      ],
      "execution_count": null,
      "outputs": []
    },
    {
      "cell_type": "markdown",
      "metadata": {
        "id": "2tW4yDeDS5Rs"
      },
      "source": [
        "Print the data type of m4"
      ]
    },
    {
      "cell_type": "code",
      "metadata": {
        "id": "6kGncGpIRKmI"
      },
      "source": [
        ""
      ],
      "execution_count": null,
      "outputs": []
    },
    {
      "cell_type": "markdown",
      "metadata": {
        "id": "wV0k-hf9TOTc"
      },
      "source": [
        "Create a boolean array showing where the word 'the' exists in m4"
      ]
    },
    {
      "cell_type": "code",
      "metadata": {
        "id": "BZxnS732S_7g"
      },
      "source": [
        ""
      ],
      "execution_count": null,
      "outputs": []
    },
    {
      "cell_type": "markdown",
      "metadata": {
        "id": "kjgENhYzTZp5"
      },
      "source": [
        "Use np.sum to get the number of 'the' in the sentence"
      ]
    },
    {
      "cell_type": "code",
      "metadata": {
        "id": "30JWkEhWTYFC"
      },
      "source": [
        ""
      ],
      "execution_count": null,
      "outputs": []
    }
  ]
}